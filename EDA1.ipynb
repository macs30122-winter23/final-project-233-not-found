{
 "cells": [
  {
   "cell_type": "code",
   "execution_count": 1,
   "metadata": {},
   "outputs": [],
   "source": [
    "import pandas as pd\n",
    "\n",
    "import numpy as np\n",
    "import matplotlib.pyplot as plt\n",
    "import seaborn as sns\n",
    "sns.set_style('whitegrid')\n",
    "%matplotlib inline\n",
    "\n",
    "from sklearn.linear_model import LogisticRegression\n",
    "from sklearn.model_selection import cross_val_score\n",
    "from sklearn import metrics\n",
    "from collections import Counter\n",
    "import pandas as pd\n",
    "import numpy as np\n",
    "import matplotlib.pyplot as plt\n",
    "%matplotlib inline\n",
    "from matplotlib.pylab import rcParams\n",
    "rcParams['figure.figsize']=20,10\n",
    "\n",
    "from sklearn.preprocessing import MinMaxScaler"
   ]
  },
  {
   "cell_type": "code",
   "execution_count": 2,
   "metadata": {},
   "outputs": [],
   "source": [
    "df = pd.read_csv(\"all_data.csv\", encoding='utf-8')\n",
    "# get data csv files as a pandas DataFrame"
   ]
  },
  {
   "cell_type": "code",
   "execution_count": 3,
   "metadata": {},
   "outputs": [
    {
     "data": {
      "text/html": [
       "<div>\n",
       "<style scoped>\n",
       "    .dataframe tbody tr th:only-of-type {\n",
       "        vertical-align: middle;\n",
       "    }\n",
       "\n",
       "    .dataframe tbody tr th {\n",
       "        vertical-align: top;\n",
       "    }\n",
       "\n",
       "    .dataframe thead th {\n",
       "        text-align: right;\n",
       "    }\n",
       "</style>\n",
       "<table border=\"1\" class=\"dataframe\">\n",
       "  <thead>\n",
       "    <tr style=\"text-align: right;\">\n",
       "      <th></th>\n",
       "      <th>state</th>\n",
       "      <th>bachelor</th>\n",
       "      <th>graduate</th>\n",
       "      <th>hs</th>\n",
       "      <th>year</th>\n",
       "      <th>state_legislature</th>\n",
       "      <th>governor</th>\n",
       "      <th>lt_governor</th>\n",
       "      <th>labour_force_participation</th>\n",
       "      <th>mngmt_job_wage_gap</th>\n",
       "      <th>bachelor_wage_gap</th>\n",
       "      <th>ab_legality</th>\n",
       "      <th>rape_rate</th>\n",
       "      <th>life_exp_m_f</th>\n",
       "      <th>sex_ratio_birth</th>\n",
       "      <th>abortion_rate</th>\n",
       "    </tr>\n",
       "  </thead>\n",
       "  <tbody>\n",
       "    <tr>\n",
       "      <th>0</th>\n",
       "      <td>Alabama</td>\n",
       "      <td>1.173</td>\n",
       "      <td>1.234</td>\n",
       "      <td>1.001</td>\n",
       "      <td>2020</td>\n",
       "      <td>0.157</td>\n",
       "      <td>1.0</td>\n",
       "      <td>0.0</td>\n",
       "      <td>0.782</td>\n",
       "      <td>0.640</td>\n",
       "      <td>25.1</td>\n",
       "      <td>0</td>\n",
       "      <td>32.7</td>\n",
       "      <td>0.918</td>\n",
       "      <td>93.6</td>\n",
       "      <td>113.548</td>\n",
       "    </tr>\n",
       "    <tr>\n",
       "      <th>1</th>\n",
       "      <td>Alaska</td>\n",
       "      <td>1.204</td>\n",
       "      <td>1.181</td>\n",
       "      <td>0.717</td>\n",
       "      <td>2020</td>\n",
       "      <td>0.367</td>\n",
       "      <td>0.0</td>\n",
       "      <td>0.0</td>\n",
       "      <td>0.795</td>\n",
       "      <td>0.779</td>\n",
       "      <td>18.1</td>\n",
       "      <td>1</td>\n",
       "      <td>154.8</td>\n",
       "      <td>0.938</td>\n",
       "      <td>109.2</td>\n",
       "      <td>164.547</td>\n",
       "    </tr>\n",
       "    <tr>\n",
       "      <th>2</th>\n",
       "      <td>Arizona</td>\n",
       "      <td>1.080</td>\n",
       "      <td>1.017</td>\n",
       "      <td>0.969</td>\n",
       "      <td>2020</td>\n",
       "      <td>0.389</td>\n",
       "      <td>0.0</td>\n",
       "      <td>0.0</td>\n",
       "      <td>0.789</td>\n",
       "      <td>0.701</td>\n",
       "      <td>23.2</td>\n",
       "      <td>1</td>\n",
       "      <td>44.0</td>\n",
       "      <td>0.923</td>\n",
       "      <td>98.8</td>\n",
       "      <td>184.862</td>\n",
       "    </tr>\n",
       "    <tr>\n",
       "      <th>3</th>\n",
       "      <td>Arkansas</td>\n",
       "      <td>1.187</td>\n",
       "      <td>1.224</td>\n",
       "      <td>0.921</td>\n",
       "      <td>2020</td>\n",
       "      <td>0.259</td>\n",
       "      <td>0.0</td>\n",
       "      <td>0.0</td>\n",
       "      <td>0.837</td>\n",
       "      <td>0.705</td>\n",
       "      <td>20.1</td>\n",
       "      <td>0</td>\n",
       "      <td>73.5</td>\n",
       "      <td>0.928</td>\n",
       "      <td>96.4</td>\n",
       "      <td>104.638</td>\n",
       "    </tr>\n",
       "    <tr>\n",
       "      <th>4</th>\n",
       "      <td>California</td>\n",
       "      <td>1.101</td>\n",
       "      <td>1.021</td>\n",
       "      <td>0.927</td>\n",
       "      <td>2020</td>\n",
       "      <td>0.308</td>\n",
       "      <td>0.0</td>\n",
       "      <td>1.0</td>\n",
       "      <td>0.764</td>\n",
       "      <td>0.734</td>\n",
       "      <td>18.6</td>\n",
       "      <td>1</td>\n",
       "      <td>34.2</td>\n",
       "      <td>0.929</td>\n",
       "      <td>98.9</td>\n",
       "      <td>16.075</td>\n",
       "    </tr>\n",
       "  </tbody>\n",
       "</table>\n",
       "</div>"
      ],
      "text/plain": [
       "        state  bachelor  graduate     hs  year  state_legislature  governor  \\\n",
       "0     Alabama     1.173     1.234  1.001  2020              0.157       1.0   \n",
       "1      Alaska     1.204     1.181  0.717  2020              0.367       0.0   \n",
       "2     Arizona     1.080     1.017  0.969  2020              0.389       0.0   \n",
       "3    Arkansas     1.187     1.224  0.921  2020              0.259       0.0   \n",
       "4  California     1.101     1.021  0.927  2020              0.308       0.0   \n",
       "\n",
       "   lt_governor  labour_force_participation  mngmt_job_wage_gap  \\\n",
       "0          0.0                       0.782               0.640   \n",
       "1          0.0                       0.795               0.779   \n",
       "2          0.0                       0.789               0.701   \n",
       "3          0.0                       0.837               0.705   \n",
       "4          1.0                       0.764               0.734   \n",
       "\n",
       "   bachelor_wage_gap  ab_legality  rape_rate  life_exp_m_f  sex_ratio_birth  \\\n",
       "0               25.1            0       32.7         0.918             93.6   \n",
       "1               18.1            1      154.8         0.938            109.2   \n",
       "2               23.2            1       44.0         0.923             98.8   \n",
       "3               20.1            0       73.5         0.928             96.4   \n",
       "4               18.6            1       34.2         0.929             98.9   \n",
       "\n",
       "   abortion_rate  \n",
       "0        113.548  \n",
       "1        164.547  \n",
       "2        184.862  \n",
       "3        104.638  \n",
       "4         16.075  "
      ]
     },
     "execution_count": 3,
     "metadata": {},
     "output_type": "execute_result"
    }
   ],
   "source": [
    "# preview the top-5 rows of the data\n",
    "df.head()"
   ]
  },
  {
   "cell_type": "code",
   "execution_count": 5,
   "metadata": {},
   "outputs": [
    {
     "data": {
      "text/html": [
       "<div>\n",
       "<style scoped>\n",
       "    .dataframe tbody tr th:only-of-type {\n",
       "        vertical-align: middle;\n",
       "    }\n",
       "\n",
       "    .dataframe tbody tr th {\n",
       "        vertical-align: top;\n",
       "    }\n",
       "\n",
       "    .dataframe thead th {\n",
       "        text-align: right;\n",
       "    }\n",
       "</style>\n",
       "<table border=\"1\" class=\"dataframe\">\n",
       "  <thead>\n",
       "    <tr style=\"text-align: right;\">\n",
       "      <th></th>\n",
       "      <th>bachelor</th>\n",
       "      <th>graduate</th>\n",
       "      <th>hs</th>\n",
       "      <th>year</th>\n",
       "      <th>state_legislature</th>\n",
       "      <th>governor</th>\n",
       "      <th>lt_governor</th>\n",
       "      <th>labour_force_participation</th>\n",
       "      <th>mngmt_job_wage_gap</th>\n",
       "      <th>bachelor_wage_gap</th>\n",
       "      <th>ab_legality</th>\n",
       "      <th>rape_rate</th>\n",
       "      <th>life_exp_m_f</th>\n",
       "      <th>sex_ratio_birth</th>\n",
       "      <th>abortion_rate</th>\n",
       "    </tr>\n",
       "  </thead>\n",
       "  <tbody>\n",
       "    <tr>\n",
       "      <th>count</th>\n",
       "      <td>500.000</td>\n",
       "      <td>500.000</td>\n",
       "      <td>500.000</td>\n",
       "      <td>500.000</td>\n",
       "      <td>500.000</td>\n",
       "      <td>500.000</td>\n",
       "      <td>500.000</td>\n",
       "      <td>500.000</td>\n",
       "      <td>500.000</td>\n",
       "      <td>500.000</td>\n",
       "      <td>500.000</td>\n",
       "      <td>500.000</td>\n",
       "      <td>500.000</td>\n",
       "      <td>500.000</td>\n",
       "      <td>500.000</td>\n",
       "    </tr>\n",
       "    <tr>\n",
       "      <th>mean</th>\n",
       "      <td>1.135</td>\n",
       "      <td>1.105</td>\n",
       "      <td>0.947</td>\n",
       "      <td>2015.500</td>\n",
       "      <td>0.254</td>\n",
       "      <td>0.128</td>\n",
       "      <td>0.248</td>\n",
       "      <td>0.829</td>\n",
       "      <td>0.711</td>\n",
       "      <td>20.284</td>\n",
       "      <td>0.720</td>\n",
       "      <td>41.277</td>\n",
       "      <td>0.939</td>\n",
       "      <td>97.717</td>\n",
       "      <td>226.896</td>\n",
       "    </tr>\n",
       "    <tr>\n",
       "      <th>std</th>\n",
       "      <td>0.059</td>\n",
       "      <td>0.134</td>\n",
       "      <td>0.068</td>\n",
       "      <td>2.875</td>\n",
       "      <td>0.076</td>\n",
       "      <td>0.334</td>\n",
       "      <td>0.432</td>\n",
       "      <td>0.041</td>\n",
       "      <td>0.044</td>\n",
       "      <td>3.644</td>\n",
       "      <td>0.449</td>\n",
       "      <td>17.820</td>\n",
       "      <td>0.008</td>\n",
       "      <td>3.118</td>\n",
       "      <td>268.040</td>\n",
       "    </tr>\n",
       "    <tr>\n",
       "      <th>min</th>\n",
       "      <td>0.994</td>\n",
       "      <td>0.576</td>\n",
       "      <td>0.641</td>\n",
       "      <td>2011.000</td>\n",
       "      <td>0.094</td>\n",
       "      <td>0.000</td>\n",
       "      <td>0.000</td>\n",
       "      <td>0.732</td>\n",
       "      <td>0.568</td>\n",
       "      <td>10.200</td>\n",
       "      <td>0.000</td>\n",
       "      <td>11.400</td>\n",
       "      <td>0.912</td>\n",
       "      <td>93.100</td>\n",
       "      <td>2.714</td>\n",
       "    </tr>\n",
       "    <tr>\n",
       "      <th>25%</th>\n",
       "      <td>1.098</td>\n",
       "      <td>1.029</td>\n",
       "      <td>0.917</td>\n",
       "      <td>2013.000</td>\n",
       "      <td>0.199</td>\n",
       "      <td>0.000</td>\n",
       "      <td>0.000</td>\n",
       "      <td>0.803</td>\n",
       "      <td>0.683</td>\n",
       "      <td>18.200</td>\n",
       "      <td>0.000</td>\n",
       "      <td>31.075</td>\n",
       "      <td>0.934</td>\n",
       "      <td>95.400</td>\n",
       "      <td>121.059</td>\n",
       "    </tr>\n",
       "    <tr>\n",
       "      <th>50%</th>\n",
       "      <td>1.127</td>\n",
       "      <td>1.104</td>\n",
       "      <td>0.955</td>\n",
       "      <td>2015.500</td>\n",
       "      <td>0.253</td>\n",
       "      <td>0.000</td>\n",
       "      <td>0.000</td>\n",
       "      <td>0.826</td>\n",
       "      <td>0.709</td>\n",
       "      <td>20.100</td>\n",
       "      <td>1.000</td>\n",
       "      <td>38.600</td>\n",
       "      <td>0.940</td>\n",
       "      <td>97.100</td>\n",
       "      <td>188.740</td>\n",
       "    </tr>\n",
       "    <tr>\n",
       "      <th>75%</th>\n",
       "      <td>1.163</td>\n",
       "      <td>1.182</td>\n",
       "      <td>0.993</td>\n",
       "      <td>2018.000</td>\n",
       "      <td>0.304</td>\n",
       "      <td>0.000</td>\n",
       "      <td>0.000</td>\n",
       "      <td>0.862</td>\n",
       "      <td>0.736</td>\n",
       "      <td>22.225</td>\n",
       "      <td>1.000</td>\n",
       "      <td>47.100</td>\n",
       "      <td>0.944</td>\n",
       "      <td>99.100</td>\n",
       "      <td>257.928</td>\n",
       "    </tr>\n",
       "    <tr>\n",
       "      <th>max</th>\n",
       "      <td>1.394</td>\n",
       "      <td>1.521</td>\n",
       "      <td>1.113</td>\n",
       "      <td>2020.000</td>\n",
       "      <td>0.540</td>\n",
       "      <td>1.000</td>\n",
       "      <td>1.000</td>\n",
       "      <td>0.929</td>\n",
       "      <td>0.841</td>\n",
       "      <td>32.100</td>\n",
       "      <td>1.000</td>\n",
       "      <td>161.600</td>\n",
       "      <td>0.958</td>\n",
       "      <td>111.200</td>\n",
       "      <td>3700.745</td>\n",
       "    </tr>\n",
       "  </tbody>\n",
       "</table>\n",
       "</div>"
      ],
      "text/plain": [
       "       bachelor  graduate       hs      year  state_legislature  governor  \\\n",
       "count   500.000   500.000  500.000   500.000            500.000   500.000   \n",
       "mean      1.135     1.105    0.947  2015.500              0.254     0.128   \n",
       "std       0.059     0.134    0.068     2.875              0.076     0.334   \n",
       "min       0.994     0.576    0.641  2011.000              0.094     0.000   \n",
       "25%       1.098     1.029    0.917  2013.000              0.199     0.000   \n",
       "50%       1.127     1.104    0.955  2015.500              0.253     0.000   \n",
       "75%       1.163     1.182    0.993  2018.000              0.304     0.000   \n",
       "max       1.394     1.521    1.113  2020.000              0.540     1.000   \n",
       "\n",
       "       lt_governor  labour_force_participation  mngmt_job_wage_gap  \\\n",
       "count      500.000                     500.000             500.000   \n",
       "mean         0.248                       0.829               0.711   \n",
       "std          0.432                       0.041               0.044   \n",
       "min          0.000                       0.732               0.568   \n",
       "25%          0.000                       0.803               0.683   \n",
       "50%          0.000                       0.826               0.709   \n",
       "75%          0.000                       0.862               0.736   \n",
       "max          1.000                       0.929               0.841   \n",
       "\n",
       "       bachelor_wage_gap  ab_legality  rape_rate  life_exp_m_f  \\\n",
       "count            500.000      500.000    500.000       500.000   \n",
       "mean              20.284        0.720     41.277         0.939   \n",
       "std                3.644        0.449     17.820         0.008   \n",
       "min               10.200        0.000     11.400         0.912   \n",
       "25%               18.200        0.000     31.075         0.934   \n",
       "50%               20.100        1.000     38.600         0.940   \n",
       "75%               22.225        1.000     47.100         0.944   \n",
       "max               32.100        1.000    161.600         0.958   \n",
       "\n",
       "       sex_ratio_birth  abortion_rate  \n",
       "count          500.000        500.000  \n",
       "mean            97.717        226.896  \n",
       "std              3.118        268.040  \n",
       "min             93.100          2.714  \n",
       "25%             95.400        121.059  \n",
       "50%             97.100        188.740  \n",
       "75%             99.100        257.928  \n",
       "max            111.200       3700.745  "
      ]
     },
     "execution_count": 5,
     "metadata": {},
     "output_type": "execute_result"
    }
   ],
   "source": [
    "round(df.describe() ,3)\n",
    "#/Users/xuguangjie/Desktop/final-project-233-not-found-main/eda.ipynb"
   ]
  },
  {
   "cell_type": "code",
   "execution_count": 39,
   "metadata": {},
   "outputs": [
    {
     "name": "stdout",
     "output_type": "stream",
     "text": [
      "state                          Nevada\n",
      "bachelor                        1.072\n",
      "graduate                        1.013\n",
      "hs                              0.928\n",
      "year                             2020\n",
      "state_legislature                0.54\n",
      "governor                          0.0\n",
      "lt_governor                       1.0\n",
      "labour_force_participation      0.809\n",
      "mngmt_job_wage_gap              0.763\n",
      "bachelor_wage_gap                25.1\n",
      "ab_legality                         1\n",
      "rape_rate                        59.0\n",
      "life_exp_m_f                    0.928\n",
      "sex_ratio_birth                 100.7\n",
      "abortion_rate                 277.085\n",
      "pct_rank                          NaN\n",
      "group                             NaN\n",
      "Name: 27, dtype: object\n",
      "state                          Nevada\n",
      "bachelor                        1.072\n",
      "graduate                        1.013\n",
      "hs                              0.928\n",
      "year                             2020\n",
      "state_legislature                0.54\n",
      "governor                          0.0\n",
      "lt_governor                       1.0\n",
      "labour_force_participation      0.809\n",
      "mngmt_job_wage_gap              0.763\n",
      "bachelor_wage_gap                25.1\n",
      "ab_legality                         1\n",
      "rape_rate                        59.0\n",
      "life_exp_m_f                    0.928\n",
      "sex_ratio_birth                 100.7\n",
      "abortion_rate                 277.085\n",
      "pct_rank                          NaN\n",
      "group                             NaN\n",
      "Name: 27, dtype: object\n",
      "state                          Nevada\n",
      "bachelor                        1.072\n",
      "graduate                        1.013\n",
      "hs                              0.928\n",
      "year                             2020\n",
      "state_legislature                0.54\n",
      "governor                          0.0\n",
      "lt_governor                       1.0\n",
      "labour_force_participation      0.809\n",
      "mngmt_job_wage_gap              0.763\n",
      "bachelor_wage_gap                25.1\n",
      "ab_legality                         1\n",
      "rape_rate                        59.0\n",
      "life_exp_m_f                    0.928\n",
      "sex_ratio_birth                 100.7\n",
      "abortion_rate                 277.085\n",
      "pct_rank                          NaN\n",
      "group                             NaN\n",
      "Name: 27, dtype: object\n",
      "state                          Nevada\n",
      "bachelor                        1.072\n",
      "graduate                        1.013\n",
      "hs                              0.928\n",
      "year                             2020\n",
      "state_legislature                0.54\n",
      "governor                          0.0\n",
      "lt_governor                       1.0\n",
      "labour_force_participation      0.809\n",
      "mngmt_job_wage_gap              0.763\n",
      "bachelor_wage_gap                25.1\n",
      "ab_legality                         1\n",
      "rape_rate                        59.0\n",
      "life_exp_m_f                    0.928\n",
      "sex_ratio_birth                 100.7\n",
      "abortion_rate                 277.085\n",
      "pct_rank                          NaN\n",
      "group                             NaN\n",
      "Name: 27, dtype: object\n"
     ]
    },
    {
     "data": {
      "application/vnd.plotly.v1+json": {
       "config": {
        "plotlyServerURL": "https://plot.ly"
       },
       "data": [
        {
         "hovertemplate": "<b>%{text:.2f}%</b><brstate: %{name}<br>year: %{x}",
         "line": {
          "color": "#750D86",
          "width": 2
         },
         "mode": "lines",
         "name": "Alabama",
         "text": [
          0.136,
          0.136,
          0.136,
          0.143,
          0.143,
          0.143,
          0.15,
          0.15,
          0.164,
          0.157
         ],
         "type": "scatter",
         "x": [
          2011,
          2012,
          2013,
          2014,
          2015,
          2016,
          2017,
          2018,
          2019,
          2020
         ],
         "y": [
          0.136,
          0.136,
          0.136,
          0.143,
          0.143,
          0.143,
          0.15,
          0.15,
          0.164,
          0.157
         ]
        },
        {
         "hovertemplate": "<b>%{text:.2f}%</b><brstate: %{name}<br>year: %{x}",
         "line": {
          "color": "#00AB8B",
          "width": 2
         },
         "mode": "lines",
         "name": "Alaska",
         "text": [
          0.233,
          0.25,
          0.283,
          0.267,
          0.283,
          0.283,
          0.3,
          0.317,
          0.383,
          0.367
         ],
         "type": "scatter",
         "x": [
          2011,
          2012,
          2013,
          2014,
          2015,
          2016,
          2017,
          2018,
          2019,
          2020
         ],
         "y": [
          0.233,
          0.25,
          0.283,
          0.267,
          0.283,
          0.283,
          0.3,
          0.317,
          0.383,
          0.367
         ]
        },
        {
         "hovertemplate": "<b>%{text:.2f}%</b><brstate: %{name}<br>year: %{x}",
         "line": {
          "color": "#FEAF16",
          "width": 2
         },
         "mode": "lines",
         "name": "Arizona",
         "text": [
          0.344,
          0.333,
          0.356,
          0.356,
          0.367,
          0.356,
          0.4,
          0.4,
          0.389,
          0.389
         ],
         "type": "scatter",
         "x": [
          2011,
          2012,
          2013,
          2014,
          2015,
          2016,
          2017,
          2018,
          2019,
          2020
         ],
         "y": [
          0.344,
          0.333,
          0.356,
          0.356,
          0.367,
          0.356,
          0.4,
          0.4,
          0.389,
          0.389
         ]
        },
        {
         "hovertemplate": "<b>%{text:.2f}%</b><brstate: %{name}<br>year: %{x}",
         "line": {
          "color": "#FEAF16",
          "width": 2
         },
         "mode": "lines",
         "name": "Colorado",
         "text": [
          0.41,
          0.4,
          0.41,
          0.41,
          0.42,
          0.42,
          0.37,
          0.38,
          0.46,
          0.44
         ],
         "type": "scatter",
         "x": [
          2011,
          2012,
          2013,
          2014,
          2015,
          2016,
          2017,
          2018,
          2019,
          2020
         ],
         "y": [
          0.41,
          0.4,
          0.41,
          0.41,
          0.42,
          0.42,
          0.37,
          0.38,
          0.46,
          0.44
         ]
        },
        {
         "hovertemplate": "<b>%{text:.2f}%</b><brstate: %{name}<br>year: %{x}",
         "line": {
          "color": "#00AB8B",
          "width": 2
         },
         "mode": "lines",
         "name": "Georgia",
         "text": [
          0.237,
          0.237,
          0.225,
          0.225,
          0.237,
          0.242,
          0.271,
          0.267,
          0.305,
          0.301
         ],
         "type": "scatter",
         "x": [
          2011,
          2012,
          2013,
          2014,
          2015,
          2016,
          2017,
          2018,
          2019,
          2020
         ],
         "y": [
          0.237,
          0.237,
          0.225,
          0.225,
          0.237,
          0.242,
          0.271,
          0.267,
          0.305,
          0.301
         ]
        },
        {
         "hovertemplate": "<b>%{text:.2f}%</b><brstate: %{name}<br>year: %{x}",
         "line": {
          "color": "#FEAF16",
          "width": 2
         },
         "mode": "lines",
         "name": "Hawaii",
         "text": [
          0.342,
          0.355,
          0.303,
          0.303,
          0.289,
          0.289,
          0.276,
          0.289,
          0.316,
          0.329
         ],
         "type": "scatter",
         "x": [
          2011,
          2012,
          2013,
          2014,
          2015,
          2016,
          2017,
          2018,
          2019,
          2020
         ],
         "y": [
          0.342,
          0.355,
          0.303,
          0.303,
          0.289,
          0.289,
          0.276,
          0.289,
          0.316,
          0.329
         ]
        },
        {
         "hovertemplate": "<b>%{text:.2f}%</b><brstate: %{name}<br>year: %{x}",
         "line": {
          "color": "#00AB8B",
          "width": 2
         },
         "mode": "lines",
         "name": "Missouri",
         "text": [
          0.239,
          0.239,
          0.218,
          0.223,
          0.249,
          0.249,
          0.223,
          0.228,
          0.239,
          0.244
         ],
         "type": "scatter",
         "x": [
          2011,
          2012,
          2013,
          2014,
          2015,
          2016,
          2017,
          2018,
          2019,
          2020
         ],
         "y": [
          0.239,
          0.239,
          0.218,
          0.223,
          0.249,
          0.249,
          0.223,
          0.228,
          0.239,
          0.244
         ]
        },
        {
         "hovertemplate": "<b>%{text:.2f}%</b><brstate: %{name}<br>year: %{x}",
         "line": {
          "color": "#00AB8B",
          "width": 2
         },
         "mode": "lines",
         "name": "Montana",
         "text": [
          0.24,
          0.24,
          0.273,
          0.273,
          0.313,
          0.313,
          0.287,
          0.28,
          0.307,
          0.307
         ],
         "type": "scatter",
         "x": [
          2011,
          2012,
          2013,
          2014,
          2015,
          2016,
          2017,
          2018,
          2019,
          2020
         ],
         "y": [
          0.24,
          0.24,
          0.273,
          0.273,
          0.313,
          0.313,
          0.287,
          0.28,
          0.307,
          0.307
         ]
        },
        {
         "hovertemplate": "<b>%{text:.2f}%</b><brstate: %{name}<br>year: %{x}",
         "line": {
          "color": "#00AB8B",
          "width": 2
         },
         "mode": "lines",
         "name": "Ohio",
         "text": [
          0.227,
          0.235,
          0.235,
          0.235,
          0.25,
          0.242,
          0.22,
          0.22,
          0.273,
          0.273
         ],
         "type": "scatter",
         "x": [
          2011,
          2012,
          2013,
          2014,
          2015,
          2016,
          2017,
          2018,
          2019,
          2020
         ],
         "y": [
          0.227,
          0.235,
          0.235,
          0.235,
          0.25,
          0.242,
          0.22,
          0.22,
          0.273,
          0.273
         ]
        },
        {
         "hovertemplate": "<b>%{text:.2f}%</b><brstate: %{name}<br>year: %{x}",
         "line": {
          "color": "#750D86",
          "width": 2
         },
         "mode": "lines",
         "name": "Oklahoma",
         "text": [
          0.128,
          0.128,
          0.134,
          0.134,
          0.141,
          0.141,
          0.134,
          0.128,
          0.215,
          0.215
         ],
         "type": "scatter",
         "x": [
          2011,
          2012,
          2013,
          2014,
          2015,
          2016,
          2017,
          2018,
          2019,
          2020
         ],
         "y": [
          0.128,
          0.128,
          0.134,
          0.134,
          0.141,
          0.141,
          0.134,
          0.128,
          0.215,
          0.215
         ]
        },
        {
         "hovertemplate": "<b>%{text:.2f}%</b><brstate: %{name}<br>year: %{x}",
         "line": {
          "color": "#750D86",
          "width": 2
         },
         "mode": "lines",
         "name": "South Carolina",
         "text": [
          0.094,
          0.1,
          0.129,
          0.129,
          0.141,
          0.141,
          0.141,
          0.159,
          0.165,
          0.171
         ],
         "type": "scatter",
         "x": [
          2011,
          2012,
          2013,
          2014,
          2015,
          2016,
          2017,
          2018,
          2019,
          2020
         ],
         "y": [
          0.094,
          0.1,
          0.129,
          0.129,
          0.141,
          0.141,
          0.141,
          0.159,
          0.165,
          0.171
         ]
        },
        {
         "hovertemplate": "<b>%{text:.2f}%</b><brstate: %{name}<br>year: %{x}",
         "line": {
          "color": "#FEAF16",
          "width": 2
         },
         "mode": "lines",
         "name": "Vermont",
         "text": [
          0.383,
          0.389,
          0.411,
          0.394,
          0.411,
          0.411,
          0.4,
          0.394,
          0.4,
          0.406
         ],
         "type": "scatter",
         "x": [
          2011,
          2012,
          2013,
          2014,
          2015,
          2016,
          2017,
          2018,
          2019,
          2020
         ],
         "y": [
          0.383,
          0.389,
          0.411,
          0.394,
          0.411,
          0.411,
          0.4,
          0.394,
          0.4,
          0.406
         ]
        },
        {
         "hovertemplate": "<b>%{text:.2f}%</b><brstate: %{name}<br>year: %{x}",
         "line": {
          "color": "#FEAF16",
          "width": 2
         },
         "mode": "lines",
         "name": "Washington",
         "text": [
          0.32,
          0.32,
          0.32,
          0.327,
          0.34,
          0.333,
          0.374,
          0.374,
          0.401,
          0.408
         ],
         "type": "scatter",
         "x": [
          2011,
          2012,
          2013,
          2014,
          2015,
          2016,
          2017,
          2018,
          2019,
          2020
         ],
         "y": [
          0.32,
          0.32,
          0.32,
          0.327,
          0.34,
          0.333,
          0.374,
          0.374,
          0.401,
          0.408
         ]
        },
        {
         "hovertemplate": "<b>%{text:.2f}%</b><brstate: %{name}<br>year: %{x}",
         "line": {
          "color": "#750D86",
          "width": 2
         },
         "mode": "lines",
         "name": "Wyoming",
         "text": [
          0.144,
          0.156,
          0.167,
          0.156,
          0.133,
          0.133,
          0.111,
          0.111,
          0.156,
          0.156
         ],
         "type": "scatter",
         "x": [
          2011,
          2012,
          2013,
          2014,
          2015,
          2016,
          2017,
          2018,
          2019,
          2020
         ],
         "y": [
          0.144,
          0.156,
          0.167,
          0.156,
          0.133,
          0.133,
          0.111,
          0.111,
          0.156,
          0.156
         ]
        }
       ],
       "layout": {
        "shapes": [
         {
          "line": {
           "color": "Red",
           "dash": "dashdot",
           "width": 2
          },
          "type": "line",
          "x0": 2011,
          "x1": 2020,
          "y0": 0.09,
          "y1": 0.09
         },
         {
          "line": {
           "color": "Red",
           "dash": "dashdot",
           "width": 2
          },
          "type": "line",
          "x0": 2011,
          "x1": 2020,
          "y0": 0.23,
          "y1": 0.23
         }
        ],
        "template": {
         "data": {
          "bar": [
           {
            "error_x": {
             "color": "#2a3f5f"
            },
            "error_y": {
             "color": "#2a3f5f"
            },
            "marker": {
             "line": {
              "color": "#E5ECF6",
              "width": 0.5
             },
             "pattern": {
              "fillmode": "overlay",
              "size": 10,
              "solidity": 0.2
             }
            },
            "type": "bar"
           }
          ],
          "barpolar": [
           {
            "marker": {
             "line": {
              "color": "#E5ECF6",
              "width": 0.5
             },
             "pattern": {
              "fillmode": "overlay",
              "size": 10,
              "solidity": 0.2
             }
            },
            "type": "barpolar"
           }
          ],
          "carpet": [
           {
            "aaxis": {
             "endlinecolor": "#2a3f5f",
             "gridcolor": "white",
             "linecolor": "white",
             "minorgridcolor": "white",
             "startlinecolor": "#2a3f5f"
            },
            "baxis": {
             "endlinecolor": "#2a3f5f",
             "gridcolor": "white",
             "linecolor": "white",
             "minorgridcolor": "white",
             "startlinecolor": "#2a3f5f"
            },
            "type": "carpet"
           }
          ],
          "choropleth": [
           {
            "colorbar": {
             "outlinewidth": 0,
             "ticks": ""
            },
            "type": "choropleth"
           }
          ],
          "contour": [
           {
            "colorbar": {
             "outlinewidth": 0,
             "ticks": ""
            },
            "colorscale": [
             [
              0,
              "#0d0887"
             ],
             [
              0.1111111111111111,
              "#46039f"
             ],
             [
              0.2222222222222222,
              "#7201a8"
             ],
             [
              0.3333333333333333,
              "#9c179e"
             ],
             [
              0.4444444444444444,
              "#bd3786"
             ],
             [
              0.5555555555555556,
              "#d8576b"
             ],
             [
              0.6666666666666666,
              "#ed7953"
             ],
             [
              0.7777777777777778,
              "#fb9f3a"
             ],
             [
              0.8888888888888888,
              "#fdca26"
             ],
             [
              1,
              "#f0f921"
             ]
            ],
            "type": "contour"
           }
          ],
          "contourcarpet": [
           {
            "colorbar": {
             "outlinewidth": 0,
             "ticks": ""
            },
            "type": "contourcarpet"
           }
          ],
          "heatmap": [
           {
            "colorbar": {
             "outlinewidth": 0,
             "ticks": ""
            },
            "colorscale": [
             [
              0,
              "#0d0887"
             ],
             [
              0.1111111111111111,
              "#46039f"
             ],
             [
              0.2222222222222222,
              "#7201a8"
             ],
             [
              0.3333333333333333,
              "#9c179e"
             ],
             [
              0.4444444444444444,
              "#bd3786"
             ],
             [
              0.5555555555555556,
              "#d8576b"
             ],
             [
              0.6666666666666666,
              "#ed7953"
             ],
             [
              0.7777777777777778,
              "#fb9f3a"
             ],
             [
              0.8888888888888888,
              "#fdca26"
             ],
             [
              1,
              "#f0f921"
             ]
            ],
            "type": "heatmap"
           }
          ],
          "heatmapgl": [
           {
            "colorbar": {
             "outlinewidth": 0,
             "ticks": ""
            },
            "colorscale": [
             [
              0,
              "#0d0887"
             ],
             [
              0.1111111111111111,
              "#46039f"
             ],
             [
              0.2222222222222222,
              "#7201a8"
             ],
             [
              0.3333333333333333,
              "#9c179e"
             ],
             [
              0.4444444444444444,
              "#bd3786"
             ],
             [
              0.5555555555555556,
              "#d8576b"
             ],
             [
              0.6666666666666666,
              "#ed7953"
             ],
             [
              0.7777777777777778,
              "#fb9f3a"
             ],
             [
              0.8888888888888888,
              "#fdca26"
             ],
             [
              1,
              "#f0f921"
             ]
            ],
            "type": "heatmapgl"
           }
          ],
          "histogram": [
           {
            "marker": {
             "pattern": {
              "fillmode": "overlay",
              "size": 10,
              "solidity": 0.2
             }
            },
            "type": "histogram"
           }
          ],
          "histogram2d": [
           {
            "colorbar": {
             "outlinewidth": 0,
             "ticks": ""
            },
            "colorscale": [
             [
              0,
              "#0d0887"
             ],
             [
              0.1111111111111111,
              "#46039f"
             ],
             [
              0.2222222222222222,
              "#7201a8"
             ],
             [
              0.3333333333333333,
              "#9c179e"
             ],
             [
              0.4444444444444444,
              "#bd3786"
             ],
             [
              0.5555555555555556,
              "#d8576b"
             ],
             [
              0.6666666666666666,
              "#ed7953"
             ],
             [
              0.7777777777777778,
              "#fb9f3a"
             ],
             [
              0.8888888888888888,
              "#fdca26"
             ],
             [
              1,
              "#f0f921"
             ]
            ],
            "type": "histogram2d"
           }
          ],
          "histogram2dcontour": [
           {
            "colorbar": {
             "outlinewidth": 0,
             "ticks": ""
            },
            "colorscale": [
             [
              0,
              "#0d0887"
             ],
             [
              0.1111111111111111,
              "#46039f"
             ],
             [
              0.2222222222222222,
              "#7201a8"
             ],
             [
              0.3333333333333333,
              "#9c179e"
             ],
             [
              0.4444444444444444,
              "#bd3786"
             ],
             [
              0.5555555555555556,
              "#d8576b"
             ],
             [
              0.6666666666666666,
              "#ed7953"
             ],
             [
              0.7777777777777778,
              "#fb9f3a"
             ],
             [
              0.8888888888888888,
              "#fdca26"
             ],
             [
              1,
              "#f0f921"
             ]
            ],
            "type": "histogram2dcontour"
           }
          ],
          "mesh3d": [
           {
            "colorbar": {
             "outlinewidth": 0,
             "ticks": ""
            },
            "type": "mesh3d"
           }
          ],
          "parcoords": [
           {
            "line": {
             "colorbar": {
              "outlinewidth": 0,
              "ticks": ""
             }
            },
            "type": "parcoords"
           }
          ],
          "pie": [
           {
            "automargin": true,
            "type": "pie"
           }
          ],
          "scatter": [
           {
            "marker": {
             "colorbar": {
              "outlinewidth": 0,
              "ticks": ""
             }
            },
            "type": "scatter"
           }
          ],
          "scatter3d": [
           {
            "line": {
             "colorbar": {
              "outlinewidth": 0,
              "ticks": ""
             }
            },
            "marker": {
             "colorbar": {
              "outlinewidth": 0,
              "ticks": ""
             }
            },
            "type": "scatter3d"
           }
          ],
          "scattercarpet": [
           {
            "marker": {
             "colorbar": {
              "outlinewidth": 0,
              "ticks": ""
             }
            },
            "type": "scattercarpet"
           }
          ],
          "scattergeo": [
           {
            "marker": {
             "colorbar": {
              "outlinewidth": 0,
              "ticks": ""
             }
            },
            "type": "scattergeo"
           }
          ],
          "scattergl": [
           {
            "marker": {
             "colorbar": {
              "outlinewidth": 0,
              "ticks": ""
             }
            },
            "type": "scattergl"
           }
          ],
          "scattermapbox": [
           {
            "marker": {
             "colorbar": {
              "outlinewidth": 0,
              "ticks": ""
             }
            },
            "type": "scattermapbox"
           }
          ],
          "scatterpolar": [
           {
            "marker": {
             "colorbar": {
              "outlinewidth": 0,
              "ticks": ""
             }
            },
            "type": "scatterpolar"
           }
          ],
          "scatterpolargl": [
           {
            "marker": {
             "colorbar": {
              "outlinewidth": 0,
              "ticks": ""
             }
            },
            "type": "scatterpolargl"
           }
          ],
          "scatterternary": [
           {
            "marker": {
             "colorbar": {
              "outlinewidth": 0,
              "ticks": ""
             }
            },
            "type": "scatterternary"
           }
          ],
          "surface": [
           {
            "colorbar": {
             "outlinewidth": 0,
             "ticks": ""
            },
            "colorscale": [
             [
              0,
              "#0d0887"
             ],
             [
              0.1111111111111111,
              "#46039f"
             ],
             [
              0.2222222222222222,
              "#7201a8"
             ],
             [
              0.3333333333333333,
              "#9c179e"
             ],
             [
              0.4444444444444444,
              "#bd3786"
             ],
             [
              0.5555555555555556,
              "#d8576b"
             ],
             [
              0.6666666666666666,
              "#ed7953"
             ],
             [
              0.7777777777777778,
              "#fb9f3a"
             ],
             [
              0.8888888888888888,
              "#fdca26"
             ],
             [
              1,
              "#f0f921"
             ]
            ],
            "type": "surface"
           }
          ],
          "table": [
           {
            "cells": {
             "fill": {
              "color": "#EBF0F8"
             },
             "line": {
              "color": "white"
             }
            },
            "header": {
             "fill": {
              "color": "#C8D4E3"
             },
             "line": {
              "color": "white"
             }
            },
            "type": "table"
           }
          ]
         },
         "layout": {
          "annotationdefaults": {
           "arrowcolor": "#2a3f5f",
           "arrowhead": 0,
           "arrowwidth": 1
          },
          "autotypenumbers": "strict",
          "coloraxis": {
           "colorbar": {
            "outlinewidth": 0,
            "ticks": ""
           }
          },
          "colorscale": {
           "diverging": [
            [
             0,
             "#8e0152"
            ],
            [
             0.1,
             "#c51b7d"
            ],
            [
             0.2,
             "#de77ae"
            ],
            [
             0.3,
             "#f1b6da"
            ],
            [
             0.4,
             "#fde0ef"
            ],
            [
             0.5,
             "#f7f7f7"
            ],
            [
             0.6,
             "#e6f5d0"
            ],
            [
             0.7,
             "#b8e186"
            ],
            [
             0.8,
             "#7fbc41"
            ],
            [
             0.9,
             "#4d9221"
            ],
            [
             1,
             "#276419"
            ]
           ],
           "sequential": [
            [
             0,
             "#0d0887"
            ],
            [
             0.1111111111111111,
             "#46039f"
            ],
            [
             0.2222222222222222,
             "#7201a8"
            ],
            [
             0.3333333333333333,
             "#9c179e"
            ],
            [
             0.4444444444444444,
             "#bd3786"
            ],
            [
             0.5555555555555556,
             "#d8576b"
            ],
            [
             0.6666666666666666,
             "#ed7953"
            ],
            [
             0.7777777777777778,
             "#fb9f3a"
            ],
            [
             0.8888888888888888,
             "#fdca26"
            ],
            [
             1,
             "#f0f921"
            ]
           ],
           "sequentialminus": [
            [
             0,
             "#0d0887"
            ],
            [
             0.1111111111111111,
             "#46039f"
            ],
            [
             0.2222222222222222,
             "#7201a8"
            ],
            [
             0.3333333333333333,
             "#9c179e"
            ],
            [
             0.4444444444444444,
             "#bd3786"
            ],
            [
             0.5555555555555556,
             "#d8576b"
            ],
            [
             0.6666666666666666,
             "#ed7953"
            ],
            [
             0.7777777777777778,
             "#fb9f3a"
            ],
            [
             0.8888888888888888,
             "#fdca26"
            ],
            [
             1,
             "#f0f921"
            ]
           ]
          },
          "colorway": [
           "#636efa",
           "#EF553B",
           "#00cc96",
           "#ab63fa",
           "#FFA15A",
           "#19d3f3",
           "#FF6692",
           "#B6E880",
           "#FF97FF",
           "#FECB52"
          ],
          "font": {
           "color": "#2a3f5f"
          },
          "geo": {
           "bgcolor": "white",
           "lakecolor": "white",
           "landcolor": "#E5ECF6",
           "showlakes": true,
           "showland": true,
           "subunitcolor": "white"
          },
          "hoverlabel": {
           "align": "left"
          },
          "hovermode": "closest",
          "mapbox": {
           "style": "light"
          },
          "paper_bgcolor": "white",
          "plot_bgcolor": "#E5ECF6",
          "polar": {
           "angularaxis": {
            "gridcolor": "white",
            "linecolor": "white",
            "ticks": ""
           },
           "bgcolor": "#E5ECF6",
           "radialaxis": {
            "gridcolor": "white",
            "linecolor": "white",
            "ticks": ""
           }
          },
          "scene": {
           "xaxis": {
            "backgroundcolor": "#E5ECF6",
            "gridcolor": "white",
            "gridwidth": 2,
            "linecolor": "white",
            "showbackground": true,
            "ticks": "",
            "zerolinecolor": "white"
           },
           "yaxis": {
            "backgroundcolor": "#E5ECF6",
            "gridcolor": "white",
            "gridwidth": 2,
            "linecolor": "white",
            "showbackground": true,
            "ticks": "",
            "zerolinecolor": "white"
           },
           "zaxis": {
            "backgroundcolor": "#E5ECF6",
            "gridcolor": "white",
            "gridwidth": 2,
            "linecolor": "white",
            "showbackground": true,
            "ticks": "",
            "zerolinecolor": "white"
           }
          },
          "shapedefaults": {
           "line": {
            "color": "#2a3f5f"
           }
          },
          "ternary": {
           "aaxis": {
            "gridcolor": "white",
            "linecolor": "white",
            "ticks": ""
           },
           "baxis": {
            "gridcolor": "white",
            "linecolor": "white",
            "ticks": ""
           },
           "bgcolor": "#E5ECF6",
           "caxis": {
            "gridcolor": "white",
            "linecolor": "white",
            "ticks": ""
           }
          },
          "title": {
           "x": 0.05
          },
          "xaxis": {
           "automargin": true,
           "gridcolor": "white",
           "linecolor": "white",
           "ticks": "",
           "title": {
            "standoff": 15
           },
           "zerolinecolor": "white",
           "zerolinewidth": 2
          },
          "yaxis": {
           "automargin": true,
           "gridcolor": "white",
           "linecolor": "white",
           "ticks": "",
           "title": {
            "standoff": 15
           },
           "zerolinecolor": "white",
           "zerolinewidth": 2
          }
         }
        },
        "title": {
         "text": "state_legislature"
        },
        "xaxis": {
         "title": {
          "text": "year"
         }
        },
        "yaxis": {
         "title": {
          "text": "state_legislature"
         }
        }
       }
      }
     },
     "metadata": {},
     "output_type": "display_data"
    }
   ],
   "source": [
    "import plotly.graph_objs as go\n",
    "import pandas as pd\n",
    "\n",
    "import_feat = ['state_legislature','mngmt_job_wage_gap','rape_rate','life_exp_m_f','abortion_rate']\n",
    "\n",
    "# Calculate the rank percentage for each state in 2011\n",
    "df['pct_rank'] = df[df['year'] == 2011]['state_legislature'].rank(pct=True)\n",
    "# print(df['pct_rank'])\n",
    "\n",
    "# Divide states into three groups based on rank percentage\n",
    "df['group'] = pd.cut(df['pct_rank'], bins=[0, 0.1, 0.45, 0.55, 0.9, 1.0], labels=[r'前10%', r'10%-45%', r'45%-55%', r'55%-90%', r'后10%'])\n",
    "# print(df[df['group'] == r'前10%'])\n",
    "# Process each state's data individually and store it in a dictionary\n",
    "states_data = {}\n",
    "for state, data in df.groupby('state'):\n",
    "    # Sort the data by year\n",
    "    data = data.sort_values('year')\n",
    "    # Construct Plotly's Trace object\n",
    "    trace = go.Scatter(\n",
    "        x=data['year'],\n",
    "        y=data['state_legislature'],\n",
    "        name=state,\n",
    "        line=dict(width=2),\n",
    "        mode='lines',\n",
    "        text=data['state_legislature'],\n",
    "        hovertemplate='<b>%{text:.2f}%</b><brstate: %{name}<br>year: %{x}'\n",
    "    )\n",
    "    # Assign the corresponding color according to which group the state belongs to\n",
    "    if r'前10%' in data['group'].unique():\n",
    "        trace.update(line=dict(color='#750D86'))\n",
    "        states_data[state] = trace\n",
    "    elif r'后10%' in data['group'].unique():\n",
    "        trace.update(line=dict(color='#FEAF16'))\n",
    "        states_data[state] = trace\n",
    "\n",
    "    elif r'45%-55%' in data['group'].unique():\n",
    "        trace.update(line=dict(color='#00AB8B'))\n",
    "        states_data[state] = trace\n",
    "    \n",
    "    # Store a Trace object for each state\n",
    "\n",
    "# Construct Plotly's Figure object\n",
    "fig = go.Figure(list(states_data.values()))\n",
    "fig.add_shape(\n",
    "    type=\"line\",\n",
    "    x0=2011,\n",
    "    y0=0.09,\n",
    "    x1=2020,\n",
    "    y1=0.09,\n",
    "    line=dict(\n",
    "        color=\"Red\",\n",
    "        width=2,\n",
    "        dash=\"dashdot\"\n",
    "    )\n",
    ")\n",
    "fig.add_shape(\n",
    "    type=\"line\",\n",
    "    x0=2011,\n",
    "    y0=0.23,\n",
    "    x1=2020,\n",
    "    y1=0.23,\n",
    "    line=dict(\n",
    "        color=\"Red\",\n",
    "        width=2,\n",
    "        dash=\"dashdot\"\n",
    "    )\n",
    ")\n",
    "# Add a chart title and axis labels\n",
    "fig.update_layout(title='state_legislature',\n",
    "                xaxis_title='year',\n",
    "                yaxis_title='state_legislature')\n",
    "\n",
    "# show chart\n",
    "fig.show()\n"
   ]
  },
  {
   "attachments": {},
   "cell_type": "markdown",
   "metadata": {},
   "source": [
    "<h4> State legislature</h4>\n",
    "\n",
    "* Proportion of women in legislature.\n",
    "* In general, the trend is steady before 2018, with a slight increase after.\n",
    "    * Colorado: stays the top 1 in female proportion in state legislature. 2018-2019 shows a sharp increase.\n",
    "    * Hawaii: moved from the top 10% to the middle range (45%-55%)\n",
    "    * Alaska: moved from the last in the middle range to the top 10% range\n",
    "    * Oklahoma: shows a sharp "
   ]
  },
  {
   "cell_type": "code",
   "execution_count": 21,
   "metadata": {},
   "outputs": [
    {
     "data": {
      "application/vnd.plotly.v1+json": {
       "config": {
        "plotlyServerURL": "https://plot.ly"
       },
       "data": [
        {
         "hovertemplate": "<b>%{text:.2f}%</b><brstate: %{name}<br>year: %{x}",
         "line": {
          "color": "#750D86",
          "width": 2
         },
         "mode": "lines",
         "name": "Alabama",
         "text": [
          0.633,
          0.648,
          0.658,
          0.643,
          0.639,
          0.658,
          0.644,
          0.632,
          0.623,
          0.64
         ],
         "type": "scatter",
         "x": [
          2011,
          2012,
          2013,
          2014,
          2015,
          2016,
          2017,
          2018,
          2019,
          2020
         ],
         "y": [
          0.633,
          0.648,
          0.658,
          0.643,
          0.639,
          0.658,
          0.644,
          0.632,
          0.623,
          0.64
         ]
        },
        {
         "hovertemplate": "<b>%{text:.2f}%</b><brstate: %{name}<br>year: %{x}",
         "line": {
          "color": "#FEAF16",
          "width": 2
         },
         "mode": "lines",
         "name": "Hawaii",
         "text": [
          0.804,
          0.805,
          0.799,
          0.796,
          0.815,
          0.835,
          0.826,
          0.841,
          0.785,
          0.772
         ],
         "type": "scatter",
         "x": [
          2011,
          2012,
          2013,
          2014,
          2015,
          2016,
          2017,
          2018,
          2019,
          2020
         ],
         "y": [
          0.804,
          0.805,
          0.799,
          0.796,
          0.815,
          0.835,
          0.826,
          0.841,
          0.785,
          0.772
         ]
        },
        {
         "hovertemplate": "<b>%{text:.2f}%</b><brstate: %{name}<br>year: %{x}",
         "line": {
          "color": "#750D86",
          "width": 2
         },
         "mode": "lines",
         "name": "Idaho",
         "text": [
          0.638,
          0.632,
          0.658,
          0.638,
          0.641,
          0.643,
          0.655,
          0.661,
          0.635,
          0.628
         ],
         "type": "scatter",
         "x": [
          2011,
          2012,
          2013,
          2014,
          2015,
          2016,
          2017,
          2018,
          2019,
          2020
         ],
         "y": [
          0.638,
          0.632,
          0.658,
          0.638,
          0.641,
          0.643,
          0.655,
          0.661,
          0.635,
          0.628
         ]
        },
        {
         "hovertemplate": "<b>%{text:.2f}%</b><brstate: %{name}<br>year: %{x}",
         "line": {
          "color": "#00AB8B",
          "width": 2
         },
         "mode": "lines",
         "name": "Illinois",
         "text": [
          0.713,
          0.71,
          0.707,
          0.698,
          0.694,
          0.715,
          0.704,
          0.694,
          0.698,
          0.723
         ],
         "type": "scatter",
         "x": [
          2011,
          2012,
          2013,
          2014,
          2015,
          2016,
          2017,
          2018,
          2019,
          2020
         ],
         "y": [
          0.713,
          0.71,
          0.707,
          0.698,
          0.694,
          0.715,
          0.704,
          0.694,
          0.698,
          0.723
         ]
        },
        {
         "hovertemplate": "<b>%{text:.2f}%</b><brstate: %{name}<br>year: %{x}",
         "line": {
          "color": "#750D86",
          "width": 2
         },
         "mode": "lines",
         "name": "Louisiana",
         "text": [
          0.648,
          0.644,
          0.631,
          0.639,
          0.626,
          0.648,
          0.644,
          0.636,
          0.657,
          0.637
         ],
         "type": "scatter",
         "x": [
          2011,
          2012,
          2013,
          2014,
          2015,
          2016,
          2017,
          2018,
          2019,
          2020
         ],
         "y": [
          0.648,
          0.644,
          0.631,
          0.639,
          0.626,
          0.648,
          0.644,
          0.636,
          0.657,
          0.637
         ]
        },
        {
         "hovertemplate": "<b>%{text:.2f}%</b><brstate: %{name}<br>year: %{x}",
         "line": {
          "color": "#00AB8B",
          "width": 2
         },
         "mode": "lines",
         "name": "Massachusetts",
         "text": [
          0.706,
          0.715,
          0.725,
          0.717,
          0.704,
          0.746,
          0.734,
          0.722,
          0.711,
          0.751
         ],
         "type": "scatter",
         "x": [
          2011,
          2012,
          2013,
          2014,
          2015,
          2016,
          2017,
          2018,
          2019,
          2020
         ],
         "y": [
          0.706,
          0.715,
          0.725,
          0.717,
          0.704,
          0.746,
          0.734,
          0.722,
          0.711,
          0.751
         ]
        },
        {
         "hovertemplate": "<b>%{text:.2f}%</b><brstate: %{name}<br>year: %{x}",
         "line": {
          "color": "#00AB8B",
          "width": 2
         },
         "mode": "lines",
         "name": "Minnesota",
         "text": [
          0.713,
          0.718,
          0.703,
          0.705,
          0.718,
          0.716,
          0.703,
          0.708,
          0.713,
          0.729
         ],
         "type": "scatter",
         "x": [
          2011,
          2012,
          2013,
          2014,
          2015,
          2016,
          2017,
          2018,
          2019,
          2020
         ],
         "y": [
          0.713,
          0.718,
          0.703,
          0.705,
          0.718,
          0.716,
          0.703,
          0.708,
          0.713,
          0.729
         ]
        },
        {
         "hovertemplate": "<b>%{text:.2f}%</b><brstate: %{name}<br>year: %{x}",
         "line": {
          "color": "#FEAF16",
          "width": 2
         },
         "mode": "lines",
         "name": "New York",
         "text": [
          0.778,
          0.775,
          0.771,
          0.769,
          0.765,
          0.773,
          0.778,
          0.765,
          0.758,
          0.782
         ],
         "type": "scatter",
         "x": [
          2011,
          2012,
          2013,
          2014,
          2015,
          2016,
          2017,
          2018,
          2019,
          2020
         ],
         "y": [
          0.778,
          0.775,
          0.771,
          0.769,
          0.765,
          0.773,
          0.778,
          0.765,
          0.758,
          0.782
         ]
        },
        {
         "hovertemplate": "<b>%{text:.2f}%</b><brstate: %{name}<br>year: %{x}",
         "line": {
          "color": "#FEAF16",
          "width": 2
         },
         "mode": "lines",
         "name": "Ohio",
         "text": [
          0.804,
          0.805,
          0.799,
          0.796,
          0.815,
          0.835,
          0.826,
          0.841,
          0.785,
          0.772
         ],
         "type": "scatter",
         "x": [
          2011,
          2012,
          2013,
          2014,
          2015,
          2016,
          2017,
          2018,
          2019,
          2020
         ],
         "y": [
          0.804,
          0.805,
          0.799,
          0.796,
          0.815,
          0.835,
          0.826,
          0.841,
          0.785,
          0.772
         ]
        },
        {
         "hovertemplate": "<b>%{text:.2f}%</b><brstate: %{name}<br>year: %{x}",
         "line": {
          "color": "#FEAF16",
          "width": 2
         },
         "mode": "lines",
         "name": "South Dakota",
         "text": [
          0.768,
          0.751,
          0.754,
          0.769,
          0.762,
          0.759,
          0.754,
          0.764,
          0.746,
          0.782
         ],
         "type": "scatter",
         "x": [
          2011,
          2012,
          2013,
          2014,
          2015,
          2016,
          2017,
          2018,
          2019,
          2020
         ],
         "y": [
          0.768,
          0.751,
          0.754,
          0.769,
          0.762,
          0.759,
          0.754,
          0.764,
          0.746,
          0.782
         ]
        },
        {
         "hovertemplate": "<b>%{text:.2f}%</b><brstate: %{name}<br>year: %{x}",
         "line": {
          "color": "#750D86",
          "width": 2
         },
         "mode": "lines",
         "name": "Utah",
         "text": [
          0.584,
          0.586,
          0.593,
          0.587,
          0.584,
          0.579,
          0.578,
          0.568,
          0.568,
          0.62
         ],
         "type": "scatter",
         "x": [
          2011,
          2012,
          2013,
          2014,
          2015,
          2016,
          2017,
          2018,
          2019,
          2020
         ],
         "y": [
          0.584,
          0.586,
          0.593,
          0.587,
          0.584,
          0.579,
          0.578,
          0.568,
          0.568,
          0.62
         ]
        },
        {
         "hovertemplate": "<b>%{text:.2f}%</b><brstate: %{name}<br>year: %{x}",
         "line": {
          "color": "#FEAF16",
          "width": 2
         },
         "mode": "lines",
         "name": "Vermont",
         "text": [
          0.794,
          0.805,
          0.801,
          0.796,
          0.793,
          0.789,
          0.786,
          0.776,
          0.767,
          0.812
         ],
         "type": "scatter",
         "x": [
          2011,
          2012,
          2013,
          2014,
          2015,
          2016,
          2017,
          2018,
          2019,
          2020
         ],
         "y": [
          0.794,
          0.805,
          0.801,
          0.796,
          0.793,
          0.789,
          0.786,
          0.776,
          0.767,
          0.812
         ]
        },
        {
         "hovertemplate": "<b>%{text:.2f}%</b><brstate: %{name}<br>year: %{x}",
         "line": {
          "color": "#750D86",
          "width": 2
         },
         "mode": "lines",
         "name": "Virginia",
         "text": [
          0.651,
          0.648,
          0.654,
          0.635,
          0.647,
          0.644,
          0.642,
          0.643,
          0.647,
          0.659
         ],
         "type": "scatter",
         "x": [
          2011,
          2012,
          2013,
          2014,
          2015,
          2016,
          2017,
          2018,
          2019,
          2020
         ],
         "y": [
          0.651,
          0.648,
          0.654,
          0.635,
          0.647,
          0.644,
          0.642,
          0.643,
          0.647,
          0.659
         ]
        }
       ],
       "layout": {
        "template": {
         "data": {
          "bar": [
           {
            "error_x": {
             "color": "#2a3f5f"
            },
            "error_y": {
             "color": "#2a3f5f"
            },
            "marker": {
             "line": {
              "color": "#E5ECF6",
              "width": 0.5
             },
             "pattern": {
              "fillmode": "overlay",
              "size": 10,
              "solidity": 0.2
             }
            },
            "type": "bar"
           }
          ],
          "barpolar": [
           {
            "marker": {
             "line": {
              "color": "#E5ECF6",
              "width": 0.5
             },
             "pattern": {
              "fillmode": "overlay",
              "size": 10,
              "solidity": 0.2
             }
            },
            "type": "barpolar"
           }
          ],
          "carpet": [
           {
            "aaxis": {
             "endlinecolor": "#2a3f5f",
             "gridcolor": "white",
             "linecolor": "white",
             "minorgridcolor": "white",
             "startlinecolor": "#2a3f5f"
            },
            "baxis": {
             "endlinecolor": "#2a3f5f",
             "gridcolor": "white",
             "linecolor": "white",
             "minorgridcolor": "white",
             "startlinecolor": "#2a3f5f"
            },
            "type": "carpet"
           }
          ],
          "choropleth": [
           {
            "colorbar": {
             "outlinewidth": 0,
             "ticks": ""
            },
            "type": "choropleth"
           }
          ],
          "contour": [
           {
            "colorbar": {
             "outlinewidth": 0,
             "ticks": ""
            },
            "colorscale": [
             [
              0,
              "#0d0887"
             ],
             [
              0.1111111111111111,
              "#46039f"
             ],
             [
              0.2222222222222222,
              "#7201a8"
             ],
             [
              0.3333333333333333,
              "#9c179e"
             ],
             [
              0.4444444444444444,
              "#bd3786"
             ],
             [
              0.5555555555555556,
              "#d8576b"
             ],
             [
              0.6666666666666666,
              "#ed7953"
             ],
             [
              0.7777777777777778,
              "#fb9f3a"
             ],
             [
              0.8888888888888888,
              "#fdca26"
             ],
             [
              1,
              "#f0f921"
             ]
            ],
            "type": "contour"
           }
          ],
          "contourcarpet": [
           {
            "colorbar": {
             "outlinewidth": 0,
             "ticks": ""
            },
            "type": "contourcarpet"
           }
          ],
          "heatmap": [
           {
            "colorbar": {
             "outlinewidth": 0,
             "ticks": ""
            },
            "colorscale": [
             [
              0,
              "#0d0887"
             ],
             [
              0.1111111111111111,
              "#46039f"
             ],
             [
              0.2222222222222222,
              "#7201a8"
             ],
             [
              0.3333333333333333,
              "#9c179e"
             ],
             [
              0.4444444444444444,
              "#bd3786"
             ],
             [
              0.5555555555555556,
              "#d8576b"
             ],
             [
              0.6666666666666666,
              "#ed7953"
             ],
             [
              0.7777777777777778,
              "#fb9f3a"
             ],
             [
              0.8888888888888888,
              "#fdca26"
             ],
             [
              1,
              "#f0f921"
             ]
            ],
            "type": "heatmap"
           }
          ],
          "heatmapgl": [
           {
            "colorbar": {
             "outlinewidth": 0,
             "ticks": ""
            },
            "colorscale": [
             [
              0,
              "#0d0887"
             ],
             [
              0.1111111111111111,
              "#46039f"
             ],
             [
              0.2222222222222222,
              "#7201a8"
             ],
             [
              0.3333333333333333,
              "#9c179e"
             ],
             [
              0.4444444444444444,
              "#bd3786"
             ],
             [
              0.5555555555555556,
              "#d8576b"
             ],
             [
              0.6666666666666666,
              "#ed7953"
             ],
             [
              0.7777777777777778,
              "#fb9f3a"
             ],
             [
              0.8888888888888888,
              "#fdca26"
             ],
             [
              1,
              "#f0f921"
             ]
            ],
            "type": "heatmapgl"
           }
          ],
          "histogram": [
           {
            "marker": {
             "pattern": {
              "fillmode": "overlay",
              "size": 10,
              "solidity": 0.2
             }
            },
            "type": "histogram"
           }
          ],
          "histogram2d": [
           {
            "colorbar": {
             "outlinewidth": 0,
             "ticks": ""
            },
            "colorscale": [
             [
              0,
              "#0d0887"
             ],
             [
              0.1111111111111111,
              "#46039f"
             ],
             [
              0.2222222222222222,
              "#7201a8"
             ],
             [
              0.3333333333333333,
              "#9c179e"
             ],
             [
              0.4444444444444444,
              "#bd3786"
             ],
             [
              0.5555555555555556,
              "#d8576b"
             ],
             [
              0.6666666666666666,
              "#ed7953"
             ],
             [
              0.7777777777777778,
              "#fb9f3a"
             ],
             [
              0.8888888888888888,
              "#fdca26"
             ],
             [
              1,
              "#f0f921"
             ]
            ],
            "type": "histogram2d"
           }
          ],
          "histogram2dcontour": [
           {
            "colorbar": {
             "outlinewidth": 0,
             "ticks": ""
            },
            "colorscale": [
             [
              0,
              "#0d0887"
             ],
             [
              0.1111111111111111,
              "#46039f"
             ],
             [
              0.2222222222222222,
              "#7201a8"
             ],
             [
              0.3333333333333333,
              "#9c179e"
             ],
             [
              0.4444444444444444,
              "#bd3786"
             ],
             [
              0.5555555555555556,
              "#d8576b"
             ],
             [
              0.6666666666666666,
              "#ed7953"
             ],
             [
              0.7777777777777778,
              "#fb9f3a"
             ],
             [
              0.8888888888888888,
              "#fdca26"
             ],
             [
              1,
              "#f0f921"
             ]
            ],
            "type": "histogram2dcontour"
           }
          ],
          "mesh3d": [
           {
            "colorbar": {
             "outlinewidth": 0,
             "ticks": ""
            },
            "type": "mesh3d"
           }
          ],
          "parcoords": [
           {
            "line": {
             "colorbar": {
              "outlinewidth": 0,
              "ticks": ""
             }
            },
            "type": "parcoords"
           }
          ],
          "pie": [
           {
            "automargin": true,
            "type": "pie"
           }
          ],
          "scatter": [
           {
            "marker": {
             "colorbar": {
              "outlinewidth": 0,
              "ticks": ""
             }
            },
            "type": "scatter"
           }
          ],
          "scatter3d": [
           {
            "line": {
             "colorbar": {
              "outlinewidth": 0,
              "ticks": ""
             }
            },
            "marker": {
             "colorbar": {
              "outlinewidth": 0,
              "ticks": ""
             }
            },
            "type": "scatter3d"
           }
          ],
          "scattercarpet": [
           {
            "marker": {
             "colorbar": {
              "outlinewidth": 0,
              "ticks": ""
             }
            },
            "type": "scattercarpet"
           }
          ],
          "scattergeo": [
           {
            "marker": {
             "colorbar": {
              "outlinewidth": 0,
              "ticks": ""
             }
            },
            "type": "scattergeo"
           }
          ],
          "scattergl": [
           {
            "marker": {
             "colorbar": {
              "outlinewidth": 0,
              "ticks": ""
             }
            },
            "type": "scattergl"
           }
          ],
          "scattermapbox": [
           {
            "marker": {
             "colorbar": {
              "outlinewidth": 0,
              "ticks": ""
             }
            },
            "type": "scattermapbox"
           }
          ],
          "scatterpolar": [
           {
            "marker": {
             "colorbar": {
              "outlinewidth": 0,
              "ticks": ""
             }
            },
            "type": "scatterpolar"
           }
          ],
          "scatterpolargl": [
           {
            "marker": {
             "colorbar": {
              "outlinewidth": 0,
              "ticks": ""
             }
            },
            "type": "scatterpolargl"
           }
          ],
          "scatterternary": [
           {
            "marker": {
             "colorbar": {
              "outlinewidth": 0,
              "ticks": ""
             }
            },
            "type": "scatterternary"
           }
          ],
          "surface": [
           {
            "colorbar": {
             "outlinewidth": 0,
             "ticks": ""
            },
            "colorscale": [
             [
              0,
              "#0d0887"
             ],
             [
              0.1111111111111111,
              "#46039f"
             ],
             [
              0.2222222222222222,
              "#7201a8"
             ],
             [
              0.3333333333333333,
              "#9c179e"
             ],
             [
              0.4444444444444444,
              "#bd3786"
             ],
             [
              0.5555555555555556,
              "#d8576b"
             ],
             [
              0.6666666666666666,
              "#ed7953"
             ],
             [
              0.7777777777777778,
              "#fb9f3a"
             ],
             [
              0.8888888888888888,
              "#fdca26"
             ],
             [
              1,
              "#f0f921"
             ]
            ],
            "type": "surface"
           }
          ],
          "table": [
           {
            "cells": {
             "fill": {
              "color": "#EBF0F8"
             },
             "line": {
              "color": "white"
             }
            },
            "header": {
             "fill": {
              "color": "#C8D4E3"
             },
             "line": {
              "color": "white"
             }
            },
            "type": "table"
           }
          ]
         },
         "layout": {
          "annotationdefaults": {
           "arrowcolor": "#2a3f5f",
           "arrowhead": 0,
           "arrowwidth": 1
          },
          "autotypenumbers": "strict",
          "coloraxis": {
           "colorbar": {
            "outlinewidth": 0,
            "ticks": ""
           }
          },
          "colorscale": {
           "diverging": [
            [
             0,
             "#8e0152"
            ],
            [
             0.1,
             "#c51b7d"
            ],
            [
             0.2,
             "#de77ae"
            ],
            [
             0.3,
             "#f1b6da"
            ],
            [
             0.4,
             "#fde0ef"
            ],
            [
             0.5,
             "#f7f7f7"
            ],
            [
             0.6,
             "#e6f5d0"
            ],
            [
             0.7,
             "#b8e186"
            ],
            [
             0.8,
             "#7fbc41"
            ],
            [
             0.9,
             "#4d9221"
            ],
            [
             1,
             "#276419"
            ]
           ],
           "sequential": [
            [
             0,
             "#0d0887"
            ],
            [
             0.1111111111111111,
             "#46039f"
            ],
            [
             0.2222222222222222,
             "#7201a8"
            ],
            [
             0.3333333333333333,
             "#9c179e"
            ],
            [
             0.4444444444444444,
             "#bd3786"
            ],
            [
             0.5555555555555556,
             "#d8576b"
            ],
            [
             0.6666666666666666,
             "#ed7953"
            ],
            [
             0.7777777777777778,
             "#fb9f3a"
            ],
            [
             0.8888888888888888,
             "#fdca26"
            ],
            [
             1,
             "#f0f921"
            ]
           ],
           "sequentialminus": [
            [
             0,
             "#0d0887"
            ],
            [
             0.1111111111111111,
             "#46039f"
            ],
            [
             0.2222222222222222,
             "#7201a8"
            ],
            [
             0.3333333333333333,
             "#9c179e"
            ],
            [
             0.4444444444444444,
             "#bd3786"
            ],
            [
             0.5555555555555556,
             "#d8576b"
            ],
            [
             0.6666666666666666,
             "#ed7953"
            ],
            [
             0.7777777777777778,
             "#fb9f3a"
            ],
            [
             0.8888888888888888,
             "#fdca26"
            ],
            [
             1,
             "#f0f921"
            ]
           ]
          },
          "colorway": [
           "#636efa",
           "#EF553B",
           "#00cc96",
           "#ab63fa",
           "#FFA15A",
           "#19d3f3",
           "#FF6692",
           "#B6E880",
           "#FF97FF",
           "#FECB52"
          ],
          "font": {
           "color": "#2a3f5f"
          },
          "geo": {
           "bgcolor": "white",
           "lakecolor": "white",
           "landcolor": "#E5ECF6",
           "showlakes": true,
           "showland": true,
           "subunitcolor": "white"
          },
          "hoverlabel": {
           "align": "left"
          },
          "hovermode": "closest",
          "mapbox": {
           "style": "light"
          },
          "paper_bgcolor": "white",
          "plot_bgcolor": "#E5ECF6",
          "polar": {
           "angularaxis": {
            "gridcolor": "white",
            "linecolor": "white",
            "ticks": ""
           },
           "bgcolor": "#E5ECF6",
           "radialaxis": {
            "gridcolor": "white",
            "linecolor": "white",
            "ticks": ""
           }
          },
          "scene": {
           "xaxis": {
            "backgroundcolor": "#E5ECF6",
            "gridcolor": "white",
            "gridwidth": 2,
            "linecolor": "white",
            "showbackground": true,
            "ticks": "",
            "zerolinecolor": "white"
           },
           "yaxis": {
            "backgroundcolor": "#E5ECF6",
            "gridcolor": "white",
            "gridwidth": 2,
            "linecolor": "white",
            "showbackground": true,
            "ticks": "",
            "zerolinecolor": "white"
           },
           "zaxis": {
            "backgroundcolor": "#E5ECF6",
            "gridcolor": "white",
            "gridwidth": 2,
            "linecolor": "white",
            "showbackground": true,
            "ticks": "",
            "zerolinecolor": "white"
           }
          },
          "shapedefaults": {
           "line": {
            "color": "#2a3f5f"
           }
          },
          "ternary": {
           "aaxis": {
            "gridcolor": "white",
            "linecolor": "white",
            "ticks": ""
           },
           "baxis": {
            "gridcolor": "white",
            "linecolor": "white",
            "ticks": ""
           },
           "bgcolor": "#E5ECF6",
           "caxis": {
            "gridcolor": "white",
            "linecolor": "white",
            "ticks": ""
           }
          },
          "title": {
           "x": 0.05
          },
          "xaxis": {
           "automargin": true,
           "gridcolor": "white",
           "linecolor": "white",
           "ticks": "",
           "title": {
            "standoff": 15
           },
           "zerolinecolor": "white",
           "zerolinewidth": 2
          },
          "yaxis": {
           "automargin": true,
           "gridcolor": "white",
           "linecolor": "white",
           "ticks": "",
           "title": {
            "standoff": 15
           },
           "zerolinecolor": "white",
           "zerolinewidth": 2
          }
         }
        },
        "title": {
         "text": "mngmt_job_wage_gap"
        },
        "xaxis": {
         "title": {
          "text": "year"
         }
        },
        "yaxis": {
         "title": {
          "text": "mngmt_job_wage_gap"
         }
        }
       }
      }
     },
     "metadata": {},
     "output_type": "display_data"
    }
   ],
   "source": [
    "import_feat = ['state_legislature','mngmt_job_wage_gap','rape_rate','life_exp_m_f','abortion_rate']\n",
    "\n",
    "# Calculate the rank percentage for each state in 2011\n",
    "df['pct_rank'] = df[df['year'] == 2011]['mngmt_job_wage_gap'].rank(pct=True)\n",
    "\n",
    "# Divide states into three groups based on rank percentage\n",
    "df['group'] = pd.cut(df['pct_rank'], bins=[0, 0.1, 0.45, 0.55, 0.9, 1.0], labels=[r'前10%', r'10%-45%', r'45%-55%', r'55%-90%', r'后10%'])\n",
    "\n",
    "# Process each state's data individually and store it in a dictionary\n",
    "states_data = {}\n",
    "for state, data in df.groupby('state'):\n",
    "    # Sort the data by year\n",
    "    data = data.sort_values('year')\n",
    "    # Construct Plotly's Trace object\n",
    "    trace = go.Scatter(\n",
    "        x=data['year'],\n",
    "        y=data['mngmt_job_wage_gap'],\n",
    "        name=state,\n",
    "        line=dict(width=2),\n",
    "        mode='lines',\n",
    "        text=data['mngmt_job_wage_gap'],\n",
    "        hovertemplate='<b>%{text:.2f}%</b><brstate: %{name}<br>year: %{x}'\n",
    "    )\n",
    "    # Assign the corresponding color according to which group the state belongs to\n",
    "    if r'前10%' in data['group'].unique():\n",
    "        \n",
    "        trace.update(line=dict(color='#750D86'))\n",
    "        states_data[state] = trace\n",
    "\n",
    "    elif r'后10%' in data['group'].unique():\n",
    "        trace.update(line=dict(color='#FEAF16'))\n",
    "        states_data[state] = trace\n",
    "\n",
    "    elif r'45%-55%' in data['group'].unique():\n",
    "        trace.update(line=dict(color='#00AB8B'))\n",
    "        states_data[state] = trace\n",
    "\n",
    "    # Store a Trace object for each state\n",
    "\n",
    "# Construct Plotly's Figure object\n",
    "fig = go.Figure(list(states_data.values()))\n",
    "\n",
    "# Add a chart title and axis labels\n",
    "fig.update_layout(title='mngmt_job_wage_gap',\n",
    "                xaxis_title='year',\n",
    "                yaxis_title='mngmt_job_wage_gap')\n",
    "\n",
    "# show chart\n",
    "fig.show()\n"
   ]
  },
  {
   "cell_type": "code",
   "execution_count": 24,
   "metadata": {},
   "outputs": [
    {
     "data": {
      "application/vnd.plotly.v1+json": {
       "config": {
        "plotlyServerURL": "https://plot.ly"
       },
       "data": [
        {
         "hovertemplate": "<b>%{text:.2f}%</b><brstate: %{name}<br>year: %{x}",
         "line": {
          "color": "#00AB8B",
          "width": 2
         },
         "mode": "lines",
         "name": "Alabama",
         "text": [
          28.5,
          26.9,
          42.3,
          41.3,
          42,
          39.4,
          41.6,
          40.8,
          42.2,
          32.7
         ],
         "type": "scatter",
         "x": [
          2011,
          2012,
          2013,
          2014,
          2015,
          2016,
          2017,
          2018,
          2019,
          2020
         ],
         "y": [
          28.5,
          26.9,
          42.3,
          41.3,
          42,
          39.4,
          41.6,
          40.8,
          42.2,
          32.7
         ]
        },
        {
         "hovertemplate": "<b>%{text:.2f}%</b><brstate: %{name}<br>year: %{x}",
         "line": {
          "color": "#FEAF16",
          "width": 2
         },
         "mode": "lines",
         "name": "Alaska",
         "text": [
          60.2,
          79.7,
          125.4,
          104.7,
          122,
          141.9,
          116.7,
          161.6,
          148.7,
          154.8
         ],
         "type": "scatter",
         "x": [
          2011,
          2012,
          2013,
          2014,
          2015,
          2016,
          2017,
          2018,
          2019,
          2020
         ],
         "y": [
          60.2,
          79.7,
          125.4,
          104.7,
          122,
          141.9,
          116.7,
          161.6,
          148.7,
          154.8
         ]
        },
        {
         "hovertemplate": "<b>%{text:.2f}%</b><brstate: %{name}<br>year: %{x}",
         "line": {
          "color": "#FEAF16",
          "width": 2
         },
         "mode": "lines",
         "name": "Colorado",
         "text": [
          44.7,
          40.7,
          55.7,
          56.7,
          59.7,
          64.2,
          68.8,
          71.5,
          67.2,
          62.9
         ],
         "type": "scatter",
         "x": [
          2011,
          2012,
          2013,
          2014,
          2015,
          2016,
          2017,
          2018,
          2019,
          2020
         ],
         "y": [
          44.7,
          40.7,
          55.7,
          56.7,
          59.7,
          64.2,
          68.8,
          71.5,
          67.2,
          62.9
         ]
        },
        {
         "hovertemplate": "<b>%{text:.2f}%</b><brstate: %{name}<br>year: %{x}",
         "line": {
          "color": "#750D86",
          "width": 2
         },
         "mode": "lines",
         "name": "Connecticut",
         "text": [
          19.2,
          25.6,
          26.6,
          21.7,
          21.5,
          21.3,
          23.3,
          23.5,
          21.6,
          16.7
         ],
         "type": "scatter",
         "x": [
          2011,
          2012,
          2013,
          2014,
          2015,
          2016,
          2017,
          2018,
          2019,
          2020
         ],
         "y": [
          19.2,
          25.6,
          26.6,
          21.7,
          21.5,
          21.3,
          23.3,
          23.5,
          21.6,
          16.7
         ]
        },
        {
         "hovertemplate": "<b>%{text:.2f}%</b><brstate: %{name}<br>year: %{x}",
         "line": {
          "color": "#00AB8B",
          "width": 2
         },
         "mode": "lines",
         "name": "Maine",
         "text": [
          29.7,
          28,
          33.7,
          36.5,
          35.7,
          30.9,
          35.4,
          33.3,
          38.4,
          36
         ],
         "type": "scatter",
         "x": [
          2011,
          2012,
          2013,
          2014,
          2015,
          2016,
          2017,
          2018,
          2019,
          2020
         ],
         "y": [
          29.7,
          28,
          33.7,
          36.5,
          35.7,
          30.9,
          35.4,
          33.3,
          38.4,
          36
         ]
        },
        {
         "hovertemplate": "<b>%{text:.2f}%</b><brstate: %{name}<br>year: %{x}",
         "line": {
          "color": "#FEAF16",
          "width": 2
         },
         "mode": "lines",
         "name": "Michigan",
         "text": [
          44,
          46.4,
          66.6,
          63.3,
          65,
          71.8,
          70.6,
          76.9,
          72.4,
          60.9
         ],
         "type": "scatter",
         "x": [
          2011,
          2012,
          2013,
          2014,
          2015,
          2016,
          2017,
          2018,
          2019,
          2020
         ],
         "y": [
          44,
          46.4,
          66.6,
          63.3,
          65,
          71.8,
          70.6,
          76.9,
          72.4,
          60.9
         ]
        },
        {
         "hovertemplate": "<b>%{text:.2f}%</b><brstate: %{name}<br>year: %{x}",
         "line": {
          "color": "#00AB8B",
          "width": 2
         },
         "mode": "lines",
         "name": "Mississippi",
         "text": [
          29,
          27.5,
          31.1,
          35.3,
          40.2,
          42.7,
          36.6,
          18,
          25.1,
          38.7
         ],
         "type": "scatter",
         "x": [
          2011,
          2012,
          2013,
          2014,
          2015,
          2016,
          2017,
          2018,
          2019,
          2020
         ],
         "y": [
          29,
          27.5,
          31.1,
          35.3,
          40.2,
          42.7,
          36.6,
          18,
          25.1,
          38.7
         ]
        },
        {
         "hovertemplate": "<b>%{text:.2f}%</b><brstate: %{name}<br>year: %{x}",
         "line": {
          "color": "#FEAF16",
          "width": 2
         },
         "mode": "lines",
         "name": "New Hampshire",
         "text": [
          44.1,
          34,
          51.8,
          44.8,
          47.1,
          43.6,
          49.4,
          39.4,
          43.4,
          39.7
         ],
         "type": "scatter",
         "x": [
          2011,
          2012,
          2013,
          2014,
          2015,
          2016,
          2017,
          2018,
          2019,
          2020
         ],
         "y": [
          44.1,
          34,
          51.8,
          44.8,
          47.1,
          43.6,
          49.4,
          39.4,
          43.4,
          39.7
         ]
        },
        {
         "hovertemplate": "<b>%{text:.2f}%</b><brstate: %{name}<br>year: %{x}",
         "line": {
          "color": "#750D86",
          "width": 2
         },
         "mode": "lines",
         "name": "New Jersey",
         "text": [
          11.4,
          11.7,
          12.6,
          14.3,
          15.3,
          16.2,
          16.7,
          16,
          17.2,
          14.4
         ],
         "type": "scatter",
         "x": [
          2011,
          2012,
          2013,
          2014,
          2015,
          2016,
          2017,
          2018,
          2019,
          2020
         ],
         "y": [
          11.4,
          11.7,
          12.6,
          14.3,
          15.3,
          16.2,
          16.7,
          16,
          17.2,
          14.4
         ]
        },
        {
         "hovertemplate": "<b>%{text:.2f}%</b><brstate: %{name}<br>year: %{x}",
         "line": {
          "color": "#750D86",
          "width": 2
         },
         "mode": "lines",
         "name": "New York",
         "text": [
          14.1,
          14.6,
          17.1,
          27.5,
          30.7,
          31.7,
          31.9,
          33.6,
          33.8,
          28.3
         ],
         "type": "scatter",
         "x": [
          2011,
          2012,
          2013,
          2014,
          2015,
          2016,
          2017,
          2018,
          2019,
          2020
         ],
         "y": [
          14.1,
          14.6,
          17.1,
          27.5,
          30.7,
          31.7,
          31.9,
          33.6,
          33.8,
          28.3
         ]
        },
        {
         "hovertemplate": "<b>%{text:.2f}%</b><brstate: %{name}<br>year: %{x}",
         "line": {
          "color": "#00AB8B",
          "width": 2
         },
         "mode": "lines",
         "name": "Rhode Island",
         "text": [
          30.4,
          27.4,
          41.8,
          34.2,
          43.5,
          41.8,
          42,
          45.5,
          46.3,
          38.5
         ],
         "type": "scatter",
         "x": [
          2011,
          2012,
          2013,
          2014,
          2015,
          2016,
          2017,
          2018,
          2019,
          2020
         ],
         "y": [
          30.4,
          27.4,
          41.8,
          34.2,
          43.5,
          41.8,
          42,
          45.5,
          46.3,
          38.5
         ]
        },
        {
         "hovertemplate": "<b>%{text:.2f}%</b><brstate: %{name}<br>year: %{x}",
         "line": {
          "color": "#FEAF16",
          "width": 2
         },
         "mode": "lines",
         "name": "South Dakota",
         "text": [
          61.1,
          70.2,
          59.1,
          55.1,
          57.7,
          58.8,
          68.4,
          69.6,
          72.6,
          67.1
         ],
         "type": "scatter",
         "x": [
          2011,
          2012,
          2013,
          2014,
          2015,
          2016,
          2017,
          2018,
          2019,
          2020
         ],
         "y": [
          61.1,
          70.2,
          59.1,
          55.1,
          57.7,
          58.8,
          68.4,
          69.6,
          72.6,
          67.1
         ]
        },
        {
         "hovertemplate": "<b>%{text:.2f}%</b><brstate: %{name}<br>year: %{x}",
         "line": {
          "color": "#00AB8B",
          "width": 2
         },
         "mode": "lines",
         "name": "Texas",
         "text": [
          29.2,
          29.6,
          36.9,
          42.3,
          44.6,
          48,
          51.1,
          51.2,
          51.1,
          46
         ],
         "type": "scatter",
         "x": [
          2011,
          2012,
          2013,
          2014,
          2015,
          2016,
          2017,
          2018,
          2019,
          2020
         ],
         "y": [
          29.2,
          29.6,
          36.9,
          42.3,
          44.6,
          48,
          51.1,
          51.2,
          51.1,
          46
         ]
        },
        {
         "hovertemplate": "<b>%{text:.2f}%</b><brstate: %{name}<br>year: %{x}",
         "line": {
          "color": "#750D86",
          "width": 2
         },
         "mode": "lines",
         "name": "Virginia",
         "text": [
          19.6,
          17.7,
          27.4,
          27.7,
          27.9,
          32.5,
          33.8,
          34.3,
          33,
          26.5
         ],
         "type": "scatter",
         "x": [
          2011,
          2012,
          2013,
          2014,
          2015,
          2016,
          2017,
          2018,
          2019,
          2020
         ],
         "y": [
          19.6,
          17.7,
          27.4,
          27.7,
          27.9,
          32.5,
          33.8,
          34.3,
          33,
          26.5
         ]
        },
        {
         "hovertemplate": "<b>%{text:.2f}%</b><brstate: %{name}<br>year: %{x}",
         "line": {
          "color": "#750D86",
          "width": 2
         },
         "mode": "lines",
         "name": "West Virginia",
         "text": [
          20.1,
          22.7,
          35.2,
          27.3,
          36.4,
          35.9,
          43.8,
          36.1,
          42.1,
          46.6
         ],
         "type": "scatter",
         "x": [
          2011,
          2012,
          2013,
          2014,
          2015,
          2016,
          2017,
          2018,
          2019,
          2020
         ],
         "y": [
          20.1,
          22.7,
          35.2,
          27.3,
          36.4,
          35.9,
          43.8,
          36.1,
          42.1,
          46.6
         ]
        }
       ],
       "layout": {
        "template": {
         "data": {
          "bar": [
           {
            "error_x": {
             "color": "#2a3f5f"
            },
            "error_y": {
             "color": "#2a3f5f"
            },
            "marker": {
             "line": {
              "color": "#E5ECF6",
              "width": 0.5
             },
             "pattern": {
              "fillmode": "overlay",
              "size": 10,
              "solidity": 0.2
             }
            },
            "type": "bar"
           }
          ],
          "barpolar": [
           {
            "marker": {
             "line": {
              "color": "#E5ECF6",
              "width": 0.5
             },
             "pattern": {
              "fillmode": "overlay",
              "size": 10,
              "solidity": 0.2
             }
            },
            "type": "barpolar"
           }
          ],
          "carpet": [
           {
            "aaxis": {
             "endlinecolor": "#2a3f5f",
             "gridcolor": "white",
             "linecolor": "white",
             "minorgridcolor": "white",
             "startlinecolor": "#2a3f5f"
            },
            "baxis": {
             "endlinecolor": "#2a3f5f",
             "gridcolor": "white",
             "linecolor": "white",
             "minorgridcolor": "white",
             "startlinecolor": "#2a3f5f"
            },
            "type": "carpet"
           }
          ],
          "choropleth": [
           {
            "colorbar": {
             "outlinewidth": 0,
             "ticks": ""
            },
            "type": "choropleth"
           }
          ],
          "contour": [
           {
            "colorbar": {
             "outlinewidth": 0,
             "ticks": ""
            },
            "colorscale": [
             [
              0,
              "#0d0887"
             ],
             [
              0.1111111111111111,
              "#46039f"
             ],
             [
              0.2222222222222222,
              "#7201a8"
             ],
             [
              0.3333333333333333,
              "#9c179e"
             ],
             [
              0.4444444444444444,
              "#bd3786"
             ],
             [
              0.5555555555555556,
              "#d8576b"
             ],
             [
              0.6666666666666666,
              "#ed7953"
             ],
             [
              0.7777777777777778,
              "#fb9f3a"
             ],
             [
              0.8888888888888888,
              "#fdca26"
             ],
             [
              1,
              "#f0f921"
             ]
            ],
            "type": "contour"
           }
          ],
          "contourcarpet": [
           {
            "colorbar": {
             "outlinewidth": 0,
             "ticks": ""
            },
            "type": "contourcarpet"
           }
          ],
          "heatmap": [
           {
            "colorbar": {
             "outlinewidth": 0,
             "ticks": ""
            },
            "colorscale": [
             [
              0,
              "#0d0887"
             ],
             [
              0.1111111111111111,
              "#46039f"
             ],
             [
              0.2222222222222222,
              "#7201a8"
             ],
             [
              0.3333333333333333,
              "#9c179e"
             ],
             [
              0.4444444444444444,
              "#bd3786"
             ],
             [
              0.5555555555555556,
              "#d8576b"
             ],
             [
              0.6666666666666666,
              "#ed7953"
             ],
             [
              0.7777777777777778,
              "#fb9f3a"
             ],
             [
              0.8888888888888888,
              "#fdca26"
             ],
             [
              1,
              "#f0f921"
             ]
            ],
            "type": "heatmap"
           }
          ],
          "heatmapgl": [
           {
            "colorbar": {
             "outlinewidth": 0,
             "ticks": ""
            },
            "colorscale": [
             [
              0,
              "#0d0887"
             ],
             [
              0.1111111111111111,
              "#46039f"
             ],
             [
              0.2222222222222222,
              "#7201a8"
             ],
             [
              0.3333333333333333,
              "#9c179e"
             ],
             [
              0.4444444444444444,
              "#bd3786"
             ],
             [
              0.5555555555555556,
              "#d8576b"
             ],
             [
              0.6666666666666666,
              "#ed7953"
             ],
             [
              0.7777777777777778,
              "#fb9f3a"
             ],
             [
              0.8888888888888888,
              "#fdca26"
             ],
             [
              1,
              "#f0f921"
             ]
            ],
            "type": "heatmapgl"
           }
          ],
          "histogram": [
           {
            "marker": {
             "pattern": {
              "fillmode": "overlay",
              "size": 10,
              "solidity": 0.2
             }
            },
            "type": "histogram"
           }
          ],
          "histogram2d": [
           {
            "colorbar": {
             "outlinewidth": 0,
             "ticks": ""
            },
            "colorscale": [
             [
              0,
              "#0d0887"
             ],
             [
              0.1111111111111111,
              "#46039f"
             ],
             [
              0.2222222222222222,
              "#7201a8"
             ],
             [
              0.3333333333333333,
              "#9c179e"
             ],
             [
              0.4444444444444444,
              "#bd3786"
             ],
             [
              0.5555555555555556,
              "#d8576b"
             ],
             [
              0.6666666666666666,
              "#ed7953"
             ],
             [
              0.7777777777777778,
              "#fb9f3a"
             ],
             [
              0.8888888888888888,
              "#fdca26"
             ],
             [
              1,
              "#f0f921"
             ]
            ],
            "type": "histogram2d"
           }
          ],
          "histogram2dcontour": [
           {
            "colorbar": {
             "outlinewidth": 0,
             "ticks": ""
            },
            "colorscale": [
             [
              0,
              "#0d0887"
             ],
             [
              0.1111111111111111,
              "#46039f"
             ],
             [
              0.2222222222222222,
              "#7201a8"
             ],
             [
              0.3333333333333333,
              "#9c179e"
             ],
             [
              0.4444444444444444,
              "#bd3786"
             ],
             [
              0.5555555555555556,
              "#d8576b"
             ],
             [
              0.6666666666666666,
              "#ed7953"
             ],
             [
              0.7777777777777778,
              "#fb9f3a"
             ],
             [
              0.8888888888888888,
              "#fdca26"
             ],
             [
              1,
              "#f0f921"
             ]
            ],
            "type": "histogram2dcontour"
           }
          ],
          "mesh3d": [
           {
            "colorbar": {
             "outlinewidth": 0,
             "ticks": ""
            },
            "type": "mesh3d"
           }
          ],
          "parcoords": [
           {
            "line": {
             "colorbar": {
              "outlinewidth": 0,
              "ticks": ""
             }
            },
            "type": "parcoords"
           }
          ],
          "pie": [
           {
            "automargin": true,
            "type": "pie"
           }
          ],
          "scatter": [
           {
            "marker": {
             "colorbar": {
              "outlinewidth": 0,
              "ticks": ""
             }
            },
            "type": "scatter"
           }
          ],
          "scatter3d": [
           {
            "line": {
             "colorbar": {
              "outlinewidth": 0,
              "ticks": ""
             }
            },
            "marker": {
             "colorbar": {
              "outlinewidth": 0,
              "ticks": ""
             }
            },
            "type": "scatter3d"
           }
          ],
          "scattercarpet": [
           {
            "marker": {
             "colorbar": {
              "outlinewidth": 0,
              "ticks": ""
             }
            },
            "type": "scattercarpet"
           }
          ],
          "scattergeo": [
           {
            "marker": {
             "colorbar": {
              "outlinewidth": 0,
              "ticks": ""
             }
            },
            "type": "scattergeo"
           }
          ],
          "scattergl": [
           {
            "marker": {
             "colorbar": {
              "outlinewidth": 0,
              "ticks": ""
             }
            },
            "type": "scattergl"
           }
          ],
          "scattermapbox": [
           {
            "marker": {
             "colorbar": {
              "outlinewidth": 0,
              "ticks": ""
             }
            },
            "type": "scattermapbox"
           }
          ],
          "scatterpolar": [
           {
            "marker": {
             "colorbar": {
              "outlinewidth": 0,
              "ticks": ""
             }
            },
            "type": "scatterpolar"
           }
          ],
          "scatterpolargl": [
           {
            "marker": {
             "colorbar": {
              "outlinewidth": 0,
              "ticks": ""
             }
            },
            "type": "scatterpolargl"
           }
          ],
          "scatterternary": [
           {
            "marker": {
             "colorbar": {
              "outlinewidth": 0,
              "ticks": ""
             }
            },
            "type": "scatterternary"
           }
          ],
          "surface": [
           {
            "colorbar": {
             "outlinewidth": 0,
             "ticks": ""
            },
            "colorscale": [
             [
              0,
              "#0d0887"
             ],
             [
              0.1111111111111111,
              "#46039f"
             ],
             [
              0.2222222222222222,
              "#7201a8"
             ],
             [
              0.3333333333333333,
              "#9c179e"
             ],
             [
              0.4444444444444444,
              "#bd3786"
             ],
             [
              0.5555555555555556,
              "#d8576b"
             ],
             [
              0.6666666666666666,
              "#ed7953"
             ],
             [
              0.7777777777777778,
              "#fb9f3a"
             ],
             [
              0.8888888888888888,
              "#fdca26"
             ],
             [
              1,
              "#f0f921"
             ]
            ],
            "type": "surface"
           }
          ],
          "table": [
           {
            "cells": {
             "fill": {
              "color": "#EBF0F8"
             },
             "line": {
              "color": "white"
             }
            },
            "header": {
             "fill": {
              "color": "#C8D4E3"
             },
             "line": {
              "color": "white"
             }
            },
            "type": "table"
           }
          ]
         },
         "layout": {
          "annotationdefaults": {
           "arrowcolor": "#2a3f5f",
           "arrowhead": 0,
           "arrowwidth": 1
          },
          "autotypenumbers": "strict",
          "coloraxis": {
           "colorbar": {
            "outlinewidth": 0,
            "ticks": ""
           }
          },
          "colorscale": {
           "diverging": [
            [
             0,
             "#8e0152"
            ],
            [
             0.1,
             "#c51b7d"
            ],
            [
             0.2,
             "#de77ae"
            ],
            [
             0.3,
             "#f1b6da"
            ],
            [
             0.4,
             "#fde0ef"
            ],
            [
             0.5,
             "#f7f7f7"
            ],
            [
             0.6,
             "#e6f5d0"
            ],
            [
             0.7,
             "#b8e186"
            ],
            [
             0.8,
             "#7fbc41"
            ],
            [
             0.9,
             "#4d9221"
            ],
            [
             1,
             "#276419"
            ]
           ],
           "sequential": [
            [
             0,
             "#0d0887"
            ],
            [
             0.1111111111111111,
             "#46039f"
            ],
            [
             0.2222222222222222,
             "#7201a8"
            ],
            [
             0.3333333333333333,
             "#9c179e"
            ],
            [
             0.4444444444444444,
             "#bd3786"
            ],
            [
             0.5555555555555556,
             "#d8576b"
            ],
            [
             0.6666666666666666,
             "#ed7953"
            ],
            [
             0.7777777777777778,
             "#fb9f3a"
            ],
            [
             0.8888888888888888,
             "#fdca26"
            ],
            [
             1,
             "#f0f921"
            ]
           ],
           "sequentialminus": [
            [
             0,
             "#0d0887"
            ],
            [
             0.1111111111111111,
             "#46039f"
            ],
            [
             0.2222222222222222,
             "#7201a8"
            ],
            [
             0.3333333333333333,
             "#9c179e"
            ],
            [
             0.4444444444444444,
             "#bd3786"
            ],
            [
             0.5555555555555556,
             "#d8576b"
            ],
            [
             0.6666666666666666,
             "#ed7953"
            ],
            [
             0.7777777777777778,
             "#fb9f3a"
            ],
            [
             0.8888888888888888,
             "#fdca26"
            ],
            [
             1,
             "#f0f921"
            ]
           ]
          },
          "colorway": [
           "#636efa",
           "#EF553B",
           "#00cc96",
           "#ab63fa",
           "#FFA15A",
           "#19d3f3",
           "#FF6692",
           "#B6E880",
           "#FF97FF",
           "#FECB52"
          ],
          "font": {
           "color": "#2a3f5f"
          },
          "geo": {
           "bgcolor": "white",
           "lakecolor": "white",
           "landcolor": "#E5ECF6",
           "showlakes": true,
           "showland": true,
           "subunitcolor": "white"
          },
          "hoverlabel": {
           "align": "left"
          },
          "hovermode": "closest",
          "mapbox": {
           "style": "light"
          },
          "paper_bgcolor": "white",
          "plot_bgcolor": "#E5ECF6",
          "polar": {
           "angularaxis": {
            "gridcolor": "white",
            "linecolor": "white",
            "ticks": ""
           },
           "bgcolor": "#E5ECF6",
           "radialaxis": {
            "gridcolor": "white",
            "linecolor": "white",
            "ticks": ""
           }
          },
          "scene": {
           "xaxis": {
            "backgroundcolor": "#E5ECF6",
            "gridcolor": "white",
            "gridwidth": 2,
            "linecolor": "white",
            "showbackground": true,
            "ticks": "",
            "zerolinecolor": "white"
           },
           "yaxis": {
            "backgroundcolor": "#E5ECF6",
            "gridcolor": "white",
            "gridwidth": 2,
            "linecolor": "white",
            "showbackground": true,
            "ticks": "",
            "zerolinecolor": "white"
           },
           "zaxis": {
            "backgroundcolor": "#E5ECF6",
            "gridcolor": "white",
            "gridwidth": 2,
            "linecolor": "white",
            "showbackground": true,
            "ticks": "",
            "zerolinecolor": "white"
           }
          },
          "shapedefaults": {
           "line": {
            "color": "#2a3f5f"
           }
          },
          "ternary": {
           "aaxis": {
            "gridcolor": "white",
            "linecolor": "white",
            "ticks": ""
           },
           "baxis": {
            "gridcolor": "white",
            "linecolor": "white",
            "ticks": ""
           },
           "bgcolor": "#E5ECF6",
           "caxis": {
            "gridcolor": "white",
            "linecolor": "white",
            "ticks": ""
           }
          },
          "title": {
           "x": 0.05
          },
          "xaxis": {
           "automargin": true,
           "gridcolor": "white",
           "linecolor": "white",
           "ticks": "",
           "title": {
            "standoff": 15
           },
           "zerolinecolor": "white",
           "zerolinewidth": 2
          },
          "yaxis": {
           "automargin": true,
           "gridcolor": "white",
           "linecolor": "white",
           "ticks": "",
           "title": {
            "standoff": 15
           },
           "zerolinecolor": "white",
           "zerolinewidth": 2
          }
         }
        },
        "title": {
         "text": "rape_rate"
        },
        "xaxis": {
         "title": {
          "text": "year"
         }
        },
        "yaxis": {
         "title": {
          "text": "rape_rate"
         }
        }
       }
      }
     },
     "metadata": {},
     "output_type": "display_data"
    }
   ],
   "source": [
    "import_feat = ['state_legislature','mngmt_job_wage_gap','rape_rate','life_exp_m_f','abortion_rate']\n",
    "\n",
    "# Calculate the rank percentage for each state in 2011\n",
    "df['pct_rank'] = df[df['year'] == 2011]['rape_rate'].rank(pct=True)\n",
    "\n",
    "# Divide states into three groups based on rank percentage\n",
    "df['group'] = pd.cut(df['pct_rank'], bins=[0, 0.1, 0.45, 0.55, 0.9, 1.0], labels=[r'前10%', r'10%-45%', r'45%-55%', r'55%-90%', r'后10%'])\n",
    "\n",
    "# Process each state's data individually and store it in a dictionary\n",
    "states_data = {}\n",
    "for state, data in df.groupby('state'):\n",
    "    # Sort the data by year\n",
    "    data = data.sort_values('year')\n",
    "    # Construct Plotly's Trace object\n",
    "    trace = go.Scatter(\n",
    "        x=data['year'],\n",
    "        y=data['rape_rate'],\n",
    "        name=state,\n",
    "        line=dict(width=2),\n",
    "        mode='lines',\n",
    "        text=data['rape_rate'],\n",
    "        hovertemplate='<b>%{text:.2f}%</b><brstate: %{name}<br>year: %{x}'\n",
    "    )\n",
    "    # Assign the corresponding color according to which group the state belongs to\n",
    "    if r'前10%' in data['group'].unique():\n",
    "        \n",
    "        trace.update(line=dict(color='#750D86'))\n",
    "        states_data[state] = trace\n",
    "\n",
    "    elif r'后10%' in data['group'].unique():\n",
    "        trace.update(line=dict(color='#FEAF16'))\n",
    "        states_data[state] = trace\n",
    "\n",
    "    elif r'45%-55%' in data['group'].unique():\n",
    "        trace.update(line=dict(color='#00AB8B'))\n",
    "        states_data[state] = trace\n",
    "\n",
    "    # Store a Trace object for each state\n",
    "\n",
    "# Construct Plotly's Figure object\n",
    "fig = go.Figure(list(states_data.values()))\n",
    "\n",
    "# Add a chart title and axis labels\n",
    "fig.update_layout(title='rape_rate',\n",
    "                xaxis_title='year',\n",
    "                yaxis_title='rape_rate')\n",
    "\n",
    "# show chart\n",
    "fig.show()"
   ]
  },
  {
   "cell_type": "code",
   "execution_count": 25,
   "metadata": {},
   "outputs": [
    {
     "data": {
      "application/vnd.plotly.v1+json": {
       "config": {
        "plotlyServerURL": "https://plot.ly"
       },
       "data": [
        {
         "hovertemplate": "<b>%{text:.2f}%</b><brstate: %{name}<br>year: %{x}",
         "line": {
          "color": "#750D86",
          "width": 2
         },
         "mode": "lines",
         "name": "Alabama",
         "text": [
          0.929,
          0.931,
          0.927,
          0.933,
          0.93,
          0.929,
          0.927,
          0.928,
          0.926,
          0.918
         ],
         "type": "scatter",
         "x": [
          2011,
          2012,
          2013,
          2014,
          2015,
          2016,
          2017,
          2018,
          2019,
          2020
         ],
         "y": [
          0.929,
          0.931,
          0.927,
          0.933,
          0.93,
          0.929,
          0.927,
          0.928,
          0.926,
          0.918
         ]
        },
        {
         "hovertemplate": "<b>%{text:.2f}%</b><brstate: %{name}<br>year: %{x}",
         "line": {
          "color": "#00AB8B",
          "width": 2
         },
         "mode": "lines",
         "name": "Arizona",
         "text": [
          0.942,
          0.94,
          0.941,
          0.941,
          0.939,
          0.934,
          0.935,
          0.931,
          0.931,
          0.923
         ],
         "type": "scatter",
         "x": [
          2011,
          2012,
          2013,
          2014,
          2015,
          2016,
          2017,
          2018,
          2019,
          2020
         ],
         "y": [
          0.942,
          0.94,
          0.941,
          0.941,
          0.939,
          0.934,
          0.935,
          0.931,
          0.931,
          0.923
         ]
        },
        {
         "hovertemplate": "<b>%{text:.2f}%</b><brstate: %{name}<br>year: %{x}",
         "line": {
          "color": "#750D86",
          "width": 2
         },
         "mode": "lines",
         "name": "Arkansas",
         "text": [
          0.931,
          0.935,
          0.935,
          0.935,
          0.933,
          0.935,
          0.938,
          0.934,
          0.932,
          0.928
         ],
         "type": "scatter",
         "x": [
          2011,
          2012,
          2013,
          2014,
          2015,
          2016,
          2017,
          2018,
          2019,
          2020
         ],
         "y": [
          0.931,
          0.935,
          0.935,
          0.935,
          0.933,
          0.935,
          0.938,
          0.934,
          0.932,
          0.928
         ]
        },
        {
         "hovertemplate": "<b>%{text:.2f}%</b><brstate: %{name}<br>year: %{x}",
         "line": {
          "color": "#750D86",
          "width": 2
         },
         "mode": "lines",
         "name": "Hawaii",
         "text": [
          0.925,
          0.927,
          0.933,
          0.929,
          0.934,
          0.93,
          0.924,
          0.935,
          0.927,
          0.926
         ],
         "type": "scatter",
         "x": [
          2011,
          2012,
          2013,
          2014,
          2015,
          2016,
          2017,
          2018,
          2019,
          2020
         ],
         "y": [
          0.925,
          0.927,
          0.933,
          0.929,
          0.934,
          0.93,
          0.924,
          0.935,
          0.927,
          0.926
         ]
        },
        {
         "hovertemplate": "<b>%{text:.2f}%</b><brstate: %{name}<br>year: %{x}",
         "line": {
          "color": "#FEAF16",
          "width": 2
         },
         "mode": "lines",
         "name": "Idaho",
         "text": [
          0.952,
          0.952,
          0.949,
          0.952,
          0.948,
          0.951,
          0.949,
          0.945,
          0.952,
          0.942
         ],
         "type": "scatter",
         "x": [
          2011,
          2012,
          2013,
          2014,
          2015,
          2016,
          2017,
          2018,
          2019,
          2020
         ],
         "y": [
          0.952,
          0.952,
          0.949,
          0.952,
          0.948,
          0.951,
          0.949,
          0.945,
          0.952,
          0.942
         ]
        },
        {
         "hovertemplate": "<b>%{text:.2f}%</b><brstate: %{name}<br>year: %{x}",
         "line": {
          "color": "#00AB8B",
          "width": 2
         },
         "mode": "lines",
         "name": "Maine",
         "text": [
          0.942,
          0.941,
          0.941,
          0.941,
          0.943,
          0.935,
          0.94,
          0.941,
          0.936,
          0.928
         ],
         "type": "scatter",
         "x": [
          2011,
          2012,
          2013,
          2014,
          2015,
          2016,
          2017,
          2018,
          2019,
          2020
         ],
         "y": [
          0.942,
          0.941,
          0.941,
          0.941,
          0.943,
          0.935,
          0.94,
          0.941,
          0.936,
          0.928
         ]
        },
        {
         "hovertemplate": "<b>%{text:.2f}%</b><brstate: %{name}<br>year: %{x}",
         "line": {
          "color": "#00AB8B",
          "width": 2
         },
         "mode": "lines",
         "name": "Maryland",
         "text": [
          0.942,
          0.942,
          0.942,
          0.94,
          0.936,
          0.934,
          0.934,
          0.934,
          0.934,
          0.926
         ],
         "type": "scatter",
         "x": [
          2011,
          2012,
          2013,
          2014,
          2015,
          2016,
          2017,
          2018,
          2019,
          2020
         ],
         "y": [
          0.942,
          0.942,
          0.942,
          0.94,
          0.936,
          0.934,
          0.934,
          0.934,
          0.934,
          0.926
         ]
        },
        {
         "hovertemplate": "<b>%{text:.2f}%</b><brstate: %{name}<br>year: %{x}",
         "line": {
          "color": "#750D86",
          "width": 2
         },
         "mode": "lines",
         "name": "Mississippi",
         "text": [
          0.928,
          0.93,
          0.928,
          0.925,
          0.924,
          0.923,
          0.926,
          0.925,
          0.92,
          0.912
         ],
         "type": "scatter",
         "x": [
          2011,
          2012,
          2013,
          2014,
          2015,
          2016,
          2017,
          2018,
          2019,
          2020
         ],
         "y": [
          0.928,
          0.93,
          0.928,
          0.925,
          0.924,
          0.923,
          0.926,
          0.925,
          0.92,
          0.912
         ]
        },
        {
         "hovertemplate": "<b>%{text:.2f}%</b><brstate: %{name}<br>year: %{x}",
         "line": {
          "color": "#00AB8B",
          "width": 2
         },
         "mode": "lines",
         "name": "Montana",
         "text": [
          0.942,
          0.944,
          0.947,
          0.952,
          0.94,
          0.944,
          0.949,
          0.947,
          0.944,
          0.932
         ],
         "type": "scatter",
         "x": [
          2011,
          2012,
          2013,
          2014,
          2015,
          2016,
          2017,
          2018,
          2019,
          2020
         ],
         "y": [
          0.942,
          0.944,
          0.947,
          0.952,
          0.94,
          0.944,
          0.949,
          0.947,
          0.944,
          0.932
         ]
        },
        {
         "hovertemplate": "<b>%{text:.2f}%</b><brstate: %{name}<br>year: %{x}",
         "line": {
          "color": "#FEAF16",
          "width": 2
         },
         "mode": "lines",
         "name": "New Hampshire",
         "text": [
          0.949,
          0.946,
          0.951,
          0.947,
          0.944,
          0.936,
          0.937,
          0.94,
          0.942,
          0.939
         ],
         "type": "scatter",
         "x": [
          2011,
          2012,
          2013,
          2014,
          2015,
          2016,
          2017,
          2018,
          2019,
          2020
         ],
         "y": [
          0.949,
          0.946,
          0.951,
          0.947,
          0.944,
          0.936,
          0.937,
          0.94,
          0.942,
          0.939
         ]
        },
        {
         "hovertemplate": "<b>%{text:.2f}%</b><brstate: %{name}<br>year: %{x}",
         "line": {
          "color": "#00AB8B",
          "width": 2
         },
         "mode": "lines",
         "name": "North Dakota",
         "text": [
          0.942,
          0.93,
          0.933,
          0.945,
          0.934,
          0.942,
          0.935,
          0.932,
          0.938,
          0.928
         ],
         "type": "scatter",
         "x": [
          2011,
          2012,
          2013,
          2014,
          2015,
          2016,
          2017,
          2018,
          2019,
          2020
         ],
         "y": [
          0.942,
          0.93,
          0.933,
          0.945,
          0.934,
          0.942,
          0.935,
          0.932,
          0.938,
          0.928
         ]
        },
        {
         "hovertemplate": "<b>%{text:.2f}%</b><brstate: %{name}<br>year: %{x}",
         "line": {
          "color": "#00AB8B",
          "width": 2
         },
         "mode": "lines",
         "name": "Ohio",
         "text": [
          0.942,
          0.943,
          0.942,
          0.939,
          0.94,
          0.935,
          0.933,
          0.936,
          0.936,
          0.928
         ],
         "type": "scatter",
         "x": [
          2011,
          2012,
          2013,
          2014,
          2015,
          2016,
          2017,
          2018,
          2019,
          2020
         ],
         "y": [
          0.942,
          0.943,
          0.942,
          0.939,
          0.94,
          0.935,
          0.933,
          0.936,
          0.936,
          0.928
         ]
        },
        {
         "hovertemplate": "<b>%{text:.2f}%</b><brstate: %{name}<br>year: %{x}",
         "line": {
          "color": "#FEAF16",
          "width": 2
         },
         "mode": "lines",
         "name": "Utah",
         "text": [
          0.956,
          0.957,
          0.958,
          0.958,
          0.957,
          0.952,
          0.953,
          0.953,
          0.955,
          0.952
         ],
         "type": "scatter",
         "x": [
          2011,
          2012,
          2013,
          2014,
          2015,
          2016,
          2017,
          2018,
          2019,
          2020
         ],
         "y": [
          0.956,
          0.957,
          0.958,
          0.958,
          0.957,
          0.952,
          0.953,
          0.953,
          0.955,
          0.952
         ]
        },
        {
         "hovertemplate": "<b>%{text:.2f}%</b><brstate: %{name}<br>year: %{x}",
         "line": {
          "color": "#FEAF16",
          "width": 2
         },
         "mode": "lines",
         "name": "Vermont",
         "text": [
          0.953,
          0.945,
          0.946,
          0.948,
          0.953,
          0.946,
          0.941,
          0.944,
          0.945,
          0.935
         ],
         "type": "scatter",
         "x": [
          2011,
          2012,
          2013,
          2014,
          2015,
          2016,
          2017,
          2018,
          2019,
          2020
         ],
         "y": [
          0.953,
          0.945,
          0.946,
          0.948,
          0.953,
          0.946,
          0.941,
          0.944,
          0.945,
          0.935
         ]
        },
        {
         "hovertemplate": "<b>%{text:.2f}%</b><brstate: %{name}<br>year: %{x}",
         "line": {
          "color": "#FEAF16",
          "width": 2
         },
         "mode": "lines",
         "name": "Washington",
         "text": [
          0.949,
          0.946,
          0.949,
          0.948,
          0.949,
          0.947,
          0.946,
          0.948,
          0.949,
          0.942
         ],
         "type": "scatter",
         "x": [
          2011,
          2012,
          2013,
          2014,
          2015,
          2016,
          2017,
          2018,
          2019,
          2020
         ],
         "y": [
          0.949,
          0.946,
          0.949,
          0.948,
          0.949,
          0.947,
          0.946,
          0.948,
          0.949,
          0.942
         ]
        }
       ],
       "layout": {
        "template": {
         "data": {
          "bar": [
           {
            "error_x": {
             "color": "#2a3f5f"
            },
            "error_y": {
             "color": "#2a3f5f"
            },
            "marker": {
             "line": {
              "color": "#E5ECF6",
              "width": 0.5
             },
             "pattern": {
              "fillmode": "overlay",
              "size": 10,
              "solidity": 0.2
             }
            },
            "type": "bar"
           }
          ],
          "barpolar": [
           {
            "marker": {
             "line": {
              "color": "#E5ECF6",
              "width": 0.5
             },
             "pattern": {
              "fillmode": "overlay",
              "size": 10,
              "solidity": 0.2
             }
            },
            "type": "barpolar"
           }
          ],
          "carpet": [
           {
            "aaxis": {
             "endlinecolor": "#2a3f5f",
             "gridcolor": "white",
             "linecolor": "white",
             "minorgridcolor": "white",
             "startlinecolor": "#2a3f5f"
            },
            "baxis": {
             "endlinecolor": "#2a3f5f",
             "gridcolor": "white",
             "linecolor": "white",
             "minorgridcolor": "white",
             "startlinecolor": "#2a3f5f"
            },
            "type": "carpet"
           }
          ],
          "choropleth": [
           {
            "colorbar": {
             "outlinewidth": 0,
             "ticks": ""
            },
            "type": "choropleth"
           }
          ],
          "contour": [
           {
            "colorbar": {
             "outlinewidth": 0,
             "ticks": ""
            },
            "colorscale": [
             [
              0,
              "#0d0887"
             ],
             [
              0.1111111111111111,
              "#46039f"
             ],
             [
              0.2222222222222222,
              "#7201a8"
             ],
             [
              0.3333333333333333,
              "#9c179e"
             ],
             [
              0.4444444444444444,
              "#bd3786"
             ],
             [
              0.5555555555555556,
              "#d8576b"
             ],
             [
              0.6666666666666666,
              "#ed7953"
             ],
             [
              0.7777777777777778,
              "#fb9f3a"
             ],
             [
              0.8888888888888888,
              "#fdca26"
             ],
             [
              1,
              "#f0f921"
             ]
            ],
            "type": "contour"
           }
          ],
          "contourcarpet": [
           {
            "colorbar": {
             "outlinewidth": 0,
             "ticks": ""
            },
            "type": "contourcarpet"
           }
          ],
          "heatmap": [
           {
            "colorbar": {
             "outlinewidth": 0,
             "ticks": ""
            },
            "colorscale": [
             [
              0,
              "#0d0887"
             ],
             [
              0.1111111111111111,
              "#46039f"
             ],
             [
              0.2222222222222222,
              "#7201a8"
             ],
             [
              0.3333333333333333,
              "#9c179e"
             ],
             [
              0.4444444444444444,
              "#bd3786"
             ],
             [
              0.5555555555555556,
              "#d8576b"
             ],
             [
              0.6666666666666666,
              "#ed7953"
             ],
             [
              0.7777777777777778,
              "#fb9f3a"
             ],
             [
              0.8888888888888888,
              "#fdca26"
             ],
             [
              1,
              "#f0f921"
             ]
            ],
            "type": "heatmap"
           }
          ],
          "heatmapgl": [
           {
            "colorbar": {
             "outlinewidth": 0,
             "ticks": ""
            },
            "colorscale": [
             [
              0,
              "#0d0887"
             ],
             [
              0.1111111111111111,
              "#46039f"
             ],
             [
              0.2222222222222222,
              "#7201a8"
             ],
             [
              0.3333333333333333,
              "#9c179e"
             ],
             [
              0.4444444444444444,
              "#bd3786"
             ],
             [
              0.5555555555555556,
              "#d8576b"
             ],
             [
              0.6666666666666666,
              "#ed7953"
             ],
             [
              0.7777777777777778,
              "#fb9f3a"
             ],
             [
              0.8888888888888888,
              "#fdca26"
             ],
             [
              1,
              "#f0f921"
             ]
            ],
            "type": "heatmapgl"
           }
          ],
          "histogram": [
           {
            "marker": {
             "pattern": {
              "fillmode": "overlay",
              "size": 10,
              "solidity": 0.2
             }
            },
            "type": "histogram"
           }
          ],
          "histogram2d": [
           {
            "colorbar": {
             "outlinewidth": 0,
             "ticks": ""
            },
            "colorscale": [
             [
              0,
              "#0d0887"
             ],
             [
              0.1111111111111111,
              "#46039f"
             ],
             [
              0.2222222222222222,
              "#7201a8"
             ],
             [
              0.3333333333333333,
              "#9c179e"
             ],
             [
              0.4444444444444444,
              "#bd3786"
             ],
             [
              0.5555555555555556,
              "#d8576b"
             ],
             [
              0.6666666666666666,
              "#ed7953"
             ],
             [
              0.7777777777777778,
              "#fb9f3a"
             ],
             [
              0.8888888888888888,
              "#fdca26"
             ],
             [
              1,
              "#f0f921"
             ]
            ],
            "type": "histogram2d"
           }
          ],
          "histogram2dcontour": [
           {
            "colorbar": {
             "outlinewidth": 0,
             "ticks": ""
            },
            "colorscale": [
             [
              0,
              "#0d0887"
             ],
             [
              0.1111111111111111,
              "#46039f"
             ],
             [
              0.2222222222222222,
              "#7201a8"
             ],
             [
              0.3333333333333333,
              "#9c179e"
             ],
             [
              0.4444444444444444,
              "#bd3786"
             ],
             [
              0.5555555555555556,
              "#d8576b"
             ],
             [
              0.6666666666666666,
              "#ed7953"
             ],
             [
              0.7777777777777778,
              "#fb9f3a"
             ],
             [
              0.8888888888888888,
              "#fdca26"
             ],
             [
              1,
              "#f0f921"
             ]
            ],
            "type": "histogram2dcontour"
           }
          ],
          "mesh3d": [
           {
            "colorbar": {
             "outlinewidth": 0,
             "ticks": ""
            },
            "type": "mesh3d"
           }
          ],
          "parcoords": [
           {
            "line": {
             "colorbar": {
              "outlinewidth": 0,
              "ticks": ""
             }
            },
            "type": "parcoords"
           }
          ],
          "pie": [
           {
            "automargin": true,
            "type": "pie"
           }
          ],
          "scatter": [
           {
            "marker": {
             "colorbar": {
              "outlinewidth": 0,
              "ticks": ""
             }
            },
            "type": "scatter"
           }
          ],
          "scatter3d": [
           {
            "line": {
             "colorbar": {
              "outlinewidth": 0,
              "ticks": ""
             }
            },
            "marker": {
             "colorbar": {
              "outlinewidth": 0,
              "ticks": ""
             }
            },
            "type": "scatter3d"
           }
          ],
          "scattercarpet": [
           {
            "marker": {
             "colorbar": {
              "outlinewidth": 0,
              "ticks": ""
             }
            },
            "type": "scattercarpet"
           }
          ],
          "scattergeo": [
           {
            "marker": {
             "colorbar": {
              "outlinewidth": 0,
              "ticks": ""
             }
            },
            "type": "scattergeo"
           }
          ],
          "scattergl": [
           {
            "marker": {
             "colorbar": {
              "outlinewidth": 0,
              "ticks": ""
             }
            },
            "type": "scattergl"
           }
          ],
          "scattermapbox": [
           {
            "marker": {
             "colorbar": {
              "outlinewidth": 0,
              "ticks": ""
             }
            },
            "type": "scattermapbox"
           }
          ],
          "scatterpolar": [
           {
            "marker": {
             "colorbar": {
              "outlinewidth": 0,
              "ticks": ""
             }
            },
            "type": "scatterpolar"
           }
          ],
          "scatterpolargl": [
           {
            "marker": {
             "colorbar": {
              "outlinewidth": 0,
              "ticks": ""
             }
            },
            "type": "scatterpolargl"
           }
          ],
          "scatterternary": [
           {
            "marker": {
             "colorbar": {
              "outlinewidth": 0,
              "ticks": ""
             }
            },
            "type": "scatterternary"
           }
          ],
          "surface": [
           {
            "colorbar": {
             "outlinewidth": 0,
             "ticks": ""
            },
            "colorscale": [
             [
              0,
              "#0d0887"
             ],
             [
              0.1111111111111111,
              "#46039f"
             ],
             [
              0.2222222222222222,
              "#7201a8"
             ],
             [
              0.3333333333333333,
              "#9c179e"
             ],
             [
              0.4444444444444444,
              "#bd3786"
             ],
             [
              0.5555555555555556,
              "#d8576b"
             ],
             [
              0.6666666666666666,
              "#ed7953"
             ],
             [
              0.7777777777777778,
              "#fb9f3a"
             ],
             [
              0.8888888888888888,
              "#fdca26"
             ],
             [
              1,
              "#f0f921"
             ]
            ],
            "type": "surface"
           }
          ],
          "table": [
           {
            "cells": {
             "fill": {
              "color": "#EBF0F8"
             },
             "line": {
              "color": "white"
             }
            },
            "header": {
             "fill": {
              "color": "#C8D4E3"
             },
             "line": {
              "color": "white"
             }
            },
            "type": "table"
           }
          ]
         },
         "layout": {
          "annotationdefaults": {
           "arrowcolor": "#2a3f5f",
           "arrowhead": 0,
           "arrowwidth": 1
          },
          "autotypenumbers": "strict",
          "coloraxis": {
           "colorbar": {
            "outlinewidth": 0,
            "ticks": ""
           }
          },
          "colorscale": {
           "diverging": [
            [
             0,
             "#8e0152"
            ],
            [
             0.1,
             "#c51b7d"
            ],
            [
             0.2,
             "#de77ae"
            ],
            [
             0.3,
             "#f1b6da"
            ],
            [
             0.4,
             "#fde0ef"
            ],
            [
             0.5,
             "#f7f7f7"
            ],
            [
             0.6,
             "#e6f5d0"
            ],
            [
             0.7,
             "#b8e186"
            ],
            [
             0.8,
             "#7fbc41"
            ],
            [
             0.9,
             "#4d9221"
            ],
            [
             1,
             "#276419"
            ]
           ],
           "sequential": [
            [
             0,
             "#0d0887"
            ],
            [
             0.1111111111111111,
             "#46039f"
            ],
            [
             0.2222222222222222,
             "#7201a8"
            ],
            [
             0.3333333333333333,
             "#9c179e"
            ],
            [
             0.4444444444444444,
             "#bd3786"
            ],
            [
             0.5555555555555556,
             "#d8576b"
            ],
            [
             0.6666666666666666,
             "#ed7953"
            ],
            [
             0.7777777777777778,
             "#fb9f3a"
            ],
            [
             0.8888888888888888,
             "#fdca26"
            ],
            [
             1,
             "#f0f921"
            ]
           ],
           "sequentialminus": [
            [
             0,
             "#0d0887"
            ],
            [
             0.1111111111111111,
             "#46039f"
            ],
            [
             0.2222222222222222,
             "#7201a8"
            ],
            [
             0.3333333333333333,
             "#9c179e"
            ],
            [
             0.4444444444444444,
             "#bd3786"
            ],
            [
             0.5555555555555556,
             "#d8576b"
            ],
            [
             0.6666666666666666,
             "#ed7953"
            ],
            [
             0.7777777777777778,
             "#fb9f3a"
            ],
            [
             0.8888888888888888,
             "#fdca26"
            ],
            [
             1,
             "#f0f921"
            ]
           ]
          },
          "colorway": [
           "#636efa",
           "#EF553B",
           "#00cc96",
           "#ab63fa",
           "#FFA15A",
           "#19d3f3",
           "#FF6692",
           "#B6E880",
           "#FF97FF",
           "#FECB52"
          ],
          "font": {
           "color": "#2a3f5f"
          },
          "geo": {
           "bgcolor": "white",
           "lakecolor": "white",
           "landcolor": "#E5ECF6",
           "showlakes": true,
           "showland": true,
           "subunitcolor": "white"
          },
          "hoverlabel": {
           "align": "left"
          },
          "hovermode": "closest",
          "mapbox": {
           "style": "light"
          },
          "paper_bgcolor": "white",
          "plot_bgcolor": "#E5ECF6",
          "polar": {
           "angularaxis": {
            "gridcolor": "white",
            "linecolor": "white",
            "ticks": ""
           },
           "bgcolor": "#E5ECF6",
           "radialaxis": {
            "gridcolor": "white",
            "linecolor": "white",
            "ticks": ""
           }
          },
          "scene": {
           "xaxis": {
            "backgroundcolor": "#E5ECF6",
            "gridcolor": "white",
            "gridwidth": 2,
            "linecolor": "white",
            "showbackground": true,
            "ticks": "",
            "zerolinecolor": "white"
           },
           "yaxis": {
            "backgroundcolor": "#E5ECF6",
            "gridcolor": "white",
            "gridwidth": 2,
            "linecolor": "white",
            "showbackground": true,
            "ticks": "",
            "zerolinecolor": "white"
           },
           "zaxis": {
            "backgroundcolor": "#E5ECF6",
            "gridcolor": "white",
            "gridwidth": 2,
            "linecolor": "white",
            "showbackground": true,
            "ticks": "",
            "zerolinecolor": "white"
           }
          },
          "shapedefaults": {
           "line": {
            "color": "#2a3f5f"
           }
          },
          "ternary": {
           "aaxis": {
            "gridcolor": "white",
            "linecolor": "white",
            "ticks": ""
           },
           "baxis": {
            "gridcolor": "white",
            "linecolor": "white",
            "ticks": ""
           },
           "bgcolor": "#E5ECF6",
           "caxis": {
            "gridcolor": "white",
            "linecolor": "white",
            "ticks": ""
           }
          },
          "title": {
           "x": 0.05
          },
          "xaxis": {
           "automargin": true,
           "gridcolor": "white",
           "linecolor": "white",
           "ticks": "",
           "title": {
            "standoff": 15
           },
           "zerolinecolor": "white",
           "zerolinewidth": 2
          },
          "yaxis": {
           "automargin": true,
           "gridcolor": "white",
           "linecolor": "white",
           "ticks": "",
           "title": {
            "standoff": 15
           },
           "zerolinecolor": "white",
           "zerolinewidth": 2
          }
         }
        },
        "title": {
         "text": "life_exp_m_f"
        },
        "xaxis": {
         "title": {
          "text": "year"
         }
        },
        "yaxis": {
         "title": {
          "text": "life_exp_m_f"
         }
        }
       }
      }
     },
     "metadata": {},
     "output_type": "display_data"
    }
   ],
   "source": [
    "import_feat = ['state_legislature','mngmt_job_wage_gap','rape_rate','life_exp_m_f','abortion_rate']\n",
    "\n",
    "# Calculate the rank percentage for each state in 2011\n",
    "df['pct_rank'] = df[df['year'] == 2011]['life_exp_m_f'].rank(pct=True)\n",
    "\n",
    "# Divide states into three groups based on rank percentage\n",
    "df['group'] = pd.cut(df['pct_rank'], bins=[0, 0.1, 0.45, 0.55, 0.9, 1.0], labels=[r'前10%', r'10%-45%', r'45%-55%', r'55%-90%', r'后10%'])\n",
    "\n",
    "# Process each state's data individually and store it in a dictionary\n",
    "states_data = {}\n",
    "for state, data in df.groupby('state'):\n",
    "    # Sort the data by year\n",
    "    data = data.sort_values('year')\n",
    "    # Construct Plotly's Trace object\n",
    "    trace = go.Scatter(\n",
    "        x=data['year'],\n",
    "        y=data['life_exp_m_f'],\n",
    "        name=state,\n",
    "        line=dict(width=2),\n",
    "        mode='lines',\n",
    "        text=data['life_exp_m_f'],\n",
    "        hovertemplate='<b>%{text:.2f}%</b><brstate: %{name}<br>year: %{x}'\n",
    "    )\n",
    "    # Assign the corresponding color according to which group the state belongs to\n",
    "    if r'前10%' in data['group'].unique():\n",
    "        \n",
    "        trace.update(line=dict(color='#750D86'))\n",
    "        states_data[state] = trace\n",
    "\n",
    "    elif r'后10%' in data['group'].unique():\n",
    "        trace.update(line=dict(color='#FEAF16'))\n",
    "        states_data[state] = trace\n",
    "\n",
    "    elif r'45%-55%' in data['group'].unique():\n",
    "        trace.update(line=dict(color='#00AB8B'))\n",
    "        states_data[state] = trace\n",
    "\n",
    "    # Store a Trace object for each state\n",
    "\n",
    "# Construct Plotly's Figure object\n",
    "fig = go.Figure(list(states_data.values()))\n",
    "\n",
    "# Add a chart title and axis labels\n",
    "fig.update_layout(title='life_exp_m_f',\n",
    "                xaxis_title='year',\n",
    "                yaxis_title='life_exp_m_f')\n",
    "\n",
    "# show chart\n",
    "fig.show()"
   ]
  },
  {
   "cell_type": "code",
   "execution_count": 26,
   "metadata": {},
   "outputs": [
    {
     "data": {
      "application/vnd.plotly.v1+json": {
       "config": {
        "plotlyServerURL": "https://plot.ly"
       },
       "data": [
        {
         "hovertemplate": "<b>%{text:.2f}%</b><brstate: %{name}<br>year: %{x}",
         "line": {
          "color": "#750D86",
          "width": 2
         },
         "mode": "lines",
         "name": "California",
         "text": [
          17.812,
          18.536,
          17.639,
          17.369,
          15.011,
          15.651,
          17.12,
          16.847,
          18.703,
          16.075
         ],
         "type": "scatter",
         "x": [
          2011,
          2012,
          2013,
          2014,
          2015,
          2016,
          2017,
          2018,
          2019,
          2020
         ],
         "y": [
          17.812,
          18.536,
          17.639,
          17.369,
          15.011,
          15.651,
          17.12,
          16.847,
          18.703,
          16.075
         ]
        },
        {
         "hovertemplate": "<b>%{text:.2f}%</b><brstate: %{name}<br>year: %{x}",
         "line": {
          "color": "#00AB8B",
          "width": 2
         },
         "mode": "lines",
         "name": "Colorado",
         "text": [
          218.898,
          201.708,
          189.257,
          190.632,
          195.354,
          182.589,
          148.488,
          157.697,
          156.319,
          170.6
         ],
         "type": "scatter",
         "x": [
          2011,
          2012,
          2013,
          2014,
          2015,
          2016,
          2017,
          2018,
          2019,
          2020
         ],
         "y": [
          218.898,
          201.708,
          189.257,
          190.632,
          195.354,
          182.589,
          148.488,
          157.697,
          156.319,
          170.6
         ]
        },
        {
         "hovertemplate": "<b>%{text:.2f}%</b><brstate: %{name}<br>year: %{x}",
         "line": {
          "color": "#FEAF16",
          "width": 2
         },
         "mode": "lines",
         "name": "Delaware",
         "text": [
          514.227,
          414.564,
          413.935,
          326.224,
          312.031,
          293.491,
          226.792,
          180.221,
          209.702,
          229.913
         ],
         "type": "scatter",
         "x": [
          2011,
          2012,
          2013,
          2014,
          2015,
          2016,
          2017,
          2018,
          2019,
          2020
         ],
         "y": [
          514.227,
          414.564,
          413.935,
          326.224,
          312.031,
          293.491,
          226.792,
          180.221,
          209.702,
          229.913
         ]
        },
        {
         "hovertemplate": "<b>%{text:.2f}%</b><brstate: %{name}<br>year: %{x}",
         "line": {
          "color": "#FEAF16",
          "width": 2
         },
         "mode": "lines",
         "name": "Florida",
         "text": [
          419.393,
          399.869,
          389.606,
          366.458,
          356.806,
          349.398,
          332.815,
          330.625,
          334.83,
          346.778
         ],
         "type": "scatter",
         "x": [
          2011,
          2012,
          2013,
          2014,
          2015,
          2016,
          2017,
          2018,
          2019,
          2020
         ],
         "y": [
          419.393,
          399.869,
          389.606,
          366.458,
          356.806,
          349.398,
          332.815,
          330.625,
          334.83,
          346.778
         ]
        },
        {
         "hovertemplate": "<b>%{text:.2f}%</b><brstate: %{name}<br>year: %{x}",
         "line": {
          "color": "#00AB8B",
          "width": 2
         },
         "mode": "lines",
         "name": "Hawaii",
         "text": [
          222.137,
          191.496,
          200.534,
          139.056,
          150.979,
          141.921,
          179.304,
          149.304,
          141.468,
          124.669
         ],
         "type": "scatter",
         "x": [
          2011,
          2012,
          2013,
          2014,
          2015,
          2016,
          2017,
          2018,
          2019,
          2020
         ],
         "y": [
          222.137,
          191.496,
          200.534,
          139.056,
          150.979,
          141.921,
          179.304,
          149.304,
          141.468,
          124.669
         ]
        },
        {
         "hovertemplate": "<b>%{text:.2f}%</b><brstate: %{name}<br>year: %{x}",
         "line": {
          "color": "#750D86",
          "width": 2
         },
         "mode": "lines",
         "name": "Idaho",
         "text": [
          95.334,
          90.264,
          90.491,
          84.298,
          81.947,
          75.607,
          75.042,
          71.807,
          84.664,
          90.85
         ],
         "type": "scatter",
         "x": [
          2011,
          2012,
          2013,
          2014,
          2015,
          2016,
          2017,
          2018,
          2019,
          2020
         ],
         "y": [
          95.334,
          90.264,
          90.491,
          84.298,
          81.947,
          75.607,
          75.042,
          71.807,
          84.664,
          90.85
         ]
        },
        {
         "hovertemplate": "<b>%{text:.2f}%</b><brstate: %{name}<br>year: %{x}",
         "line": {
          "color": "#750D86",
          "width": 2
         },
         "mode": "lines",
         "name": "Kentucky",
         "text": [
          89.912,
          90.212,
          86.499,
          82.39,
          77.768,
          71.831,
          74.389,
          71.798,
          82.011,
          91.049
         ],
         "type": "scatter",
         "x": [
          2011,
          2012,
          2013,
          2014,
          2015,
          2016,
          2017,
          2018,
          2019,
          2020
         ],
         "y": [
          89.912,
          90.212,
          86.499,
          82.39,
          77.768,
          71.831,
          74.389,
          71.798,
          82.011,
          91.049
         ]
        },
        {
         "hovertemplate": "<b>%{text:.2f}%</b><brstate: %{name}<br>year: %{x}",
         "line": {
          "color": "#00AB8B",
          "width": 2
         },
         "mode": "lines",
         "name": "Minnesota",
         "text": [
          215.202,
          205.891,
          197.673,
          181.689,
          184.658,
          178.553,
          179.96,
          53.601,
          176.253,
          181.248
         ],
         "type": "scatter",
         "x": [
          2011,
          2012,
          2013,
          2014,
          2015,
          2016,
          2017,
          2018,
          2019,
          2020
         ],
         "y": [
          215.202,
          205.891,
          197.673,
          181.689,
          184.658,
          178.553,
          179.96,
          53.601,
          176.253,
          181.248
         ]
        },
        {
         "hovertemplate": "<b>%{text:.2f}%</b><brstate: %{name}<br>year: %{x}",
         "line": {
          "color": "#750D86",
          "width": 2
         },
         "mode": "lines",
         "name": "Mississippi",
         "text": [
          77.113,
          74.535,
          72.807,
          72.564,
          77.063,
          87.452,
          85.963,
          496.072,
          107.32,
          120.312
         ],
         "type": "scatter",
         "x": [
          2011,
          2012,
          2013,
          2014,
          2015,
          2016,
          2017,
          2018,
          2019,
          2020
         ],
         "y": [
          77.113,
          74.535,
          72.807,
          72.564,
          77.063,
          87.452,
          85.963,
          496.072,
          107.32,
          120.312
         ]
        },
        {
         "hovertemplate": "<b>%{text:.2f}%</b><brstate: %{name}<br>year: %{x}",
         "line": {
          "color": "#00AB8B",
          "width": 2
         },
         "mode": "lines",
         "name": "Montana",
         "text": [
          216.581,
          213.891,
          200.381,
          180.258,
          164.002,
          154.776,
          153.732,
          157.826,
          146.71,
          154.083
         ],
         "type": "scatter",
         "x": [
          2011,
          2012,
          2013,
          2014,
          2015,
          2016,
          2017,
          2018,
          2019,
          2020
         ],
         "y": [
          216.581,
          213.891,
          200.381,
          180.258,
          164.002,
          154.776,
          153.732,
          157.826,
          146.71,
          154.083
         ]
        },
        {
         "hovertemplate": "<b>%{text:.2f}%</b><brstate: %{name}<br>year: %{x}",
         "line": {
          "color": "#FEAF16",
          "width": 2
         },
         "mode": "lines",
         "name": "New Hampshire",
         "text": [
          938.038,
          1040.905,
          1392.635,
          1115.694,
          963.296,
          1451.903,
          1212.719,
          1694.613,
          618.808,
          1666.344
         ],
         "type": "scatter",
         "x": [
          2011,
          2012,
          2013,
          2014,
          2015,
          2016,
          2017,
          2018,
          2019,
          2020
         ],
         "y": [
          938.038,
          1040.905,
          1392.635,
          1115.694,
          963.296,
          1451.903,
          1212.719,
          1694.613,
          618.808,
          1666.344
         ]
        },
        {
         "hovertemplate": "<b>%{text:.2f}%</b><brstate: %{name}<br>year: %{x}",
         "line": {
          "color": "#00AB8B",
          "width": 2
         },
         "mode": "lines",
         "name": "New Mexico",
         "text": [
          229.71,
          195.611,
          168.095,
          200.903,
          215.384,
          223.223,
          218.617,
          3700.745,
          187.998,
          2980.66
         ],
         "type": "scatter",
         "x": [
          2011,
          2012,
          2013,
          2014,
          2015,
          2016,
          2017,
          2018,
          2019,
          2020
         ],
         "y": [
          229.71,
          195.611,
          168.095,
          200.903,
          215.384,
          223.223,
          218.617,
          3700.745,
          187.998,
          2980.66
         ]
        },
        {
         "hovertemplate": "<b>%{text:.2f}%</b><brstate: %{name}<br>year: %{x}",
         "line": {
          "color": "#FEAF16",
          "width": 2
         },
         "mode": "lines",
         "name": "New York",
         "text": [
          593.48,
          568.622,
          531.837,
          498.935,
          492.051,
          474.171,
          445.773,
          70.393,
          403.972,
          77.784
         ],
         "type": "scatter",
         "x": [
          2011,
          2012,
          2013,
          2014,
          2015,
          2016,
          2017,
          2018,
          2019,
          2020
         ],
         "y": [
          593.48,
          568.622,
          531.837,
          498.935,
          492.051,
          474.171,
          445.773,
          70.393,
          403.972,
          77.784
         ]
        },
        {
         "hovertemplate": "<b>%{text:.2f}%</b><brstate: %{name}<br>year: %{x}",
         "line": {
          "color": "#FEAF16",
          "width": 2
         },
         "mode": "lines",
         "name": "Rhode Island",
         "text": [
          396.811,
          394.929,
          336.372,
          307.879,
          283.127,
          250.669,
          234.827,
          266.185,
          198.138,
          238.155
         ],
         "type": "scatter",
         "x": [
          2011,
          2012,
          2013,
          2014,
          2015,
          2016,
          2017,
          2018,
          2019,
          2020
         ],
         "y": [
          396.811,
          394.929,
          336.372,
          307.879,
          283.127,
          250.669,
          234.827,
          266.185,
          198.138,
          238.155
         ]
        },
        {
         "hovertemplate": "<b>%{text:.2f}%</b><brstate: %{name}<br>year: %{x}",
         "line": {
          "color": "#750D86",
          "width": 2
         },
         "mode": "lines",
         "name": "South Dakota",
         "text": [
          89.487,
          71.62,
          75.269,
          70.778,
          64.521,
          51.449,
          54.075,
          43.473,
          46.798,
          14.08
         ],
         "type": "scatter",
         "x": [
          2011,
          2012,
          2013,
          2014,
          2015,
          2016,
          2017,
          2018,
          2019,
          2020
         ],
         "y": [
          89.487,
          71.62,
          75.269,
          70.778,
          64.521,
          51.449,
          54.075,
          43.473,
          46.798,
          14.08
         ]
        }
       ],
       "layout": {
        "template": {
         "data": {
          "bar": [
           {
            "error_x": {
             "color": "#2a3f5f"
            },
            "error_y": {
             "color": "#2a3f5f"
            },
            "marker": {
             "line": {
              "color": "#E5ECF6",
              "width": 0.5
             },
             "pattern": {
              "fillmode": "overlay",
              "size": 10,
              "solidity": 0.2
             }
            },
            "type": "bar"
           }
          ],
          "barpolar": [
           {
            "marker": {
             "line": {
              "color": "#E5ECF6",
              "width": 0.5
             },
             "pattern": {
              "fillmode": "overlay",
              "size": 10,
              "solidity": 0.2
             }
            },
            "type": "barpolar"
           }
          ],
          "carpet": [
           {
            "aaxis": {
             "endlinecolor": "#2a3f5f",
             "gridcolor": "white",
             "linecolor": "white",
             "minorgridcolor": "white",
             "startlinecolor": "#2a3f5f"
            },
            "baxis": {
             "endlinecolor": "#2a3f5f",
             "gridcolor": "white",
             "linecolor": "white",
             "minorgridcolor": "white",
             "startlinecolor": "#2a3f5f"
            },
            "type": "carpet"
           }
          ],
          "choropleth": [
           {
            "colorbar": {
             "outlinewidth": 0,
             "ticks": ""
            },
            "type": "choropleth"
           }
          ],
          "contour": [
           {
            "colorbar": {
             "outlinewidth": 0,
             "ticks": ""
            },
            "colorscale": [
             [
              0,
              "#0d0887"
             ],
             [
              0.1111111111111111,
              "#46039f"
             ],
             [
              0.2222222222222222,
              "#7201a8"
             ],
             [
              0.3333333333333333,
              "#9c179e"
             ],
             [
              0.4444444444444444,
              "#bd3786"
             ],
             [
              0.5555555555555556,
              "#d8576b"
             ],
             [
              0.6666666666666666,
              "#ed7953"
             ],
             [
              0.7777777777777778,
              "#fb9f3a"
             ],
             [
              0.8888888888888888,
              "#fdca26"
             ],
             [
              1,
              "#f0f921"
             ]
            ],
            "type": "contour"
           }
          ],
          "contourcarpet": [
           {
            "colorbar": {
             "outlinewidth": 0,
             "ticks": ""
            },
            "type": "contourcarpet"
           }
          ],
          "heatmap": [
           {
            "colorbar": {
             "outlinewidth": 0,
             "ticks": ""
            },
            "colorscale": [
             [
              0,
              "#0d0887"
             ],
             [
              0.1111111111111111,
              "#46039f"
             ],
             [
              0.2222222222222222,
              "#7201a8"
             ],
             [
              0.3333333333333333,
              "#9c179e"
             ],
             [
              0.4444444444444444,
              "#bd3786"
             ],
             [
              0.5555555555555556,
              "#d8576b"
             ],
             [
              0.6666666666666666,
              "#ed7953"
             ],
             [
              0.7777777777777778,
              "#fb9f3a"
             ],
             [
              0.8888888888888888,
              "#fdca26"
             ],
             [
              1,
              "#f0f921"
             ]
            ],
            "type": "heatmap"
           }
          ],
          "heatmapgl": [
           {
            "colorbar": {
             "outlinewidth": 0,
             "ticks": ""
            },
            "colorscale": [
             [
              0,
              "#0d0887"
             ],
             [
              0.1111111111111111,
              "#46039f"
             ],
             [
              0.2222222222222222,
              "#7201a8"
             ],
             [
              0.3333333333333333,
              "#9c179e"
             ],
             [
              0.4444444444444444,
              "#bd3786"
             ],
             [
              0.5555555555555556,
              "#d8576b"
             ],
             [
              0.6666666666666666,
              "#ed7953"
             ],
             [
              0.7777777777777778,
              "#fb9f3a"
             ],
             [
              0.8888888888888888,
              "#fdca26"
             ],
             [
              1,
              "#f0f921"
             ]
            ],
            "type": "heatmapgl"
           }
          ],
          "histogram": [
           {
            "marker": {
             "pattern": {
              "fillmode": "overlay",
              "size": 10,
              "solidity": 0.2
             }
            },
            "type": "histogram"
           }
          ],
          "histogram2d": [
           {
            "colorbar": {
             "outlinewidth": 0,
             "ticks": ""
            },
            "colorscale": [
             [
              0,
              "#0d0887"
             ],
             [
              0.1111111111111111,
              "#46039f"
             ],
             [
              0.2222222222222222,
              "#7201a8"
             ],
             [
              0.3333333333333333,
              "#9c179e"
             ],
             [
              0.4444444444444444,
              "#bd3786"
             ],
             [
              0.5555555555555556,
              "#d8576b"
             ],
             [
              0.6666666666666666,
              "#ed7953"
             ],
             [
              0.7777777777777778,
              "#fb9f3a"
             ],
             [
              0.8888888888888888,
              "#fdca26"
             ],
             [
              1,
              "#f0f921"
             ]
            ],
            "type": "histogram2d"
           }
          ],
          "histogram2dcontour": [
           {
            "colorbar": {
             "outlinewidth": 0,
             "ticks": ""
            },
            "colorscale": [
             [
              0,
              "#0d0887"
             ],
             [
              0.1111111111111111,
              "#46039f"
             ],
             [
              0.2222222222222222,
              "#7201a8"
             ],
             [
              0.3333333333333333,
              "#9c179e"
             ],
             [
              0.4444444444444444,
              "#bd3786"
             ],
             [
              0.5555555555555556,
              "#d8576b"
             ],
             [
              0.6666666666666666,
              "#ed7953"
             ],
             [
              0.7777777777777778,
              "#fb9f3a"
             ],
             [
              0.8888888888888888,
              "#fdca26"
             ],
             [
              1,
              "#f0f921"
             ]
            ],
            "type": "histogram2dcontour"
           }
          ],
          "mesh3d": [
           {
            "colorbar": {
             "outlinewidth": 0,
             "ticks": ""
            },
            "type": "mesh3d"
           }
          ],
          "parcoords": [
           {
            "line": {
             "colorbar": {
              "outlinewidth": 0,
              "ticks": ""
             }
            },
            "type": "parcoords"
           }
          ],
          "pie": [
           {
            "automargin": true,
            "type": "pie"
           }
          ],
          "scatter": [
           {
            "marker": {
             "colorbar": {
              "outlinewidth": 0,
              "ticks": ""
             }
            },
            "type": "scatter"
           }
          ],
          "scatter3d": [
           {
            "line": {
             "colorbar": {
              "outlinewidth": 0,
              "ticks": ""
             }
            },
            "marker": {
             "colorbar": {
              "outlinewidth": 0,
              "ticks": ""
             }
            },
            "type": "scatter3d"
           }
          ],
          "scattercarpet": [
           {
            "marker": {
             "colorbar": {
              "outlinewidth": 0,
              "ticks": ""
             }
            },
            "type": "scattercarpet"
           }
          ],
          "scattergeo": [
           {
            "marker": {
             "colorbar": {
              "outlinewidth": 0,
              "ticks": ""
             }
            },
            "type": "scattergeo"
           }
          ],
          "scattergl": [
           {
            "marker": {
             "colorbar": {
              "outlinewidth": 0,
              "ticks": ""
             }
            },
            "type": "scattergl"
           }
          ],
          "scattermapbox": [
           {
            "marker": {
             "colorbar": {
              "outlinewidth": 0,
              "ticks": ""
             }
            },
            "type": "scattermapbox"
           }
          ],
          "scatterpolar": [
           {
            "marker": {
             "colorbar": {
              "outlinewidth": 0,
              "ticks": ""
             }
            },
            "type": "scatterpolar"
           }
          ],
          "scatterpolargl": [
           {
            "marker": {
             "colorbar": {
              "outlinewidth": 0,
              "ticks": ""
             }
            },
            "type": "scatterpolargl"
           }
          ],
          "scatterternary": [
           {
            "marker": {
             "colorbar": {
              "outlinewidth": 0,
              "ticks": ""
             }
            },
            "type": "scatterternary"
           }
          ],
          "surface": [
           {
            "colorbar": {
             "outlinewidth": 0,
             "ticks": ""
            },
            "colorscale": [
             [
              0,
              "#0d0887"
             ],
             [
              0.1111111111111111,
              "#46039f"
             ],
             [
              0.2222222222222222,
              "#7201a8"
             ],
             [
              0.3333333333333333,
              "#9c179e"
             ],
             [
              0.4444444444444444,
              "#bd3786"
             ],
             [
              0.5555555555555556,
              "#d8576b"
             ],
             [
              0.6666666666666666,
              "#ed7953"
             ],
             [
              0.7777777777777778,
              "#fb9f3a"
             ],
             [
              0.8888888888888888,
              "#fdca26"
             ],
             [
              1,
              "#f0f921"
             ]
            ],
            "type": "surface"
           }
          ],
          "table": [
           {
            "cells": {
             "fill": {
              "color": "#EBF0F8"
             },
             "line": {
              "color": "white"
             }
            },
            "header": {
             "fill": {
              "color": "#C8D4E3"
             },
             "line": {
              "color": "white"
             }
            },
            "type": "table"
           }
          ]
         },
         "layout": {
          "annotationdefaults": {
           "arrowcolor": "#2a3f5f",
           "arrowhead": 0,
           "arrowwidth": 1
          },
          "autotypenumbers": "strict",
          "coloraxis": {
           "colorbar": {
            "outlinewidth": 0,
            "ticks": ""
           }
          },
          "colorscale": {
           "diverging": [
            [
             0,
             "#8e0152"
            ],
            [
             0.1,
             "#c51b7d"
            ],
            [
             0.2,
             "#de77ae"
            ],
            [
             0.3,
             "#f1b6da"
            ],
            [
             0.4,
             "#fde0ef"
            ],
            [
             0.5,
             "#f7f7f7"
            ],
            [
             0.6,
             "#e6f5d0"
            ],
            [
             0.7,
             "#b8e186"
            ],
            [
             0.8,
             "#7fbc41"
            ],
            [
             0.9,
             "#4d9221"
            ],
            [
             1,
             "#276419"
            ]
           ],
           "sequential": [
            [
             0,
             "#0d0887"
            ],
            [
             0.1111111111111111,
             "#46039f"
            ],
            [
             0.2222222222222222,
             "#7201a8"
            ],
            [
             0.3333333333333333,
             "#9c179e"
            ],
            [
             0.4444444444444444,
             "#bd3786"
            ],
            [
             0.5555555555555556,
             "#d8576b"
            ],
            [
             0.6666666666666666,
             "#ed7953"
            ],
            [
             0.7777777777777778,
             "#fb9f3a"
            ],
            [
             0.8888888888888888,
             "#fdca26"
            ],
            [
             1,
             "#f0f921"
            ]
           ],
           "sequentialminus": [
            [
             0,
             "#0d0887"
            ],
            [
             0.1111111111111111,
             "#46039f"
            ],
            [
             0.2222222222222222,
             "#7201a8"
            ],
            [
             0.3333333333333333,
             "#9c179e"
            ],
            [
             0.4444444444444444,
             "#bd3786"
            ],
            [
             0.5555555555555556,
             "#d8576b"
            ],
            [
             0.6666666666666666,
             "#ed7953"
            ],
            [
             0.7777777777777778,
             "#fb9f3a"
            ],
            [
             0.8888888888888888,
             "#fdca26"
            ],
            [
             1,
             "#f0f921"
            ]
           ]
          },
          "colorway": [
           "#636efa",
           "#EF553B",
           "#00cc96",
           "#ab63fa",
           "#FFA15A",
           "#19d3f3",
           "#FF6692",
           "#B6E880",
           "#FF97FF",
           "#FECB52"
          ],
          "font": {
           "color": "#2a3f5f"
          },
          "geo": {
           "bgcolor": "white",
           "lakecolor": "white",
           "landcolor": "#E5ECF6",
           "showlakes": true,
           "showland": true,
           "subunitcolor": "white"
          },
          "hoverlabel": {
           "align": "left"
          },
          "hovermode": "closest",
          "mapbox": {
           "style": "light"
          },
          "paper_bgcolor": "white",
          "plot_bgcolor": "#E5ECF6",
          "polar": {
           "angularaxis": {
            "gridcolor": "white",
            "linecolor": "white",
            "ticks": ""
           },
           "bgcolor": "#E5ECF6",
           "radialaxis": {
            "gridcolor": "white",
            "linecolor": "white",
            "ticks": ""
           }
          },
          "scene": {
           "xaxis": {
            "backgroundcolor": "#E5ECF6",
            "gridcolor": "white",
            "gridwidth": 2,
            "linecolor": "white",
            "showbackground": true,
            "ticks": "",
            "zerolinecolor": "white"
           },
           "yaxis": {
            "backgroundcolor": "#E5ECF6",
            "gridcolor": "white",
            "gridwidth": 2,
            "linecolor": "white",
            "showbackground": true,
            "ticks": "",
            "zerolinecolor": "white"
           },
           "zaxis": {
            "backgroundcolor": "#E5ECF6",
            "gridcolor": "white",
            "gridwidth": 2,
            "linecolor": "white",
            "showbackground": true,
            "ticks": "",
            "zerolinecolor": "white"
           }
          },
          "shapedefaults": {
           "line": {
            "color": "#2a3f5f"
           }
          },
          "ternary": {
           "aaxis": {
            "gridcolor": "white",
            "linecolor": "white",
            "ticks": ""
           },
           "baxis": {
            "gridcolor": "white",
            "linecolor": "white",
            "ticks": ""
           },
           "bgcolor": "#E5ECF6",
           "caxis": {
            "gridcolor": "white",
            "linecolor": "white",
            "ticks": ""
           }
          },
          "title": {
           "x": 0.05
          },
          "xaxis": {
           "automargin": true,
           "gridcolor": "white",
           "linecolor": "white",
           "ticks": "",
           "title": {
            "standoff": 15
           },
           "zerolinecolor": "white",
           "zerolinewidth": 2
          },
          "yaxis": {
           "automargin": true,
           "gridcolor": "white",
           "linecolor": "white",
           "ticks": "",
           "title": {
            "standoff": 15
           },
           "zerolinecolor": "white",
           "zerolinewidth": 2
          }
         }
        },
        "title": {
         "text": "abortion_rate"
        },
        "xaxis": {
         "title": {
          "text": "year"
         }
        },
        "yaxis": {
         "title": {
          "text": "abortion_rate"
         }
        }
       }
      }
     },
     "metadata": {},
     "output_type": "display_data"
    }
   ],
   "source": [
    "import_feat = ['state_legislature','mngmt_job_wage_gap','rape_rate','life_exp_m_f','abortion_rate']\n",
    "\n",
    "# Calculate the rank percentage for each state in 2011\n",
    "df['pct_rank'] = df[df['year'] == 2011]['abortion_rate'].rank(pct=True)\n",
    "\n",
    "# Divide states into three groups based on rank percentage\n",
    "df['group'] = pd.cut(df['pct_rank'], bins=[0, 0.1, 0.45, 0.55, 0.9, 1.0], labels=[r'前10%', r'10%-45%', r'45%-55%', r'55%-90%', r'后10%'])\n",
    "\n",
    "# Process each state's data individually and store it in a dictionary\n",
    "states_data = {}\n",
    "for state, data in df.groupby('state'):\n",
    "    # Sort the data by year\n",
    "    data = data.sort_values('year')\n",
    "    # Construct Plotly's Trace object\n",
    "    trace = go.Scatter(\n",
    "        x=data['year'],\n",
    "        y=data['abortion_rate'],\n",
    "        name=state,\n",
    "        line=dict(width=2),\n",
    "        mode='lines',\n",
    "        text=data['abortion_rate'],\n",
    "        hovertemplate='<b>%{text:.2f}%</b><brstate: %{name}<br>year: %{x}'\n",
    "    )\n",
    "    # Assign the corresponding color according to which group the state belongs to\n",
    "    if r'前10%' in data['group'].unique():\n",
    "        \n",
    "        trace.update(line=dict(color='#750D86'))\n",
    "        states_data[state] = trace\n",
    "\n",
    "    elif r'后10%' in data['group'].unique():\n",
    "        trace.update(line=dict(color='#FEAF16'))\n",
    "        states_data[state] = trace\n",
    "\n",
    "    elif r'45%-55%' in data['group'].unique():\n",
    "        trace.update(line=dict(color='#00AB8B'))\n",
    "        states_data[state] = trace\n",
    "\n",
    "    # Store a Trace object for each state\n",
    "\n",
    "# Construct Plotly's Figure object\n",
    "fig = go.Figure(list(states_data.values()))\n",
    "\n",
    "# Add a chart title and axis labels\n",
    "fig.update_layout(title='abortion_rate',\n",
    "                xaxis_title='year',\n",
    "                yaxis_title='abortion_rate')\n",
    "\n",
    "# show chart\n",
    "fig.show()"
   ]
  },
  {
   "cell_type": "code",
   "execution_count": null,
   "metadata": {},
   "outputs": [],
   "source": []
  }
 ],
 "metadata": {
  "kernelspec": {
   "display_name": "base",
   "language": "python",
   "name": "python3"
  },
  "language_info": {
   "codemirror_mode": {
    "name": "ipython",
    "version": 3
   },
   "file_extension": ".py",
   "mimetype": "text/x-python",
   "name": "python",
   "nbconvert_exporter": "python",
   "pygments_lexer": "ipython3",
   "version": "3.9.12"
  },
  "orig_nbformat": 4,
  "vscode": {
   "interpreter": {
    "hash": "f99bd5507e10e6801d18740d7046de883c384b0aaf8418cc771addfde98424f1"
   }
  }
 },
 "nbformat": 4,
 "nbformat_minor": 2
}
