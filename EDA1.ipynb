{
 "cells": [
  {
   "cell_type": "code",
   "execution_count": 130,
   "metadata": {},
   "outputs": [],
   "source": [
    "import pandas as pd\n",
    "\n",
    "import numpy as np\n",
    "import matplotlib.pyplot as plt\n",
    "import seaborn as sns\n",
    "sns.set_style('whitegrid')\n",
    "%matplotlib inline\n",
    "\n",
    "from sklearn.linear_model import LogisticRegression\n",
    "from sklearn.model_selection import cross_val_score\n",
    "from sklearn import metrics\n",
    "from collections import Counter\n",
    "import pandas as pd\n",
    "import numpy as np\n",
    "import matplotlib.pyplot as plt\n",
    "%matplotlib inline\n",
    "from matplotlib.pylab import rcParams\n",
    "rcParams['figure.figsize']=20,10\n",
    "\n",
    "from sklearn.preprocessing import MinMaxScaler"
   ]
  },
  {
   "cell_type": "code",
   "execution_count": 131,
   "metadata": {},
   "outputs": [],
   "source": [
    "df = pd.read_csv(\"all_data.csv\", encoding='utf-8')\n",
    "# get data csv files as a pandas DataFrame"
   ]
  },
  {
   "cell_type": "code",
   "execution_count": 132,
   "metadata": {},
   "outputs": [
    {
     "data": {
      "text/html": [
       "<div>\n",
       "<style scoped>\n",
       "    .dataframe tbody tr th:only-of-type {\n",
       "        vertical-align: middle;\n",
       "    }\n",
       "\n",
       "    .dataframe tbody tr th {\n",
       "        vertical-align: top;\n",
       "    }\n",
       "\n",
       "    .dataframe thead th {\n",
       "        text-align: right;\n",
       "    }\n",
       "</style>\n",
       "<table border=\"1\" class=\"dataframe\">\n",
       "  <thead>\n",
       "    <tr style=\"text-align: right;\">\n",
       "      <th></th>\n",
       "      <th>state</th>\n",
       "      <th>education</th>\n",
       "      <th>year</th>\n",
       "      <th>state_legislature</th>\n",
       "      <th>governor</th>\n",
       "      <th>lt_governor</th>\n",
       "      <th>labour_force_participation</th>\n",
       "      <th>mngmt_job_wage_gap</th>\n",
       "      <th>bachelor_wage_gap</th>\n",
       "      <th>ab_legality</th>\n",
       "      <th>rape_rate</th>\n",
       "      <th>sex_ratio_birth</th>\n",
       "      <th>abortion_rate</th>\n",
       "      <th>life_exp_f_m</th>\n",
       "    </tr>\n",
       "  </thead>\n",
       "  <tbody>\n",
       "    <tr>\n",
       "      <th>0</th>\n",
       "      <td>Alabama</td>\n",
       "      <td>1.180</td>\n",
       "      <td>2020</td>\n",
       "      <td>0.157</td>\n",
       "      <td>1.0</td>\n",
       "      <td>0.0</td>\n",
       "      <td>0.782</td>\n",
       "      <td>0.640</td>\n",
       "      <td>25.1</td>\n",
       "      <td>0</td>\n",
       "      <td>32.7</td>\n",
       "      <td>1.068376</td>\n",
       "      <td>113.548</td>\n",
       "      <td>1.089325</td>\n",
       "    </tr>\n",
       "    <tr>\n",
       "      <th>1</th>\n",
       "      <td>Alaska</td>\n",
       "      <td>1.014</td>\n",
       "      <td>2020</td>\n",
       "      <td>0.367</td>\n",
       "      <td>0.0</td>\n",
       "      <td>0.0</td>\n",
       "      <td>0.795</td>\n",
       "      <td>0.779</td>\n",
       "      <td>18.1</td>\n",
       "      <td>1</td>\n",
       "      <td>154.8</td>\n",
       "      <td>0.915751</td>\n",
       "      <td>164.547</td>\n",
       "      <td>1.066098</td>\n",
       "    </tr>\n",
       "    <tr>\n",
       "      <th>2</th>\n",
       "      <td>Arizona</td>\n",
       "      <td>1.112</td>\n",
       "      <td>2020</td>\n",
       "      <td>0.389</td>\n",
       "      <td>0.0</td>\n",
       "      <td>0.0</td>\n",
       "      <td>0.789</td>\n",
       "      <td>0.701</td>\n",
       "      <td>23.2</td>\n",
       "      <td>1</td>\n",
       "      <td>44.0</td>\n",
       "      <td>1.012146</td>\n",
       "      <td>184.862</td>\n",
       "      <td>1.083424</td>\n",
       "    </tr>\n",
       "    <tr>\n",
       "      <th>3</th>\n",
       "      <td>Arkansas</td>\n",
       "      <td>1.115</td>\n",
       "      <td>2020</td>\n",
       "      <td>0.259</td>\n",
       "      <td>0.0</td>\n",
       "      <td>0.0</td>\n",
       "      <td>0.837</td>\n",
       "      <td>0.705</td>\n",
       "      <td>20.1</td>\n",
       "      <td>0</td>\n",
       "      <td>73.5</td>\n",
       "      <td>1.037344</td>\n",
       "      <td>104.638</td>\n",
       "      <td>1.077586</td>\n",
       "    </tr>\n",
       "    <tr>\n",
       "      <th>4</th>\n",
       "      <td>California</td>\n",
       "      <td>1.099</td>\n",
       "      <td>2020</td>\n",
       "      <td>0.308</td>\n",
       "      <td>0.0</td>\n",
       "      <td>1.0</td>\n",
       "      <td>0.764</td>\n",
       "      <td>0.734</td>\n",
       "      <td>18.6</td>\n",
       "      <td>1</td>\n",
       "      <td>34.2</td>\n",
       "      <td>1.011122</td>\n",
       "      <td>16.075</td>\n",
       "      <td>1.076426</td>\n",
       "    </tr>\n",
       "  </tbody>\n",
       "</table>\n",
       "</div>"
      ],
      "text/plain": [
       "        state  education  year  state_legislature  governor  lt_governor  \\\n",
       "0     Alabama      1.180  2020              0.157       1.0          0.0   \n",
       "1      Alaska      1.014  2020              0.367       0.0          0.0   \n",
       "2     Arizona      1.112  2020              0.389       0.0          0.0   \n",
       "3    Arkansas      1.115  2020              0.259       0.0          0.0   \n",
       "4  California      1.099  2020              0.308       0.0          1.0   \n",
       "\n",
       "   labour_force_participation  mngmt_job_wage_gap  bachelor_wage_gap  \\\n",
       "0                       0.782               0.640               25.1   \n",
       "1                       0.795               0.779               18.1   \n",
       "2                       0.789               0.701               23.2   \n",
       "3                       0.837               0.705               20.1   \n",
       "4                       0.764               0.734               18.6   \n",
       "\n",
       "   ab_legality  rape_rate  sex_ratio_birth  abortion_rate  life_exp_f_m  \n",
       "0            0       32.7         1.068376        113.548      1.089325  \n",
       "1            1      154.8         0.915751        164.547      1.066098  \n",
       "2            1       44.0         1.012146        184.862      1.083424  \n",
       "3            0       73.5         1.037344        104.638      1.077586  \n",
       "4            1       34.2         1.011122         16.075      1.076426  "
      ]
     },
     "execution_count": 132,
     "metadata": {},
     "output_type": "execute_result"
    }
   ],
   "source": [
    "# preview the top-5 rows of the data\n",
    "df.head()"
   ]
  },
  {
   "cell_type": "code",
   "execution_count": 133,
   "metadata": {},
   "outputs": [
    {
     "data": {
      "text/html": [
       "<div>\n",
       "<style scoped>\n",
       "    .dataframe tbody tr th:only-of-type {\n",
       "        vertical-align: middle;\n",
       "    }\n",
       "\n",
       "    .dataframe tbody tr th {\n",
       "        vertical-align: top;\n",
       "    }\n",
       "\n",
       "    .dataframe thead th {\n",
       "        text-align: right;\n",
       "    }\n",
       "</style>\n",
       "<table border=\"1\" class=\"dataframe\">\n",
       "  <thead>\n",
       "    <tr style=\"text-align: right;\">\n",
       "      <th></th>\n",
       "      <th>education</th>\n",
       "      <th>year</th>\n",
       "      <th>state_legislature</th>\n",
       "      <th>governor</th>\n",
       "      <th>lt_governor</th>\n",
       "      <th>labour_force_participation</th>\n",
       "      <th>mngmt_job_wage_gap</th>\n",
       "      <th>bachelor_wage_gap</th>\n",
       "      <th>ab_legality</th>\n",
       "      <th>rape_rate</th>\n",
       "      <th>sex_ratio_birth</th>\n",
       "      <th>abortion_rate</th>\n",
       "      <th>life_exp_f_m</th>\n",
       "    </tr>\n",
       "  </thead>\n",
       "  <tbody>\n",
       "    <tr>\n",
       "      <th>count</th>\n",
       "      <td>500.000</td>\n",
       "      <td>500.000</td>\n",
       "      <td>500.000</td>\n",
       "      <td>500.000</td>\n",
       "      <td>500.000</td>\n",
       "      <td>500.000</td>\n",
       "      <td>500.000</td>\n",
       "      <td>500.000</td>\n",
       "      <td>500.000</td>\n",
       "      <td>500.000</td>\n",
       "      <td>500.000</td>\n",
       "      <td>500.000</td>\n",
       "      <td>500.000</td>\n",
       "    </tr>\n",
       "    <tr>\n",
       "      <th>mean</th>\n",
       "      <td>1.113</td>\n",
       "      <td>2015.500</td>\n",
       "      <td>0.254</td>\n",
       "      <td>0.128</td>\n",
       "      <td>0.248</td>\n",
       "      <td>0.829</td>\n",
       "      <td>0.711</td>\n",
       "      <td>20.284</td>\n",
       "      <td>0.720</td>\n",
       "      <td>41.277</td>\n",
       "      <td>1.024</td>\n",
       "      <td>226.896</td>\n",
       "      <td>1.065</td>\n",
       "    </tr>\n",
       "    <tr>\n",
       "      <th>std</th>\n",
       "      <td>0.046</td>\n",
       "      <td>2.875</td>\n",
       "      <td>0.076</td>\n",
       "      <td>0.334</td>\n",
       "      <td>0.432</td>\n",
       "      <td>0.041</td>\n",
       "      <td>0.044</td>\n",
       "      <td>3.644</td>\n",
       "      <td>0.449</td>\n",
       "      <td>17.820</td>\n",
       "      <td>0.032</td>\n",
       "      <td>268.040</td>\n",
       "      <td>0.009</td>\n",
       "    </tr>\n",
       "    <tr>\n",
       "      <th>min</th>\n",
       "      <td>0.947</td>\n",
       "      <td>2011.000</td>\n",
       "      <td>0.094</td>\n",
       "      <td>0.000</td>\n",
       "      <td>0.000</td>\n",
       "      <td>0.732</td>\n",
       "      <td>0.568</td>\n",
       "      <td>10.200</td>\n",
       "      <td>0.000</td>\n",
       "      <td>11.400</td>\n",
       "      <td>0.899</td>\n",
       "      <td>2.714</td>\n",
       "      <td>1.044</td>\n",
       "    </tr>\n",
       "    <tr>\n",
       "      <th>25%</th>\n",
       "      <td>1.085</td>\n",
       "      <td>2013.000</td>\n",
       "      <td>0.199</td>\n",
       "      <td>0.000</td>\n",
       "      <td>0.000</td>\n",
       "      <td>0.803</td>\n",
       "      <td>0.683</td>\n",
       "      <td>18.200</td>\n",
       "      <td>0.000</td>\n",
       "      <td>31.075</td>\n",
       "      <td>1.009</td>\n",
       "      <td>121.059</td>\n",
       "      <td>1.059</td>\n",
       "    </tr>\n",
       "    <tr>\n",
       "      <th>50%</th>\n",
       "      <td>1.117</td>\n",
       "      <td>2015.500</td>\n",
       "      <td>0.253</td>\n",
       "      <td>0.000</td>\n",
       "      <td>0.000</td>\n",
       "      <td>0.826</td>\n",
       "      <td>0.709</td>\n",
       "      <td>20.100</td>\n",
       "      <td>1.000</td>\n",
       "      <td>38.600</td>\n",
       "      <td>1.030</td>\n",
       "      <td>188.740</td>\n",
       "      <td>1.064</td>\n",
       "    </tr>\n",
       "    <tr>\n",
       "      <th>75%</th>\n",
       "      <td>1.141</td>\n",
       "      <td>2018.000</td>\n",
       "      <td>0.304</td>\n",
       "      <td>0.000</td>\n",
       "      <td>0.000</td>\n",
       "      <td>0.862</td>\n",
       "      <td>0.736</td>\n",
       "      <td>22.225</td>\n",
       "      <td>1.000</td>\n",
       "      <td>47.100</td>\n",
       "      <td>1.048</td>\n",
       "      <td>257.928</td>\n",
       "      <td>1.071</td>\n",
       "    </tr>\n",
       "    <tr>\n",
       "      <th>max</th>\n",
       "      <td>1.243</td>\n",
       "      <td>2020.000</td>\n",
       "      <td>0.540</td>\n",
       "      <td>1.000</td>\n",
       "      <td>1.000</td>\n",
       "      <td>0.929</td>\n",
       "      <td>0.841</td>\n",
       "      <td>32.100</td>\n",
       "      <td>1.000</td>\n",
       "      <td>161.600</td>\n",
       "      <td>1.074</td>\n",
       "      <td>3700.745</td>\n",
       "      <td>1.096</td>\n",
       "    </tr>\n",
       "  </tbody>\n",
       "</table>\n",
       "</div>"
      ],
      "text/plain": [
       "       education      year  state_legislature  governor  lt_governor  \\\n",
       "count    500.000   500.000            500.000   500.000      500.000   \n",
       "mean       1.113  2015.500              0.254     0.128        0.248   \n",
       "std        0.046     2.875              0.076     0.334        0.432   \n",
       "min        0.947  2011.000              0.094     0.000        0.000   \n",
       "25%        1.085  2013.000              0.199     0.000        0.000   \n",
       "50%        1.117  2015.500              0.253     0.000        0.000   \n",
       "75%        1.141  2018.000              0.304     0.000        0.000   \n",
       "max        1.243  2020.000              0.540     1.000        1.000   \n",
       "\n",
       "       labour_force_participation  mngmt_job_wage_gap  bachelor_wage_gap  \\\n",
       "count                     500.000             500.000            500.000   \n",
       "mean                        0.829               0.711             20.284   \n",
       "std                         0.041               0.044              3.644   \n",
       "min                         0.732               0.568             10.200   \n",
       "25%                         0.803               0.683             18.200   \n",
       "50%                         0.826               0.709             20.100   \n",
       "75%                         0.862               0.736             22.225   \n",
       "max                         0.929               0.841             32.100   \n",
       "\n",
       "       ab_legality  rape_rate  sex_ratio_birth  abortion_rate  life_exp_f_m  \n",
       "count      500.000    500.000          500.000        500.000       500.000  \n",
       "mean         0.720     41.277            1.024        226.896         1.065  \n",
       "std          0.449     17.820            0.032        268.040         0.009  \n",
       "min          0.000     11.400            0.899          2.714         1.044  \n",
       "25%          0.000     31.075            1.009        121.059         1.059  \n",
       "50%          1.000     38.600            1.030        188.740         1.064  \n",
       "75%          1.000     47.100            1.048        257.928         1.071  \n",
       "max          1.000    161.600            1.074       3700.745         1.096  "
      ]
     },
     "execution_count": 133,
     "metadata": {},
     "output_type": "execute_result"
    }
   ],
   "source": [
    "round(df.describe() ,3)\n",
    "#/Users/xuguangjie/Desktop/final-project-233-not-found-main/eda.ipynb"
   ]
  },
  {
   "cell_type": "code",
   "execution_count": 134,
   "metadata": {},
   "outputs": [
    {
     "data": {
      "application/vnd.plotly.v1+json": {
       "config": {
        "plotlyServerURL": "https://plot.ly"
       },
       "data": [
        {
         "hovertemplate": "<b>%{text:.2f}%</b><brstate: %{name}<br>year: %{x}",
         "line": {
          "color": "#750D86",
          "width": 2
         },
         "mode": "lines",
         "name": "Alabama",
         "text": [
          0.136,
          0.136,
          0.136,
          0.143,
          0.143,
          0.143,
          0.15,
          0.15,
          0.164,
          0.157
         ],
         "type": "scatter",
         "x": [
          2011,
          2012,
          2013,
          2014,
          2015,
          2016,
          2017,
          2018,
          2019,
          2020
         ],
         "y": [
          0.136,
          0.136,
          0.136,
          0.143,
          0.143,
          0.143,
          0.15,
          0.15,
          0.164,
          0.157
         ]
        },
        {
         "hovertemplate": "<b>%{text:.2f}%</b><brstate: %{name}<br>year: %{x}",
         "line": {
          "color": "#FEAF16",
          "width": 2
         },
         "mode": "lines",
         "name": "Colorado",
         "text": [
          0.41,
          0.4,
          0.41,
          0.41,
          0.42,
          0.42,
          0.37,
          0.38,
          0.46,
          0.44
         ],
         "type": "scatter",
         "x": [
          2011,
          2012,
          2013,
          2014,
          2015,
          2016,
          2017,
          2018,
          2019,
          2020
         ],
         "y": [
          0.41,
          0.4,
          0.41,
          0.41,
          0.42,
          0.42,
          0.37,
          0.38,
          0.46,
          0.44
         ]
        },
        {
         "hovertemplate": "<b>%{text:.2f}%</b><brstate: %{name}<br>year: %{x}",
         "line": {
          "color": "#00AB8B",
          "width": 2
         },
         "mode": "lines",
         "name": "Florida",
         "text": [
          0.256,
          0.256,
          0.256,
          0.256,
          0.25,
          0.25,
          0.25,
          0.256,
          0.3,
          0.294
         ],
         "type": "scatter",
         "x": [
          2011,
          2012,
          2013,
          2014,
          2015,
          2016,
          2017,
          2018,
          2019,
          2020
         ],
         "y": [
          0.256,
          0.256,
          0.256,
          0.256,
          0.25,
          0.25,
          0.25,
          0.256,
          0.3,
          0.294
         ]
        },
        {
         "hovertemplate": "<b>%{text:.2f}%</b><brstate: %{name}<br>year: %{x}",
         "line": {
          "color": "#00AB8B",
          "width": 2
         },
         "mode": "lines",
         "name": "Iowa",
         "text": [
          0.213,
          0.213,
          0.233,
          0.233,
          0.227,
          0.227,
          0.227,
          0.233,
          0.293,
          0.293
         ],
         "type": "scatter",
         "x": [
          2011,
          2012,
          2013,
          2014,
          2015,
          2016,
          2017,
          2018,
          2019,
          2020
         ],
         "y": [
          0.213,
          0.213,
          0.233,
          0.233,
          0.227,
          0.227,
          0.227,
          0.233,
          0.293,
          0.293
         ]
        },
        {
         "hovertemplate": "<b>%{text:.2f}%</b><brstate: %{name}<br>year: %{x}",
         "line": {
          "color": "#00AB8B",
          "width": 2
         },
         "mode": "lines",
         "name": "Kansas",
         "text": [
          0.273,
          0.273,
          0.236,
          0.255,
          0.242,
          0.242,
          0.285,
          0.285,
          0.279,
          0.291
         ],
         "type": "scatter",
         "x": [
          2011,
          2012,
          2013,
          2014,
          2015,
          2016,
          2017,
          2018,
          2019,
          2020
         ],
         "y": [
          0.273,
          0.273,
          0.236,
          0.255,
          0.242,
          0.242,
          0.285,
          0.285,
          0.279,
          0.291
         ]
        },
        {
         "hovertemplate": "<b>%{text:.2f}%</b><brstate: %{name}<br>year: %{x}",
         "line": {
          "color": "#00AB8B",
          "width": 2
         },
         "mode": "lines",
         "name": "Massachusetts",
         "text": [
          0.245,
          0.245,
          0.255,
          0.25,
          0.25,
          0.25,
          0.255,
          0.245,
          0.285,
          0.29
         ],
         "type": "scatter",
         "x": [
          2011,
          2012,
          2013,
          2014,
          2015,
          2016,
          2017,
          2018,
          2019,
          2020
         ],
         "y": [
          0.245,
          0.245,
          0.255,
          0.25,
          0.25,
          0.25,
          0.255,
          0.245,
          0.285,
          0.29
         ]
        },
        {
         "hovertemplate": "<b>%{text:.2f}%</b><brstate: %{name}<br>year: %{x}",
         "line": {
          "color": "#750D86",
          "width": 2
         },
         "mode": "lines",
         "name": "Mississippi",
         "text": [
          0.149,
          0.161,
          0.178,
          0.172,
          0.167,
          0.138,
          0.149,
          0.144,
          0.138,
          0.161
         ],
         "type": "scatter",
         "x": [
          2011,
          2012,
          2013,
          2014,
          2015,
          2016,
          2017,
          2018,
          2019,
          2020
         ],
         "y": [
          0.149,
          0.161,
          0.178,
          0.172,
          0.167,
          0.138,
          0.149,
          0.144,
          0.138,
          0.161
         ]
        },
        {
         "hovertemplate": "<b>%{text:.2f}%</b><brstate: %{name}<br>year: %{x}",
         "line": {
          "color": "#FEAF16",
          "width": 2
         },
         "mode": "lines",
         "name": "Nevada",
         "text": [
          0.286,
          0.254,
          0.286,
          0.27,
          0.317,
          0.317,
          0.397,
          0.397,
          0.524,
          0.54
         ],
         "type": "scatter",
         "x": [
          2011,
          2012,
          2013,
          2014,
          2015,
          2016,
          2017,
          2018,
          2019,
          2020
         ],
         "y": [
          0.286,
          0.254,
          0.286,
          0.27,
          0.317,
          0.317,
          0.397,
          0.397,
          0.524,
          0.54
         ]
        },
        {
         "hovertemplate": "<b>%{text:.2f}%</b><brstate: %{name}<br>year: %{x}",
         "line": {
          "color": "#FEAF16",
          "width": 2
         },
         "mode": "lines",
         "name": "Oregon",
         "text": [
          0.278,
          0.289,
          0.278,
          0.311,
          0.311,
          0.311,
          0.333,
          0.333,
          0.422,
          0.433
         ],
         "type": "scatter",
         "x": [
          2011,
          2012,
          2013,
          2014,
          2015,
          2016,
          2017,
          2018,
          2019,
          2020
         ],
         "y": [
          0.278,
          0.289,
          0.278,
          0.311,
          0.311,
          0.311,
          0.333,
          0.333,
          0.422,
          0.433
         ]
        },
        {
         "hovertemplate": "<b>%{text:.2f}%</b><brstate: %{name}<br>year: %{x}",
         "line": {
          "color": "#750D86",
          "width": 2
         },
         "mode": "lines",
         "name": "Tennessee",
         "text": [
          0.182,
          0.182,
          0.167,
          0.167,
          0.174,
          0.167,
          0.159,
          0.159,
          0.152,
          0.152
         ],
         "type": "scatter",
         "x": [
          2011,
          2012,
          2013,
          2014,
          2015,
          2016,
          2017,
          2018,
          2019,
          2020
         ],
         "y": [
          0.182,
          0.182,
          0.167,
          0.167,
          0.174,
          0.167,
          0.159,
          0.159,
          0.152,
          0.152
         ]
        },
        {
         "hovertemplate": "<b>%{text:.2f}%</b><brstate: %{name}<br>year: %{x}",
         "line": {
          "color": "#FEAF16",
          "width": 2
         },
         "mode": "lines",
         "name": "Vermont",
         "text": [
          0.383,
          0.389,
          0.411,
          0.394,
          0.411,
          0.411,
          0.4,
          0.394,
          0.4,
          0.406
         ],
         "type": "scatter",
         "x": [
          2011,
          2012,
          2013,
          2014,
          2015,
          2016,
          2017,
          2018,
          2019,
          2020
         ],
         "y": [
          0.383,
          0.389,
          0.411,
          0.394,
          0.411,
          0.411,
          0.4,
          0.394,
          0.4,
          0.406
         ]
        },
        {
         "hovertemplate": "<b>%{text:.2f}%</b><brstate: %{name}<br>year: %{x}",
         "line": {
          "color": "#FEAF16",
          "width": 2
         },
         "mode": "lines",
         "name": "Washington",
         "text": [
          0.32,
          0.32,
          0.32,
          0.327,
          0.34,
          0.333,
          0.374,
          0.374,
          0.401,
          0.408
         ],
         "type": "scatter",
         "x": [
          2011,
          2012,
          2013,
          2014,
          2015,
          2016,
          2017,
          2018,
          2019,
          2020
         ],
         "y": [
          0.32,
          0.32,
          0.32,
          0.327,
          0.34,
          0.333,
          0.374,
          0.374,
          0.401,
          0.408
         ]
        },
        {
         "hovertemplate": "<b>%{text:.2f}%</b><brstate: %{name}<br>year: %{x}",
         "line": {
          "color": "#750D86",
          "width": 2
         },
         "mode": "lines",
         "name": "West Virginia",
         "text": [
          0.179,
          0.179,
          0.164,
          0.164,
          0.149,
          0.149,
          0.134,
          0.149,
          0.134,
          0.142
         ],
         "type": "scatter",
         "x": [
          2011,
          2012,
          2013,
          2014,
          2015,
          2016,
          2017,
          2018,
          2019,
          2020
         ],
         "y": [
          0.179,
          0.179,
          0.164,
          0.164,
          0.149,
          0.149,
          0.134,
          0.149,
          0.134,
          0.142
         ]
        },
        {
         "hovertemplate": "<b>%{text:.2f}%</b><brstate: %{name}<br>year: %{x}",
         "line": {
          "color": "#750D86",
          "width": 2
         },
         "mode": "lines",
         "name": "Wyoming",
         "text": [
          0.144,
          0.156,
          0.167,
          0.156,
          0.133,
          0.133,
          0.111,
          0.111,
          0.156,
          0.156
         ],
         "type": "scatter",
         "x": [
          2011,
          2012,
          2013,
          2014,
          2015,
          2016,
          2017,
          2018,
          2019,
          2020
         ],
         "y": [
          0.144,
          0.156,
          0.167,
          0.156,
          0.133,
          0.133,
          0.111,
          0.111,
          0.156,
          0.156
         ]
        }
       ],
       "layout": {
        "height": 700,
        "legend": {
         "title": {
          "text": "States:"
         }
        },
        "template": {
         "data": {
          "bar": [
           {
            "error_x": {
             "color": "#2a3f5f"
            },
            "error_y": {
             "color": "#2a3f5f"
            },
            "marker": {
             "line": {
              "color": "#E5ECF6",
              "width": 0.5
             },
             "pattern": {
              "fillmode": "overlay",
              "size": 10,
              "solidity": 0.2
             }
            },
            "type": "bar"
           }
          ],
          "barpolar": [
           {
            "marker": {
             "line": {
              "color": "#E5ECF6",
              "width": 0.5
             },
             "pattern": {
              "fillmode": "overlay",
              "size": 10,
              "solidity": 0.2
             }
            },
            "type": "barpolar"
           }
          ],
          "carpet": [
           {
            "aaxis": {
             "endlinecolor": "#2a3f5f",
             "gridcolor": "white",
             "linecolor": "white",
             "minorgridcolor": "white",
             "startlinecolor": "#2a3f5f"
            },
            "baxis": {
             "endlinecolor": "#2a3f5f",
             "gridcolor": "white",
             "linecolor": "white",
             "minorgridcolor": "white",
             "startlinecolor": "#2a3f5f"
            },
            "type": "carpet"
           }
          ],
          "choropleth": [
           {
            "colorbar": {
             "outlinewidth": 0,
             "ticks": ""
            },
            "type": "choropleth"
           }
          ],
          "contour": [
           {
            "colorbar": {
             "outlinewidth": 0,
             "ticks": ""
            },
            "colorscale": [
             [
              0,
              "#0d0887"
             ],
             [
              0.1111111111111111,
              "#46039f"
             ],
             [
              0.2222222222222222,
              "#7201a8"
             ],
             [
              0.3333333333333333,
              "#9c179e"
             ],
             [
              0.4444444444444444,
              "#bd3786"
             ],
             [
              0.5555555555555556,
              "#d8576b"
             ],
             [
              0.6666666666666666,
              "#ed7953"
             ],
             [
              0.7777777777777778,
              "#fb9f3a"
             ],
             [
              0.8888888888888888,
              "#fdca26"
             ],
             [
              1,
              "#f0f921"
             ]
            ],
            "type": "contour"
           }
          ],
          "contourcarpet": [
           {
            "colorbar": {
             "outlinewidth": 0,
             "ticks": ""
            },
            "type": "contourcarpet"
           }
          ],
          "heatmap": [
           {
            "colorbar": {
             "outlinewidth": 0,
             "ticks": ""
            },
            "colorscale": [
             [
              0,
              "#0d0887"
             ],
             [
              0.1111111111111111,
              "#46039f"
             ],
             [
              0.2222222222222222,
              "#7201a8"
             ],
             [
              0.3333333333333333,
              "#9c179e"
             ],
             [
              0.4444444444444444,
              "#bd3786"
             ],
             [
              0.5555555555555556,
              "#d8576b"
             ],
             [
              0.6666666666666666,
              "#ed7953"
             ],
             [
              0.7777777777777778,
              "#fb9f3a"
             ],
             [
              0.8888888888888888,
              "#fdca26"
             ],
             [
              1,
              "#f0f921"
             ]
            ],
            "type": "heatmap"
           }
          ],
          "heatmapgl": [
           {
            "colorbar": {
             "outlinewidth": 0,
             "ticks": ""
            },
            "colorscale": [
             [
              0,
              "#0d0887"
             ],
             [
              0.1111111111111111,
              "#46039f"
             ],
             [
              0.2222222222222222,
              "#7201a8"
             ],
             [
              0.3333333333333333,
              "#9c179e"
             ],
             [
              0.4444444444444444,
              "#bd3786"
             ],
             [
              0.5555555555555556,
              "#d8576b"
             ],
             [
              0.6666666666666666,
              "#ed7953"
             ],
             [
              0.7777777777777778,
              "#fb9f3a"
             ],
             [
              0.8888888888888888,
              "#fdca26"
             ],
             [
              1,
              "#f0f921"
             ]
            ],
            "type": "heatmapgl"
           }
          ],
          "histogram": [
           {
            "marker": {
             "pattern": {
              "fillmode": "overlay",
              "size": 10,
              "solidity": 0.2
             }
            },
            "type": "histogram"
           }
          ],
          "histogram2d": [
           {
            "colorbar": {
             "outlinewidth": 0,
             "ticks": ""
            },
            "colorscale": [
             [
              0,
              "#0d0887"
             ],
             [
              0.1111111111111111,
              "#46039f"
             ],
             [
              0.2222222222222222,
              "#7201a8"
             ],
             [
              0.3333333333333333,
              "#9c179e"
             ],
             [
              0.4444444444444444,
              "#bd3786"
             ],
             [
              0.5555555555555556,
              "#d8576b"
             ],
             [
              0.6666666666666666,
              "#ed7953"
             ],
             [
              0.7777777777777778,
              "#fb9f3a"
             ],
             [
              0.8888888888888888,
              "#fdca26"
             ],
             [
              1,
              "#f0f921"
             ]
            ],
            "type": "histogram2d"
           }
          ],
          "histogram2dcontour": [
           {
            "colorbar": {
             "outlinewidth": 0,
             "ticks": ""
            },
            "colorscale": [
             [
              0,
              "#0d0887"
             ],
             [
              0.1111111111111111,
              "#46039f"
             ],
             [
              0.2222222222222222,
              "#7201a8"
             ],
             [
              0.3333333333333333,
              "#9c179e"
             ],
             [
              0.4444444444444444,
              "#bd3786"
             ],
             [
              0.5555555555555556,
              "#d8576b"
             ],
             [
              0.6666666666666666,
              "#ed7953"
             ],
             [
              0.7777777777777778,
              "#fb9f3a"
             ],
             [
              0.8888888888888888,
              "#fdca26"
             ],
             [
              1,
              "#f0f921"
             ]
            ],
            "type": "histogram2dcontour"
           }
          ],
          "mesh3d": [
           {
            "colorbar": {
             "outlinewidth": 0,
             "ticks": ""
            },
            "type": "mesh3d"
           }
          ],
          "parcoords": [
           {
            "line": {
             "colorbar": {
              "outlinewidth": 0,
              "ticks": ""
             }
            },
            "type": "parcoords"
           }
          ],
          "pie": [
           {
            "automargin": true,
            "type": "pie"
           }
          ],
          "scatter": [
           {
            "marker": {
             "colorbar": {
              "outlinewidth": 0,
              "ticks": ""
             }
            },
            "type": "scatter"
           }
          ],
          "scatter3d": [
           {
            "line": {
             "colorbar": {
              "outlinewidth": 0,
              "ticks": ""
             }
            },
            "marker": {
             "colorbar": {
              "outlinewidth": 0,
              "ticks": ""
             }
            },
            "type": "scatter3d"
           }
          ],
          "scattercarpet": [
           {
            "marker": {
             "colorbar": {
              "outlinewidth": 0,
              "ticks": ""
             }
            },
            "type": "scattercarpet"
           }
          ],
          "scattergeo": [
           {
            "marker": {
             "colorbar": {
              "outlinewidth": 0,
              "ticks": ""
             }
            },
            "type": "scattergeo"
           }
          ],
          "scattergl": [
           {
            "marker": {
             "colorbar": {
              "outlinewidth": 0,
              "ticks": ""
             }
            },
            "type": "scattergl"
           }
          ],
          "scattermapbox": [
           {
            "marker": {
             "colorbar": {
              "outlinewidth": 0,
              "ticks": ""
             }
            },
            "type": "scattermapbox"
           }
          ],
          "scatterpolar": [
           {
            "marker": {
             "colorbar": {
              "outlinewidth": 0,
              "ticks": ""
             }
            },
            "type": "scatterpolar"
           }
          ],
          "scatterpolargl": [
           {
            "marker": {
             "colorbar": {
              "outlinewidth": 0,
              "ticks": ""
             }
            },
            "type": "scatterpolargl"
           }
          ],
          "scatterternary": [
           {
            "marker": {
             "colorbar": {
              "outlinewidth": 0,
              "ticks": ""
             }
            },
            "type": "scatterternary"
           }
          ],
          "surface": [
           {
            "colorbar": {
             "outlinewidth": 0,
             "ticks": ""
            },
            "colorscale": [
             [
              0,
              "#0d0887"
             ],
             [
              0.1111111111111111,
              "#46039f"
             ],
             [
              0.2222222222222222,
              "#7201a8"
             ],
             [
              0.3333333333333333,
              "#9c179e"
             ],
             [
              0.4444444444444444,
              "#bd3786"
             ],
             [
              0.5555555555555556,
              "#d8576b"
             ],
             [
              0.6666666666666666,
              "#ed7953"
             ],
             [
              0.7777777777777778,
              "#fb9f3a"
             ],
             [
              0.8888888888888888,
              "#fdca26"
             ],
             [
              1,
              "#f0f921"
             ]
            ],
            "type": "surface"
           }
          ],
          "table": [
           {
            "cells": {
             "fill": {
              "color": "#EBF0F8"
             },
             "line": {
              "color": "white"
             }
            },
            "header": {
             "fill": {
              "color": "#C8D4E3"
             },
             "line": {
              "color": "white"
             }
            },
            "type": "table"
           }
          ]
         },
         "layout": {
          "annotationdefaults": {
           "arrowcolor": "#2a3f5f",
           "arrowhead": 0,
           "arrowwidth": 1
          },
          "autotypenumbers": "strict",
          "coloraxis": {
           "colorbar": {
            "outlinewidth": 0,
            "ticks": ""
           }
          },
          "colorscale": {
           "diverging": [
            [
             0,
             "#8e0152"
            ],
            [
             0.1,
             "#c51b7d"
            ],
            [
             0.2,
             "#de77ae"
            ],
            [
             0.3,
             "#f1b6da"
            ],
            [
             0.4,
             "#fde0ef"
            ],
            [
             0.5,
             "#f7f7f7"
            ],
            [
             0.6,
             "#e6f5d0"
            ],
            [
             0.7,
             "#b8e186"
            ],
            [
             0.8,
             "#7fbc41"
            ],
            [
             0.9,
             "#4d9221"
            ],
            [
             1,
             "#276419"
            ]
           ],
           "sequential": [
            [
             0,
             "#0d0887"
            ],
            [
             0.1111111111111111,
             "#46039f"
            ],
            [
             0.2222222222222222,
             "#7201a8"
            ],
            [
             0.3333333333333333,
             "#9c179e"
            ],
            [
             0.4444444444444444,
             "#bd3786"
            ],
            [
             0.5555555555555556,
             "#d8576b"
            ],
            [
             0.6666666666666666,
             "#ed7953"
            ],
            [
             0.7777777777777778,
             "#fb9f3a"
            ],
            [
             0.8888888888888888,
             "#fdca26"
            ],
            [
             1,
             "#f0f921"
            ]
           ],
           "sequentialminus": [
            [
             0,
             "#0d0887"
            ],
            [
             0.1111111111111111,
             "#46039f"
            ],
            [
             0.2222222222222222,
             "#7201a8"
            ],
            [
             0.3333333333333333,
             "#9c179e"
            ],
            [
             0.4444444444444444,
             "#bd3786"
            ],
            [
             0.5555555555555556,
             "#d8576b"
            ],
            [
             0.6666666666666666,
             "#ed7953"
            ],
            [
             0.7777777777777778,
             "#fb9f3a"
            ],
            [
             0.8888888888888888,
             "#fdca26"
            ],
            [
             1,
             "#f0f921"
            ]
           ]
          },
          "colorway": [
           "#636efa",
           "#EF553B",
           "#00cc96",
           "#ab63fa",
           "#FFA15A",
           "#19d3f3",
           "#FF6692",
           "#B6E880",
           "#FF97FF",
           "#FECB52"
          ],
          "font": {
           "color": "#2a3f5f"
          },
          "geo": {
           "bgcolor": "white",
           "lakecolor": "white",
           "landcolor": "#E5ECF6",
           "showlakes": true,
           "showland": true,
           "subunitcolor": "white"
          },
          "hoverlabel": {
           "align": "left"
          },
          "hovermode": "closest",
          "mapbox": {
           "style": "light"
          },
          "paper_bgcolor": "white",
          "plot_bgcolor": "#E5ECF6",
          "polar": {
           "angularaxis": {
            "gridcolor": "white",
            "linecolor": "white",
            "ticks": ""
           },
           "bgcolor": "#E5ECF6",
           "radialaxis": {
            "gridcolor": "white",
            "linecolor": "white",
            "ticks": ""
           }
          },
          "scene": {
           "xaxis": {
            "backgroundcolor": "#E5ECF6",
            "gridcolor": "white",
            "gridwidth": 2,
            "linecolor": "white",
            "showbackground": true,
            "ticks": "",
            "zerolinecolor": "white"
           },
           "yaxis": {
            "backgroundcolor": "#E5ECF6",
            "gridcolor": "white",
            "gridwidth": 2,
            "linecolor": "white",
            "showbackground": true,
            "ticks": "",
            "zerolinecolor": "white"
           },
           "zaxis": {
            "backgroundcolor": "#E5ECF6",
            "gridcolor": "white",
            "gridwidth": 2,
            "linecolor": "white",
            "showbackground": true,
            "ticks": "",
            "zerolinecolor": "white"
           }
          },
          "shapedefaults": {
           "line": {
            "color": "#2a3f5f"
           }
          },
          "ternary": {
           "aaxis": {
            "gridcolor": "white",
            "linecolor": "white",
            "ticks": ""
           },
           "baxis": {
            "gridcolor": "white",
            "linecolor": "white",
            "ticks": ""
           },
           "bgcolor": "#E5ECF6",
           "caxis": {
            "gridcolor": "white",
            "linecolor": "white",
            "ticks": ""
           }
          },
          "title": {
           "x": 0.05
          },
          "xaxis": {
           "automargin": true,
           "gridcolor": "white",
           "linecolor": "white",
           "ticks": "",
           "title": {
            "standoff": 15
           },
           "zerolinecolor": "white",
           "zerolinewidth": 2
          },
          "yaxis": {
           "automargin": true,
           "gridcolor": "white",
           "linecolor": "white",
           "ticks": "",
           "title": {
            "standoff": 15
           },
           "zerolinecolor": "white",
           "zerolinewidth": 2
          }
         }
        },
        "title": {
         "font": {
          "size": 24
         },
         "text": "State Legislature by Year"
        },
        "width": 1200,
        "xaxis": {
         "title": {
          "text": "Year"
         }
        },
        "yaxis": {
         "title": {
          "text": "Female Proportion in State Legislature"
         }
        }
       }
      }
     },
     "metadata": {},
     "output_type": "display_data"
    }
   ],
   "source": [
    "import plotly.graph_objs as go\n",
    "import pandas as pd\n",
    "\n",
    "import_feat = ['state_legislature','mngmt_job_wage_gap','rape_rate','life_exp_m_f','abortion_rate']\n",
    "\n",
    "# Calculate the rank percentage for each state in 2011\n",
    "df['pct_rank'] = df[df['year'] == 2020]['state_legislature'].rank(pct=True)\n",
    "\n",
    "# Divide states into three groups based on rank percentage\n",
    "df['group'] = pd.cut(df['pct_rank'], bins=[0, 0.1, 0.45, 0.55, 0.9, 1.0], labels=[r'前10%', r'10%-45%', r'45%-55%', r'55%-90%', r'后10%'])\n",
    "\n",
    "# Process each state's data individually and store it in a dictionary\n",
    "states_data = {}\n",
    "for state, data in df.groupby('state'):\n",
    "    # Sort the data by year\n",
    "    data = data.sort_values('year')\n",
    "    # Construct Plotly's Trace object\n",
    "    trace = go.Scatter(\n",
    "        x=data['year'],\n",
    "        y=data['state_legislature'],\n",
    "        name=state,\n",
    "        line=dict(width=2),\n",
    "        mode='lines',\n",
    "        text=data['state_legislature'],\n",
    "        hovertemplate='<b>%{text:.2f}%</b><brstate: %{name}<br>year: %{x}'\n",
    "    )\n",
    "    # Assign the corresponding color according to which group the state belongs to\n",
    "    if r'前10%' in data['group'].unique():\n",
    "        trace.update(line=dict(color='#750D86'))\n",
    "        states_data[state] = trace\n",
    "    elif r'后10%' in data['group'].unique():\n",
    "        trace.update(line=dict(color='#FEAF16'))\n",
    "        states_data[state] = trace\n",
    "    elif r'45%-55%' in data['group'].unique():\n",
    "        trace.update(line=dict(color='#00AB8B'))\n",
    "        states_data[state] = trace\n",
    "    \n",
    "    # Store a Trace object for each state\n",
    "\n",
    "# Construct Plotly's Figure object\n",
    "fig = go.Figure(list(states_data.values()))\n",
    "\n",
    "# Add a chart title and axis labels\n",
    "fig.update_layout(title='State Legislature by Year',\n",
    "                title_font_size=24,\n",
    "                legend_title='States:',\n",
    "                xaxis_title='Year',\n",
    "                yaxis_title='Female Proportion in State Legislature',\n",
    "                width=1200,\n",
    "                height=700)\n",
    "\n",
    "# show chart\n",
    "fig.show()\n"
   ]
  },
  {
   "attachments": {},
   "cell_type": "markdown",
   "metadata": {},
   "source": [
    "<h4> State legislature</h4>\n",
    "\n",
    "* Proportion of women in legislature.\n",
    "* In general, the trend is steady before 2018, with a slight increase after.\n",
    "    * Colorado: stays the top 1 in female proportion in state legislature. 2018-2019 shows a sharp increase.\n",
    "    * Hawaii: moved from the top 10% to the middle range (45%-55%)\n",
    "    * Alaska: moved from the last in the middle range to the top 10% range\n",
    "    * Oklahoma: shows a sharp increase from 2018-2019."
   ]
  },
  {
   "cell_type": "code",
   "execution_count": 135,
   "metadata": {},
   "outputs": [
    {
     "data": {
      "application/vnd.plotly.v1+json": {
       "config": {
        "plotlyServerURL": "https://plot.ly"
       },
       "data": [
        {
         "hovertemplate": "<b>%{text:.2f}%</b><brstate: %{name}<br>year: %{x}",
         "line": {
          "color": "#750D86",
          "width": 2
         },
         "mode": "lines",
         "name": "Alabama",
         "text": [
          0.633,
          0.648,
          0.658,
          0.643,
          0.639,
          0.658,
          0.644,
          0.632,
          0.623,
          0.64
         ],
         "type": "scatter",
         "x": [
          2011,
          2012,
          2013,
          2014,
          2015,
          2016,
          2017,
          2018,
          2019,
          2020
         ],
         "y": [
          0.633,
          0.648,
          0.658,
          0.643,
          0.639,
          0.658,
          0.644,
          0.632,
          0.623,
          0.64
         ]
        },
        {
         "hovertemplate": "<b>%{text:.2f}%</b><brstate: %{name}<br>year: %{x}",
         "line": {
          "color": "#00AB8B",
          "width": 2
         },
         "mode": "lines",
         "name": "Florida",
         "text": [
          0.731,
          0.738,
          0.728,
          0.726,
          0.739,
          0.734,
          0.734,
          0.741,
          0.724,
          0.718
         ],
         "type": "scatter",
         "x": [
          2011,
          2012,
          2013,
          2014,
          2015,
          2016,
          2017,
          2018,
          2019,
          2020
         ],
         "y": [
          0.731,
          0.738,
          0.728,
          0.726,
          0.739,
          0.734,
          0.734,
          0.741,
          0.724,
          0.718
         ]
        },
        {
         "hovertemplate": "<b>%{text:.2f}%</b><brstate: %{name}<br>year: %{x}",
         "line": {
          "color": "#750D86",
          "width": 2
         },
         "mode": "lines",
         "name": "Idaho",
         "text": [
          0.638,
          0.632,
          0.658,
          0.638,
          0.641,
          0.643,
          0.655,
          0.661,
          0.635,
          0.628
         ],
         "type": "scatter",
         "x": [
          2011,
          2012,
          2013,
          2014,
          2015,
          2016,
          2017,
          2018,
          2019,
          2020
         ],
         "y": [
          0.638,
          0.632,
          0.658,
          0.638,
          0.641,
          0.643,
          0.655,
          0.661,
          0.635,
          0.628
         ]
        },
        {
         "hovertemplate": "<b>%{text:.2f}%</b><brstate: %{name}<br>year: %{x}",
         "line": {
          "color": "#00AB8B",
          "width": 2
         },
         "mode": "lines",
         "name": "Iowa",
         "text": [
          0.728,
          0.714,
          0.725,
          0.719,
          0.718,
          0.727,
          0.725,
          0.715,
          0.722,
          0.718
         ],
         "type": "scatter",
         "x": [
          2011,
          2012,
          2013,
          2014,
          2015,
          2016,
          2017,
          2018,
          2019,
          2020
         ],
         "y": [
          0.728,
          0.714,
          0.725,
          0.719,
          0.718,
          0.727,
          0.725,
          0.715,
          0.722,
          0.718
         ]
        },
        {
         "hovertemplate": "<b>%{text:.2f}%</b><brstate: %{name}<br>year: %{x}",
         "line": {
          "color": "#00AB8B",
          "width": 2
         },
         "mode": "lines",
         "name": "Kansas",
         "text": [
          0.702,
          0.698,
          0.694,
          0.689,
          0.685,
          0.697,
          0.704,
          0.692,
          0.683,
          0.71
         ],
         "type": "scatter",
         "x": [
          2011,
          2012,
          2013,
          2014,
          2015,
          2016,
          2017,
          2018,
          2019,
          2020
         ],
         "y": [
          0.702,
          0.698,
          0.694,
          0.689,
          0.685,
          0.697,
          0.704,
          0.692,
          0.683,
          0.71
         ]
        },
        {
         "hovertemplate": "<b>%{text:.2f}%</b><brstate: %{name}<br>year: %{x}",
         "line": {
          "color": "#00AB8B",
          "width": 2
         },
         "mode": "lines",
         "name": "Kentucky",
         "text": [
          0.705,
          0.726,
          0.719,
          0.712,
          0.705,
          0.707,
          0.719,
          0.716,
          0.721,
          0.708
         ],
         "type": "scatter",
         "x": [
          2011,
          2012,
          2013,
          2014,
          2015,
          2016,
          2017,
          2018,
          2019,
          2020
         ],
         "y": [
          0.705,
          0.726,
          0.719,
          0.712,
          0.705,
          0.707,
          0.719,
          0.716,
          0.721,
          0.708
         ]
        },
        {
         "hovertemplate": "<b>%{text:.2f}%</b><brstate: %{name}<br>year: %{x}",
         "line": {
          "color": "#750D86",
          "width": 2
         },
         "mode": "lines",
         "name": "Louisiana",
         "text": [
          0.648,
          0.644,
          0.631,
          0.639,
          0.626,
          0.648,
          0.644,
          0.636,
          0.657,
          0.637
         ],
         "type": "scatter",
         "x": [
          2011,
          2012,
          2013,
          2014,
          2015,
          2016,
          2017,
          2018,
          2019,
          2020
         ],
         "y": [
          0.648,
          0.644,
          0.631,
          0.639,
          0.626,
          0.648,
          0.644,
          0.636,
          0.657,
          0.637
         ]
        },
        {
         "hovertemplate": "<b>%{text:.2f}%</b><brstate: %{name}<br>year: %{x}",
         "line": {
          "color": "#FEAF16",
          "width": 2
         },
         "mode": "lines",
         "name": "New Mexico",
         "text": [
          0.765,
          0.774,
          0.765,
          0.751,
          0.774,
          0.769,
          0.765,
          0.753,
          0.754,
          0.78
         ],
         "type": "scatter",
         "x": [
          2011,
          2012,
          2013,
          2014,
          2015,
          2016,
          2017,
          2018,
          2019,
          2020
         ],
         "y": [
          0.765,
          0.774,
          0.765,
          0.751,
          0.774,
          0.769,
          0.765,
          0.753,
          0.754,
          0.78
         ]
        },
        {
         "hovertemplate": "<b>%{text:.2f}%</b><brstate: %{name}<br>year: %{x}",
         "line": {
          "color": "#FEAF16",
          "width": 2
         },
         "mode": "lines",
         "name": "New York",
         "text": [
          0.778,
          0.775,
          0.771,
          0.769,
          0.765,
          0.773,
          0.778,
          0.765,
          0.758,
          0.782
         ],
         "type": "scatter",
         "x": [
          2011,
          2012,
          2013,
          2014,
          2015,
          2016,
          2017,
          2018,
          2019,
          2020
         ],
         "y": [
          0.778,
          0.775,
          0.771,
          0.769,
          0.765,
          0.773,
          0.778,
          0.765,
          0.758,
          0.782
         ]
        },
        {
         "hovertemplate": "<b>%{text:.2f}%</b><brstate: %{name}<br>year: %{x}",
         "line": {
          "color": "#FEAF16",
          "width": 2
         },
         "mode": "lines",
         "name": "Oregon",
         "text": [
          0.704,
          0.698,
          0.696,
          0.693,
          0.701,
          0.703,
          0.697,
          0.691,
          0.708,
          0.79
         ],
         "type": "scatter",
         "x": [
          2011,
          2012,
          2013,
          2014,
          2015,
          2016,
          2017,
          2018,
          2019,
          2020
         ],
         "y": [
          0.704,
          0.698,
          0.696,
          0.693,
          0.701,
          0.703,
          0.697,
          0.691,
          0.708,
          0.79
         ]
        },
        {
         "hovertemplate": "<b>%{text:.2f}%</b><brstate: %{name}<br>year: %{x}",
         "line": {
          "color": "#FEAF16",
          "width": 2
         },
         "mode": "lines",
         "name": "South Dakota",
         "text": [
          0.768,
          0.751,
          0.754,
          0.769,
          0.762,
          0.759,
          0.754,
          0.764,
          0.746,
          0.782
         ],
         "type": "scatter",
         "x": [
          2011,
          2012,
          2013,
          2014,
          2015,
          2016,
          2017,
          2018,
          2019,
          2020
         ],
         "y": [
          0.768,
          0.751,
          0.754,
          0.769,
          0.762,
          0.759,
          0.754,
          0.764,
          0.746,
          0.782
         ]
        },
        {
         "hovertemplate": "<b>%{text:.2f}%</b><brstate: %{name}<br>year: %{x}",
         "line": {
          "color": "#750D86",
          "width": 2
         },
         "mode": "lines",
         "name": "Utah",
         "text": [
          0.584,
          0.586,
          0.593,
          0.587,
          0.584,
          0.579,
          0.578,
          0.568,
          0.568,
          0.62
         ],
         "type": "scatter",
         "x": [
          2011,
          2012,
          2013,
          2014,
          2015,
          2016,
          2017,
          2018,
          2019,
          2020
         ],
         "y": [
          0.584,
          0.586,
          0.593,
          0.587,
          0.584,
          0.579,
          0.578,
          0.568,
          0.568,
          0.62
         ]
        },
        {
         "hovertemplate": "<b>%{text:.2f}%</b><brstate: %{name}<br>year: %{x}",
         "line": {
          "color": "#FEAF16",
          "width": 2
         },
         "mode": "lines",
         "name": "Vermont",
         "text": [
          0.794,
          0.805,
          0.801,
          0.796,
          0.793,
          0.789,
          0.786,
          0.776,
          0.767,
          0.812
         ],
         "type": "scatter",
         "x": [
          2011,
          2012,
          2013,
          2014,
          2015,
          2016,
          2017,
          2018,
          2019,
          2020
         ],
         "y": [
          0.794,
          0.805,
          0.801,
          0.796,
          0.793,
          0.789,
          0.786,
          0.776,
          0.767,
          0.812
         ]
        },
        {
         "hovertemplate": "<b>%{text:.2f}%</b><brstate: %{name}<br>year: %{x}",
         "line": {
          "color": "#750D86",
          "width": 2
         },
         "mode": "lines",
         "name": "Virginia",
         "text": [
          0.651,
          0.648,
          0.654,
          0.635,
          0.647,
          0.644,
          0.642,
          0.643,
          0.647,
          0.659
         ],
         "type": "scatter",
         "x": [
          2011,
          2012,
          2013,
          2014,
          2015,
          2016,
          2017,
          2018,
          2019,
          2020
         ],
         "y": [
          0.651,
          0.648,
          0.654,
          0.635,
          0.647,
          0.644,
          0.642,
          0.643,
          0.647,
          0.659
         ]
        },
        {
         "hovertemplate": "<b>%{text:.2f}%</b><brstate: %{name}<br>year: %{x}",
         "line": {
          "color": "#00AB8B",
          "width": 2
         },
         "mode": "lines",
         "name": "Wyoming",
         "text": [
          0.726,
          0.705,
          0.719,
          0.712,
          0.705,
          0.707,
          0.719,
          0.716,
          0.721,
          0.718
         ],
         "type": "scatter",
         "x": [
          2011,
          2012,
          2013,
          2014,
          2015,
          2016,
          2017,
          2018,
          2019,
          2020
         ],
         "y": [
          0.726,
          0.705,
          0.719,
          0.712,
          0.705,
          0.707,
          0.719,
          0.716,
          0.721,
          0.718
         ]
        }
       ],
       "layout": {
        "height": 700,
        "legend": {
         "title": {
          "text": "States:"
         }
        },
        "template": {
         "data": {
          "bar": [
           {
            "error_x": {
             "color": "#2a3f5f"
            },
            "error_y": {
             "color": "#2a3f5f"
            },
            "marker": {
             "line": {
              "color": "#E5ECF6",
              "width": 0.5
             },
             "pattern": {
              "fillmode": "overlay",
              "size": 10,
              "solidity": 0.2
             }
            },
            "type": "bar"
           }
          ],
          "barpolar": [
           {
            "marker": {
             "line": {
              "color": "#E5ECF6",
              "width": 0.5
             },
             "pattern": {
              "fillmode": "overlay",
              "size": 10,
              "solidity": 0.2
             }
            },
            "type": "barpolar"
           }
          ],
          "carpet": [
           {
            "aaxis": {
             "endlinecolor": "#2a3f5f",
             "gridcolor": "white",
             "linecolor": "white",
             "minorgridcolor": "white",
             "startlinecolor": "#2a3f5f"
            },
            "baxis": {
             "endlinecolor": "#2a3f5f",
             "gridcolor": "white",
             "linecolor": "white",
             "minorgridcolor": "white",
             "startlinecolor": "#2a3f5f"
            },
            "type": "carpet"
           }
          ],
          "choropleth": [
           {
            "colorbar": {
             "outlinewidth": 0,
             "ticks": ""
            },
            "type": "choropleth"
           }
          ],
          "contour": [
           {
            "colorbar": {
             "outlinewidth": 0,
             "ticks": ""
            },
            "colorscale": [
             [
              0,
              "#0d0887"
             ],
             [
              0.1111111111111111,
              "#46039f"
             ],
             [
              0.2222222222222222,
              "#7201a8"
             ],
             [
              0.3333333333333333,
              "#9c179e"
             ],
             [
              0.4444444444444444,
              "#bd3786"
             ],
             [
              0.5555555555555556,
              "#d8576b"
             ],
             [
              0.6666666666666666,
              "#ed7953"
             ],
             [
              0.7777777777777778,
              "#fb9f3a"
             ],
             [
              0.8888888888888888,
              "#fdca26"
             ],
             [
              1,
              "#f0f921"
             ]
            ],
            "type": "contour"
           }
          ],
          "contourcarpet": [
           {
            "colorbar": {
             "outlinewidth": 0,
             "ticks": ""
            },
            "type": "contourcarpet"
           }
          ],
          "heatmap": [
           {
            "colorbar": {
             "outlinewidth": 0,
             "ticks": ""
            },
            "colorscale": [
             [
              0,
              "#0d0887"
             ],
             [
              0.1111111111111111,
              "#46039f"
             ],
             [
              0.2222222222222222,
              "#7201a8"
             ],
             [
              0.3333333333333333,
              "#9c179e"
             ],
             [
              0.4444444444444444,
              "#bd3786"
             ],
             [
              0.5555555555555556,
              "#d8576b"
             ],
             [
              0.6666666666666666,
              "#ed7953"
             ],
             [
              0.7777777777777778,
              "#fb9f3a"
             ],
             [
              0.8888888888888888,
              "#fdca26"
             ],
             [
              1,
              "#f0f921"
             ]
            ],
            "type": "heatmap"
           }
          ],
          "heatmapgl": [
           {
            "colorbar": {
             "outlinewidth": 0,
             "ticks": ""
            },
            "colorscale": [
             [
              0,
              "#0d0887"
             ],
             [
              0.1111111111111111,
              "#46039f"
             ],
             [
              0.2222222222222222,
              "#7201a8"
             ],
             [
              0.3333333333333333,
              "#9c179e"
             ],
             [
              0.4444444444444444,
              "#bd3786"
             ],
             [
              0.5555555555555556,
              "#d8576b"
             ],
             [
              0.6666666666666666,
              "#ed7953"
             ],
             [
              0.7777777777777778,
              "#fb9f3a"
             ],
             [
              0.8888888888888888,
              "#fdca26"
             ],
             [
              1,
              "#f0f921"
             ]
            ],
            "type": "heatmapgl"
           }
          ],
          "histogram": [
           {
            "marker": {
             "pattern": {
              "fillmode": "overlay",
              "size": 10,
              "solidity": 0.2
             }
            },
            "type": "histogram"
           }
          ],
          "histogram2d": [
           {
            "colorbar": {
             "outlinewidth": 0,
             "ticks": ""
            },
            "colorscale": [
             [
              0,
              "#0d0887"
             ],
             [
              0.1111111111111111,
              "#46039f"
             ],
             [
              0.2222222222222222,
              "#7201a8"
             ],
             [
              0.3333333333333333,
              "#9c179e"
             ],
             [
              0.4444444444444444,
              "#bd3786"
             ],
             [
              0.5555555555555556,
              "#d8576b"
             ],
             [
              0.6666666666666666,
              "#ed7953"
             ],
             [
              0.7777777777777778,
              "#fb9f3a"
             ],
             [
              0.8888888888888888,
              "#fdca26"
             ],
             [
              1,
              "#f0f921"
             ]
            ],
            "type": "histogram2d"
           }
          ],
          "histogram2dcontour": [
           {
            "colorbar": {
             "outlinewidth": 0,
             "ticks": ""
            },
            "colorscale": [
             [
              0,
              "#0d0887"
             ],
             [
              0.1111111111111111,
              "#46039f"
             ],
             [
              0.2222222222222222,
              "#7201a8"
             ],
             [
              0.3333333333333333,
              "#9c179e"
             ],
             [
              0.4444444444444444,
              "#bd3786"
             ],
             [
              0.5555555555555556,
              "#d8576b"
             ],
             [
              0.6666666666666666,
              "#ed7953"
             ],
             [
              0.7777777777777778,
              "#fb9f3a"
             ],
             [
              0.8888888888888888,
              "#fdca26"
             ],
             [
              1,
              "#f0f921"
             ]
            ],
            "type": "histogram2dcontour"
           }
          ],
          "mesh3d": [
           {
            "colorbar": {
             "outlinewidth": 0,
             "ticks": ""
            },
            "type": "mesh3d"
           }
          ],
          "parcoords": [
           {
            "line": {
             "colorbar": {
              "outlinewidth": 0,
              "ticks": ""
             }
            },
            "type": "parcoords"
           }
          ],
          "pie": [
           {
            "automargin": true,
            "type": "pie"
           }
          ],
          "scatter": [
           {
            "marker": {
             "colorbar": {
              "outlinewidth": 0,
              "ticks": ""
             }
            },
            "type": "scatter"
           }
          ],
          "scatter3d": [
           {
            "line": {
             "colorbar": {
              "outlinewidth": 0,
              "ticks": ""
             }
            },
            "marker": {
             "colorbar": {
              "outlinewidth": 0,
              "ticks": ""
             }
            },
            "type": "scatter3d"
           }
          ],
          "scattercarpet": [
           {
            "marker": {
             "colorbar": {
              "outlinewidth": 0,
              "ticks": ""
             }
            },
            "type": "scattercarpet"
           }
          ],
          "scattergeo": [
           {
            "marker": {
             "colorbar": {
              "outlinewidth": 0,
              "ticks": ""
             }
            },
            "type": "scattergeo"
           }
          ],
          "scattergl": [
           {
            "marker": {
             "colorbar": {
              "outlinewidth": 0,
              "ticks": ""
             }
            },
            "type": "scattergl"
           }
          ],
          "scattermapbox": [
           {
            "marker": {
             "colorbar": {
              "outlinewidth": 0,
              "ticks": ""
             }
            },
            "type": "scattermapbox"
           }
          ],
          "scatterpolar": [
           {
            "marker": {
             "colorbar": {
              "outlinewidth": 0,
              "ticks": ""
             }
            },
            "type": "scatterpolar"
           }
          ],
          "scatterpolargl": [
           {
            "marker": {
             "colorbar": {
              "outlinewidth": 0,
              "ticks": ""
             }
            },
            "type": "scatterpolargl"
           }
          ],
          "scatterternary": [
           {
            "marker": {
             "colorbar": {
              "outlinewidth": 0,
              "ticks": ""
             }
            },
            "type": "scatterternary"
           }
          ],
          "surface": [
           {
            "colorbar": {
             "outlinewidth": 0,
             "ticks": ""
            },
            "colorscale": [
             [
              0,
              "#0d0887"
             ],
             [
              0.1111111111111111,
              "#46039f"
             ],
             [
              0.2222222222222222,
              "#7201a8"
             ],
             [
              0.3333333333333333,
              "#9c179e"
             ],
             [
              0.4444444444444444,
              "#bd3786"
             ],
             [
              0.5555555555555556,
              "#d8576b"
             ],
             [
              0.6666666666666666,
              "#ed7953"
             ],
             [
              0.7777777777777778,
              "#fb9f3a"
             ],
             [
              0.8888888888888888,
              "#fdca26"
             ],
             [
              1,
              "#f0f921"
             ]
            ],
            "type": "surface"
           }
          ],
          "table": [
           {
            "cells": {
             "fill": {
              "color": "#EBF0F8"
             },
             "line": {
              "color": "white"
             }
            },
            "header": {
             "fill": {
              "color": "#C8D4E3"
             },
             "line": {
              "color": "white"
             }
            },
            "type": "table"
           }
          ]
         },
         "layout": {
          "annotationdefaults": {
           "arrowcolor": "#2a3f5f",
           "arrowhead": 0,
           "arrowwidth": 1
          },
          "autotypenumbers": "strict",
          "coloraxis": {
           "colorbar": {
            "outlinewidth": 0,
            "ticks": ""
           }
          },
          "colorscale": {
           "diverging": [
            [
             0,
             "#8e0152"
            ],
            [
             0.1,
             "#c51b7d"
            ],
            [
             0.2,
             "#de77ae"
            ],
            [
             0.3,
             "#f1b6da"
            ],
            [
             0.4,
             "#fde0ef"
            ],
            [
             0.5,
             "#f7f7f7"
            ],
            [
             0.6,
             "#e6f5d0"
            ],
            [
             0.7,
             "#b8e186"
            ],
            [
             0.8,
             "#7fbc41"
            ],
            [
             0.9,
             "#4d9221"
            ],
            [
             1,
             "#276419"
            ]
           ],
           "sequential": [
            [
             0,
             "#0d0887"
            ],
            [
             0.1111111111111111,
             "#46039f"
            ],
            [
             0.2222222222222222,
             "#7201a8"
            ],
            [
             0.3333333333333333,
             "#9c179e"
            ],
            [
             0.4444444444444444,
             "#bd3786"
            ],
            [
             0.5555555555555556,
             "#d8576b"
            ],
            [
             0.6666666666666666,
             "#ed7953"
            ],
            [
             0.7777777777777778,
             "#fb9f3a"
            ],
            [
             0.8888888888888888,
             "#fdca26"
            ],
            [
             1,
             "#f0f921"
            ]
           ],
           "sequentialminus": [
            [
             0,
             "#0d0887"
            ],
            [
             0.1111111111111111,
             "#46039f"
            ],
            [
             0.2222222222222222,
             "#7201a8"
            ],
            [
             0.3333333333333333,
             "#9c179e"
            ],
            [
             0.4444444444444444,
             "#bd3786"
            ],
            [
             0.5555555555555556,
             "#d8576b"
            ],
            [
             0.6666666666666666,
             "#ed7953"
            ],
            [
             0.7777777777777778,
             "#fb9f3a"
            ],
            [
             0.8888888888888888,
             "#fdca26"
            ],
            [
             1,
             "#f0f921"
            ]
           ]
          },
          "colorway": [
           "#636efa",
           "#EF553B",
           "#00cc96",
           "#ab63fa",
           "#FFA15A",
           "#19d3f3",
           "#FF6692",
           "#B6E880",
           "#FF97FF",
           "#FECB52"
          ],
          "font": {
           "color": "#2a3f5f"
          },
          "geo": {
           "bgcolor": "white",
           "lakecolor": "white",
           "landcolor": "#E5ECF6",
           "showlakes": true,
           "showland": true,
           "subunitcolor": "white"
          },
          "hoverlabel": {
           "align": "left"
          },
          "hovermode": "closest",
          "mapbox": {
           "style": "light"
          },
          "paper_bgcolor": "white",
          "plot_bgcolor": "#E5ECF6",
          "polar": {
           "angularaxis": {
            "gridcolor": "white",
            "linecolor": "white",
            "ticks": ""
           },
           "bgcolor": "#E5ECF6",
           "radialaxis": {
            "gridcolor": "white",
            "linecolor": "white",
            "ticks": ""
           }
          },
          "scene": {
           "xaxis": {
            "backgroundcolor": "#E5ECF6",
            "gridcolor": "white",
            "gridwidth": 2,
            "linecolor": "white",
            "showbackground": true,
            "ticks": "",
            "zerolinecolor": "white"
           },
           "yaxis": {
            "backgroundcolor": "#E5ECF6",
            "gridcolor": "white",
            "gridwidth": 2,
            "linecolor": "white",
            "showbackground": true,
            "ticks": "",
            "zerolinecolor": "white"
           },
           "zaxis": {
            "backgroundcolor": "#E5ECF6",
            "gridcolor": "white",
            "gridwidth": 2,
            "linecolor": "white",
            "showbackground": true,
            "ticks": "",
            "zerolinecolor": "white"
           }
          },
          "shapedefaults": {
           "line": {
            "color": "#2a3f5f"
           }
          },
          "ternary": {
           "aaxis": {
            "gridcolor": "white",
            "linecolor": "white",
            "ticks": ""
           },
           "baxis": {
            "gridcolor": "white",
            "linecolor": "white",
            "ticks": ""
           },
           "bgcolor": "#E5ECF6",
           "caxis": {
            "gridcolor": "white",
            "linecolor": "white",
            "ticks": ""
           }
          },
          "title": {
           "x": 0.05
          },
          "xaxis": {
           "automargin": true,
           "gridcolor": "white",
           "linecolor": "white",
           "ticks": "",
           "title": {
            "standoff": 15
           },
           "zerolinecolor": "white",
           "zerolinewidth": 2
          },
          "yaxis": {
           "automargin": true,
           "gridcolor": "white",
           "linecolor": "white",
           "ticks": "",
           "title": {
            "standoff": 15
           },
           "zerolinecolor": "white",
           "zerolinewidth": 2
          }
         }
        },
        "title": {
         "font": {
          "size": 24
         },
         "text": "Management Job Wage Gap by Year"
        },
        "width": 1200,
        "xaxis": {
         "title": {
          "text": "Year"
         }
        },
        "yaxis": {
         "title": {
          "text": "Management Job Wage Gap"
         }
        }
       }
      }
     },
     "metadata": {},
     "output_type": "display_data"
    }
   ],
   "source": [
    "import_feat = ['state_legislature','mngmt_job_wage_gap','rape_rate','life_exp_m_f','abortion_rate']\n",
    "\n",
    "# Calculate the rank percentage for each state in 2011\n",
    "df['pct_rank'] = df[df['year'] == 2020]['mngmt_job_wage_gap'].rank(pct=True)\n",
    "\n",
    "# Divide states into three groups based on rank percentage\n",
    "df['group'] = pd.cut(df['pct_rank'], bins=[0, 0.1, 0.45, 0.55, 0.9, 1.0], labels=[r'前10%', r'10%-45%', r'45%-55%', r'55%-90%', r'后10%'])\n",
    "\n",
    "# Process each state's data individually and store it in a dictionary\n",
    "states_data = {}\n",
    "for state, data in df.groupby('state'):\n",
    "    # Sort the data by year\n",
    "    data = data.sort_values('year')\n",
    "    # Construct Plotly's Trace object\n",
    "    trace = go.Scatter(\n",
    "        x=data['year'],\n",
    "        y=data['mngmt_job_wage_gap'],\n",
    "        name=state,\n",
    "        line=dict(width=2),\n",
    "        mode='lines',\n",
    "        text=data['mngmt_job_wage_gap'],\n",
    "        hovertemplate='<b>%{text:.2f}%</b><brstate: %{name}<br>year: %{x}'\n",
    "    )\n",
    "    # Assign the corresponding color according to which group the state belongs to\n",
    "    if r'前10%' in data['group'].unique():\n",
    "        \n",
    "        trace.update(line=dict(color='#750D86'))\n",
    "        states_data[state] = trace\n",
    "\n",
    "    elif r'后10%' in data['group'].unique():\n",
    "        trace.update(line=dict(color='#FEAF16'))\n",
    "        states_data[state] = trace\n",
    "\n",
    "    elif r'45%-55%' in data['group'].unique():\n",
    "        trace.update(line=dict(color='#00AB8B'))\n",
    "        states_data[state] = trace\n",
    "\n",
    "    # Store a Trace object for each state\n",
    "\n",
    "# Construct Plotly's Figure object\n",
    "fig = go.Figure(list(states_data.values()))\n",
    "\n",
    "# Add a chart title and axis labels\n",
    "fig.update_layout(title='Management Job Wage Gap by Year',\n",
    "                title_font_size=24,\n",
    "                legend_title='States:',\n",
    "                xaxis_title='Year',\n",
    "                yaxis_title='Management Job Wage Gap',\n",
    "                width=1200,\n",
    "                height=700)\n",
    "\n",
    "# show chart\n",
    "fig.show()\n"
   ]
  },
  {
   "attachments": {},
   "cell_type": "markdown",
   "metadata": {},
   "source": [
    "<h4> Management job wage gap </h4>\n",
    "\n",
    "* Proportion of female wage to male wage in management job.\n",
    "* In general, the trend is steady before 2019, with a slight increase after.\n",
    "    * Ohio: From 2014-2018, shows a relatively significant \n",
    "    * Utah: Observe a mild fluctuation between 2011 to 2019, then a sudden increase from 2019 to 2020"
   ]
  },
  {
   "cell_type": "code",
   "execution_count": 136,
   "metadata": {},
   "outputs": [
    {
     "data": {
      "application/vnd.plotly.v1+json": {
       "config": {
        "plotlyServerURL": "https://plot.ly"
       },
       "data": [
        {
         "hovertemplate": "<b>%{text:.2f}%</b><brstate: %{name}<br>year: %{x}",
         "line": {
          "color": "#FEAF16",
          "width": 2
         },
         "mode": "lines",
         "name": "Alaska",
         "text": [
          60.2,
          79.7,
          125.4,
          104.7,
          122,
          141.9,
          116.7,
          161.6,
          148.7,
          154.8
         ],
         "type": "scatter",
         "x": [
          2011,
          2012,
          2013,
          2014,
          2015,
          2016,
          2017,
          2018,
          2019,
          2020
         ],
         "y": [
          60.2,
          79.7,
          125.4,
          104.7,
          122,
          141.9,
          116.7,
          161.6,
          148.7,
          154.8
         ]
        },
        {
         "hovertemplate": "<b>%{text:.2f}%</b><brstate: %{name}<br>year: %{x}",
         "line": {
          "color": "#FEAF16",
          "width": 2
         },
         "mode": "lines",
         "name": "Arkansas",
         "text": [
          41.9,
          42.3,
          48.1,
          59.4,
          64.8,
          71.7,
          68.3,
          72.9,
          77.2,
          73.5
         ],
         "type": "scatter",
         "x": [
          2011,
          2012,
          2013,
          2014,
          2015,
          2016,
          2017,
          2018,
          2019,
          2020
         ],
         "y": [
          41.9,
          42.3,
          48.1,
          59.4,
          64.8,
          71.7,
          68.3,
          72.9,
          77.2,
          73.5
         ]
        },
        {
         "hovertemplate": "<b>%{text:.2f}%</b><brstate: %{name}<br>year: %{x}",
         "line": {
          "color": "#FEAF16",
          "width": 2
         },
         "mode": "lines",
         "name": "Colorado",
         "text": [
          44.7,
          40.7,
          55.7,
          56.7,
          59.7,
          64.2,
          68.8,
          71.5,
          67.2,
          62.9
         ],
         "type": "scatter",
         "x": [
          2011,
          2012,
          2013,
          2014,
          2015,
          2016,
          2017,
          2018,
          2019,
          2020
         ],
         "y": [
          44.7,
          40.7,
          55.7,
          56.7,
          59.7,
          64.2,
          68.8,
          71.5,
          67.2,
          62.9
         ]
        },
        {
         "hovertemplate": "<b>%{text:.2f}%</b><brstate: %{name}<br>year: %{x}",
         "line": {
          "color": "#750D86",
          "width": 2
         },
         "mode": "lines",
         "name": "Connecticut",
         "text": [
          19.2,
          25.6,
          26.6,
          21.7,
          21.5,
          21.3,
          23.3,
          23.5,
          21.6,
          16.7
         ],
         "type": "scatter",
         "x": [
          2011,
          2012,
          2013,
          2014,
          2015,
          2016,
          2017,
          2018,
          2019,
          2020
         ],
         "y": [
          19.2,
          25.6,
          26.6,
          21.7,
          21.5,
          21.3,
          23.3,
          23.5,
          21.6,
          16.7
         ]
        },
        {
         "hovertemplate": "<b>%{text:.2f}%</b><brstate: %{name}<br>year: %{x}",
         "line": {
          "color": "#750D86",
          "width": 2
         },
         "mode": "lines",
         "name": "Delaware",
         "text": [
          33.8,
          26.5,
          41,
          41.3,
          36,
          32.4,
          34.7,
          34.9,
          31.8,
          26.4
         ],
         "type": "scatter",
         "x": [
          2011,
          2012,
          2013,
          2014,
          2015,
          2016,
          2017,
          2018,
          2019,
          2020
         ],
         "y": [
          33.8,
          26.5,
          41,
          41.3,
          36,
          32.4,
          34.7,
          34.9,
          31.8,
          26.4
         ]
        },
        {
         "hovertemplate": "<b>%{text:.2f}%</b><brstate: %{name}<br>year: %{x}",
         "line": {
          "color": "#00AB8B",
          "width": 2
         },
         "mode": "lines",
         "name": "Hawaii",
         "text": [
          25.6,
          20.5,
          27.4,
          31.3,
          39.2,
          43.3,
          39.7,
          44,
          54,
          40.4
         ],
         "type": "scatter",
         "x": [
          2011,
          2012,
          2013,
          2014,
          2015,
          2016,
          2017,
          2018,
          2019,
          2020
         ],
         "y": [
          25.6,
          20.5,
          27.4,
          31.3,
          39.2,
          43.3,
          39.7,
          44,
          54,
          40.4
         ]
        },
        {
         "hovertemplate": "<b>%{text:.2f}%</b><brstate: %{name}<br>year: %{x}",
         "line": {
          "color": "#00AB8B",
          "width": 2
         },
         "mode": "lines",
         "name": "Illinois",
         "text": [
          23.6,
          27.7,
          33.1,
          32.3,
          37.5,
          38.3,
          43.4,
          46,
          48,
          40.4
         ],
         "type": "scatter",
         "x": [
          2011,
          2012,
          2013,
          2014,
          2015,
          2016,
          2017,
          2018,
          2019,
          2020
         ],
         "y": [
          23.6,
          27.7,
          33.1,
          32.3,
          37.5,
          38.3,
          43.4,
          46,
          48,
          40.4
         ]
        },
        {
         "hovertemplate": "<b>%{text:.2f}%</b><brstate: %{name}<br>year: %{x}",
         "line": {
          "color": "#750D86",
          "width": 2
         },
         "mode": "lines",
         "name": "Massachusetts",
         "text": [
          25,
          24.7,
          40.6,
          32.3,
          30.5,
          31.2,
          32,
          34.9,
          32,
          26.9
         ],
         "type": "scatter",
         "x": [
          2011,
          2012,
          2013,
          2014,
          2015,
          2016,
          2017,
          2018,
          2019,
          2020
         ],
         "y": [
          25,
          24.7,
          40.6,
          32.3,
          30.5,
          31.2,
          32,
          34.9,
          32,
          26.9
         ]
        },
        {
         "hovertemplate": "<b>%{text:.2f}%</b><brstate: %{name}<br>year: %{x}",
         "line": {
          "color": "#FEAF16",
          "width": 2
         },
         "mode": "lines",
         "name": "Michigan",
         "text": [
          44,
          46.4,
          66.6,
          63.3,
          65,
          71.8,
          70.6,
          76.9,
          72.4,
          60.9
         ],
         "type": "scatter",
         "x": [
          2011,
          2012,
          2013,
          2014,
          2015,
          2016,
          2017,
          2018,
          2019,
          2020
         ],
         "y": [
          44,
          46.4,
          66.6,
          63.3,
          65,
          71.8,
          70.6,
          76.9,
          72.4,
          60.9
         ]
        },
        {
         "hovertemplate": "<b>%{text:.2f}%</b><brstate: %{name}<br>year: %{x}",
         "line": {
          "color": "#00AB8B",
          "width": 2
         },
         "mode": "lines",
         "name": "Minnesota",
         "text": [
          39.5,
          30.5,
          37,
          36.7,
          42.3,
          42.5,
          42.8,
          43.9,
          43.4,
          39.1
         ],
         "type": "scatter",
         "x": [
          2011,
          2012,
          2013,
          2014,
          2015,
          2016,
          2017,
          2018,
          2019,
          2020
         ],
         "y": [
          39.5,
          30.5,
          37,
          36.7,
          42.3,
          42.5,
          42.8,
          43.9,
          43.4,
          39.1
         ]
        },
        {
         "hovertemplate": "<b>%{text:.2f}%</b><brstate: %{name}<br>year: %{x}",
         "line": {
          "color": "#00AB8B",
          "width": 2
         },
         "mode": "lines",
         "name": "New Hampshire",
         "text": [
          44.1,
          34,
          51.8,
          44.8,
          47.1,
          43.6,
          49.4,
          39.4,
          43.4,
          39.7
         ],
         "type": "scatter",
         "x": [
          2011,
          2012,
          2013,
          2014,
          2015,
          2016,
          2017,
          2018,
          2019,
          2020
         ],
         "y": [
          44.1,
          34,
          51.8,
          44.8,
          47.1,
          43.6,
          49.4,
          39.4,
          43.4,
          39.7
         ]
        },
        {
         "hovertemplate": "<b>%{text:.2f}%</b><brstate: %{name}<br>year: %{x}",
         "line": {
          "color": "#750D86",
          "width": 2
         },
         "mode": "lines",
         "name": "New Jersey",
         "text": [
          11.4,
          11.7,
          12.6,
          14.3,
          15.3,
          16.2,
          16.7,
          16,
          17.2,
          14.4
         ],
         "type": "scatter",
         "x": [
          2011,
          2012,
          2013,
          2014,
          2015,
          2016,
          2017,
          2018,
          2019,
          2020
         ],
         "y": [
          11.4,
          11.7,
          12.6,
          14.3,
          15.3,
          16.2,
          16.7,
          16,
          17.2,
          14.4
         ]
        },
        {
         "hovertemplate": "<b>%{text:.2f}%</b><brstate: %{name}<br>year: %{x}",
         "line": {
          "color": "#00AB8B",
          "width": 2
         },
         "mode": "lines",
         "name": "South Carolina",
         "text": [
          35.9,
          35.5,
          45.5,
          42.8,
          46.9,
          48.1,
          49.8,
          47.9,
          47.8,
          40
         ],
         "type": "scatter",
         "x": [
          2011,
          2012,
          2013,
          2014,
          2015,
          2016,
          2017,
          2018,
          2019,
          2020
         ],
         "y": [
          35.9,
          35.5,
          45.5,
          42.8,
          46.9,
          48.1,
          49.8,
          47.9,
          47.8,
          40
         ]
        },
        {
         "hovertemplate": "<b>%{text:.2f}%</b><brstate: %{name}<br>year: %{x}",
         "line": {
          "color": "#FEAF16",
          "width": 2
         },
         "mode": "lines",
         "name": "South Dakota",
         "text": [
          61.1,
          70.2,
          59.1,
          55.1,
          57.7,
          58.8,
          68.4,
          69.6,
          72.6,
          67.1
         ],
         "type": "scatter",
         "x": [
          2011,
          2012,
          2013,
          2014,
          2015,
          2016,
          2017,
          2018,
          2019,
          2020
         ],
         "y": [
          61.1,
          70.2,
          59.1,
          55.1,
          57.7,
          58.8,
          68.4,
          69.6,
          72.6,
          67.1
         ]
        },
        {
         "hovertemplate": "<b>%{text:.2f}%</b><brstate: %{name}<br>year: %{x}",
         "line": {
          "color": "#00AB8B",
          "width": 2
         },
         "mode": "lines",
         "name": "Tennessee",
         "text": [
          32.7,
          31.5,
          36.2,
          38.6,
          40.5,
          40.8,
          43.7,
          41.7,
          41.2,
          38.9
         ],
         "type": "scatter",
         "x": [
          2011,
          2012,
          2013,
          2014,
          2015,
          2016,
          2017,
          2018,
          2019,
          2020
         ],
         "y": [
          32.7,
          31.5,
          36.2,
          38.6,
          40.5,
          40.8,
          43.7,
          41.7,
          41.2,
          38.9
         ]
        },
        {
         "hovertemplate": "<b>%{text:.2f}%</b><brstate: %{name}<br>year: %{x}",
         "line": {
          "color": "#750D86",
          "width": 2
         },
         "mode": "lines",
         "name": "Virginia",
         "text": [
          19.6,
          17.7,
          27.4,
          27.7,
          27.9,
          32.5,
          33.8,
          34.3,
          33,
          26.5
         ],
         "type": "scatter",
         "x": [
          2011,
          2012,
          2013,
          2014,
          2015,
          2016,
          2017,
          2018,
          2019,
          2020
         ],
         "y": [
          19.6,
          17.7,
          27.4,
          27.7,
          27.9,
          32.5,
          33.8,
          34.3,
          33,
          26.5
         ]
        }
       ],
       "layout": {
        "height": 700,
        "template": {
         "data": {
          "bar": [
           {
            "error_x": {
             "color": "#2a3f5f"
            },
            "error_y": {
             "color": "#2a3f5f"
            },
            "marker": {
             "line": {
              "color": "#E5ECF6",
              "width": 0.5
             },
             "pattern": {
              "fillmode": "overlay",
              "size": 10,
              "solidity": 0.2
             }
            },
            "type": "bar"
           }
          ],
          "barpolar": [
           {
            "marker": {
             "line": {
              "color": "#E5ECF6",
              "width": 0.5
             },
             "pattern": {
              "fillmode": "overlay",
              "size": 10,
              "solidity": 0.2
             }
            },
            "type": "barpolar"
           }
          ],
          "carpet": [
           {
            "aaxis": {
             "endlinecolor": "#2a3f5f",
             "gridcolor": "white",
             "linecolor": "white",
             "minorgridcolor": "white",
             "startlinecolor": "#2a3f5f"
            },
            "baxis": {
             "endlinecolor": "#2a3f5f",
             "gridcolor": "white",
             "linecolor": "white",
             "minorgridcolor": "white",
             "startlinecolor": "#2a3f5f"
            },
            "type": "carpet"
           }
          ],
          "choropleth": [
           {
            "colorbar": {
             "outlinewidth": 0,
             "ticks": ""
            },
            "type": "choropleth"
           }
          ],
          "contour": [
           {
            "colorbar": {
             "outlinewidth": 0,
             "ticks": ""
            },
            "colorscale": [
             [
              0,
              "#0d0887"
             ],
             [
              0.1111111111111111,
              "#46039f"
             ],
             [
              0.2222222222222222,
              "#7201a8"
             ],
             [
              0.3333333333333333,
              "#9c179e"
             ],
             [
              0.4444444444444444,
              "#bd3786"
             ],
             [
              0.5555555555555556,
              "#d8576b"
             ],
             [
              0.6666666666666666,
              "#ed7953"
             ],
             [
              0.7777777777777778,
              "#fb9f3a"
             ],
             [
              0.8888888888888888,
              "#fdca26"
             ],
             [
              1,
              "#f0f921"
             ]
            ],
            "type": "contour"
           }
          ],
          "contourcarpet": [
           {
            "colorbar": {
             "outlinewidth": 0,
             "ticks": ""
            },
            "type": "contourcarpet"
           }
          ],
          "heatmap": [
           {
            "colorbar": {
             "outlinewidth": 0,
             "ticks": ""
            },
            "colorscale": [
             [
              0,
              "#0d0887"
             ],
             [
              0.1111111111111111,
              "#46039f"
             ],
             [
              0.2222222222222222,
              "#7201a8"
             ],
             [
              0.3333333333333333,
              "#9c179e"
             ],
             [
              0.4444444444444444,
              "#bd3786"
             ],
             [
              0.5555555555555556,
              "#d8576b"
             ],
             [
              0.6666666666666666,
              "#ed7953"
             ],
             [
              0.7777777777777778,
              "#fb9f3a"
             ],
             [
              0.8888888888888888,
              "#fdca26"
             ],
             [
              1,
              "#f0f921"
             ]
            ],
            "type": "heatmap"
           }
          ],
          "heatmapgl": [
           {
            "colorbar": {
             "outlinewidth": 0,
             "ticks": ""
            },
            "colorscale": [
             [
              0,
              "#0d0887"
             ],
             [
              0.1111111111111111,
              "#46039f"
             ],
             [
              0.2222222222222222,
              "#7201a8"
             ],
             [
              0.3333333333333333,
              "#9c179e"
             ],
             [
              0.4444444444444444,
              "#bd3786"
             ],
             [
              0.5555555555555556,
              "#d8576b"
             ],
             [
              0.6666666666666666,
              "#ed7953"
             ],
             [
              0.7777777777777778,
              "#fb9f3a"
             ],
             [
              0.8888888888888888,
              "#fdca26"
             ],
             [
              1,
              "#f0f921"
             ]
            ],
            "type": "heatmapgl"
           }
          ],
          "histogram": [
           {
            "marker": {
             "pattern": {
              "fillmode": "overlay",
              "size": 10,
              "solidity": 0.2
             }
            },
            "type": "histogram"
           }
          ],
          "histogram2d": [
           {
            "colorbar": {
             "outlinewidth": 0,
             "ticks": ""
            },
            "colorscale": [
             [
              0,
              "#0d0887"
             ],
             [
              0.1111111111111111,
              "#46039f"
             ],
             [
              0.2222222222222222,
              "#7201a8"
             ],
             [
              0.3333333333333333,
              "#9c179e"
             ],
             [
              0.4444444444444444,
              "#bd3786"
             ],
             [
              0.5555555555555556,
              "#d8576b"
             ],
             [
              0.6666666666666666,
              "#ed7953"
             ],
             [
              0.7777777777777778,
              "#fb9f3a"
             ],
             [
              0.8888888888888888,
              "#fdca26"
             ],
             [
              1,
              "#f0f921"
             ]
            ],
            "type": "histogram2d"
           }
          ],
          "histogram2dcontour": [
           {
            "colorbar": {
             "outlinewidth": 0,
             "ticks": ""
            },
            "colorscale": [
             [
              0,
              "#0d0887"
             ],
             [
              0.1111111111111111,
              "#46039f"
             ],
             [
              0.2222222222222222,
              "#7201a8"
             ],
             [
              0.3333333333333333,
              "#9c179e"
             ],
             [
              0.4444444444444444,
              "#bd3786"
             ],
             [
              0.5555555555555556,
              "#d8576b"
             ],
             [
              0.6666666666666666,
              "#ed7953"
             ],
             [
              0.7777777777777778,
              "#fb9f3a"
             ],
             [
              0.8888888888888888,
              "#fdca26"
             ],
             [
              1,
              "#f0f921"
             ]
            ],
            "type": "histogram2dcontour"
           }
          ],
          "mesh3d": [
           {
            "colorbar": {
             "outlinewidth": 0,
             "ticks": ""
            },
            "type": "mesh3d"
           }
          ],
          "parcoords": [
           {
            "line": {
             "colorbar": {
              "outlinewidth": 0,
              "ticks": ""
             }
            },
            "type": "parcoords"
           }
          ],
          "pie": [
           {
            "automargin": true,
            "type": "pie"
           }
          ],
          "scatter": [
           {
            "marker": {
             "colorbar": {
              "outlinewidth": 0,
              "ticks": ""
             }
            },
            "type": "scatter"
           }
          ],
          "scatter3d": [
           {
            "line": {
             "colorbar": {
              "outlinewidth": 0,
              "ticks": ""
             }
            },
            "marker": {
             "colorbar": {
              "outlinewidth": 0,
              "ticks": ""
             }
            },
            "type": "scatter3d"
           }
          ],
          "scattercarpet": [
           {
            "marker": {
             "colorbar": {
              "outlinewidth": 0,
              "ticks": ""
             }
            },
            "type": "scattercarpet"
           }
          ],
          "scattergeo": [
           {
            "marker": {
             "colorbar": {
              "outlinewidth": 0,
              "ticks": ""
             }
            },
            "type": "scattergeo"
           }
          ],
          "scattergl": [
           {
            "marker": {
             "colorbar": {
              "outlinewidth": 0,
              "ticks": ""
             }
            },
            "type": "scattergl"
           }
          ],
          "scattermapbox": [
           {
            "marker": {
             "colorbar": {
              "outlinewidth": 0,
              "ticks": ""
             }
            },
            "type": "scattermapbox"
           }
          ],
          "scatterpolar": [
           {
            "marker": {
             "colorbar": {
              "outlinewidth": 0,
              "ticks": ""
             }
            },
            "type": "scatterpolar"
           }
          ],
          "scatterpolargl": [
           {
            "marker": {
             "colorbar": {
              "outlinewidth": 0,
              "ticks": ""
             }
            },
            "type": "scatterpolargl"
           }
          ],
          "scatterternary": [
           {
            "marker": {
             "colorbar": {
              "outlinewidth": 0,
              "ticks": ""
             }
            },
            "type": "scatterternary"
           }
          ],
          "surface": [
           {
            "colorbar": {
             "outlinewidth": 0,
             "ticks": ""
            },
            "colorscale": [
             [
              0,
              "#0d0887"
             ],
             [
              0.1111111111111111,
              "#46039f"
             ],
             [
              0.2222222222222222,
              "#7201a8"
             ],
             [
              0.3333333333333333,
              "#9c179e"
             ],
             [
              0.4444444444444444,
              "#bd3786"
             ],
             [
              0.5555555555555556,
              "#d8576b"
             ],
             [
              0.6666666666666666,
              "#ed7953"
             ],
             [
              0.7777777777777778,
              "#fb9f3a"
             ],
             [
              0.8888888888888888,
              "#fdca26"
             ],
             [
              1,
              "#f0f921"
             ]
            ],
            "type": "surface"
           }
          ],
          "table": [
           {
            "cells": {
             "fill": {
              "color": "#EBF0F8"
             },
             "line": {
              "color": "white"
             }
            },
            "header": {
             "fill": {
              "color": "#C8D4E3"
             },
             "line": {
              "color": "white"
             }
            },
            "type": "table"
           }
          ]
         },
         "layout": {
          "annotationdefaults": {
           "arrowcolor": "#2a3f5f",
           "arrowhead": 0,
           "arrowwidth": 1
          },
          "autotypenumbers": "strict",
          "coloraxis": {
           "colorbar": {
            "outlinewidth": 0,
            "ticks": ""
           }
          },
          "colorscale": {
           "diverging": [
            [
             0,
             "#8e0152"
            ],
            [
             0.1,
             "#c51b7d"
            ],
            [
             0.2,
             "#de77ae"
            ],
            [
             0.3,
             "#f1b6da"
            ],
            [
             0.4,
             "#fde0ef"
            ],
            [
             0.5,
             "#f7f7f7"
            ],
            [
             0.6,
             "#e6f5d0"
            ],
            [
             0.7,
             "#b8e186"
            ],
            [
             0.8,
             "#7fbc41"
            ],
            [
             0.9,
             "#4d9221"
            ],
            [
             1,
             "#276419"
            ]
           ],
           "sequential": [
            [
             0,
             "#0d0887"
            ],
            [
             0.1111111111111111,
             "#46039f"
            ],
            [
             0.2222222222222222,
             "#7201a8"
            ],
            [
             0.3333333333333333,
             "#9c179e"
            ],
            [
             0.4444444444444444,
             "#bd3786"
            ],
            [
             0.5555555555555556,
             "#d8576b"
            ],
            [
             0.6666666666666666,
             "#ed7953"
            ],
            [
             0.7777777777777778,
             "#fb9f3a"
            ],
            [
             0.8888888888888888,
             "#fdca26"
            ],
            [
             1,
             "#f0f921"
            ]
           ],
           "sequentialminus": [
            [
             0,
             "#0d0887"
            ],
            [
             0.1111111111111111,
             "#46039f"
            ],
            [
             0.2222222222222222,
             "#7201a8"
            ],
            [
             0.3333333333333333,
             "#9c179e"
            ],
            [
             0.4444444444444444,
             "#bd3786"
            ],
            [
             0.5555555555555556,
             "#d8576b"
            ],
            [
             0.6666666666666666,
             "#ed7953"
            ],
            [
             0.7777777777777778,
             "#fb9f3a"
            ],
            [
             0.8888888888888888,
             "#fdca26"
            ],
            [
             1,
             "#f0f921"
            ]
           ]
          },
          "colorway": [
           "#636efa",
           "#EF553B",
           "#00cc96",
           "#ab63fa",
           "#FFA15A",
           "#19d3f3",
           "#FF6692",
           "#B6E880",
           "#FF97FF",
           "#FECB52"
          ],
          "font": {
           "color": "#2a3f5f"
          },
          "geo": {
           "bgcolor": "white",
           "lakecolor": "white",
           "landcolor": "#E5ECF6",
           "showlakes": true,
           "showland": true,
           "subunitcolor": "white"
          },
          "hoverlabel": {
           "align": "left"
          },
          "hovermode": "closest",
          "mapbox": {
           "style": "light"
          },
          "paper_bgcolor": "white",
          "plot_bgcolor": "#E5ECF6",
          "polar": {
           "angularaxis": {
            "gridcolor": "white",
            "linecolor": "white",
            "ticks": ""
           },
           "bgcolor": "#E5ECF6",
           "radialaxis": {
            "gridcolor": "white",
            "linecolor": "white",
            "ticks": ""
           }
          },
          "scene": {
           "xaxis": {
            "backgroundcolor": "#E5ECF6",
            "gridcolor": "white",
            "gridwidth": 2,
            "linecolor": "white",
            "showbackground": true,
            "ticks": "",
            "zerolinecolor": "white"
           },
           "yaxis": {
            "backgroundcolor": "#E5ECF6",
            "gridcolor": "white",
            "gridwidth": 2,
            "linecolor": "white",
            "showbackground": true,
            "ticks": "",
            "zerolinecolor": "white"
           },
           "zaxis": {
            "backgroundcolor": "#E5ECF6",
            "gridcolor": "white",
            "gridwidth": 2,
            "linecolor": "white",
            "showbackground": true,
            "ticks": "",
            "zerolinecolor": "white"
           }
          },
          "shapedefaults": {
           "line": {
            "color": "#2a3f5f"
           }
          },
          "ternary": {
           "aaxis": {
            "gridcolor": "white",
            "linecolor": "white",
            "ticks": ""
           },
           "baxis": {
            "gridcolor": "white",
            "linecolor": "white",
            "ticks": ""
           },
           "bgcolor": "#E5ECF6",
           "caxis": {
            "gridcolor": "white",
            "linecolor": "white",
            "ticks": ""
           }
          },
          "title": {
           "x": 0.05
          },
          "xaxis": {
           "automargin": true,
           "gridcolor": "white",
           "linecolor": "white",
           "ticks": "",
           "title": {
            "standoff": 15
           },
           "zerolinecolor": "white",
           "zerolinewidth": 2
          },
          "yaxis": {
           "automargin": true,
           "gridcolor": "white",
           "linecolor": "white",
           "ticks": "",
           "title": {
            "standoff": 15
           },
           "zerolinecolor": "white",
           "zerolinewidth": 2
          }
         }
        },
        "title": {
         "text": "rape rate"
        },
        "width": 1200,
        "xaxis": {
         "title": {
          "text": "year"
         }
        },
        "yaxis": {
         "title": {
          "text": "rape rate"
         }
        }
       }
      }
     },
     "metadata": {},
     "output_type": "display_data"
    }
   ],
   "source": [
    "import_feat = ['state_legislature','mngmt_job_wage_gap','rape_rate','life_exp_m_f','abortion_rate']\n",
    "\n",
    "# Calculate the rank percentage for each state in 2011\n",
    "df['pct_rank'] = df[df['year'] == 2020]['rape_rate'].rank(pct=True)\n",
    "\n",
    "# Divide states into three groups based on rank percentage\n",
    "df['group'] = pd.cut(df['pct_rank'], bins=[0, 0.1, 0.45, 0.55, 0.9, 1.0], labels=[r'前10%', r'10%-45%', r'45%-55%', r'55%-90%', r'后10%'])\n",
    "\n",
    "# Process each state's data individually and store it in a dictionary\n",
    "states_data = {}\n",
    "for state, data in df.groupby('state'):\n",
    "    # Sort the data by year\n",
    "    data = data.sort_values('year')\n",
    "    # Construct Plotly's Trace object\n",
    "    trace = go.Scatter(\n",
    "        x=data['year'],\n",
    "        y=data['rape_rate'],\n",
    "        name=state,\n",
    "        line=dict(width=2),\n",
    "        mode='lines',\n",
    "        text=data['rape_rate'],\n",
    "        hovertemplate='<b>%{text:.2f}%</b><brstate: %{name}<br>year: %{x}'\n",
    "    )\n",
    "    # Assign the corresponding color according to which group the state belongs to\n",
    "    if r'前10%' in data['group'].unique():\n",
    "        \n",
    "        trace.update(line=dict(color='#750D86'))\n",
    "        states_data[state] = trace\n",
    "\n",
    "    elif r'后10%' in data['group'].unique():\n",
    "        trace.update(line=dict(color='#FEAF16'))\n",
    "        states_data[state] = trace\n",
    "\n",
    "    elif r'45%-55%' in data['group'].unique():\n",
    "        trace.update(line=dict(color='#00AB8B'))\n",
    "        states_data[state] = trace\n",
    "\n",
    "    # Store a Trace object for each state\n",
    "\n",
    "# Construct Plotly's Figure object\n",
    "fig = go.Figure(list(states_data.values()))\n",
    "\n",
    "# Add a chart title and axis labels\n",
    "fig.update_layout(title='rape rate',\n",
    "                xaxis_title='year',\n",
    "                yaxis_title='rape rate',\n",
    "                width=1200,\n",
    "                height=700)\n",
    "\n",
    "# show chart\n",
    "fig.show()"
   ]
  },
  {
   "cell_type": "code",
   "execution_count": 137,
   "metadata": {},
   "outputs": [
    {
     "data": {
      "application/vnd.plotly.v1+json": {
       "config": {
        "plotlyServerURL": "https://plot.ly"
       },
       "data": [
        {
         "hovertemplate": "<b>%{text:.2f}%</b><brstate: %{name}<br>year: %{x}",
         "line": {
          "color": "#FEAF16",
          "width": 2
         },
         "mode": "lines",
         "name": "Alaska",
         "text": [
          60.2,
          79.7,
          125.4,
          104.7,
          122,
          141.9,
          116.7,
          161.6,
          148.7,
          154.8
         ],
         "type": "scatter",
         "x": [
          2011,
          2012,
          2013,
          2014,
          2015,
          2016,
          2017,
          2018,
          2019,
          2020
         ],
         "y": [
          60.2,
          79.7,
          125.4,
          104.7,
          122,
          141.9,
          116.7,
          161.6,
          148.7,
          154.8
         ]
        },
        {
         "hovertemplate": "<b>%{text:.2f}%</b><brstate: %{name}<br>year: %{x}",
         "line": {
          "color": "#FEAF16",
          "width": 2
         },
         "mode": "lines",
         "name": "Arkansas",
         "text": [
          41.9,
          42.3,
          48.1,
          59.4,
          64.8,
          71.7,
          68.3,
          72.9,
          77.2,
          73.5
         ],
         "type": "scatter",
         "x": [
          2011,
          2012,
          2013,
          2014,
          2015,
          2016,
          2017,
          2018,
          2019,
          2020
         ],
         "y": [
          41.9,
          42.3,
          48.1,
          59.4,
          64.8,
          71.7,
          68.3,
          72.9,
          77.2,
          73.5
         ]
        },
        {
         "hovertemplate": "<b>%{text:.2f}%</b><brstate: %{name}<br>year: %{x}",
         "line": {
          "color": "#FEAF16",
          "width": 2
         },
         "mode": "lines",
         "name": "Colorado",
         "text": [
          44.7,
          40.7,
          55.7,
          56.7,
          59.7,
          64.2,
          68.8,
          71.5,
          67.2,
          62.9
         ],
         "type": "scatter",
         "x": [
          2011,
          2012,
          2013,
          2014,
          2015,
          2016,
          2017,
          2018,
          2019,
          2020
         ],
         "y": [
          44.7,
          40.7,
          55.7,
          56.7,
          59.7,
          64.2,
          68.8,
          71.5,
          67.2,
          62.9
         ]
        },
        {
         "hovertemplate": "<b>%{text:.2f}%</b><brstate: %{name}<br>year: %{x}",
         "line": {
          "color": "#750D86",
          "width": 2
         },
         "mode": "lines",
         "name": "Connecticut",
         "text": [
          19.2,
          25.6,
          26.6,
          21.7,
          21.5,
          21.3,
          23.3,
          23.5,
          21.6,
          16.7
         ],
         "type": "scatter",
         "x": [
          2011,
          2012,
          2013,
          2014,
          2015,
          2016,
          2017,
          2018,
          2019,
          2020
         ],
         "y": [
          19.2,
          25.6,
          26.6,
          21.7,
          21.5,
          21.3,
          23.3,
          23.5,
          21.6,
          16.7
         ]
        },
        {
         "hovertemplate": "<b>%{text:.2f}%</b><brstate: %{name}<br>year: %{x}",
         "line": {
          "color": "#750D86",
          "width": 2
         },
         "mode": "lines",
         "name": "Delaware",
         "text": [
          33.8,
          26.5,
          41,
          41.3,
          36,
          32.4,
          34.7,
          34.9,
          31.8,
          26.4
         ],
         "type": "scatter",
         "x": [
          2011,
          2012,
          2013,
          2014,
          2015,
          2016,
          2017,
          2018,
          2019,
          2020
         ],
         "y": [
          33.8,
          26.5,
          41,
          41.3,
          36,
          32.4,
          34.7,
          34.9,
          31.8,
          26.4
         ]
        },
        {
         "hovertemplate": "<b>%{text:.2f}%</b><brstate: %{name}<br>year: %{x}",
         "line": {
          "color": "#00AB8B",
          "width": 2
         },
         "mode": "lines",
         "name": "Hawaii",
         "text": [
          25.6,
          20.5,
          27.4,
          31.3,
          39.2,
          43.3,
          39.7,
          44,
          54,
          40.4
         ],
         "type": "scatter",
         "x": [
          2011,
          2012,
          2013,
          2014,
          2015,
          2016,
          2017,
          2018,
          2019,
          2020
         ],
         "y": [
          25.6,
          20.5,
          27.4,
          31.3,
          39.2,
          43.3,
          39.7,
          44,
          54,
          40.4
         ]
        },
        {
         "hovertemplate": "<b>%{text:.2f}%</b><brstate: %{name}<br>year: %{x}",
         "line": {
          "color": "#00AB8B",
          "width": 2
         },
         "mode": "lines",
         "name": "Illinois",
         "text": [
          23.6,
          27.7,
          33.1,
          32.3,
          37.5,
          38.3,
          43.4,
          46,
          48,
          40.4
         ],
         "type": "scatter",
         "x": [
          2011,
          2012,
          2013,
          2014,
          2015,
          2016,
          2017,
          2018,
          2019,
          2020
         ],
         "y": [
          23.6,
          27.7,
          33.1,
          32.3,
          37.5,
          38.3,
          43.4,
          46,
          48,
          40.4
         ]
        },
        {
         "hovertemplate": "<b>%{text:.2f}%</b><brstate: %{name}<br>year: %{x}",
         "line": {
          "color": "#750D86",
          "width": 2
         },
         "mode": "lines",
         "name": "Massachusetts",
         "text": [
          25,
          24.7,
          40.6,
          32.3,
          30.5,
          31.2,
          32,
          34.9,
          32,
          26.9
         ],
         "type": "scatter",
         "x": [
          2011,
          2012,
          2013,
          2014,
          2015,
          2016,
          2017,
          2018,
          2019,
          2020
         ],
         "y": [
          25,
          24.7,
          40.6,
          32.3,
          30.5,
          31.2,
          32,
          34.9,
          32,
          26.9
         ]
        },
        {
         "hovertemplate": "<b>%{text:.2f}%</b><brstate: %{name}<br>year: %{x}",
         "line": {
          "color": "#FEAF16",
          "width": 2
         },
         "mode": "lines",
         "name": "Michigan",
         "text": [
          44,
          46.4,
          66.6,
          63.3,
          65,
          71.8,
          70.6,
          76.9,
          72.4,
          60.9
         ],
         "type": "scatter",
         "x": [
          2011,
          2012,
          2013,
          2014,
          2015,
          2016,
          2017,
          2018,
          2019,
          2020
         ],
         "y": [
          44,
          46.4,
          66.6,
          63.3,
          65,
          71.8,
          70.6,
          76.9,
          72.4,
          60.9
         ]
        },
        {
         "hovertemplate": "<b>%{text:.2f}%</b><brstate: %{name}<br>year: %{x}",
         "line": {
          "color": "#00AB8B",
          "width": 2
         },
         "mode": "lines",
         "name": "Minnesota",
         "text": [
          39.5,
          30.5,
          37,
          36.7,
          42.3,
          42.5,
          42.8,
          43.9,
          43.4,
          39.1
         ],
         "type": "scatter",
         "x": [
          2011,
          2012,
          2013,
          2014,
          2015,
          2016,
          2017,
          2018,
          2019,
          2020
         ],
         "y": [
          39.5,
          30.5,
          37,
          36.7,
          42.3,
          42.5,
          42.8,
          43.9,
          43.4,
          39.1
         ]
        },
        {
         "hovertemplate": "<b>%{text:.2f}%</b><brstate: %{name}<br>year: %{x}",
         "line": {
          "color": "#00AB8B",
          "width": 2
         },
         "mode": "lines",
         "name": "New Hampshire",
         "text": [
          44.1,
          34,
          51.8,
          44.8,
          47.1,
          43.6,
          49.4,
          39.4,
          43.4,
          39.7
         ],
         "type": "scatter",
         "x": [
          2011,
          2012,
          2013,
          2014,
          2015,
          2016,
          2017,
          2018,
          2019,
          2020
         ],
         "y": [
          44.1,
          34,
          51.8,
          44.8,
          47.1,
          43.6,
          49.4,
          39.4,
          43.4,
          39.7
         ]
        },
        {
         "hovertemplate": "<b>%{text:.2f}%</b><brstate: %{name}<br>year: %{x}",
         "line": {
          "color": "#750D86",
          "width": 2
         },
         "mode": "lines",
         "name": "New Jersey",
         "text": [
          11.4,
          11.7,
          12.6,
          14.3,
          15.3,
          16.2,
          16.7,
          16,
          17.2,
          14.4
         ],
         "type": "scatter",
         "x": [
          2011,
          2012,
          2013,
          2014,
          2015,
          2016,
          2017,
          2018,
          2019,
          2020
         ],
         "y": [
          11.4,
          11.7,
          12.6,
          14.3,
          15.3,
          16.2,
          16.7,
          16,
          17.2,
          14.4
         ]
        },
        {
         "hovertemplate": "<b>%{text:.2f}%</b><brstate: %{name}<br>year: %{x}",
         "line": {
          "color": "#00AB8B",
          "width": 2
         },
         "mode": "lines",
         "name": "South Carolina",
         "text": [
          35.9,
          35.5,
          45.5,
          42.8,
          46.9,
          48.1,
          49.8,
          47.9,
          47.8,
          40
         ],
         "type": "scatter",
         "x": [
          2011,
          2012,
          2013,
          2014,
          2015,
          2016,
          2017,
          2018,
          2019,
          2020
         ],
         "y": [
          35.9,
          35.5,
          45.5,
          42.8,
          46.9,
          48.1,
          49.8,
          47.9,
          47.8,
          40
         ]
        },
        {
         "hovertemplate": "<b>%{text:.2f}%</b><brstate: %{name}<br>year: %{x}",
         "line": {
          "color": "#FEAF16",
          "width": 2
         },
         "mode": "lines",
         "name": "South Dakota",
         "text": [
          61.1,
          70.2,
          59.1,
          55.1,
          57.7,
          58.8,
          68.4,
          69.6,
          72.6,
          67.1
         ],
         "type": "scatter",
         "x": [
          2011,
          2012,
          2013,
          2014,
          2015,
          2016,
          2017,
          2018,
          2019,
          2020
         ],
         "y": [
          61.1,
          70.2,
          59.1,
          55.1,
          57.7,
          58.8,
          68.4,
          69.6,
          72.6,
          67.1
         ]
        },
        {
         "hovertemplate": "<b>%{text:.2f}%</b><brstate: %{name}<br>year: %{x}",
         "line": {
          "color": "#00AB8B",
          "width": 2
         },
         "mode": "lines",
         "name": "Tennessee",
         "text": [
          32.7,
          31.5,
          36.2,
          38.6,
          40.5,
          40.8,
          43.7,
          41.7,
          41.2,
          38.9
         ],
         "type": "scatter",
         "x": [
          2011,
          2012,
          2013,
          2014,
          2015,
          2016,
          2017,
          2018,
          2019,
          2020
         ],
         "y": [
          32.7,
          31.5,
          36.2,
          38.6,
          40.5,
          40.8,
          43.7,
          41.7,
          41.2,
          38.9
         ]
        },
        {
         "hovertemplate": "<b>%{text:.2f}%</b><brstate: %{name}<br>year: %{x}",
         "line": {
          "color": "#750D86",
          "width": 2
         },
         "mode": "lines",
         "name": "Virginia",
         "text": [
          19.6,
          17.7,
          27.4,
          27.7,
          27.9,
          32.5,
          33.8,
          34.3,
          33,
          26.5
         ],
         "type": "scatter",
         "x": [
          2011,
          2012,
          2013,
          2014,
          2015,
          2016,
          2017,
          2018,
          2019,
          2020
         ],
         "y": [
          19.6,
          17.7,
          27.4,
          27.7,
          27.9,
          32.5,
          33.8,
          34.3,
          33,
          26.5
         ]
        }
       ],
       "layout": {
        "height": 700,
        "legend": {
         "title": {
          "text": "States:"
         }
        },
        "template": {
         "data": {
          "bar": [
           {
            "error_x": {
             "color": "#2a3f5f"
            },
            "error_y": {
             "color": "#2a3f5f"
            },
            "marker": {
             "line": {
              "color": "#E5ECF6",
              "width": 0.5
             },
             "pattern": {
              "fillmode": "overlay",
              "size": 10,
              "solidity": 0.2
             }
            },
            "type": "bar"
           }
          ],
          "barpolar": [
           {
            "marker": {
             "line": {
              "color": "#E5ECF6",
              "width": 0.5
             },
             "pattern": {
              "fillmode": "overlay",
              "size": 10,
              "solidity": 0.2
             }
            },
            "type": "barpolar"
           }
          ],
          "carpet": [
           {
            "aaxis": {
             "endlinecolor": "#2a3f5f",
             "gridcolor": "white",
             "linecolor": "white",
             "minorgridcolor": "white",
             "startlinecolor": "#2a3f5f"
            },
            "baxis": {
             "endlinecolor": "#2a3f5f",
             "gridcolor": "white",
             "linecolor": "white",
             "minorgridcolor": "white",
             "startlinecolor": "#2a3f5f"
            },
            "type": "carpet"
           }
          ],
          "choropleth": [
           {
            "colorbar": {
             "outlinewidth": 0,
             "ticks": ""
            },
            "type": "choropleth"
           }
          ],
          "contour": [
           {
            "colorbar": {
             "outlinewidth": 0,
             "ticks": ""
            },
            "colorscale": [
             [
              0,
              "#0d0887"
             ],
             [
              0.1111111111111111,
              "#46039f"
             ],
             [
              0.2222222222222222,
              "#7201a8"
             ],
             [
              0.3333333333333333,
              "#9c179e"
             ],
             [
              0.4444444444444444,
              "#bd3786"
             ],
             [
              0.5555555555555556,
              "#d8576b"
             ],
             [
              0.6666666666666666,
              "#ed7953"
             ],
             [
              0.7777777777777778,
              "#fb9f3a"
             ],
             [
              0.8888888888888888,
              "#fdca26"
             ],
             [
              1,
              "#f0f921"
             ]
            ],
            "type": "contour"
           }
          ],
          "contourcarpet": [
           {
            "colorbar": {
             "outlinewidth": 0,
             "ticks": ""
            },
            "type": "contourcarpet"
           }
          ],
          "heatmap": [
           {
            "colorbar": {
             "outlinewidth": 0,
             "ticks": ""
            },
            "colorscale": [
             [
              0,
              "#0d0887"
             ],
             [
              0.1111111111111111,
              "#46039f"
             ],
             [
              0.2222222222222222,
              "#7201a8"
             ],
             [
              0.3333333333333333,
              "#9c179e"
             ],
             [
              0.4444444444444444,
              "#bd3786"
             ],
             [
              0.5555555555555556,
              "#d8576b"
             ],
             [
              0.6666666666666666,
              "#ed7953"
             ],
             [
              0.7777777777777778,
              "#fb9f3a"
             ],
             [
              0.8888888888888888,
              "#fdca26"
             ],
             [
              1,
              "#f0f921"
             ]
            ],
            "type": "heatmap"
           }
          ],
          "heatmapgl": [
           {
            "colorbar": {
             "outlinewidth": 0,
             "ticks": ""
            },
            "colorscale": [
             [
              0,
              "#0d0887"
             ],
             [
              0.1111111111111111,
              "#46039f"
             ],
             [
              0.2222222222222222,
              "#7201a8"
             ],
             [
              0.3333333333333333,
              "#9c179e"
             ],
             [
              0.4444444444444444,
              "#bd3786"
             ],
             [
              0.5555555555555556,
              "#d8576b"
             ],
             [
              0.6666666666666666,
              "#ed7953"
             ],
             [
              0.7777777777777778,
              "#fb9f3a"
             ],
             [
              0.8888888888888888,
              "#fdca26"
             ],
             [
              1,
              "#f0f921"
             ]
            ],
            "type": "heatmapgl"
           }
          ],
          "histogram": [
           {
            "marker": {
             "pattern": {
              "fillmode": "overlay",
              "size": 10,
              "solidity": 0.2
             }
            },
            "type": "histogram"
           }
          ],
          "histogram2d": [
           {
            "colorbar": {
             "outlinewidth": 0,
             "ticks": ""
            },
            "colorscale": [
             [
              0,
              "#0d0887"
             ],
             [
              0.1111111111111111,
              "#46039f"
             ],
             [
              0.2222222222222222,
              "#7201a8"
             ],
             [
              0.3333333333333333,
              "#9c179e"
             ],
             [
              0.4444444444444444,
              "#bd3786"
             ],
             [
              0.5555555555555556,
              "#d8576b"
             ],
             [
              0.6666666666666666,
              "#ed7953"
             ],
             [
              0.7777777777777778,
              "#fb9f3a"
             ],
             [
              0.8888888888888888,
              "#fdca26"
             ],
             [
              1,
              "#f0f921"
             ]
            ],
            "type": "histogram2d"
           }
          ],
          "histogram2dcontour": [
           {
            "colorbar": {
             "outlinewidth": 0,
             "ticks": ""
            },
            "colorscale": [
             [
              0,
              "#0d0887"
             ],
             [
              0.1111111111111111,
              "#46039f"
             ],
             [
              0.2222222222222222,
              "#7201a8"
             ],
             [
              0.3333333333333333,
              "#9c179e"
             ],
             [
              0.4444444444444444,
              "#bd3786"
             ],
             [
              0.5555555555555556,
              "#d8576b"
             ],
             [
              0.6666666666666666,
              "#ed7953"
             ],
             [
              0.7777777777777778,
              "#fb9f3a"
             ],
             [
              0.8888888888888888,
              "#fdca26"
             ],
             [
              1,
              "#f0f921"
             ]
            ],
            "type": "histogram2dcontour"
           }
          ],
          "mesh3d": [
           {
            "colorbar": {
             "outlinewidth": 0,
             "ticks": ""
            },
            "type": "mesh3d"
           }
          ],
          "parcoords": [
           {
            "line": {
             "colorbar": {
              "outlinewidth": 0,
              "ticks": ""
             }
            },
            "type": "parcoords"
           }
          ],
          "pie": [
           {
            "automargin": true,
            "type": "pie"
           }
          ],
          "scatter": [
           {
            "marker": {
             "colorbar": {
              "outlinewidth": 0,
              "ticks": ""
             }
            },
            "type": "scatter"
           }
          ],
          "scatter3d": [
           {
            "line": {
             "colorbar": {
              "outlinewidth": 0,
              "ticks": ""
             }
            },
            "marker": {
             "colorbar": {
              "outlinewidth": 0,
              "ticks": ""
             }
            },
            "type": "scatter3d"
           }
          ],
          "scattercarpet": [
           {
            "marker": {
             "colorbar": {
              "outlinewidth": 0,
              "ticks": ""
             }
            },
            "type": "scattercarpet"
           }
          ],
          "scattergeo": [
           {
            "marker": {
             "colorbar": {
              "outlinewidth": 0,
              "ticks": ""
             }
            },
            "type": "scattergeo"
           }
          ],
          "scattergl": [
           {
            "marker": {
             "colorbar": {
              "outlinewidth": 0,
              "ticks": ""
             }
            },
            "type": "scattergl"
           }
          ],
          "scattermapbox": [
           {
            "marker": {
             "colorbar": {
              "outlinewidth": 0,
              "ticks": ""
             }
            },
            "type": "scattermapbox"
           }
          ],
          "scatterpolar": [
           {
            "marker": {
             "colorbar": {
              "outlinewidth": 0,
              "ticks": ""
             }
            },
            "type": "scatterpolar"
           }
          ],
          "scatterpolargl": [
           {
            "marker": {
             "colorbar": {
              "outlinewidth": 0,
              "ticks": ""
             }
            },
            "type": "scatterpolargl"
           }
          ],
          "scatterternary": [
           {
            "marker": {
             "colorbar": {
              "outlinewidth": 0,
              "ticks": ""
             }
            },
            "type": "scatterternary"
           }
          ],
          "surface": [
           {
            "colorbar": {
             "outlinewidth": 0,
             "ticks": ""
            },
            "colorscale": [
             [
              0,
              "#0d0887"
             ],
             [
              0.1111111111111111,
              "#46039f"
             ],
             [
              0.2222222222222222,
              "#7201a8"
             ],
             [
              0.3333333333333333,
              "#9c179e"
             ],
             [
              0.4444444444444444,
              "#bd3786"
             ],
             [
              0.5555555555555556,
              "#d8576b"
             ],
             [
              0.6666666666666666,
              "#ed7953"
             ],
             [
              0.7777777777777778,
              "#fb9f3a"
             ],
             [
              0.8888888888888888,
              "#fdca26"
             ],
             [
              1,
              "#f0f921"
             ]
            ],
            "type": "surface"
           }
          ],
          "table": [
           {
            "cells": {
             "fill": {
              "color": "#EBF0F8"
             },
             "line": {
              "color": "white"
             }
            },
            "header": {
             "fill": {
              "color": "#C8D4E3"
             },
             "line": {
              "color": "white"
             }
            },
            "type": "table"
           }
          ]
         },
         "layout": {
          "annotationdefaults": {
           "arrowcolor": "#2a3f5f",
           "arrowhead": 0,
           "arrowwidth": 1
          },
          "autotypenumbers": "strict",
          "coloraxis": {
           "colorbar": {
            "outlinewidth": 0,
            "ticks": ""
           }
          },
          "colorscale": {
           "diverging": [
            [
             0,
             "#8e0152"
            ],
            [
             0.1,
             "#c51b7d"
            ],
            [
             0.2,
             "#de77ae"
            ],
            [
             0.3,
             "#f1b6da"
            ],
            [
             0.4,
             "#fde0ef"
            ],
            [
             0.5,
             "#f7f7f7"
            ],
            [
             0.6,
             "#e6f5d0"
            ],
            [
             0.7,
             "#b8e186"
            ],
            [
             0.8,
             "#7fbc41"
            ],
            [
             0.9,
             "#4d9221"
            ],
            [
             1,
             "#276419"
            ]
           ],
           "sequential": [
            [
             0,
             "#0d0887"
            ],
            [
             0.1111111111111111,
             "#46039f"
            ],
            [
             0.2222222222222222,
             "#7201a8"
            ],
            [
             0.3333333333333333,
             "#9c179e"
            ],
            [
             0.4444444444444444,
             "#bd3786"
            ],
            [
             0.5555555555555556,
             "#d8576b"
            ],
            [
             0.6666666666666666,
             "#ed7953"
            ],
            [
             0.7777777777777778,
             "#fb9f3a"
            ],
            [
             0.8888888888888888,
             "#fdca26"
            ],
            [
             1,
             "#f0f921"
            ]
           ],
           "sequentialminus": [
            [
             0,
             "#0d0887"
            ],
            [
             0.1111111111111111,
             "#46039f"
            ],
            [
             0.2222222222222222,
             "#7201a8"
            ],
            [
             0.3333333333333333,
             "#9c179e"
            ],
            [
             0.4444444444444444,
             "#bd3786"
            ],
            [
             0.5555555555555556,
             "#d8576b"
            ],
            [
             0.6666666666666666,
             "#ed7953"
            ],
            [
             0.7777777777777778,
             "#fb9f3a"
            ],
            [
             0.8888888888888888,
             "#fdca26"
            ],
            [
             1,
             "#f0f921"
            ]
           ]
          },
          "colorway": [
           "#636efa",
           "#EF553B",
           "#00cc96",
           "#ab63fa",
           "#FFA15A",
           "#19d3f3",
           "#FF6692",
           "#B6E880",
           "#FF97FF",
           "#FECB52"
          ],
          "font": {
           "color": "#2a3f5f"
          },
          "geo": {
           "bgcolor": "white",
           "lakecolor": "white",
           "landcolor": "#E5ECF6",
           "showlakes": true,
           "showland": true,
           "subunitcolor": "white"
          },
          "hoverlabel": {
           "align": "left"
          },
          "hovermode": "closest",
          "mapbox": {
           "style": "light"
          },
          "paper_bgcolor": "white",
          "plot_bgcolor": "#E5ECF6",
          "polar": {
           "angularaxis": {
            "gridcolor": "white",
            "linecolor": "white",
            "ticks": ""
           },
           "bgcolor": "#E5ECF6",
           "radialaxis": {
            "gridcolor": "white",
            "linecolor": "white",
            "ticks": ""
           }
          },
          "scene": {
           "xaxis": {
            "backgroundcolor": "#E5ECF6",
            "gridcolor": "white",
            "gridwidth": 2,
            "linecolor": "white",
            "showbackground": true,
            "ticks": "",
            "zerolinecolor": "white"
           },
           "yaxis": {
            "backgroundcolor": "#E5ECF6",
            "gridcolor": "white",
            "gridwidth": 2,
            "linecolor": "white",
            "showbackground": true,
            "ticks": "",
            "zerolinecolor": "white"
           },
           "zaxis": {
            "backgroundcolor": "#E5ECF6",
            "gridcolor": "white",
            "gridwidth": 2,
            "linecolor": "white",
            "showbackground": true,
            "ticks": "",
            "zerolinecolor": "white"
           }
          },
          "shapedefaults": {
           "line": {
            "color": "#2a3f5f"
           }
          },
          "ternary": {
           "aaxis": {
            "gridcolor": "white",
            "linecolor": "white",
            "ticks": ""
           },
           "baxis": {
            "gridcolor": "white",
            "linecolor": "white",
            "ticks": ""
           },
           "bgcolor": "#E5ECF6",
           "caxis": {
            "gridcolor": "white",
            "linecolor": "white",
            "ticks": ""
           }
          },
          "title": {
           "x": 0.05
          },
          "xaxis": {
           "automargin": true,
           "gridcolor": "white",
           "linecolor": "white",
           "ticks": "",
           "title": {
            "standoff": 15
           },
           "zerolinecolor": "white",
           "zerolinewidth": 2
          },
          "yaxis": {
           "automargin": true,
           "gridcolor": "white",
           "linecolor": "white",
           "ticks": "",
           "title": {
            "standoff": 15
           },
           "zerolinecolor": "white",
           "zerolinewidth": 2
          }
         }
        },
        "title": {
         "font": {
          "size": 24
         },
         "text": "Rape Rate by Year"
        },
        "width": 1200,
        "xaxis": {
         "title": {
          "text": "Year"
         }
        },
        "yaxis": {
         "title": {
          "text": "Rape Rate"
         }
        }
       }
      }
     },
     "metadata": {},
     "output_type": "display_data"
    }
   ],
   "source": [
    "df['pct_rank'] = df[df['year'] == 2020]['rape_rate'].rank(pct=True)\n",
    "\n",
    "# Divide states into three groups based on rank percentage\n",
    "df['group'] = pd.cut(df['pct_rank'], bins=[0, 0.1, 0.45, 0.55, 0.9, 1.0], labels=[r'前10%', r'10%-45%', r'45%-55%', r'55%-90%', r'后10%'])\n",
    "\n",
    "# Process each state's data individually and store it in a dictionary\n",
    "states_data = {}\n",
    "for state, data in df.groupby('state'):\n",
    "    # Sort the data by year\n",
    "    data = data.sort_values('year')\n",
    "    # Construct Plotly's Trace object\n",
    "    trace = go.Scatter(\n",
    "        x=data['year'],\n",
    "        y=data['rape_rate'],\n",
    "        name=state,\n",
    "        line=dict(width=2),\n",
    "        mode='lines',\n",
    "        text=data['rape_rate'],\n",
    "        hovertemplate='<b>%{text:.2f}%</b><brstate: %{name}<br>year: %{x}'\n",
    "    )\n",
    "    # Assign the corresponding color according to which group the state belongs to\n",
    "    if r'前10%' in data['group'].unique():\n",
    "        \n",
    "        trace.update(line=dict(color='#750D86'))\n",
    "        states_data[state] = trace\n",
    "\n",
    "    elif r'后10%' in data['group'].unique():\n",
    "        trace.update(line=dict(color='#FEAF16'))\n",
    "        states_data[state] = trace\n",
    "\n",
    "    elif r'45%-55%' in data['group'].unique():\n",
    "        trace.update(line=dict(color='#00AB8B'))\n",
    "        states_data[state] = trace\n",
    "\n",
    "    # Store a Trace object for each state\n",
    "\n",
    "# Construct Plotly's Figure object\n",
    "fig = go.Figure(list(states_data.values()))\n",
    "\n",
    "# Add a chart title and axis labels\n",
    "fig.update_layout(title='Rape Rate by Year',\n",
    "                title_font_size=24,\n",
    "                legend_title='States:',\n",
    "                xaxis_title='Year',\n",
    "                yaxis_title='Rape Rate',\n",
    "                width=1200,\n",
    "                height=700)\n",
    "\n",
    "# show chart\n",
    "fig.show()"
   ]
  },
  {
   "attachments": {},
   "cell_type": "markdown",
   "metadata": {},
   "source": [
    "<h4> Rape Rate </h4>\n",
    "\n",
    "* Divided the rape occurrences of a state by its population and multiply by 100,000\n",
    "* In general, the trends across 14 states are steady except for Alaska; also, the differences between each state's rape rate are small. We also see some overlap between the middle 10% states and bottom 10% states\n",
    "    * Alaska: Observe an abnormal and salient fluctuation compared to the rest of the states. Furthermore, it has a significant higher rape rate than the rest of the states\n",
    "    * Missisipi: Observe a relatively sudden decrease from 2017 to 2018, followed by a mild increase from 2019 to 2020"
   ]
  },
  {
   "cell_type": "code",
   "execution_count": 139,
   "metadata": {},
   "outputs": [
    {
     "data": {
      "application/vnd.plotly.v1+json": {
       "config": {
        "plotlyServerURL": "https://plot.ly"
       },
       "data": [
        {
         "hovertemplate": "<b>%{text:.2f}%</b><brstate: %{name}<br>year: %{x}",
         "line": {
          "color": "#FEAF16",
          "width": 2
         },
         "mode": "lines",
         "name": "Alabama",
         "text": [
          1.0764262648008611,
          1.074113856068743,
          1.0787486515641855,
          1.0718113612004287,
          1.075268817204301,
          1.0764262648008611,
          1.0787486515641855,
          1.0775862068965516,
          1.079913606911447,
          1.0893246187363834
         ],
         "type": "scatter",
         "x": [
          2011,
          2012,
          2013,
          2014,
          2015,
          2016,
          2017,
          2018,
          2019,
          2020
         ],
         "y": [
          1.0764262648008611,
          1.074113856068743,
          1.0787486515641855,
          1.0718113612004287,
          1.075268817204301,
          1.0764262648008611,
          1.0787486515641855,
          1.0775862068965516,
          1.079913606911447,
          1.0893246187363834
         ]
        },
        {
         "hovertemplate": "<b>%{text:.2f}%</b><brstate: %{name}<br>year: %{x}",
         "line": {
          "color": "#00AB8B",
          "width": 2
         },
         "mode": "lines",
         "name": "California",
         "text": [
          1.0570824524312896,
          1.0570824524312896,
          1.0582010582010584,
          1.0582010582010584,
          1.0582010582010584,
          1.0593220338983051,
          1.0582010582010584,
          1.0604453870625663,
          1.0626992561105209,
          1.0764262648008611
         ],
         "type": "scatter",
         "x": [
          2011,
          2012,
          2013,
          2014,
          2015,
          2016,
          2017,
          2018,
          2019,
          2020
         ],
         "y": [
          1.0570824524312896,
          1.0570824524312896,
          1.0582010582010584,
          1.0582010582010584,
          1.0582010582010584,
          1.0593220338983051,
          1.0582010582010584,
          1.0604453870625663,
          1.0626992561105209,
          1.0764262648008611
         ]
        },
        {
         "hovertemplate": "<b>%{text:.2f}%</b><brstate: %{name}<br>year: %{x}",
         "line": {
          "color": "#00AB8B",
          "width": 2
         },
         "mode": "lines",
         "name": "Connecticut",
         "text": [
          1.0582010582010584,
          1.0593220338983051,
          1.0582010582010584,
          1.0570824524312896,
          1.0570824524312896,
          1.0615711252653928,
          1.0582010582010584,
          1.0604453870625663,
          1.0638297872340423,
          1.075268817204301
         ],
         "type": "scatter",
         "x": [
          2011,
          2012,
          2013,
          2014,
          2015,
          2016,
          2017,
          2018,
          2019,
          2020
         ],
         "y": [
          1.0582010582010584,
          1.0593220338983051,
          1.0582010582010584,
          1.0570824524312896,
          1.0570824524312896,
          1.0615711252653928,
          1.0582010582010584,
          1.0604453870625663,
          1.0638297872340423,
          1.075268817204301
         ]
        },
        {
         "hovertemplate": "<b>%{text:.2f}%</b><brstate: %{name}<br>year: %{x}",
         "line": {
          "color": "#00AB8B",
          "width": 2
         },
         "mode": "lines",
         "name": "Delaware",
         "text": [
          1.0559662090813096,
          1.0559662090813096,
          1.0626992561105209,
          1.0638297872340423,
          1.0660980810234542,
          1.0672358591248663,
          1.079913606911447,
          1.075268817204301,
          1.0787486515641855,
          1.075268817204301
         ],
         "type": "scatter",
         "x": [
          2011,
          2012,
          2013,
          2014,
          2015,
          2016,
          2017,
          2018,
          2019,
          2020
         ],
         "y": [
          1.0559662090813096,
          1.0559662090813096,
          1.0626992561105209,
          1.0638297872340423,
          1.0660980810234542,
          1.0672358591248663,
          1.079913606911447,
          1.075268817204301,
          1.0787486515641855,
          1.075268817204301
         ]
        },
        {
         "hovertemplate": "<b>%{text:.2f}%</b><brstate: %{name}<br>year: %{x}",
         "line": {
          "color": "#00AB8B",
          "width": 2
         },
         "mode": "lines",
         "name": "Georgia",
         "text": [
          1.0604453870625663,
          1.0604453870625663,
          1.0638297872340423,
          1.0626992561105209,
          1.0626992561105209,
          1.0660980810234542,
          1.064962726304579,
          1.0638297872340423,
          1.0638297872340423,
          1.075268817204301
         ],
         "type": "scatter",
         "x": [
          2011,
          2012,
          2013,
          2014,
          2015,
          2016,
          2017,
          2018,
          2019,
          2020
         ],
         "y": [
          1.0604453870625663,
          1.0604453870625663,
          1.0638297872340423,
          1.0626992561105209,
          1.0626992561105209,
          1.0660980810234542,
          1.064962726304579,
          1.0638297872340423,
          1.0638297872340423,
          1.075268817204301
         ]
        },
        {
         "hovertemplate": "<b>%{text:.2f}%</b><brstate: %{name}<br>year: %{x}",
         "line": {
          "color": "#750D86",
          "width": 2
         },
         "mode": "lines",
         "name": "Idaho",
         "text": [
          1.050420168067227,
          1.050420168067227,
          1.053740779768177,
          1.050420168067227,
          1.0548523206751057,
          1.0515247108307046,
          1.053740779768177,
          1.0582010582010584,
          1.050420168067227,
          1.0615711252653928
         ],
         "type": "scatter",
         "x": [
          2011,
          2012,
          2013,
          2014,
          2015,
          2016,
          2017,
          2018,
          2019,
          2020
         ],
         "y": [
          1.050420168067227,
          1.050420168067227,
          1.053740779768177,
          1.050420168067227,
          1.0548523206751057,
          1.0515247108307046,
          1.053740779768177,
          1.0582010582010584,
          1.050420168067227,
          1.0615711252653928
         ]
        },
        {
         "hovertemplate": "<b>%{text:.2f}%</b><brstate: %{name}<br>year: %{x}",
         "line": {
          "color": "#FEAF16",
          "width": 2
         },
         "mode": "lines",
         "name": "Louisiana",
         "text": [
          1.072961373390558,
          1.072961373390558,
          1.0764262648008611,
          1.074113856068743,
          1.0787486515641855,
          1.075268817204301,
          1.0764262648008611,
          1.0764262648008611,
          1.075268817204301,
          1.092896174863388
         ],
         "type": "scatter",
         "x": [
          2011,
          2012,
          2013,
          2014,
          2015,
          2016,
          2017,
          2018,
          2019,
          2020
         ],
         "y": [
          1.072961373390558,
          1.072961373390558,
          1.0764262648008611,
          1.074113856068743,
          1.0787486515641855,
          1.075268817204301,
          1.0764262648008611,
          1.0764262648008611,
          1.075268817204301,
          1.092896174863388
         ]
        },
        {
         "hovertemplate": "<b>%{text:.2f}%</b><brstate: %{name}<br>year: %{x}",
         "line": {
          "color": "#750D86",
          "width": 2
         },
         "mode": "lines",
         "name": "Minnesota",
         "text": [
          1.0548523206751057,
          1.053740779768177,
          1.0548523206751057,
          1.0515247108307046,
          1.0515247108307046,
          1.0559662090813096,
          1.053740779768177,
          1.0526315789473684,
          1.0559662090813096,
          1.0604453870625663
         ],
         "type": "scatter",
         "x": [
          2011,
          2012,
          2013,
          2014,
          2015,
          2016,
          2017,
          2018,
          2019,
          2020
         ],
         "y": [
          1.0548523206751057,
          1.053740779768177,
          1.0548523206751057,
          1.0515247108307046,
          1.0515247108307046,
          1.0559662090813096,
          1.053740779768177,
          1.0526315789473684,
          1.0559662090813096,
          1.0604453870625663
         ]
        },
        {
         "hovertemplate": "<b>%{text:.2f}%</b><brstate: %{name}<br>year: %{x}",
         "line": {
          "color": "#FEAF16",
          "width": 2
         },
         "mode": "lines",
         "name": "Mississippi",
         "text": [
          1.0775862068965516,
          1.075268817204301,
          1.0775862068965516,
          1.081081081081081,
          1.0822510822510822,
          1.0834236186348862,
          1.079913606911447,
          1.081081081081081,
          1.0869565217391304,
          1.0964912280701753
         ],
         "type": "scatter",
         "x": [
          2011,
          2012,
          2013,
          2014,
          2015,
          2016,
          2017,
          2018,
          2019,
          2020
         ],
         "y": [
          1.0775862068965516,
          1.075268817204301,
          1.0775862068965516,
          1.081081081081081,
          1.0822510822510822,
          1.0834236186348862,
          1.079913606911447,
          1.081081081081081,
          1.0869565217391304,
          1.0964912280701753
         ]
        },
        {
         "hovertemplate": "<b>%{text:.2f}%</b><brstate: %{name}<br>year: %{x}",
         "line": {
          "color": "#750D86",
          "width": 2
         },
         "mode": "lines",
         "name": "New Hampshire",
         "text": [
          1.053740779768177,
          1.0570824524312896,
          1.0515247108307046,
          1.0559662090813096,
          1.0593220338983051,
          1.0683760683760684,
          1.0672358591248663,
          1.0638297872340423,
          1.0615711252653928,
          1.064962726304579
         ],
         "type": "scatter",
         "x": [
          2011,
          2012,
          2013,
          2014,
          2015,
          2016,
          2017,
          2018,
          2019,
          2020
         ],
         "y": [
          1.053740779768177,
          1.0570824524312896,
          1.0515247108307046,
          1.0559662090813096,
          1.0593220338983051,
          1.0683760683760684,
          1.0672358591248663,
          1.0638297872340423,
          1.0615711252653928,
          1.064962726304579
         ]
        },
        {
         "hovertemplate": "<b>%{text:.2f}%</b><brstate: %{name}<br>year: %{x}",
         "line": {
          "color": "#FEAF16",
          "width": 2
         },
         "mode": "lines",
         "name": "New Mexico",
         "text": [
          1.0683760683760684,
          1.0775862068965516,
          1.072961373390558,
          1.0764262648008611,
          1.0787486515641855,
          1.0775862068965516,
          1.0775862068965516,
          1.084598698481562,
          1.084598698481562,
          1.0917030567685588
         ],
         "type": "scatter",
         "x": [
          2011,
          2012,
          2013,
          2014,
          2015,
          2016,
          2017,
          2018,
          2019,
          2020
         ],
         "y": [
          1.0683760683760684,
          1.0775862068965516,
          1.072961373390558,
          1.0764262648008611,
          1.0787486515641855,
          1.0775862068965516,
          1.0775862068965516,
          1.084598698481562,
          1.084598698481562,
          1.0917030567685588
         ]
        },
        {
         "hovertemplate": "<b>%{text:.2f}%</b><brstate: %{name}<br>year: %{x}",
         "line": {
          "color": "#00AB8B",
          "width": 2
         },
         "mode": "lines",
         "name": "Oklahoma",
         "text": [
          1.0660980810234542,
          1.0638297872340423,
          1.0660980810234542,
          1.064962726304579,
          1.0672358591248663,
          1.0672358591248663,
          1.0638297872340423,
          1.0683760683760684,
          1.06951871657754,
          1.075268817204301
         ],
         "type": "scatter",
         "x": [
          2011,
          2012,
          2013,
          2014,
          2015,
          2016,
          2017,
          2018,
          2019,
          2020
         ],
         "y": [
          1.0660980810234542,
          1.0638297872340423,
          1.0660980810234542,
          1.064962726304579,
          1.0672358591248663,
          1.0672358591248663,
          1.0638297872340423,
          1.0683760683760684,
          1.06951871657754,
          1.075268817204301
         ]
        },
        {
         "hovertemplate": "<b>%{text:.2f}%</b><brstate: %{name}<br>year: %{x}",
         "line": {
          "color": "#00AB8B",
          "width": 2
         },
         "mode": "lines",
         "name": "Pennsylvania",
         "text": [
          1.0672358591248663,
          1.0660980810234542,
          1.064962726304579,
          1.0660980810234542,
          1.0660980810234542,
          1.070663811563169,
          1.070663811563169,
          1.06951871657754,
          1.0672358591248663,
          1.075268817204301
         ],
         "type": "scatter",
         "x": [
          2011,
          2012,
          2013,
          2014,
          2015,
          2016,
          2017,
          2018,
          2019,
          2020
         ],
         "y": [
          1.0672358591248663,
          1.0660980810234542,
          1.064962726304579,
          1.0660980810234542,
          1.0660980810234542,
          1.070663811563169,
          1.070663811563169,
          1.06951871657754,
          1.0672358591248663,
          1.075268817204301
         ]
        },
        {
         "hovertemplate": "<b>%{text:.2f}%</b><brstate: %{name}<br>year: %{x}",
         "line": {
          "color": "#FEAF16",
          "width": 2
         },
         "mode": "lines",
         "name": "Tennessee",
         "text": [
          1.0718113612004287,
          1.06951871657754,
          1.0683760683760684,
          1.070663811563169,
          1.0683760683760684,
          1.06951871657754,
          1.072961373390558,
          1.0718113612004287,
          1.079913606911447,
          1.0893246187363834
         ],
         "type": "scatter",
         "x": [
          2011,
          2012,
          2013,
          2014,
          2015,
          2016,
          2017,
          2018,
          2019,
          2020
         ],
         "y": [
          1.0718113612004287,
          1.06951871657754,
          1.0683760683760684,
          1.070663811563169,
          1.0683760683760684,
          1.06951871657754,
          1.072961373390558,
          1.0718113612004287,
          1.079913606911447,
          1.0893246187363834
         ]
        },
        {
         "hovertemplate": "<b>%{text:.2f}%</b><brstate: %{name}<br>year: %{x}",
         "line": {
          "color": "#00AB8B",
          "width": 2
         },
         "mode": "lines",
         "name": "Texas",
         "text": [
          1.0593220338983051,
          1.0604453870625663,
          1.0604453870625663,
          1.0615711252653928,
          1.0604453870625663,
          1.0615711252653928,
          1.0626992561105209,
          1.0638297872340423,
          1.064962726304579,
          1.0764262648008611
         ],
         "type": "scatter",
         "x": [
          2011,
          2012,
          2013,
          2014,
          2015,
          2016,
          2017,
          2018,
          2019,
          2020
         ],
         "y": [
          1.0593220338983051,
          1.0604453870625663,
          1.0604453870625663,
          1.0615711252653928,
          1.0604453870625663,
          1.0615711252653928,
          1.0626992561105209,
          1.0638297872340423,
          1.064962726304579,
          1.0764262648008611
         ]
        },
        {
         "hovertemplate": "<b>%{text:.2f}%</b><brstate: %{name}<br>year: %{x}",
         "line": {
          "color": "#750D86",
          "width": 2
         },
         "mode": "lines",
         "name": "Utah",
         "text": [
          1.0460251046025104,
          1.044932079414838,
          1.0438413361169103,
          1.0438413361169103,
          1.044932079414838,
          1.050420168067227,
          1.0493179433368311,
          1.0493179433368311,
          1.0471204188481675,
          1.050420168067227
         ],
         "type": "scatter",
         "x": [
          2011,
          2012,
          2013,
          2014,
          2015,
          2016,
          2017,
          2018,
          2019,
          2020
         ],
         "y": [
          1.0460251046025104,
          1.044932079414838,
          1.0438413361169103,
          1.0438413361169103,
          1.044932079414838,
          1.050420168067227,
          1.0493179433368311,
          1.0493179433368311,
          1.0471204188481675,
          1.050420168067227
         ]
        },
        {
         "hovertemplate": "<b>%{text:.2f}%</b><brstate: %{name}<br>year: %{x}",
         "line": {
          "color": "#750D86",
          "width": 2
         },
         "mode": "lines",
         "name": "Washington",
         "text": [
          1.053740779768177,
          1.0570824524312896,
          1.053740779768177,
          1.0548523206751057,
          1.053740779768177,
          1.0559662090813096,
          1.0570824524312896,
          1.0548523206751057,
          1.053740779768177,
          1.0615711252653928
         ],
         "type": "scatter",
         "x": [
          2011,
          2012,
          2013,
          2014,
          2015,
          2016,
          2017,
          2018,
          2019,
          2020
         ],
         "y": [
          1.053740779768177,
          1.0570824524312896,
          1.053740779768177,
          1.0548523206751057,
          1.053740779768177,
          1.0559662090813096,
          1.0570824524312896,
          1.0548523206751057,
          1.053740779768177,
          1.0615711252653928
         ]
        },
        {
         "hovertemplate": "<b>%{text:.2f}%</b><brstate: %{name}<br>year: %{x}",
         "line": {
          "color": "#FEAF16",
          "width": 2
         },
         "mode": "lines",
         "name": "West Virginia",
         "text": [
          1.072961373390558,
          1.0683760683760684,
          1.0683760683760684,
          1.072961373390558,
          1.0672358591248663,
          1.072961373390558,
          1.072961373390558,
          1.074113856068743,
          1.0718113612004287,
          1.0905125408942202
         ],
         "type": "scatter",
         "x": [
          2011,
          2012,
          2013,
          2014,
          2015,
          2016,
          2017,
          2018,
          2019,
          2020
         ],
         "y": [
          1.072961373390558,
          1.0683760683760684,
          1.0683760683760684,
          1.072961373390558,
          1.0672358591248663,
          1.072961373390558,
          1.072961373390558,
          1.074113856068743,
          1.0718113612004287,
          1.0905125408942202
         ]
        }
       ],
       "layout": {
        "height": 700,
        "legend": {
         "title": {
          "text": "States:"
         }
        },
        "template": {
         "data": {
          "bar": [
           {
            "error_x": {
             "color": "#2a3f5f"
            },
            "error_y": {
             "color": "#2a3f5f"
            },
            "marker": {
             "line": {
              "color": "#E5ECF6",
              "width": 0.5
             },
             "pattern": {
              "fillmode": "overlay",
              "size": 10,
              "solidity": 0.2
             }
            },
            "type": "bar"
           }
          ],
          "barpolar": [
           {
            "marker": {
             "line": {
              "color": "#E5ECF6",
              "width": 0.5
             },
             "pattern": {
              "fillmode": "overlay",
              "size": 10,
              "solidity": 0.2
             }
            },
            "type": "barpolar"
           }
          ],
          "carpet": [
           {
            "aaxis": {
             "endlinecolor": "#2a3f5f",
             "gridcolor": "white",
             "linecolor": "white",
             "minorgridcolor": "white",
             "startlinecolor": "#2a3f5f"
            },
            "baxis": {
             "endlinecolor": "#2a3f5f",
             "gridcolor": "white",
             "linecolor": "white",
             "minorgridcolor": "white",
             "startlinecolor": "#2a3f5f"
            },
            "type": "carpet"
           }
          ],
          "choropleth": [
           {
            "colorbar": {
             "outlinewidth": 0,
             "ticks": ""
            },
            "type": "choropleth"
           }
          ],
          "contour": [
           {
            "colorbar": {
             "outlinewidth": 0,
             "ticks": ""
            },
            "colorscale": [
             [
              0,
              "#0d0887"
             ],
             [
              0.1111111111111111,
              "#46039f"
             ],
             [
              0.2222222222222222,
              "#7201a8"
             ],
             [
              0.3333333333333333,
              "#9c179e"
             ],
             [
              0.4444444444444444,
              "#bd3786"
             ],
             [
              0.5555555555555556,
              "#d8576b"
             ],
             [
              0.6666666666666666,
              "#ed7953"
             ],
             [
              0.7777777777777778,
              "#fb9f3a"
             ],
             [
              0.8888888888888888,
              "#fdca26"
             ],
             [
              1,
              "#f0f921"
             ]
            ],
            "type": "contour"
           }
          ],
          "contourcarpet": [
           {
            "colorbar": {
             "outlinewidth": 0,
             "ticks": ""
            },
            "type": "contourcarpet"
           }
          ],
          "heatmap": [
           {
            "colorbar": {
             "outlinewidth": 0,
             "ticks": ""
            },
            "colorscale": [
             [
              0,
              "#0d0887"
             ],
             [
              0.1111111111111111,
              "#46039f"
             ],
             [
              0.2222222222222222,
              "#7201a8"
             ],
             [
              0.3333333333333333,
              "#9c179e"
             ],
             [
              0.4444444444444444,
              "#bd3786"
             ],
             [
              0.5555555555555556,
              "#d8576b"
             ],
             [
              0.6666666666666666,
              "#ed7953"
             ],
             [
              0.7777777777777778,
              "#fb9f3a"
             ],
             [
              0.8888888888888888,
              "#fdca26"
             ],
             [
              1,
              "#f0f921"
             ]
            ],
            "type": "heatmap"
           }
          ],
          "heatmapgl": [
           {
            "colorbar": {
             "outlinewidth": 0,
             "ticks": ""
            },
            "colorscale": [
             [
              0,
              "#0d0887"
             ],
             [
              0.1111111111111111,
              "#46039f"
             ],
             [
              0.2222222222222222,
              "#7201a8"
             ],
             [
              0.3333333333333333,
              "#9c179e"
             ],
             [
              0.4444444444444444,
              "#bd3786"
             ],
             [
              0.5555555555555556,
              "#d8576b"
             ],
             [
              0.6666666666666666,
              "#ed7953"
             ],
             [
              0.7777777777777778,
              "#fb9f3a"
             ],
             [
              0.8888888888888888,
              "#fdca26"
             ],
             [
              1,
              "#f0f921"
             ]
            ],
            "type": "heatmapgl"
           }
          ],
          "histogram": [
           {
            "marker": {
             "pattern": {
              "fillmode": "overlay",
              "size": 10,
              "solidity": 0.2
             }
            },
            "type": "histogram"
           }
          ],
          "histogram2d": [
           {
            "colorbar": {
             "outlinewidth": 0,
             "ticks": ""
            },
            "colorscale": [
             [
              0,
              "#0d0887"
             ],
             [
              0.1111111111111111,
              "#46039f"
             ],
             [
              0.2222222222222222,
              "#7201a8"
             ],
             [
              0.3333333333333333,
              "#9c179e"
             ],
             [
              0.4444444444444444,
              "#bd3786"
             ],
             [
              0.5555555555555556,
              "#d8576b"
             ],
             [
              0.6666666666666666,
              "#ed7953"
             ],
             [
              0.7777777777777778,
              "#fb9f3a"
             ],
             [
              0.8888888888888888,
              "#fdca26"
             ],
             [
              1,
              "#f0f921"
             ]
            ],
            "type": "histogram2d"
           }
          ],
          "histogram2dcontour": [
           {
            "colorbar": {
             "outlinewidth": 0,
             "ticks": ""
            },
            "colorscale": [
             [
              0,
              "#0d0887"
             ],
             [
              0.1111111111111111,
              "#46039f"
             ],
             [
              0.2222222222222222,
              "#7201a8"
             ],
             [
              0.3333333333333333,
              "#9c179e"
             ],
             [
              0.4444444444444444,
              "#bd3786"
             ],
             [
              0.5555555555555556,
              "#d8576b"
             ],
             [
              0.6666666666666666,
              "#ed7953"
             ],
             [
              0.7777777777777778,
              "#fb9f3a"
             ],
             [
              0.8888888888888888,
              "#fdca26"
             ],
             [
              1,
              "#f0f921"
             ]
            ],
            "type": "histogram2dcontour"
           }
          ],
          "mesh3d": [
           {
            "colorbar": {
             "outlinewidth": 0,
             "ticks": ""
            },
            "type": "mesh3d"
           }
          ],
          "parcoords": [
           {
            "line": {
             "colorbar": {
              "outlinewidth": 0,
              "ticks": ""
             }
            },
            "type": "parcoords"
           }
          ],
          "pie": [
           {
            "automargin": true,
            "type": "pie"
           }
          ],
          "scatter": [
           {
            "marker": {
             "colorbar": {
              "outlinewidth": 0,
              "ticks": ""
             }
            },
            "type": "scatter"
           }
          ],
          "scatter3d": [
           {
            "line": {
             "colorbar": {
              "outlinewidth": 0,
              "ticks": ""
             }
            },
            "marker": {
             "colorbar": {
              "outlinewidth": 0,
              "ticks": ""
             }
            },
            "type": "scatter3d"
           }
          ],
          "scattercarpet": [
           {
            "marker": {
             "colorbar": {
              "outlinewidth": 0,
              "ticks": ""
             }
            },
            "type": "scattercarpet"
           }
          ],
          "scattergeo": [
           {
            "marker": {
             "colorbar": {
              "outlinewidth": 0,
              "ticks": ""
             }
            },
            "type": "scattergeo"
           }
          ],
          "scattergl": [
           {
            "marker": {
             "colorbar": {
              "outlinewidth": 0,
              "ticks": ""
             }
            },
            "type": "scattergl"
           }
          ],
          "scattermapbox": [
           {
            "marker": {
             "colorbar": {
              "outlinewidth": 0,
              "ticks": ""
             }
            },
            "type": "scattermapbox"
           }
          ],
          "scatterpolar": [
           {
            "marker": {
             "colorbar": {
              "outlinewidth": 0,
              "ticks": ""
             }
            },
            "type": "scatterpolar"
           }
          ],
          "scatterpolargl": [
           {
            "marker": {
             "colorbar": {
              "outlinewidth": 0,
              "ticks": ""
             }
            },
            "type": "scatterpolargl"
           }
          ],
          "scatterternary": [
           {
            "marker": {
             "colorbar": {
              "outlinewidth": 0,
              "ticks": ""
             }
            },
            "type": "scatterternary"
           }
          ],
          "surface": [
           {
            "colorbar": {
             "outlinewidth": 0,
             "ticks": ""
            },
            "colorscale": [
             [
              0,
              "#0d0887"
             ],
             [
              0.1111111111111111,
              "#46039f"
             ],
             [
              0.2222222222222222,
              "#7201a8"
             ],
             [
              0.3333333333333333,
              "#9c179e"
             ],
             [
              0.4444444444444444,
              "#bd3786"
             ],
             [
              0.5555555555555556,
              "#d8576b"
             ],
             [
              0.6666666666666666,
              "#ed7953"
             ],
             [
              0.7777777777777778,
              "#fb9f3a"
             ],
             [
              0.8888888888888888,
              "#fdca26"
             ],
             [
              1,
              "#f0f921"
             ]
            ],
            "type": "surface"
           }
          ],
          "table": [
           {
            "cells": {
             "fill": {
              "color": "#EBF0F8"
             },
             "line": {
              "color": "white"
             }
            },
            "header": {
             "fill": {
              "color": "#C8D4E3"
             },
             "line": {
              "color": "white"
             }
            },
            "type": "table"
           }
          ]
         },
         "layout": {
          "annotationdefaults": {
           "arrowcolor": "#2a3f5f",
           "arrowhead": 0,
           "arrowwidth": 1
          },
          "autotypenumbers": "strict",
          "coloraxis": {
           "colorbar": {
            "outlinewidth": 0,
            "ticks": ""
           }
          },
          "colorscale": {
           "diverging": [
            [
             0,
             "#8e0152"
            ],
            [
             0.1,
             "#c51b7d"
            ],
            [
             0.2,
             "#de77ae"
            ],
            [
             0.3,
             "#f1b6da"
            ],
            [
             0.4,
             "#fde0ef"
            ],
            [
             0.5,
             "#f7f7f7"
            ],
            [
             0.6,
             "#e6f5d0"
            ],
            [
             0.7,
             "#b8e186"
            ],
            [
             0.8,
             "#7fbc41"
            ],
            [
             0.9,
             "#4d9221"
            ],
            [
             1,
             "#276419"
            ]
           ],
           "sequential": [
            [
             0,
             "#0d0887"
            ],
            [
             0.1111111111111111,
             "#46039f"
            ],
            [
             0.2222222222222222,
             "#7201a8"
            ],
            [
             0.3333333333333333,
             "#9c179e"
            ],
            [
             0.4444444444444444,
             "#bd3786"
            ],
            [
             0.5555555555555556,
             "#d8576b"
            ],
            [
             0.6666666666666666,
             "#ed7953"
            ],
            [
             0.7777777777777778,
             "#fb9f3a"
            ],
            [
             0.8888888888888888,
             "#fdca26"
            ],
            [
             1,
             "#f0f921"
            ]
           ],
           "sequentialminus": [
            [
             0,
             "#0d0887"
            ],
            [
             0.1111111111111111,
             "#46039f"
            ],
            [
             0.2222222222222222,
             "#7201a8"
            ],
            [
             0.3333333333333333,
             "#9c179e"
            ],
            [
             0.4444444444444444,
             "#bd3786"
            ],
            [
             0.5555555555555556,
             "#d8576b"
            ],
            [
             0.6666666666666666,
             "#ed7953"
            ],
            [
             0.7777777777777778,
             "#fb9f3a"
            ],
            [
             0.8888888888888888,
             "#fdca26"
            ],
            [
             1,
             "#f0f921"
            ]
           ]
          },
          "colorway": [
           "#636efa",
           "#EF553B",
           "#00cc96",
           "#ab63fa",
           "#FFA15A",
           "#19d3f3",
           "#FF6692",
           "#B6E880",
           "#FF97FF",
           "#FECB52"
          ],
          "font": {
           "color": "#2a3f5f"
          },
          "geo": {
           "bgcolor": "white",
           "lakecolor": "white",
           "landcolor": "#E5ECF6",
           "showlakes": true,
           "showland": true,
           "subunitcolor": "white"
          },
          "hoverlabel": {
           "align": "left"
          },
          "hovermode": "closest",
          "mapbox": {
           "style": "light"
          },
          "paper_bgcolor": "white",
          "plot_bgcolor": "#E5ECF6",
          "polar": {
           "angularaxis": {
            "gridcolor": "white",
            "linecolor": "white",
            "ticks": ""
           },
           "bgcolor": "#E5ECF6",
           "radialaxis": {
            "gridcolor": "white",
            "linecolor": "white",
            "ticks": ""
           }
          },
          "scene": {
           "xaxis": {
            "backgroundcolor": "#E5ECF6",
            "gridcolor": "white",
            "gridwidth": 2,
            "linecolor": "white",
            "showbackground": true,
            "ticks": "",
            "zerolinecolor": "white"
           },
           "yaxis": {
            "backgroundcolor": "#E5ECF6",
            "gridcolor": "white",
            "gridwidth": 2,
            "linecolor": "white",
            "showbackground": true,
            "ticks": "",
            "zerolinecolor": "white"
           },
           "zaxis": {
            "backgroundcolor": "#E5ECF6",
            "gridcolor": "white",
            "gridwidth": 2,
            "linecolor": "white",
            "showbackground": true,
            "ticks": "",
            "zerolinecolor": "white"
           }
          },
          "shapedefaults": {
           "line": {
            "color": "#2a3f5f"
           }
          },
          "ternary": {
           "aaxis": {
            "gridcolor": "white",
            "linecolor": "white",
            "ticks": ""
           },
           "baxis": {
            "gridcolor": "white",
            "linecolor": "white",
            "ticks": ""
           },
           "bgcolor": "#E5ECF6",
           "caxis": {
            "gridcolor": "white",
            "linecolor": "white",
            "ticks": ""
           }
          },
          "title": {
           "x": 0.05
          },
          "xaxis": {
           "automargin": true,
           "gridcolor": "white",
           "linecolor": "white",
           "ticks": "",
           "title": {
            "standoff": 15
           },
           "zerolinecolor": "white",
           "zerolinewidth": 2
          },
          "yaxis": {
           "automargin": true,
           "gridcolor": "white",
           "linecolor": "white",
           "ticks": "",
           "title": {
            "standoff": 15
           },
           "zerolinecolor": "white",
           "zerolinewidth": 2
          }
         }
        },
        "title": {
         "font": {
          "size": 24
         },
         "text": "Life Expectancy (Female Over Male) by Year"
        },
        "width": 1200,
        "xaxis": {
         "title": {
          "text": "Year"
         }
        },
        "yaxis": {
         "title": {
          "text": "Life Expectancy (female over male)"
         }
        }
       }
      }
     },
     "metadata": {},
     "output_type": "display_data"
    }
   ],
   "source": [
    "import_feat = ['state_legislature','mngmt_job_wage_gap','rape_rate','life_exp_m_f','abortion_rate']\n",
    "\n",
    "# Calculate the rank percentage for each state in 2011\n",
    "df['pct_rank'] = df[df['year'] == 2020]['life_exp_f_m'].rank(pct=True)\n",
    "\n",
    "# Divide states into three groups based on rank percentage\n",
    "df['group'] = pd.cut(df['pct_rank'], bins=[0, 0.1, 0.45, 0.55, 0.9, 1.0], labels=[r'前10%', r'10%-45%', r'45%-55%', r'55%-90%', r'后10%'])\n",
    "\n",
    "# Process each state's data individually and store it in a dictionary\n",
    "states_data = {}\n",
    "for state, data in df.groupby('state'):\n",
    "    # Sort the data by year\n",
    "    data = data.sort_values('year')\n",
    "    # Construct Plotly's Trace object\n",
    "    trace = go.Scatter(\n",
    "        x=data['year'],\n",
    "        y=data['life_exp_f_m'],\n",
    "        name=state,\n",
    "        line=dict(width=2),\n",
    "        mode='lines',\n",
    "        text=data['life_exp_f_m'],\n",
    "        hovertemplate='<b>%{text:.2f}%</b><brstate: %{name}<br>year: %{x}'\n",
    "    )\n",
    "    # Assign the corresponding color according to which group the state belongs to\n",
    "    if r'前10%' in data['group'].unique():\n",
    "        \n",
    "        trace.update(line=dict(color='#750D86'))\n",
    "        states_data[state] = trace\n",
    "\n",
    "    elif r'后10%' in data['group'].unique():\n",
    "        trace.update(line=dict(color='#FEAF16'))\n",
    "        states_data[state] = trace\n",
    "\n",
    "    elif r'45%-55%' in data['group'].unique():\n",
    "        trace.update(line=dict(color='#00AB8B'))\n",
    "        states_data[state] = trace\n",
    "\n",
    "    # Store a Trace object for each state\n",
    "\n",
    "# Construct Plotly's Figure object\n",
    "fig = go.Figure(list(states_data.values()))\n",
    "\n",
    "# Add a chart title and axis labels\n",
    "fig.update_layout(title='Life Expectancy (Female Over Male) by Year',\n",
    "                  title_font_size=24,\n",
    "                  legend_title='States:',\n",
    "                xaxis_title='Year',\n",
    "                yaxis_title='Life Expectancy (female over male)',\n",
    "                width=1200,\n",
    "                height=700)\n",
    "\n",
    "# show chart\n",
    "fig.show()"
   ]
  },
  {
   "attachments": {},
   "cell_type": "markdown",
   "metadata": {},
   "source": [
    "<h4> Life Expectancy Gender Gap </h4>\n",
    "\n",
    "* Life Expectancy of male over that of female\n",
    "* In general, the trends across 15 states experience ocsilation at some extent. Furthermore, all 15 states share a decrease from 2019 to 2020. We also see some overlap between upper 10% states, the middle 10% states, and bottom 10% states"
   ]
  },
  {
   "cell_type": "code",
   "execution_count": 124,
   "metadata": {},
   "outputs": [
    {
     "data": {
      "application/vnd.plotly.v1+json": {
       "config": {
        "plotlyServerURL": "https://plot.ly"
       },
       "data": [
        {
         "hovertemplate": "<b>%{text:.2f}%</b><brstate: %{name}<br>year: %{x}",
         "line": {
          "color": "#00AB8B",
          "width": 2
         },
         "mode": "lines",
         "name": "Alaska",
         "text": [
          237.493,
          222.742,
          221.418,
          196.935,
          205.831,
          179.916,
          170.339,
          174.525,
          173.605,
          164.547
         ],
         "type": "scatter",
         "x": [
          2011,
          2012,
          2013,
          2014,
          2015,
          2016,
          2017,
          2018,
          2019,
          2020
         ],
         "y": [
          237.493,
          222.742,
          221.418,
          196.935,
          205.831,
          179.916,
          170.339,
          174.525,
          173.605,
          164.547
         ]
        },
        {
         "hovertemplate": "<b>%{text:.2f}%</b><brstate: %{name}<br>year: %{x}",
         "line": {
          "color": "#750D86",
          "width": 2
         },
         "mode": "lines",
         "name": "California",
         "text": [
          17.812,
          18.536,
          17.639,
          17.369,
          15.011,
          15.651,
          17.12,
          16.847,
          18.703,
          16.075
         ],
         "type": "scatter",
         "x": [
          2011,
          2012,
          2013,
          2014,
          2015,
          2016,
          2017,
          2018,
          2019,
          2020
         ],
         "y": [
          17.812,
          18.536,
          17.639,
          17.369,
          15.011,
          15.651,
          17.12,
          16.847,
          18.703,
          16.075
         ]
        },
        {
         "hovertemplate": "<b>%{text:.2f}%</b><brstate: %{name}<br>year: %{x}",
         "line": {
          "color": "#FEAF16",
          "width": 2
         },
         "mode": "lines",
         "name": "Florida",
         "text": [
          419.393,
          399.869,
          389.606,
          366.458,
          356.806,
          349.398,
          332.815,
          330.625,
          334.83,
          346.778
         ],
         "type": "scatter",
         "x": [
          2011,
          2012,
          2013,
          2014,
          2015,
          2016,
          2017,
          2018,
          2019,
          2020
         ],
         "y": [
          419.393,
          399.869,
          389.606,
          366.458,
          356.806,
          349.398,
          332.815,
          330.625,
          334.83,
          346.778
         ]
        },
        {
         "hovertemplate": "<b>%{text:.2f}%</b><brstate: %{name}<br>year: %{x}",
         "line": {
          "color": "#FEAF16",
          "width": 2
         },
         "mode": "lines",
         "name": "Georgia",
         "text": [
          352.821,
          330.962,
          314.566,
          304.68,
          294.868,
          301.003,
          324.783,
          322.686,
          347.608,
          349.801
         ],
         "type": "scatter",
         "x": [
          2011,
          2012,
          2013,
          2014,
          2015,
          2016,
          2017,
          2018,
          2019,
          2020
         ],
         "y": [
          352.821,
          330.962,
          314.566,
          304.68,
          294.868,
          301.003,
          324.783,
          322.686,
          347.608,
          349.801
         ]
        },
        {
         "hovertemplate": "<b>%{text:.2f}%</b><brstate: %{name}<br>year: %{x}",
         "line": {
          "color": "#FEAF16",
          "width": 2
         },
         "mode": "lines",
         "name": "Illinois",
         "text": [
          325.309,
          320.776,
          335.033,
          316.272,
          299.185,
          310.876,
          300.356,
          333.575,
          367.09,
          361.653
         ],
         "type": "scatter",
         "x": [
          2011,
          2012,
          2013,
          2014,
          2015,
          2016,
          2017,
          2018,
          2019,
          2020
         ],
         "y": [
          325.309,
          320.776,
          335.033,
          316.272,
          299.185,
          310.876,
          300.356,
          333.575,
          367.09,
          361.653
         ]
        },
        {
         "hovertemplate": "<b>%{text:.2f}%</b><brstate: %{name}<br>year: %{x}",
         "line": {
          "color": "#00AB8B",
          "width": 2
         },
         "mode": "lines",
         "name": "Louisiana",
         "text": [
          193.897,
          194.633,
          199.48,
          214.836,
          221.282,
          200.122,
          192.118,
          173.767,
          175.185,
          160.652
         ],
         "type": "scatter",
         "x": [
          2011,
          2012,
          2013,
          2014,
          2015,
          2016,
          2017,
          2018,
          2019,
          2020
         ],
         "y": [
          193.897,
          194.633,
          199.48,
          214.836,
          221.282,
          200.122,
          192.118,
          173.767,
          175.185,
          160.652
         ]
        },
        {
         "hovertemplate": "<b>%{text:.2f}%</b><brstate: %{name}<br>year: %{x}",
         "line": {
          "color": "#750D86",
          "width": 2
         },
         "mode": "lines",
         "name": "Missouri",
         "text": [
          102.541,
          95.811,
          93.102,
          89.429,
          83.337,
          78.28,
          74.705,
          47.536,
          23.968,
          2.714
         ],
         "type": "scatter",
         "x": [
          2011,
          2012,
          2013,
          2014,
          2015,
          2016,
          2017,
          2018,
          2019,
          2020
         ],
         "y": [
          102.541,
          95.811,
          93.102,
          89.429,
          83.337,
          78.28,
          74.705,
          47.536,
          23.968,
          2.714
         ]
        },
        {
         "hovertemplate": "<b>%{text:.2f}%</b><brstate: %{name}<br>year: %{x}",
         "line": {
          "color": "#00AB8B",
          "width": 2
         },
         "mode": "lines",
         "name": "Montana",
         "text": [
          216.581,
          213.891,
          200.381,
          180.258,
          164.002,
          154.776,
          153.732,
          157.826,
          146.71,
          154.083
         ],
         "type": "scatter",
         "x": [
          2011,
          2012,
          2013,
          2014,
          2015,
          2016,
          2017,
          2018,
          2019,
          2020
         ],
         "y": [
          216.581,
          213.891,
          200.381,
          180.258,
          164.002,
          154.776,
          153.732,
          157.826,
          146.71,
          154.083
         ]
        },
        {
         "hovertemplate": "<b>%{text:.2f}%</b><brstate: %{name}<br>year: %{x}",
         "line": {
          "color": "#FEAF16",
          "width": 2
         },
         "mode": "lines",
         "name": "New Hampshire",
         "text": [
          938.038,
          1040.905,
          1392.635,
          1115.694,
          963.296,
          1451.903,
          1212.719,
          1694.613,
          618.808,
          1666.344
         ],
         "type": "scatter",
         "x": [
          2011,
          2012,
          2013,
          2014,
          2015,
          2016,
          2017,
          2018,
          2019,
          2020
         ],
         "y": [
          938.038,
          1040.905,
          1392.635,
          1115.694,
          963.296,
          1451.903,
          1212.719,
          1694.613,
          618.808,
          1666.344
         ]
        },
        {
         "hovertemplate": "<b>%{text:.2f}%</b><brstate: %{name}<br>year: %{x}",
         "line": {
          "color": "#750D86",
          "width": 2
         },
         "mode": "lines",
         "name": "New Jersey",
         "text": [
          319.626,
          300.262,
          259.152,
          245.022,
          272.679,
          259.175,
          275.392,
          43.293,
          249.691,
          46.302
         ],
         "type": "scatter",
         "x": [
          2011,
          2012,
          2013,
          2014,
          2015,
          2016,
          2017,
          2018,
          2019,
          2020
         ],
         "y": [
          319.626,
          300.262,
          259.152,
          245.022,
          272.679,
          259.175,
          275.392,
          43.293,
          249.691,
          46.302
         ]
        },
        {
         "hovertemplate": "<b>%{text:.2f}%</b><brstate: %{name}<br>year: %{x}",
         "line": {
          "color": "#FEAF16",
          "width": 2
         },
         "mode": "lines",
         "name": "New Mexico",
         "text": [
          229.71,
          195.611,
          168.095,
          200.903,
          215.384,
          223.223,
          218.617,
          3700.745,
          187.998,
          2980.66
         ],
         "type": "scatter",
         "x": [
          2011,
          2012,
          2013,
          2014,
          2015,
          2016,
          2017,
          2018,
          2019,
          2020
         ],
         "y": [
          229.71,
          195.611,
          168.095,
          200.903,
          215.384,
          223.223,
          218.617,
          3700.745,
          187.998,
          2980.66
         ]
        },
        {
         "hovertemplate": "<b>%{text:.2f}%</b><brstate: %{name}<br>year: %{x}",
         "line": {
          "color": "#00AB8B",
          "width": 2
         },
         "mode": "lines",
         "name": "Oregon",
         "text": [
          258.004,
          245.371,
          229.855,
          209.096,
          204.966,
          210.515,
          215.801,
          208.877,
          205.987,
          164.696
         ],
         "type": "scatter",
         "x": [
          2011,
          2012,
          2013,
          2014,
          2015,
          2016,
          2017,
          2018,
          2019,
          2020
         ],
         "y": [
          258.004,
          245.371,
          229.855,
          209.096,
          204.966,
          210.515,
          215.801,
          208.877,
          205.987,
          164.696
         ]
        },
        {
         "hovertemplate": "<b>%{text:.2f}%</b><brstate: %{name}<br>year: %{x}",
         "line": {
          "color": "#750D86",
          "width": 2
         },
         "mode": "lines",
         "name": "South Dakota",
         "text": [
          89.487,
          71.62,
          75.269,
          70.778,
          64.521,
          51.449,
          54.075,
          43.473,
          46.798,
          14.08
         ],
         "type": "scatter",
         "x": [
          2011,
          2012,
          2013,
          2014,
          2015,
          2016,
          2017,
          2018,
          2019,
          2020
         ],
         "y": [
          89.487,
          71.62,
          75.269,
          70.778,
          64.521,
          51.449,
          54.075,
          43.473,
          46.798,
          14.08
         ]
        },
        {
         "hovertemplate": "<b>%{text:.2f}%</b><brstate: %{name}<br>year: %{x}",
         "line": {
          "color": "#00AB8B",
          "width": 2
         },
         "mode": "lines",
         "name": "Tennessee",
         "text": [
          255.856,
          249.694,
          244.197,
          217.329,
          187.721,
          171.697,
          167.467,
          160.67,
          142.316,
          162.339
         ],
         "type": "scatter",
         "x": [
          2011,
          2012,
          2013,
          2014,
          2015,
          2016,
          2017,
          2018,
          2019,
          2020
         ],
         "y": [
          255.856,
          249.694,
          244.197,
          217.329,
          187.721,
          171.697,
          167.467,
          160.67,
          142.316,
          162.339
         ]
        },
        {
         "hovertemplate": "<b>%{text:.2f}%</b><brstate: %{name}<br>year: %{x}",
         "line": {
          "color": "#750D86",
          "width": 2
         },
         "mode": "lines",
         "name": "Wyoming",
         "text": [
          182.267,
          162.067,
          141.379,
          122.397,
          133.706,
          159.873,
          110.376,
          117.382,
          41.295,
          32.375
         ],
         "type": "scatter",
         "x": [
          2011,
          2012,
          2013,
          2014,
          2015,
          2016,
          2017,
          2018,
          2019,
          2020
         ],
         "y": [
          182.267,
          162.067,
          141.379,
          122.397,
          133.706,
          159.873,
          110.376,
          117.382,
          41.295,
          32.375
         ]
        }
       ],
       "layout": {
        "height": 700,
        "legend": {
         "title": {
          "text": "States:"
         }
        },
        "template": {
         "data": {
          "bar": [
           {
            "error_x": {
             "color": "#2a3f5f"
            },
            "error_y": {
             "color": "#2a3f5f"
            },
            "marker": {
             "line": {
              "color": "#E5ECF6",
              "width": 0.5
             },
             "pattern": {
              "fillmode": "overlay",
              "size": 10,
              "solidity": 0.2
             }
            },
            "type": "bar"
           }
          ],
          "barpolar": [
           {
            "marker": {
             "line": {
              "color": "#E5ECF6",
              "width": 0.5
             },
             "pattern": {
              "fillmode": "overlay",
              "size": 10,
              "solidity": 0.2
             }
            },
            "type": "barpolar"
           }
          ],
          "carpet": [
           {
            "aaxis": {
             "endlinecolor": "#2a3f5f",
             "gridcolor": "white",
             "linecolor": "white",
             "minorgridcolor": "white",
             "startlinecolor": "#2a3f5f"
            },
            "baxis": {
             "endlinecolor": "#2a3f5f",
             "gridcolor": "white",
             "linecolor": "white",
             "minorgridcolor": "white",
             "startlinecolor": "#2a3f5f"
            },
            "type": "carpet"
           }
          ],
          "choropleth": [
           {
            "colorbar": {
             "outlinewidth": 0,
             "ticks": ""
            },
            "type": "choropleth"
           }
          ],
          "contour": [
           {
            "colorbar": {
             "outlinewidth": 0,
             "ticks": ""
            },
            "colorscale": [
             [
              0,
              "#0d0887"
             ],
             [
              0.1111111111111111,
              "#46039f"
             ],
             [
              0.2222222222222222,
              "#7201a8"
             ],
             [
              0.3333333333333333,
              "#9c179e"
             ],
             [
              0.4444444444444444,
              "#bd3786"
             ],
             [
              0.5555555555555556,
              "#d8576b"
             ],
             [
              0.6666666666666666,
              "#ed7953"
             ],
             [
              0.7777777777777778,
              "#fb9f3a"
             ],
             [
              0.8888888888888888,
              "#fdca26"
             ],
             [
              1,
              "#f0f921"
             ]
            ],
            "type": "contour"
           }
          ],
          "contourcarpet": [
           {
            "colorbar": {
             "outlinewidth": 0,
             "ticks": ""
            },
            "type": "contourcarpet"
           }
          ],
          "heatmap": [
           {
            "colorbar": {
             "outlinewidth": 0,
             "ticks": ""
            },
            "colorscale": [
             [
              0,
              "#0d0887"
             ],
             [
              0.1111111111111111,
              "#46039f"
             ],
             [
              0.2222222222222222,
              "#7201a8"
             ],
             [
              0.3333333333333333,
              "#9c179e"
             ],
             [
              0.4444444444444444,
              "#bd3786"
             ],
             [
              0.5555555555555556,
              "#d8576b"
             ],
             [
              0.6666666666666666,
              "#ed7953"
             ],
             [
              0.7777777777777778,
              "#fb9f3a"
             ],
             [
              0.8888888888888888,
              "#fdca26"
             ],
             [
              1,
              "#f0f921"
             ]
            ],
            "type": "heatmap"
           }
          ],
          "heatmapgl": [
           {
            "colorbar": {
             "outlinewidth": 0,
             "ticks": ""
            },
            "colorscale": [
             [
              0,
              "#0d0887"
             ],
             [
              0.1111111111111111,
              "#46039f"
             ],
             [
              0.2222222222222222,
              "#7201a8"
             ],
             [
              0.3333333333333333,
              "#9c179e"
             ],
             [
              0.4444444444444444,
              "#bd3786"
             ],
             [
              0.5555555555555556,
              "#d8576b"
             ],
             [
              0.6666666666666666,
              "#ed7953"
             ],
             [
              0.7777777777777778,
              "#fb9f3a"
             ],
             [
              0.8888888888888888,
              "#fdca26"
             ],
             [
              1,
              "#f0f921"
             ]
            ],
            "type": "heatmapgl"
           }
          ],
          "histogram": [
           {
            "marker": {
             "pattern": {
              "fillmode": "overlay",
              "size": 10,
              "solidity": 0.2
             }
            },
            "type": "histogram"
           }
          ],
          "histogram2d": [
           {
            "colorbar": {
             "outlinewidth": 0,
             "ticks": ""
            },
            "colorscale": [
             [
              0,
              "#0d0887"
             ],
             [
              0.1111111111111111,
              "#46039f"
             ],
             [
              0.2222222222222222,
              "#7201a8"
             ],
             [
              0.3333333333333333,
              "#9c179e"
             ],
             [
              0.4444444444444444,
              "#bd3786"
             ],
             [
              0.5555555555555556,
              "#d8576b"
             ],
             [
              0.6666666666666666,
              "#ed7953"
             ],
             [
              0.7777777777777778,
              "#fb9f3a"
             ],
             [
              0.8888888888888888,
              "#fdca26"
             ],
             [
              1,
              "#f0f921"
             ]
            ],
            "type": "histogram2d"
           }
          ],
          "histogram2dcontour": [
           {
            "colorbar": {
             "outlinewidth": 0,
             "ticks": ""
            },
            "colorscale": [
             [
              0,
              "#0d0887"
             ],
             [
              0.1111111111111111,
              "#46039f"
             ],
             [
              0.2222222222222222,
              "#7201a8"
             ],
             [
              0.3333333333333333,
              "#9c179e"
             ],
             [
              0.4444444444444444,
              "#bd3786"
             ],
             [
              0.5555555555555556,
              "#d8576b"
             ],
             [
              0.6666666666666666,
              "#ed7953"
             ],
             [
              0.7777777777777778,
              "#fb9f3a"
             ],
             [
              0.8888888888888888,
              "#fdca26"
             ],
             [
              1,
              "#f0f921"
             ]
            ],
            "type": "histogram2dcontour"
           }
          ],
          "mesh3d": [
           {
            "colorbar": {
             "outlinewidth": 0,
             "ticks": ""
            },
            "type": "mesh3d"
           }
          ],
          "parcoords": [
           {
            "line": {
             "colorbar": {
              "outlinewidth": 0,
              "ticks": ""
             }
            },
            "type": "parcoords"
           }
          ],
          "pie": [
           {
            "automargin": true,
            "type": "pie"
           }
          ],
          "scatter": [
           {
            "marker": {
             "colorbar": {
              "outlinewidth": 0,
              "ticks": ""
             }
            },
            "type": "scatter"
           }
          ],
          "scatter3d": [
           {
            "line": {
             "colorbar": {
              "outlinewidth": 0,
              "ticks": ""
             }
            },
            "marker": {
             "colorbar": {
              "outlinewidth": 0,
              "ticks": ""
             }
            },
            "type": "scatter3d"
           }
          ],
          "scattercarpet": [
           {
            "marker": {
             "colorbar": {
              "outlinewidth": 0,
              "ticks": ""
             }
            },
            "type": "scattercarpet"
           }
          ],
          "scattergeo": [
           {
            "marker": {
             "colorbar": {
              "outlinewidth": 0,
              "ticks": ""
             }
            },
            "type": "scattergeo"
           }
          ],
          "scattergl": [
           {
            "marker": {
             "colorbar": {
              "outlinewidth": 0,
              "ticks": ""
             }
            },
            "type": "scattergl"
           }
          ],
          "scattermapbox": [
           {
            "marker": {
             "colorbar": {
              "outlinewidth": 0,
              "ticks": ""
             }
            },
            "type": "scattermapbox"
           }
          ],
          "scatterpolar": [
           {
            "marker": {
             "colorbar": {
              "outlinewidth": 0,
              "ticks": ""
             }
            },
            "type": "scatterpolar"
           }
          ],
          "scatterpolargl": [
           {
            "marker": {
             "colorbar": {
              "outlinewidth": 0,
              "ticks": ""
             }
            },
            "type": "scatterpolargl"
           }
          ],
          "scatterternary": [
           {
            "marker": {
             "colorbar": {
              "outlinewidth": 0,
              "ticks": ""
             }
            },
            "type": "scatterternary"
           }
          ],
          "surface": [
           {
            "colorbar": {
             "outlinewidth": 0,
             "ticks": ""
            },
            "colorscale": [
             [
              0,
              "#0d0887"
             ],
             [
              0.1111111111111111,
              "#46039f"
             ],
             [
              0.2222222222222222,
              "#7201a8"
             ],
             [
              0.3333333333333333,
              "#9c179e"
             ],
             [
              0.4444444444444444,
              "#bd3786"
             ],
             [
              0.5555555555555556,
              "#d8576b"
             ],
             [
              0.6666666666666666,
              "#ed7953"
             ],
             [
              0.7777777777777778,
              "#fb9f3a"
             ],
             [
              0.8888888888888888,
              "#fdca26"
             ],
             [
              1,
              "#f0f921"
             ]
            ],
            "type": "surface"
           }
          ],
          "table": [
           {
            "cells": {
             "fill": {
              "color": "#EBF0F8"
             },
             "line": {
              "color": "white"
             }
            },
            "header": {
             "fill": {
              "color": "#C8D4E3"
             },
             "line": {
              "color": "white"
             }
            },
            "type": "table"
           }
          ]
         },
         "layout": {
          "annotationdefaults": {
           "arrowcolor": "#2a3f5f",
           "arrowhead": 0,
           "arrowwidth": 1
          },
          "autotypenumbers": "strict",
          "coloraxis": {
           "colorbar": {
            "outlinewidth": 0,
            "ticks": ""
           }
          },
          "colorscale": {
           "diverging": [
            [
             0,
             "#8e0152"
            ],
            [
             0.1,
             "#c51b7d"
            ],
            [
             0.2,
             "#de77ae"
            ],
            [
             0.3,
             "#f1b6da"
            ],
            [
             0.4,
             "#fde0ef"
            ],
            [
             0.5,
             "#f7f7f7"
            ],
            [
             0.6,
             "#e6f5d0"
            ],
            [
             0.7,
             "#b8e186"
            ],
            [
             0.8,
             "#7fbc41"
            ],
            [
             0.9,
             "#4d9221"
            ],
            [
             1,
             "#276419"
            ]
           ],
           "sequential": [
            [
             0,
             "#0d0887"
            ],
            [
             0.1111111111111111,
             "#46039f"
            ],
            [
             0.2222222222222222,
             "#7201a8"
            ],
            [
             0.3333333333333333,
             "#9c179e"
            ],
            [
             0.4444444444444444,
             "#bd3786"
            ],
            [
             0.5555555555555556,
             "#d8576b"
            ],
            [
             0.6666666666666666,
             "#ed7953"
            ],
            [
             0.7777777777777778,
             "#fb9f3a"
            ],
            [
             0.8888888888888888,
             "#fdca26"
            ],
            [
             1,
             "#f0f921"
            ]
           ],
           "sequentialminus": [
            [
             0,
             "#0d0887"
            ],
            [
             0.1111111111111111,
             "#46039f"
            ],
            [
             0.2222222222222222,
             "#7201a8"
            ],
            [
             0.3333333333333333,
             "#9c179e"
            ],
            [
             0.4444444444444444,
             "#bd3786"
            ],
            [
             0.5555555555555556,
             "#d8576b"
            ],
            [
             0.6666666666666666,
             "#ed7953"
            ],
            [
             0.7777777777777778,
             "#fb9f3a"
            ],
            [
             0.8888888888888888,
             "#fdca26"
            ],
            [
             1,
             "#f0f921"
            ]
           ]
          },
          "colorway": [
           "#636efa",
           "#EF553B",
           "#00cc96",
           "#ab63fa",
           "#FFA15A",
           "#19d3f3",
           "#FF6692",
           "#B6E880",
           "#FF97FF",
           "#FECB52"
          ],
          "font": {
           "color": "#2a3f5f"
          },
          "geo": {
           "bgcolor": "white",
           "lakecolor": "white",
           "landcolor": "#E5ECF6",
           "showlakes": true,
           "showland": true,
           "subunitcolor": "white"
          },
          "hoverlabel": {
           "align": "left"
          },
          "hovermode": "closest",
          "mapbox": {
           "style": "light"
          },
          "paper_bgcolor": "white",
          "plot_bgcolor": "#E5ECF6",
          "polar": {
           "angularaxis": {
            "gridcolor": "white",
            "linecolor": "white",
            "ticks": ""
           },
           "bgcolor": "#E5ECF6",
           "radialaxis": {
            "gridcolor": "white",
            "linecolor": "white",
            "ticks": ""
           }
          },
          "scene": {
           "xaxis": {
            "backgroundcolor": "#E5ECF6",
            "gridcolor": "white",
            "gridwidth": 2,
            "linecolor": "white",
            "showbackground": true,
            "ticks": "",
            "zerolinecolor": "white"
           },
           "yaxis": {
            "backgroundcolor": "#E5ECF6",
            "gridcolor": "white",
            "gridwidth": 2,
            "linecolor": "white",
            "showbackground": true,
            "ticks": "",
            "zerolinecolor": "white"
           },
           "zaxis": {
            "backgroundcolor": "#E5ECF6",
            "gridcolor": "white",
            "gridwidth": 2,
            "linecolor": "white",
            "showbackground": true,
            "ticks": "",
            "zerolinecolor": "white"
           }
          },
          "shapedefaults": {
           "line": {
            "color": "#2a3f5f"
           }
          },
          "ternary": {
           "aaxis": {
            "gridcolor": "white",
            "linecolor": "white",
            "ticks": ""
           },
           "baxis": {
            "gridcolor": "white",
            "linecolor": "white",
            "ticks": ""
           },
           "bgcolor": "#E5ECF6",
           "caxis": {
            "gridcolor": "white",
            "linecolor": "white",
            "ticks": ""
           }
          },
          "title": {
           "x": 0.05
          },
          "xaxis": {
           "automargin": true,
           "gridcolor": "white",
           "linecolor": "white",
           "ticks": "",
           "title": {
            "standoff": 15
           },
           "zerolinecolor": "white",
           "zerolinewidth": 2
          },
          "yaxis": {
           "automargin": true,
           "gridcolor": "white",
           "linecolor": "white",
           "ticks": "",
           "title": {
            "standoff": 15
           },
           "zerolinecolor": "white",
           "zerolinewidth": 2
          }
         }
        },
        "title": {
         "font": {
          "size": 24
         },
         "text": "Abortion Rate by Year"
        },
        "width": 1200,
        "xaxis": {
         "title": {
          "text": "Year"
         }
        },
        "yaxis": {
         "title": {
          "text": "Abortion Rate"
         }
        }
       }
      }
     },
     "metadata": {},
     "output_type": "display_data"
    }
   ],
   "source": [
    "import_feat = ['state_legislature','mngmt_job_wage_gap','rape_rate','life_exp_m_f','abortion_rate']\n",
    "\n",
    "# Calculate the rank percentage for each state in 2011\n",
    "df['pct_rank'] = df[df['year'] == 2020]['abortion_rate'].rank(pct=True)\n",
    "\n",
    "# Divide states into three groups based on rank percentage\n",
    "df['group'] = pd.cut(df['pct_rank'], bins=[0, 0.1, 0.45, 0.55, 0.9, 1.0], labels=[r'前10%', r'10%-45%', r'45%-55%', r'55%-90%', r'后10%'])\n",
    "\n",
    "# Process each state's data individually and store it in a dictionary\n",
    "states_data = {}\n",
    "for state, data in df.groupby('state'):\n",
    "    # Sort the data by year\n",
    "    data = data.sort_values('year')\n",
    "    # Construct Plotly's Trace object\n",
    "    trace = go.Scatter(\n",
    "        x=data['year'],\n",
    "        y=data['abortion_rate'],\n",
    "        name=state,\n",
    "        line=dict(width=2),\n",
    "        mode='lines',\n",
    "        text=data['abortion_rate'],\n",
    "        hovertemplate='<b>%{text:.2f}%</b><brstate: %{name}<br>year: %{x}'\n",
    "    )\n",
    "    # Assign the corresponding color according to which group the state belongs to\n",
    "    if r'前10%' in data['group'].unique():\n",
    "        \n",
    "        trace.update(line=dict(color='#750D86'))\n",
    "        states_data[state] = trace\n",
    "\n",
    "    elif r'后10%' in data['group'].unique():\n",
    "        trace.update(line=dict(color='#FEAF16'))\n",
    "        states_data[state] = trace\n",
    "\n",
    "    elif r'45%-55%' in data['group'].unique():\n",
    "        trace.update(line=dict(color='#00AB8B'))\n",
    "        states_data[state] = trace\n",
    "\n",
    "    # Store a Trace object for each state\n",
    "\n",
    "# Construct Plotly's Figure object\n",
    "fig = go.Figure(list(states_data.values()))\n",
    "\n",
    "# Add a chart title and axis labels\n",
    "fig.update_layout(title='Abortion Rate by Year',\n",
    "                  title_font_size=24,\n",
    "                  legend_title='States:',\n",
    "                xaxis_title='Year',\n",
    "                yaxis_title='Abortion Rate',\n",
    "                width=1200,\n",
    "                height=700)\n",
    "\n",
    "# show chart\n",
    "fig.show()"
   ]
  },
  {
   "attachments": {},
   "cell_type": "markdown",
   "metadata": {},
   "source": [
    "<h4> Abortion Rate </h4>\n",
    "\n",
    "* Divided the abortion occurrences of a state by its population and multiply by 100,000\n",
    "* In general, the trends across 13 states are steady and share a comparatively low abortion rate except for New Hamshire and New Mexico; also, the differences between each state's abortion rate are small\n",
    "    * New Hamshire: Observe an conspicuously high abortion rate compared to its counterpart states and salient fluctuation compared to the rest of the states. However, it has a sudden decrease from 2018 to 2019 and an increase from 2019 to 2020\n",
    "    * New Mexicao: While sharing a similarly low and steady trend as its counterparts, it had a drastic increase from 2017 to 2018, followed by a sudden decrease from 2018 to 2019, and then another sharp increase from 2019 to 2020"
   ]
  },
  {
   "cell_type": "code",
   "execution_count": 140,
   "metadata": {},
   "outputs": [
    {
     "data": {
      "application/vnd.plotly.v1+json": {
       "config": {
        "plotlyServerURL": "https://plot.ly"
       },
       "data": [
        {
         "line": {
          "color": "#EECA3B"
         },
         "mode": "markers+lines",
         "name": "Upper Quartile",
         "type": "scatter",
         "x": [
          2011,
          2012,
          2013,
          2014,
          2015,
          2016,
          2017,
          2018,
          2019,
          2020
         ],
         "y": [
          37.15,
          34.525000000000006,
          45.575,
          45.8,
          46.675,
          48.075,
          52.375,
          51.725,
          55.5,
          50.425000000000004
         ]
        },
        {
         "marker": {
          "color": "#54A24B"
         },
         "mode": "markers+lines",
         "name": "Median",
         "type": "scatter",
         "x": [
          2011,
          2012,
          2013,
          2014,
          2015,
          2016,
          2017,
          2018,
          2019,
          2020
         ],
         "y": [
          29.45,
          28.15,
          36.9,
          37,
          39.85,
          41.849999999999994,
          43.099999999999994,
          44.35,
          44.2,
          39.85
         ]
        },
        {
         "line": {
          "color": "#4C78A8"
         },
         "mode": "markers+lines",
         "name": "Lower Quartile",
         "type": "scatter",
         "x": [
          2011,
          2012,
          2013,
          2014,
          2015,
          2016,
          2017,
          2018,
          2019,
          2020
         ],
         "y": [
          24.549999999999997,
          25.125,
          31.35,
          29.974999999999998,
          33.625,
          34.75,
          36.675,
          35.1,
          36.824999999999996,
          34.2
         ]
        },
        {
         "marker": {
          "color": "#9467BD"
         },
         "mode": "markers+lines",
         "name": "Min",
         "type": "scatter",
         "x": [
          2011,
          2012,
          2013,
          2014,
          2015,
          2016,
          2017,
          2018,
          2019,
          2020
         ],
         "y": [
          11.4,
          11.7,
          12.6,
          14.3,
          15.3,
          16.2,
          16.7,
          16,
          17.2,
          14.4
         ]
        }
       ],
       "layout": {
        "height": 700,
        "template": {
         "data": {
          "bar": [
           {
            "error_x": {
             "color": "#2a3f5f"
            },
            "error_y": {
             "color": "#2a3f5f"
            },
            "marker": {
             "line": {
              "color": "#E5ECF6",
              "width": 0.5
             },
             "pattern": {
              "fillmode": "overlay",
              "size": 10,
              "solidity": 0.2
             }
            },
            "type": "bar"
           }
          ],
          "barpolar": [
           {
            "marker": {
             "line": {
              "color": "#E5ECF6",
              "width": 0.5
             },
             "pattern": {
              "fillmode": "overlay",
              "size": 10,
              "solidity": 0.2
             }
            },
            "type": "barpolar"
           }
          ],
          "carpet": [
           {
            "aaxis": {
             "endlinecolor": "#2a3f5f",
             "gridcolor": "white",
             "linecolor": "white",
             "minorgridcolor": "white",
             "startlinecolor": "#2a3f5f"
            },
            "baxis": {
             "endlinecolor": "#2a3f5f",
             "gridcolor": "white",
             "linecolor": "white",
             "minorgridcolor": "white",
             "startlinecolor": "#2a3f5f"
            },
            "type": "carpet"
           }
          ],
          "choropleth": [
           {
            "colorbar": {
             "outlinewidth": 0,
             "ticks": ""
            },
            "type": "choropleth"
           }
          ],
          "contour": [
           {
            "colorbar": {
             "outlinewidth": 0,
             "ticks": ""
            },
            "colorscale": [
             [
              0,
              "#0d0887"
             ],
             [
              0.1111111111111111,
              "#46039f"
             ],
             [
              0.2222222222222222,
              "#7201a8"
             ],
             [
              0.3333333333333333,
              "#9c179e"
             ],
             [
              0.4444444444444444,
              "#bd3786"
             ],
             [
              0.5555555555555556,
              "#d8576b"
             ],
             [
              0.6666666666666666,
              "#ed7953"
             ],
             [
              0.7777777777777778,
              "#fb9f3a"
             ],
             [
              0.8888888888888888,
              "#fdca26"
             ],
             [
              1,
              "#f0f921"
             ]
            ],
            "type": "contour"
           }
          ],
          "contourcarpet": [
           {
            "colorbar": {
             "outlinewidth": 0,
             "ticks": ""
            },
            "type": "contourcarpet"
           }
          ],
          "heatmap": [
           {
            "colorbar": {
             "outlinewidth": 0,
             "ticks": ""
            },
            "colorscale": [
             [
              0,
              "#0d0887"
             ],
             [
              0.1111111111111111,
              "#46039f"
             ],
             [
              0.2222222222222222,
              "#7201a8"
             ],
             [
              0.3333333333333333,
              "#9c179e"
             ],
             [
              0.4444444444444444,
              "#bd3786"
             ],
             [
              0.5555555555555556,
              "#d8576b"
             ],
             [
              0.6666666666666666,
              "#ed7953"
             ],
             [
              0.7777777777777778,
              "#fb9f3a"
             ],
             [
              0.8888888888888888,
              "#fdca26"
             ],
             [
              1,
              "#f0f921"
             ]
            ],
            "type": "heatmap"
           }
          ],
          "heatmapgl": [
           {
            "colorbar": {
             "outlinewidth": 0,
             "ticks": ""
            },
            "colorscale": [
             [
              0,
              "#0d0887"
             ],
             [
              0.1111111111111111,
              "#46039f"
             ],
             [
              0.2222222222222222,
              "#7201a8"
             ],
             [
              0.3333333333333333,
              "#9c179e"
             ],
             [
              0.4444444444444444,
              "#bd3786"
             ],
             [
              0.5555555555555556,
              "#d8576b"
             ],
             [
              0.6666666666666666,
              "#ed7953"
             ],
             [
              0.7777777777777778,
              "#fb9f3a"
             ],
             [
              0.8888888888888888,
              "#fdca26"
             ],
             [
              1,
              "#f0f921"
             ]
            ],
            "type": "heatmapgl"
           }
          ],
          "histogram": [
           {
            "marker": {
             "pattern": {
              "fillmode": "overlay",
              "size": 10,
              "solidity": 0.2
             }
            },
            "type": "histogram"
           }
          ],
          "histogram2d": [
           {
            "colorbar": {
             "outlinewidth": 0,
             "ticks": ""
            },
            "colorscale": [
             [
              0,
              "#0d0887"
             ],
             [
              0.1111111111111111,
              "#46039f"
             ],
             [
              0.2222222222222222,
              "#7201a8"
             ],
             [
              0.3333333333333333,
              "#9c179e"
             ],
             [
              0.4444444444444444,
              "#bd3786"
             ],
             [
              0.5555555555555556,
              "#d8576b"
             ],
             [
              0.6666666666666666,
              "#ed7953"
             ],
             [
              0.7777777777777778,
              "#fb9f3a"
             ],
             [
              0.8888888888888888,
              "#fdca26"
             ],
             [
              1,
              "#f0f921"
             ]
            ],
            "type": "histogram2d"
           }
          ],
          "histogram2dcontour": [
           {
            "colorbar": {
             "outlinewidth": 0,
             "ticks": ""
            },
            "colorscale": [
             [
              0,
              "#0d0887"
             ],
             [
              0.1111111111111111,
              "#46039f"
             ],
             [
              0.2222222222222222,
              "#7201a8"
             ],
             [
              0.3333333333333333,
              "#9c179e"
             ],
             [
              0.4444444444444444,
              "#bd3786"
             ],
             [
              0.5555555555555556,
              "#d8576b"
             ],
             [
              0.6666666666666666,
              "#ed7953"
             ],
             [
              0.7777777777777778,
              "#fb9f3a"
             ],
             [
              0.8888888888888888,
              "#fdca26"
             ],
             [
              1,
              "#f0f921"
             ]
            ],
            "type": "histogram2dcontour"
           }
          ],
          "mesh3d": [
           {
            "colorbar": {
             "outlinewidth": 0,
             "ticks": ""
            },
            "type": "mesh3d"
           }
          ],
          "parcoords": [
           {
            "line": {
             "colorbar": {
              "outlinewidth": 0,
              "ticks": ""
             }
            },
            "type": "parcoords"
           }
          ],
          "pie": [
           {
            "automargin": true,
            "type": "pie"
           }
          ],
          "scatter": [
           {
            "marker": {
             "colorbar": {
              "outlinewidth": 0,
              "ticks": ""
             }
            },
            "type": "scatter"
           }
          ],
          "scatter3d": [
           {
            "line": {
             "colorbar": {
              "outlinewidth": 0,
              "ticks": ""
             }
            },
            "marker": {
             "colorbar": {
              "outlinewidth": 0,
              "ticks": ""
             }
            },
            "type": "scatter3d"
           }
          ],
          "scattercarpet": [
           {
            "marker": {
             "colorbar": {
              "outlinewidth": 0,
              "ticks": ""
             }
            },
            "type": "scattercarpet"
           }
          ],
          "scattergeo": [
           {
            "marker": {
             "colorbar": {
              "outlinewidth": 0,
              "ticks": ""
             }
            },
            "type": "scattergeo"
           }
          ],
          "scattergl": [
           {
            "marker": {
             "colorbar": {
              "outlinewidth": 0,
              "ticks": ""
             }
            },
            "type": "scattergl"
           }
          ],
          "scattermapbox": [
           {
            "marker": {
             "colorbar": {
              "outlinewidth": 0,
              "ticks": ""
             }
            },
            "type": "scattermapbox"
           }
          ],
          "scatterpolar": [
           {
            "marker": {
             "colorbar": {
              "outlinewidth": 0,
              "ticks": ""
             }
            },
            "type": "scatterpolar"
           }
          ],
          "scatterpolargl": [
           {
            "marker": {
             "colorbar": {
              "outlinewidth": 0,
              "ticks": ""
             }
            },
            "type": "scatterpolargl"
           }
          ],
          "scatterternary": [
           {
            "marker": {
             "colorbar": {
              "outlinewidth": 0,
              "ticks": ""
             }
            },
            "type": "scatterternary"
           }
          ],
          "surface": [
           {
            "colorbar": {
             "outlinewidth": 0,
             "ticks": ""
            },
            "colorscale": [
             [
              0,
              "#0d0887"
             ],
             [
              0.1111111111111111,
              "#46039f"
             ],
             [
              0.2222222222222222,
              "#7201a8"
             ],
             [
              0.3333333333333333,
              "#9c179e"
             ],
             [
              0.4444444444444444,
              "#bd3786"
             ],
             [
              0.5555555555555556,
              "#d8576b"
             ],
             [
              0.6666666666666666,
              "#ed7953"
             ],
             [
              0.7777777777777778,
              "#fb9f3a"
             ],
             [
              0.8888888888888888,
              "#fdca26"
             ],
             [
              1,
              "#f0f921"
             ]
            ],
            "type": "surface"
           }
          ],
          "table": [
           {
            "cells": {
             "fill": {
              "color": "#EBF0F8"
             },
             "line": {
              "color": "white"
             }
            },
            "header": {
             "fill": {
              "color": "#C8D4E3"
             },
             "line": {
              "color": "white"
             }
            },
            "type": "table"
           }
          ]
         },
         "layout": {
          "annotationdefaults": {
           "arrowcolor": "#2a3f5f",
           "arrowhead": 0,
           "arrowwidth": 1
          },
          "autotypenumbers": "strict",
          "coloraxis": {
           "colorbar": {
            "outlinewidth": 0,
            "ticks": ""
           }
          },
          "colorscale": {
           "diverging": [
            [
             0,
             "#8e0152"
            ],
            [
             0.1,
             "#c51b7d"
            ],
            [
             0.2,
             "#de77ae"
            ],
            [
             0.3,
             "#f1b6da"
            ],
            [
             0.4,
             "#fde0ef"
            ],
            [
             0.5,
             "#f7f7f7"
            ],
            [
             0.6,
             "#e6f5d0"
            ],
            [
             0.7,
             "#b8e186"
            ],
            [
             0.8,
             "#7fbc41"
            ],
            [
             0.9,
             "#4d9221"
            ],
            [
             1,
             "#276419"
            ]
           ],
           "sequential": [
            [
             0,
             "#0d0887"
            ],
            [
             0.1111111111111111,
             "#46039f"
            ],
            [
             0.2222222222222222,
             "#7201a8"
            ],
            [
             0.3333333333333333,
             "#9c179e"
            ],
            [
             0.4444444444444444,
             "#bd3786"
            ],
            [
             0.5555555555555556,
             "#d8576b"
            ],
            [
             0.6666666666666666,
             "#ed7953"
            ],
            [
             0.7777777777777778,
             "#fb9f3a"
            ],
            [
             0.8888888888888888,
             "#fdca26"
            ],
            [
             1,
             "#f0f921"
            ]
           ],
           "sequentialminus": [
            [
             0,
             "#0d0887"
            ],
            [
             0.1111111111111111,
             "#46039f"
            ],
            [
             0.2222222222222222,
             "#7201a8"
            ],
            [
             0.3333333333333333,
             "#9c179e"
            ],
            [
             0.4444444444444444,
             "#bd3786"
            ],
            [
             0.5555555555555556,
             "#d8576b"
            ],
            [
             0.6666666666666666,
             "#ed7953"
            ],
            [
             0.7777777777777778,
             "#fb9f3a"
            ],
            [
             0.8888888888888888,
             "#fdca26"
            ],
            [
             1,
             "#f0f921"
            ]
           ]
          },
          "colorway": [
           "#636efa",
           "#EF553B",
           "#00cc96",
           "#ab63fa",
           "#FFA15A",
           "#19d3f3",
           "#FF6692",
           "#B6E880",
           "#FF97FF",
           "#FECB52"
          ],
          "font": {
           "color": "#2a3f5f"
          },
          "geo": {
           "bgcolor": "white",
           "lakecolor": "white",
           "landcolor": "#E5ECF6",
           "showlakes": true,
           "showland": true,
           "subunitcolor": "white"
          },
          "hoverlabel": {
           "align": "left"
          },
          "hovermode": "closest",
          "mapbox": {
           "style": "light"
          },
          "paper_bgcolor": "white",
          "plot_bgcolor": "#E5ECF6",
          "polar": {
           "angularaxis": {
            "gridcolor": "white",
            "linecolor": "white",
            "ticks": ""
           },
           "bgcolor": "#E5ECF6",
           "radialaxis": {
            "gridcolor": "white",
            "linecolor": "white",
            "ticks": ""
           }
          },
          "scene": {
           "xaxis": {
            "backgroundcolor": "#E5ECF6",
            "gridcolor": "white",
            "gridwidth": 2,
            "linecolor": "white",
            "showbackground": true,
            "ticks": "",
            "zerolinecolor": "white"
           },
           "yaxis": {
            "backgroundcolor": "#E5ECF6",
            "gridcolor": "white",
            "gridwidth": 2,
            "linecolor": "white",
            "showbackground": true,
            "ticks": "",
            "zerolinecolor": "white"
           },
           "zaxis": {
            "backgroundcolor": "#E5ECF6",
            "gridcolor": "white",
            "gridwidth": 2,
            "linecolor": "white",
            "showbackground": true,
            "ticks": "",
            "zerolinecolor": "white"
           }
          },
          "shapedefaults": {
           "line": {
            "color": "#2a3f5f"
           }
          },
          "ternary": {
           "aaxis": {
            "gridcolor": "white",
            "linecolor": "white",
            "ticks": ""
           },
           "baxis": {
            "gridcolor": "white",
            "linecolor": "white",
            "ticks": ""
           },
           "bgcolor": "#E5ECF6",
           "caxis": {
            "gridcolor": "white",
            "linecolor": "white",
            "ticks": ""
           }
          },
          "title": {
           "x": 0.05
          },
          "xaxis": {
           "automargin": true,
           "gridcolor": "white",
           "linecolor": "white",
           "ticks": "",
           "title": {
            "standoff": 15
           },
           "zerolinecolor": "white",
           "zerolinewidth": 2
          },
          "yaxis": {
           "automargin": true,
           "gridcolor": "white",
           "linecolor": "white",
           "ticks": "",
           "title": {
            "standoff": 15
           },
           "zerolinecolor": "white",
           "zerolinewidth": 2
          }
         }
        },
        "title": {
         "text": "rape rate Change by Year"
        },
        "width": 1200,
        "xaxis": {
         "title": {
          "text": "Year"
         }
        },
        "yaxis": {
         "title": {
          "text": "Value"
         }
        }
       }
      }
     },
     "metadata": {},
     "output_type": "display_data"
    }
   ],
   "source": [
    "import numpy as np\n",
    "import plotly.graph_objs as go\n",
    "\n",
    "# 计算每年数据的25%数值线\n",
    "q1 = df.groupby(['year'])['rape_rate'].quantile(0.25).reset_index()\n",
    "q3 = df.groupby(['year'])['rape_rate'].quantile(0.75).reset_index()\n",
    "\n",
    "# 合并数据\n",
    "grouped = df.groupby(['year'])['rape_rate'].agg(['max', 'min', 'median']).reset_index()\n",
    "grouped = pd.merge(grouped, q1, on='year')\n",
    "grouped = pd.merge(grouped, q3, on='year')\n",
    "\n",
    "# 创建散点图数据\n",
    "data = [\n",
    "    # go.Scatter(\n",
    "    #     x=grouped['year'],\n",
    "    #     y=grouped['max'],\n",
    "    #     name='Max',\n",
    "    #     mode='markers+lines',\n",
    "    #     marker=dict(\n",
    "    #         color='red'\n",
    "    #     )\n",
    "    # ),\n",
    "    go.Scatter(\n",
    "        x=q3['year'],\n",
    "        y=q3['rape_rate'],\n",
    "        name='Upper Quartile',\n",
    "        mode='markers+lines',\n",
    "        line=dict(\n",
    "            color='#EECA3B'\n",
    "        )\n",
    "    ),\n",
    "    go.Scatter(\n",
    "        x=grouped['year'],\n",
    "        y=grouped['median'],\n",
    "        name='Median',\n",
    "        mode='markers+lines',\n",
    "        marker=dict(\n",
    "            color='#54A24B'\n",
    "        )\n",
    "    ),\n",
    "    go.Scatter(\n",
    "        x=q1['year'],\n",
    "        y=q1['rape_rate'],\n",
    "        name='Lower Quartile',\n",
    "        mode='markers+lines',\n",
    "        line=dict(\n",
    "            color='#4C78A8'\n",
    "        )\n",
    "    ),\n",
    "    go.Scatter(\n",
    "        x=grouped['year'],\n",
    "        y=grouped['min'],\n",
    "        name='Min',\n",
    "        mode='markers+lines',\n",
    "        marker=dict(\n",
    "            color='#9467BD'\n",
    "        )\n",
    "    )\n",
    "]\n",
    "\n",
    "# 创建布局\n",
    "layout = go.Layout(\n",
    "    title='rape rate Change by Year',\n",
    "    xaxis=dict(\n",
    "        title='Year'\n",
    "    ),\n",
    "    yaxis=dict(\n",
    "        title='Value'\n",
    "    )\n",
    ")\n",
    "\n",
    "# 创建图表\n",
    "fig = go.Figure(data=data, layout=layout)\n",
    "fig.update_layout(width=1200,\n",
    "                height=700)\n",
    "\n",
    "# 显示图表\n",
    "fig.show()"
   ]
  },
  {
   "cell_type": "code",
   "execution_count": 54,
   "metadata": {},
   "outputs": [
    {
     "name": "stdout",
     "output_type": "stream",
     "text": [
      "主成分方差比例： [0.20081727 0.18868286 0.13938942 0.09702772 0.0867474 ]\n",
      "主成分方差： [2.81707598 2.64685382 1.95536258 1.36111036 1.21689737]\n",
      "特征贡献度： [[-0.37333736 -0.42768335  0.31362123 -0.25337719 -0.06009343 -0.05192028\n",
      "   0.07103936 -0.3176346  -0.32834581  0.39359405  0.03953647 -0.17823004\n",
      "   0.32515327 -0.033491  ]\n",
      " [-0.15510204 -0.29853616 -0.41358215  0.03654831  0.30133027  0.00685356\n",
      "  -0.0988596   0.01755749  0.11175061 -0.02369014  0.27989357  0.36948097\n",
      "   0.31717631  0.53385234]\n",
      " [ 0.18114338 -0.04174825 -0.1962935   0.10868196 -0.39876693  0.07196915\n",
      "  -0.2958272  -0.30868496 -0.41316153  0.11237472 -0.43665578  0.32237817\n",
      "  -0.16996774  0.24757014]\n",
      " [-0.17975705  0.11425458  0.06548807  0.65308604  0.32725931  0.16166665\n",
      "   0.29114544 -0.19499587 -0.11735944  0.36289673  0.10215553  0.19156487\n",
      "  -0.25401061 -0.10333392]\n",
      " [-0.13545382 -0.04565041  0.18657764 -0.09579555  0.07562697  0.76023752\n",
      "  -0.495177   -0.13457956  0.10984039 -0.13267208  0.17666748  0.01984455\n",
      "  -0.10989388 -0.12344716]]\n"
     ]
    },
    {
     "data": {
      "image/png": "[encoded data removed]",
      "text/plain": [
       "<Figure size 1440x720 with 1 Axes>"
      ]
     },
     "metadata": {
      "needs_background": "light"
     },
     "output_type": "display_data"
    }
   ],
   "source": [
    "import numpy as np\n",
    "import pandas as pd\n",
    "from sklearn.decomposition import PCA\n",
    "\n",
    "# 加载数据集\n",
    "\n",
    "\n",
    "# 将数据集转换为numpy数组，并进行标准化处理\n",
    "X = np.array(df.iloc[:, 1:15])\n",
    "X = (X - np.mean(X, axis=0)) / np.std(X, axis=0)\n",
    "\n",
    "# 初始化PCA对象并拟合数据\n",
    "pca = PCA(n_components=5)  # 指定要保留的主成分数量为2\n",
    "X_pca = pca.fit_transform(X)\n",
    "\n",
    "# 输出主成分方差比例\n",
    "print(\"主成分方差比例：\", pca.explained_variance_ratio_)\n",
    "\n",
    "# 输出主成分方差\n",
    "print(\"主成分方差：\", pca.explained_variance_)\n",
    "\n",
    "# 输出每个特征的贡献度\n",
    "print(\"特征贡献度：\", pca.components_)\n",
    "\n",
    "# 可视化降维后的数据\n",
    "import matplotlib.pyplot as plt\n",
    "\n",
    "plt.scatter(X_pca[:, 0], X_pca[:, 1])\n",
    "plt.xlabel('First Principal Component')\n",
    "plt.ylabel('Second Principal Component')\n",
    "plt.show()\n"
   ]
  },
  {
   "cell_type": "code",
   "execution_count": 55,
   "metadata": {},
   "outputs": [
    {
     "data": {
      "text/plain": [
       "Index(['state', 'bachelor', 'graduate', 'hs', 'year', 'state_legislature',\n",
       "       'governor', 'lt_governor', 'labour_force_participation',\n",
       "       'mngmt_job_wage_gap', 'bachelor_wage_gap', 'ab_legality', 'rape_rate',\n",
       "       'life_exp_m_f', 'sex_ratio_birth', 'abortion_rate', 'pct_rank',\n",
       "       'group'],\n",
       "      dtype='object')"
      ]
     },
     "execution_count": 55,
     "metadata": {},
     "output_type": "execute_result"
    }
   ],
   "source": [
    "df.columns"
   ]
  },
  {
   "cell_type": "code",
   "execution_count": 57,
   "metadata": {},
   "outputs": [],
   "source": [
    "from sklearn.model_selection import train_test_split\n",
    "from sklearn import metrics\n",
    "from sklearn.preprocessing import StandardScaler\n",
    "from sklearn.linear_model import LinearRegression\n",
    "from sklearn.ensemble import RandomForestClassifier\n",
    "from sklearn.ensemble import RandomForestRegressor\n",
    "X= df[['state', 'bachelor', 'graduate', 'hs', 'year', 'state_legislature',\n",
    "       'governor', 'lt_governor', 'labour_force_participation',\n",
    "       'mngmt_job_wage_gap', 'bachelor_wage_gap', 'ab_legality',\n",
    "       'life_exp_m_f', 'sex_ratio_birth', 'abortion_rate', 'pct_rank',\n",
    "       'group']]\n",
    "y= df['rape_rate']\n",
    "#Select 30% of the data as test data, and set random_state=0\n",
    "X_train, X_test, y_train, y_test = train_test_split(X, y, test_size=0.3, random_state=0)"
   ]
  },
  {
   "cell_type": "code",
   "execution_count": 58,
   "metadata": {},
   "outputs": [
    {
     "ename": "ValueError",
     "evalue": "could not convert string to float: 'Tennessee'",
     "output_type": "error",
     "traceback": [
      "\u001b[0;31m---------------------------------------------------------------------------\u001b[0m",
      "\u001b[0;31mValueError\u001b[0m                                Traceback (most recent call last)",
      "\u001b[1;32m/Users/xuguangjie/Desktop/final-project-233-not-found-main/EDA1.ipynb 单元格 18\u001b[0m in \u001b[0;36m<cell line: 11>\u001b[0;34m()\u001b[0m\n\u001b[1;32m      <a href='vscode-notebook-cell:/Users/xuguangjie/Desktop/final-project-233-not-found-main/EDA1.ipynb#X32sZmlsZQ%3D%3D?line=6'>7</a>\u001b[0m model \u001b[39m=\u001b[39m Pipeline(steps\u001b[39m=\u001b[39m[(\u001b[39m'\u001b[39m\u001b[39mpca\u001b[39m\u001b[39m'\u001b[39m, PCA(n_components\u001b[39m=\u001b[39m\u001b[39m8\u001b[39m)),\n\u001b[1;32m      <a href='vscode-notebook-cell:/Users/xuguangjie/Desktop/final-project-233-not-found-main/EDA1.ipynb#X32sZmlsZQ%3D%3D?line=7'>8</a>\u001b[0m                         (\u001b[39m'\u001b[39m\u001b[39mregression\u001b[39m\u001b[39m'\u001b[39m, LinearRegression())])\n\u001b[1;32m     <a href='vscode-notebook-cell:/Users/xuguangjie/Desktop/final-project-233-not-found-main/EDA1.ipynb#X32sZmlsZQ%3D%3D?line=9'>10</a>\u001b[0m \u001b[39m# 拟合模型\u001b[39;00m\n\u001b[0;32m---> <a href='vscode-notebook-cell:/Users/xuguangjie/Desktop/final-project-233-not-found-main/EDA1.ipynb#X32sZmlsZQ%3D%3D?line=10'>11</a>\u001b[0m model\u001b[39m.\u001b[39;49mfit(X_train, y_train)\n\u001b[1;32m     <a href='vscode-notebook-cell:/Users/xuguangjie/Desktop/final-project-233-not-found-main/EDA1.ipynb#X32sZmlsZQ%3D%3D?line=12'>13</a>\u001b[0m \u001b[39m# 预测\u001b[39;00m\n\u001b[1;32m     <a href='vscode-notebook-cell:/Users/xuguangjie/Desktop/final-project-233-not-found-main/EDA1.ipynb#X32sZmlsZQ%3D%3D?line=14'>15</a>\u001b[0m y_pred \u001b[39m=\u001b[39m model\u001b[39m.\u001b[39mpredict(X_test)\n",
      "File \u001b[0;32m~/opt/anaconda3/lib/python3.9/site-packages/sklearn/pipeline.py:390\u001b[0m, in \u001b[0;36mPipeline.fit\u001b[0;34m(self, X, y, **fit_params)\u001b[0m\n\u001b[1;32m    364\u001b[0m \u001b[39m\"\"\"Fit the model.\u001b[39;00m\n\u001b[1;32m    365\u001b[0m \n\u001b[1;32m    366\u001b[0m \u001b[39mFit all the transformers one after the other and transform the\u001b[39;00m\n\u001b[0;32m   (...)\u001b[0m\n\u001b[1;32m    387\u001b[0m \u001b[39m    Pipeline with fitted steps.\u001b[39;00m\n\u001b[1;32m    388\u001b[0m \u001b[39m\"\"\"\u001b[39;00m\n\u001b[1;32m    389\u001b[0m fit_params_steps \u001b[39m=\u001b[39m \u001b[39mself\u001b[39m\u001b[39m.\u001b[39m_check_fit_params(\u001b[39m*\u001b[39m\u001b[39m*\u001b[39mfit_params)\n\u001b[0;32m--> 390\u001b[0m Xt \u001b[39m=\u001b[39m \u001b[39mself\u001b[39;49m\u001b[39m.\u001b[39;49m_fit(X, y, \u001b[39m*\u001b[39;49m\u001b[39m*\u001b[39;49mfit_params_steps)\n\u001b[1;32m    391\u001b[0m \u001b[39mwith\u001b[39;00m _print_elapsed_time(\u001b[39m\"\u001b[39m\u001b[39mPipeline\u001b[39m\u001b[39m\"\u001b[39m, \u001b[39mself\u001b[39m\u001b[39m.\u001b[39m_log_message(\u001b[39mlen\u001b[39m(\u001b[39mself\u001b[39m\u001b[39m.\u001b[39msteps) \u001b[39m-\u001b[39m \u001b[39m1\u001b[39m)):\n\u001b[1;32m    392\u001b[0m     \u001b[39mif\u001b[39;00m \u001b[39mself\u001b[39m\u001b[39m.\u001b[39m_final_estimator \u001b[39m!=\u001b[39m \u001b[39m\"\u001b[39m\u001b[39mpassthrough\u001b[39m\u001b[39m\"\u001b[39m:\n",
      "File \u001b[0;32m~/opt/anaconda3/lib/python3.9/site-packages/sklearn/pipeline.py:348\u001b[0m, in \u001b[0;36mPipeline._fit\u001b[0;34m(self, X, y, **fit_params_steps)\u001b[0m\n\u001b[1;32m    346\u001b[0m     cloned_transformer \u001b[39m=\u001b[39m clone(transformer)\n\u001b[1;32m    347\u001b[0m \u001b[39m# Fit or load from cache the current transformer\u001b[39;00m\n\u001b[0;32m--> 348\u001b[0m X, fitted_transformer \u001b[39m=\u001b[39m fit_transform_one_cached(\n\u001b[1;32m    349\u001b[0m     cloned_transformer,\n\u001b[1;32m    350\u001b[0m     X,\n\u001b[1;32m    351\u001b[0m     y,\n\u001b[1;32m    352\u001b[0m     \u001b[39mNone\u001b[39;49;00m,\n\u001b[1;32m    353\u001b[0m     message_clsname\u001b[39m=\u001b[39;49m\u001b[39m\"\u001b[39;49m\u001b[39mPipeline\u001b[39;49m\u001b[39m\"\u001b[39;49m,\n\u001b[1;32m    354\u001b[0m     message\u001b[39m=\u001b[39;49m\u001b[39mself\u001b[39;49m\u001b[39m.\u001b[39;49m_log_message(step_idx),\n\u001b[1;32m    355\u001b[0m     \u001b[39m*\u001b[39;49m\u001b[39m*\u001b[39;49mfit_params_steps[name],\n\u001b[1;32m    356\u001b[0m )\n\u001b[1;32m    357\u001b[0m \u001b[39m# Replace the transformer of the step with the fitted\u001b[39;00m\n\u001b[1;32m    358\u001b[0m \u001b[39m# transformer. This is necessary when loading the transformer\u001b[39;00m\n\u001b[1;32m    359\u001b[0m \u001b[39m# from the cache.\u001b[39;00m\n\u001b[1;32m    360\u001b[0m \u001b[39mself\u001b[39m\u001b[39m.\u001b[39msteps[step_idx] \u001b[39m=\u001b[39m (name, fitted_transformer)\n",
      "File \u001b[0;32m~/opt/anaconda3/lib/python3.9/site-packages/joblib/memory.py:349\u001b[0m, in \u001b[0;36mNotMemorizedFunc.__call__\u001b[0;34m(self, *args, **kwargs)\u001b[0m\n\u001b[1;32m    348\u001b[0m \u001b[39mdef\u001b[39;00m \u001b[39m__call__\u001b[39m(\u001b[39mself\u001b[39m, \u001b[39m*\u001b[39margs, \u001b[39m*\u001b[39m\u001b[39m*\u001b[39mkwargs):\n\u001b[0;32m--> 349\u001b[0m     \u001b[39mreturn\u001b[39;00m \u001b[39mself\u001b[39;49m\u001b[39m.\u001b[39;49mfunc(\u001b[39m*\u001b[39;49margs, \u001b[39m*\u001b[39;49m\u001b[39m*\u001b[39;49mkwargs)\n",
      "File \u001b[0;32m~/opt/anaconda3/lib/python3.9/site-packages/sklearn/pipeline.py:893\u001b[0m, in \u001b[0;36m_fit_transform_one\u001b[0;34m(transformer, X, y, weight, message_clsname, message, **fit_params)\u001b[0m\n\u001b[1;32m    891\u001b[0m \u001b[39mwith\u001b[39;00m _print_elapsed_time(message_clsname, message):\n\u001b[1;32m    892\u001b[0m     \u001b[39mif\u001b[39;00m \u001b[39mhasattr\u001b[39m(transformer, \u001b[39m\"\u001b[39m\u001b[39mfit_transform\u001b[39m\u001b[39m\"\u001b[39m):\n\u001b[0;32m--> 893\u001b[0m         res \u001b[39m=\u001b[39m transformer\u001b[39m.\u001b[39;49mfit_transform(X, y, \u001b[39m*\u001b[39;49m\u001b[39m*\u001b[39;49mfit_params)\n\u001b[1;32m    894\u001b[0m     \u001b[39melse\u001b[39;00m:\n\u001b[1;32m    895\u001b[0m         res \u001b[39m=\u001b[39m transformer\u001b[39m.\u001b[39mfit(X, y, \u001b[39m*\u001b[39m\u001b[39m*\u001b[39mfit_params)\u001b[39m.\u001b[39mtransform(X)\n",
      "File \u001b[0;32m~/opt/anaconda3/lib/python3.9/site-packages/sklearn/decomposition/_pca.py:407\u001b[0m, in \u001b[0;36mPCA.fit_transform\u001b[0;34m(self, X, y)\u001b[0m\n\u001b[1;32m    385\u001b[0m \u001b[39mdef\u001b[39;00m \u001b[39mfit_transform\u001b[39m(\u001b[39mself\u001b[39m, X, y\u001b[39m=\u001b[39m\u001b[39mNone\u001b[39;00m):\n\u001b[1;32m    386\u001b[0m     \u001b[39m\"\"\"Fit the model with X and apply the dimensionality reduction on X.\u001b[39;00m\n\u001b[1;32m    387\u001b[0m \n\u001b[1;32m    388\u001b[0m \u001b[39m    Parameters\u001b[39;00m\n\u001b[0;32m   (...)\u001b[0m\n\u001b[1;32m    405\u001b[0m \u001b[39m    C-ordered array, use 'np.ascontiguousarray'.\u001b[39;00m\n\u001b[1;32m    406\u001b[0m \u001b[39m    \"\"\"\u001b[39;00m\n\u001b[0;32m--> 407\u001b[0m     U, S, Vt \u001b[39m=\u001b[39m \u001b[39mself\u001b[39;49m\u001b[39m.\u001b[39;49m_fit(X)\n\u001b[1;32m    408\u001b[0m     U \u001b[39m=\u001b[39m U[:, : \u001b[39mself\u001b[39m\u001b[39m.\u001b[39mn_components_]\n\u001b[1;32m    410\u001b[0m     \u001b[39mif\u001b[39;00m \u001b[39mself\u001b[39m\u001b[39m.\u001b[39mwhiten:\n\u001b[1;32m    411\u001b[0m         \u001b[39m# X_new = X * V / S * sqrt(n_samples) = U * sqrt(n_samples)\u001b[39;00m\n",
      "File \u001b[0;32m~/opt/anaconda3/lib/python3.9/site-packages/sklearn/decomposition/_pca.py:430\u001b[0m, in \u001b[0;36mPCA._fit\u001b[0;34m(self, X)\u001b[0m\n\u001b[1;32m    424\u001b[0m \u001b[39mif\u001b[39;00m issparse(X):\n\u001b[1;32m    425\u001b[0m     \u001b[39mraise\u001b[39;00m \u001b[39mTypeError\u001b[39;00m(\n\u001b[1;32m    426\u001b[0m         \u001b[39m\"\u001b[39m\u001b[39mPCA does not support sparse input. See \u001b[39m\u001b[39m\"\u001b[39m\n\u001b[1;32m    427\u001b[0m         \u001b[39m\"\u001b[39m\u001b[39mTruncatedSVD for a possible alternative.\u001b[39m\u001b[39m\"\u001b[39m\n\u001b[1;32m    428\u001b[0m     )\n\u001b[0;32m--> 430\u001b[0m X \u001b[39m=\u001b[39m \u001b[39mself\u001b[39;49m\u001b[39m.\u001b[39;49m_validate_data(\n\u001b[1;32m    431\u001b[0m     X, dtype\u001b[39m=\u001b[39;49m[np\u001b[39m.\u001b[39;49mfloat64, np\u001b[39m.\u001b[39;49mfloat32], ensure_2d\u001b[39m=\u001b[39;49m\u001b[39mTrue\u001b[39;49;00m, copy\u001b[39m=\u001b[39;49m\u001b[39mself\u001b[39;49m\u001b[39m.\u001b[39;49mcopy\n\u001b[1;32m    432\u001b[0m )\n\u001b[1;32m    434\u001b[0m \u001b[39m# Handle n_components==None\u001b[39;00m\n\u001b[1;32m    435\u001b[0m \u001b[39mif\u001b[39;00m \u001b[39mself\u001b[39m\u001b[39m.\u001b[39mn_components \u001b[39mis\u001b[39;00m \u001b[39mNone\u001b[39;00m:\n",
      "File \u001b[0;32m~/opt/anaconda3/lib/python3.9/site-packages/sklearn/base.py:566\u001b[0m, in \u001b[0;36mBaseEstimator._validate_data\u001b[0;34m(self, X, y, reset, validate_separately, **check_params)\u001b[0m\n\u001b[1;32m    564\u001b[0m     \u001b[39mraise\u001b[39;00m \u001b[39mValueError\u001b[39;00m(\u001b[39m\"\u001b[39m\u001b[39mValidation should be done on X, y or both.\u001b[39m\u001b[39m\"\u001b[39m)\n\u001b[1;32m    565\u001b[0m \u001b[39melif\u001b[39;00m \u001b[39mnot\u001b[39;00m no_val_X \u001b[39mand\u001b[39;00m no_val_y:\n\u001b[0;32m--> 566\u001b[0m     X \u001b[39m=\u001b[39m check_array(X, \u001b[39m*\u001b[39;49m\u001b[39m*\u001b[39;49mcheck_params)\n\u001b[1;32m    567\u001b[0m     out \u001b[39m=\u001b[39m X\n\u001b[1;32m    568\u001b[0m \u001b[39melif\u001b[39;00m no_val_X \u001b[39mand\u001b[39;00m \u001b[39mnot\u001b[39;00m no_val_y:\n",
      "File \u001b[0;32m~/opt/anaconda3/lib/python3.9/site-packages/sklearn/utils/validation.py:746\u001b[0m, in \u001b[0;36mcheck_array\u001b[0;34m(array, accept_sparse, accept_large_sparse, dtype, order, copy, force_all_finite, ensure_2d, allow_nd, ensure_min_samples, ensure_min_features, estimator)\u001b[0m\n\u001b[1;32m    744\u001b[0m         array \u001b[39m=\u001b[39m array\u001b[39m.\u001b[39mastype(dtype, casting\u001b[39m=\u001b[39m\u001b[39m\"\u001b[39m\u001b[39munsafe\u001b[39m\u001b[39m\"\u001b[39m, copy\u001b[39m=\u001b[39m\u001b[39mFalse\u001b[39;00m)\n\u001b[1;32m    745\u001b[0m     \u001b[39melse\u001b[39;00m:\n\u001b[0;32m--> 746\u001b[0m         array \u001b[39m=\u001b[39m np\u001b[39m.\u001b[39;49masarray(array, order\u001b[39m=\u001b[39;49morder, dtype\u001b[39m=\u001b[39;49mdtype)\n\u001b[1;32m    747\u001b[0m \u001b[39mexcept\u001b[39;00m ComplexWarning \u001b[39mas\u001b[39;00m complex_warning:\n\u001b[1;32m    748\u001b[0m     \u001b[39mraise\u001b[39;00m \u001b[39mValueError\u001b[39;00m(\n\u001b[1;32m    749\u001b[0m         \u001b[39m\"\u001b[39m\u001b[39mComplex data not supported\u001b[39m\u001b[39m\\n\u001b[39;00m\u001b[39m{}\u001b[39;00m\u001b[39m\\n\u001b[39;00m\u001b[39m\"\u001b[39m\u001b[39m.\u001b[39mformat(array)\n\u001b[1;32m    750\u001b[0m     ) \u001b[39mfrom\u001b[39;00m \u001b[39mcomplex_warning\u001b[39;00m\n",
      "File \u001b[0;32m~/opt/anaconda3/lib/python3.9/site-packages/pandas/core/generic.py:2064\u001b[0m, in \u001b[0;36mNDFrame.__array__\u001b[0;34m(self, dtype)\u001b[0m\n\u001b[1;32m   2063\u001b[0m \u001b[39mdef\u001b[39;00m \u001b[39m__array__\u001b[39m(\u001b[39mself\u001b[39m, dtype: npt\u001b[39m.\u001b[39mDTypeLike \u001b[39m|\u001b[39m \u001b[39mNone\u001b[39;00m \u001b[39m=\u001b[39m \u001b[39mNone\u001b[39;00m) \u001b[39m-\u001b[39m\u001b[39m>\u001b[39m np\u001b[39m.\u001b[39mndarray:\n\u001b[0;32m-> 2064\u001b[0m     \u001b[39mreturn\u001b[39;00m np\u001b[39m.\u001b[39;49masarray(\u001b[39mself\u001b[39;49m\u001b[39m.\u001b[39;49m_values, dtype\u001b[39m=\u001b[39;49mdtype)\n",
      "\u001b[0;31mValueError\u001b[0m: could not convert string to float: 'Tennessee'"
     ]
    }
   ],
   "source": [
    "from sklearn.decomposition import PCA\n",
    "from sklearn.linear_model import LinearRegression\n",
    "from sklearn.pipeline import Pipeline\n",
    "\n",
    "\n",
    "# 创建PCR模型\n",
    "model = Pipeline(steps=[('pca', PCA(n_components=8)),\n",
    "                        ('regression', LinearRegression())])\n",
    "\n",
    "# 拟合模型\n",
    "model.fit(X_train, y_train)\n",
    "\n",
    "# 预测\n",
    "\n",
    "y_pred = model.predict(X_test)\n",
    "\n",
    "# 输出预测结果\n",
    "print(y_pred)\n"
   ]
  },
  {
   "cell_type": "code",
   "execution_count": 52,
   "metadata": {},
   "outputs": [
    {
     "name": "stdout",
     "output_type": "stream",
     "text": [
      "降维前的数据集形状： (500, 14)\n",
      "降维后的数据集形状： (500, 8)\n"
     ]
    }
   ],
   "source": [
    "import numpy as np\n",
    "from sklearn.decomposition import PCA\n",
    "\n",
    "\n",
    "# 计算PCA\n",
    "pca = PCA(n_components=8)\n",
    "X_pca = pca.fit_transform(X)\n",
    "\n",
    "# 输出降维后的数据集形状\n",
    "print(\"降维前的数据集形状：\", X.shape)\n",
    "print(\"降维后的数据集形状：\", X_pca.shape)\n"
   ]
  },
  {
   "cell_type": "code",
   "execution_count": 59,
   "metadata": {},
   "outputs": [],
   "source": [
    "X= df[['state', 'bachelor', 'graduate', 'hs', 'year', 'state_legislature',\n",
    "       'governor', 'lt_governor', 'labour_force_participation',\n",
    "       'mngmt_job_wage_gap', 'bachelor_wage_gap', 'ab_legality',\n",
    "       'life_exp_m_f', 'sex_ratio_birth', 'abortion_rate', 'pct_rank',\n",
    "       'group']]\n",
    "y= df['rape_rate']"
   ]
  },
  {
   "cell_type": "code",
   "execution_count": null,
   "metadata": {},
   "outputs": [],
   "source": []
  },
  {
   "cell_type": "code",
   "execution_count": 64,
   "metadata": {},
   "outputs": [
    {
     "data": {
      "image/png": "[encoded data removed]",
      "text/plain": [
       "<Figure size 1440x720 with 1 Axes>"
      ]
     },
     "metadata": {
      "needs_background": "light"
     },
     "output_type": "display_data"
    }
   ],
   "source": [
    "import numpy as np\n",
    "import matplotlib.pyplot as plt\n",
    "from sklearn.decomposition import PCA\n",
    "\n",
    "# 加载数据\n",
    "X= df[[ 'bachelor', 'graduate', 'hs',  'state_legislature',\n",
    "       'governor', 'lt_governor', 'labour_force_participation',\n",
    "       'mngmt_job_wage_gap', 'bachelor_wage_gap', 'ab_legality',\n",
    "       'life_exp_m_f', 'sex_ratio_birth', 'abortion_rate',\n",
    "       ]]\n",
    "y= df['rape_rate']\n",
    "X = (X - np.mean(X, axis=0)) / np.std(X, axis=0)\n",
    "# 计算PCA\n",
    "pca = PCA()\n",
    "pca.fit(X)\n",
    "\n",
    "# 绘制PCA曲线\n",
    "plt.plot(np.cumsum(pca.explained_variance_ratio_))\n",
    "plt.xlabel('Number of Components')\n",
    "plt.ylabel('Cumulative Explained Variance')\n",
    "plt.show()\n"
   ]
  },
  {
   "cell_type": "code",
   "execution_count": 66,
   "metadata": {},
   "outputs": [
    {
     "data": {
      "text/plain": [
       "0.40727619572218676"
      ]
     },
     "execution_count": 66,
     "metadata": {},
     "output_type": "execute_result"
    }
   ],
   "source": [
    "from sklearn.decomposition import PCA\n",
    "from sklearn.linear_model import LinearRegression\n",
    "from sklearn.pipeline import Pipeline\n",
    "X_train, X_test, y_train, y_test = train_test_split(X, y, test_size=0.3, random_state=0)\n",
    "\n",
    "# 创建PCR模型\n",
    "model = Pipeline(steps=[('pca', PCA(n_components=8)),\n",
    "                        ('regression', LinearRegression())])\n",
    "\n",
    "# 拟合模型\n",
    "model.fit(X_train, y_train)\n",
    "\n",
    "# 预测\n",
    "\n",
    "model.score(X_test,y_test)\n"
   ]
  },
  {
   "cell_type": "code",
   "execution_count": 78,
   "metadata": {},
   "outputs": [
    {
     "data": {
      "text/plain": [
       "0.7383801326098092"
      ]
     },
     "execution_count": 78,
     "metadata": {},
     "output_type": "execute_result"
    }
   ],
   "source": [
    "model = RandomForestRegressor(n_estimators=500, random_state=42, max_depth=10)\n",
    "model.fit(X_train, y_train)\n",
    "model.score(X_test, y_test)\n",
    "r2 = model.score(X_test, y_test)\n",
    "n = len(y_test)\n",
    "k = X_test.shape[1]\n",
    "adj_r2 = 1 - ((1 - r2) * (n - 1) / (n - k - 1))\n",
    "adj_r2 "
   ]
  },
  {
   "cell_type": "code",
   "execution_count": 68,
   "metadata": {},
   "outputs": [
    {
     "name": "stderr",
     "output_type": "stream",
     "text": [
      "/Users/xuguangjie/opt/anaconda3/lib/python3.9/site-packages/sklearn/model_selection/_validation.py:770: UserWarning:\n",
      "\n",
      "Scoring failed. The score on this train-test partition for these parameters will be set to nan. Details: \n",
      "Traceback (most recent call last):\n",
      "  File \"/Users/xuguangjie/opt/anaconda3/lib/python3.9/site-packages/sklearn/model_selection/_validation.py\", line 761, in _score\n",
      "    scores = scorer(estimator, X_test, y_test)\n",
      "  File \"/Users/xuguangjie/opt/anaconda3/lib/python3.9/site-packages/sklearn/metrics/_scorer.py\", line 103, in __call__\n",
      "    score = scorer._score(cached_call, estimator, *args, **kwargs)\n",
      "  File \"/Users/xuguangjie/opt/anaconda3/lib/python3.9/site-packages/sklearn/metrics/_scorer.py\", line 264, in _score\n",
      "    return self._sign * self._score_func(y_true, y_pred, **self._kwargs)\n",
      "  File \"/Users/xuguangjie/opt/anaconda3/lib/python3.9/site-packages/sklearn/metrics/_classification.py\", line 211, in accuracy_score\n",
      "    y_type, y_true, y_pred = _check_targets(y_true, y_pred)\n",
      "  File \"/Users/xuguangjie/opt/anaconda3/lib/python3.9/site-packages/sklearn/metrics/_classification.py\", line 104, in _check_targets\n",
      "    raise ValueError(\"{0} is not supported\".format(y_type))\n",
      "ValueError: continuous is not supported\n",
      "\n",
      "\n",
      "/Users/xuguangjie/opt/anaconda3/lib/python3.9/site-packages/sklearn/model_selection/_validation.py:770: UserWarning:\n",
      "\n",
      "Scoring failed. The score on this train-test partition for these parameters will be set to nan. Details: \n",
      "Traceback (most recent call last):\n",
      "  File \"/Users/xuguangjie/opt/anaconda3/lib/python3.9/site-packages/sklearn/model_selection/_validation.py\", line 761, in _score\n",
      "    scores = scorer(estimator, X_test, y_test)\n",
      "  File \"/Users/xuguangjie/opt/anaconda3/lib/python3.9/site-packages/sklearn/metrics/_scorer.py\", line 103, in __call__\n",
      "    score = scorer._score(cached_call, estimator, *args, **kwargs)\n",
      "  File \"/Users/xuguangjie/opt/anaconda3/lib/python3.9/site-packages/sklearn/metrics/_scorer.py\", line 264, in _score\n",
      "    return self._sign * self._score_func(y_true, y_pred, **self._kwargs)\n",
      "  File \"/Users/xuguangjie/opt/anaconda3/lib/python3.9/site-packages/sklearn/metrics/_classification.py\", line 211, in accuracy_score\n",
      "    y_type, y_true, y_pred = _check_targets(y_true, y_pred)\n",
      "  File \"/Users/xuguangjie/opt/anaconda3/lib/python3.9/site-packages/sklearn/metrics/_classification.py\", line 104, in _check_targets\n",
      "    raise ValueError(\"{0} is not supported\".format(y_type))\n",
      "ValueError: continuous is not supported\n",
      "\n",
      "\n",
      "/Users/xuguangjie/opt/anaconda3/lib/python3.9/site-packages/sklearn/model_selection/_validation.py:770: UserWarning:\n",
      "\n",
      "Scoring failed. The score on this train-test partition for these parameters will be set to nan. Details: \n",
      "Traceback (most recent call last):\n",
      "  File \"/Users/xuguangjie/opt/anaconda3/lib/python3.9/site-packages/sklearn/model_selection/_validation.py\", line 761, in _score\n",
      "    scores = scorer(estimator, X_test, y_test)\n",
      "  File \"/Users/xuguangjie/opt/anaconda3/lib/python3.9/site-packages/sklearn/metrics/_scorer.py\", line 103, in __call__\n",
      "    score = scorer._score(cached_call, estimator, *args, **kwargs)\n",
      "  File \"/Users/xuguangjie/opt/anaconda3/lib/python3.9/site-packages/sklearn/metrics/_scorer.py\", line 264, in _score\n",
      "    return self._sign * self._score_func(y_true, y_pred, **self._kwargs)\n",
      "  File \"/Users/xuguangjie/opt/anaconda3/lib/python3.9/site-packages/sklearn/metrics/_classification.py\", line 211, in accuracy_score\n",
      "    y_type, y_true, y_pred = _check_targets(y_true, y_pred)\n",
      "  File \"/Users/xuguangjie/opt/anaconda3/lib/python3.9/site-packages/sklearn/metrics/_classification.py\", line 104, in _check_targets\n",
      "    raise ValueError(\"{0} is not supported\".format(y_type))\n",
      "ValueError: continuous is not supported\n",
      "\n",
      "\n",
      "/Users/xuguangjie/opt/anaconda3/lib/python3.9/site-packages/sklearn/model_selection/_validation.py:770: UserWarning:\n",
      "\n",
      "Scoring failed. The score on this train-test partition for these parameters will be set to nan. Details: \n",
      "Traceback (most recent call last):\n",
      "  File \"/Users/xuguangjie/opt/anaconda3/lib/python3.9/site-packages/sklearn/model_selection/_validation.py\", line 761, in _score\n",
      "    scores = scorer(estimator, X_test, y_test)\n",
      "  File \"/Users/xuguangjie/opt/anaconda3/lib/python3.9/site-packages/sklearn/metrics/_scorer.py\", line 103, in __call__\n",
      "    score = scorer._score(cached_call, estimator, *args, **kwargs)\n",
      "  File \"/Users/xuguangjie/opt/anaconda3/lib/python3.9/site-packages/sklearn/metrics/_scorer.py\", line 264, in _score\n",
      "    return self._sign * self._score_func(y_true, y_pred, **self._kwargs)\n",
      "  File \"/Users/xuguangjie/opt/anaconda3/lib/python3.9/site-packages/sklearn/metrics/_classification.py\", line 211, in accuracy_score\n",
      "    y_type, y_true, y_pred = _check_targets(y_true, y_pred)\n",
      "  File \"/Users/xuguangjie/opt/anaconda3/lib/python3.9/site-packages/sklearn/metrics/_classification.py\", line 104, in _check_targets\n",
      "    raise ValueError(\"{0} is not supported\".format(y_type))\n",
      "ValueError: continuous is not supported\n",
      "\n",
      "\n",
      "/Users/xuguangjie/opt/anaconda3/lib/python3.9/site-packages/sklearn/model_selection/_validation.py:770: UserWarning:\n",
      "\n",
      "Scoring failed. The score on this train-test partition for these parameters will be set to nan. Details: \n",
      "Traceback (most recent call last):\n",
      "  File \"/Users/xuguangjie/opt/anaconda3/lib/python3.9/site-packages/sklearn/model_selection/_validation.py\", line 761, in _score\n",
      "    scores = scorer(estimator, X_test, y_test)\n",
      "  File \"/Users/xuguangjie/opt/anaconda3/lib/python3.9/site-packages/sklearn/metrics/_scorer.py\", line 103, in __call__\n",
      "    score = scorer._score(cached_call, estimator, *args, **kwargs)\n",
      "  File \"/Users/xuguangjie/opt/anaconda3/lib/python3.9/site-packages/sklearn/metrics/_scorer.py\", line 264, in _score\n",
      "    return self._sign * self._score_func(y_true, y_pred, **self._kwargs)\n",
      "  File \"/Users/xuguangjie/opt/anaconda3/lib/python3.9/site-packages/sklearn/metrics/_classification.py\", line 211, in accuracy_score\n",
      "    y_type, y_true, y_pred = _check_targets(y_true, y_pred)\n",
      "  File \"/Users/xuguangjie/opt/anaconda3/lib/python3.9/site-packages/sklearn/metrics/_classification.py\", line 104, in _check_targets\n",
      "    raise ValueError(\"{0} is not supported\".format(y_type))\n",
      "ValueError: continuous is not supported\n",
      "\n",
      "\n",
      "/Users/xuguangjie/opt/anaconda3/lib/python3.9/site-packages/sklearn/model_selection/_validation.py:770: UserWarning:\n",
      "\n",
      "Scoring failed. The score on this train-test partition for these parameters will be set to nan. Details: \n",
      "Traceback (most recent call last):\n",
      "  File \"/Users/xuguangjie/opt/anaconda3/lib/python3.9/site-packages/sklearn/model_selection/_validation.py\", line 761, in _score\n",
      "    scores = scorer(estimator, X_test, y_test)\n",
      "  File \"/Users/xuguangjie/opt/anaconda3/lib/python3.9/site-packages/sklearn/metrics/_scorer.py\", line 103, in __call__\n",
      "    score = scorer._score(cached_call, estimator, *args, **kwargs)\n",
      "  File \"/Users/xuguangjie/opt/anaconda3/lib/python3.9/site-packages/sklearn/metrics/_scorer.py\", line 264, in _score\n",
      "    return self._sign * self._score_func(y_true, y_pred, **self._kwargs)\n",
      "  File \"/Users/xuguangjie/opt/anaconda3/lib/python3.9/site-packages/sklearn/metrics/_classification.py\", line 211, in accuracy_score\n",
      "    y_type, y_true, y_pred = _check_targets(y_true, y_pred)\n",
      "  File \"/Users/xuguangjie/opt/anaconda3/lib/python3.9/site-packages/sklearn/metrics/_classification.py\", line 104, in _check_targets\n",
      "    raise ValueError(\"{0} is not supported\".format(y_type))\n",
      "ValueError: continuous is not supported\n",
      "\n",
      "\n",
      "/Users/xuguangjie/opt/anaconda3/lib/python3.9/site-packages/sklearn/model_selection/_validation.py:770: UserWarning:\n",
      "\n",
      "Scoring failed. The score on this train-test partition for these parameters will be set to nan. Details: \n",
      "Traceback (most recent call last):\n",
      "  File \"/Users/xuguangjie/opt/anaconda3/lib/python3.9/site-packages/sklearn/model_selection/_validation.py\", line 761, in _score\n",
      "    scores = scorer(estimator, X_test, y_test)\n",
      "  File \"/Users/xuguangjie/opt/anaconda3/lib/python3.9/site-packages/sklearn/metrics/_scorer.py\", line 103, in __call__\n",
      "    score = scorer._score(cached_call, estimator, *args, **kwargs)\n",
      "  File \"/Users/xuguangjie/opt/anaconda3/lib/python3.9/site-packages/sklearn/metrics/_scorer.py\", line 264, in _score\n",
      "    return self._sign * self._score_func(y_true, y_pred, **self._kwargs)\n",
      "  File \"/Users/xuguangjie/opt/anaconda3/lib/python3.9/site-packages/sklearn/metrics/_classification.py\", line 211, in accuracy_score\n",
      "    y_type, y_true, y_pred = _check_targets(y_true, y_pred)\n",
      "  File \"/Users/xuguangjie/opt/anaconda3/lib/python3.9/site-packages/sklearn/metrics/_classification.py\", line 104, in _check_targets\n",
      "    raise ValueError(\"{0} is not supported\".format(y_type))\n",
      "ValueError: continuous is not supported\n",
      "\n",
      "\n",
      "/Users/xuguangjie/opt/anaconda3/lib/python3.9/site-packages/sklearn/model_selection/_validation.py:770: UserWarning:\n",
      "\n",
      "Scoring failed. The score on this train-test partition for these parameters will be set to nan. Details: \n",
      "Traceback (most recent call last):\n",
      "  File \"/Users/xuguangjie/opt/anaconda3/lib/python3.9/site-packages/sklearn/model_selection/_validation.py\", line 761, in _score\n",
      "    scores = scorer(estimator, X_test, y_test)\n",
      "  File \"/Users/xuguangjie/opt/anaconda3/lib/python3.9/site-packages/sklearn/metrics/_scorer.py\", line 103, in __call__\n",
      "    score = scorer._score(cached_call, estimator, *args, **kwargs)\n",
      "  File \"/Users/xuguangjie/opt/anaconda3/lib/python3.9/site-packages/sklearn/metrics/_scorer.py\", line 264, in _score\n",
      "    return self._sign * self._score_func(y_true, y_pred, **self._kwargs)\n",
      "  File \"/Users/xuguangjie/opt/anaconda3/lib/python3.9/site-packages/sklearn/metrics/_classification.py\", line 211, in accuracy_score\n",
      "    y_type, y_true, y_pred = _check_targets(y_true, y_pred)\n",
      "  File \"/Users/xuguangjie/opt/anaconda3/lib/python3.9/site-packages/sklearn/metrics/_classification.py\", line 104, in _check_targets\n",
      "    raise ValueError(\"{0} is not supported\".format(y_type))\n",
      "ValueError: continuous is not supported\n",
      "\n",
      "\n",
      "/Users/xuguangjie/opt/anaconda3/lib/python3.9/site-packages/sklearn/model_selection/_validation.py:770: UserWarning:\n",
      "\n",
      "Scoring failed. The score on this train-test partition for these parameters will be set to nan. Details: \n",
      "Traceback (most recent call last):\n",
      "  File \"/Users/xuguangjie/opt/anaconda3/lib/python3.9/site-packages/sklearn/model_selection/_validation.py\", line 761, in _score\n",
      "    scores = scorer(estimator, X_test, y_test)\n",
      "  File \"/Users/xuguangjie/opt/anaconda3/lib/python3.9/site-packages/sklearn/metrics/_scorer.py\", line 103, in __call__\n",
      "    score = scorer._score(cached_call, estimator, *args, **kwargs)\n",
      "  File \"/Users/xuguangjie/opt/anaconda3/lib/python3.9/site-packages/sklearn/metrics/_scorer.py\", line 264, in _score\n",
      "    return self._sign * self._score_func(y_true, y_pred, **self._kwargs)\n",
      "  File \"/Users/xuguangjie/opt/anaconda3/lib/python3.9/site-packages/sklearn/metrics/_classification.py\", line 211, in accuracy_score\n",
      "    y_type, y_true, y_pred = _check_targets(y_true, y_pred)\n",
      "  File \"/Users/xuguangjie/opt/anaconda3/lib/python3.9/site-packages/sklearn/metrics/_classification.py\", line 104, in _check_targets\n",
      "    raise ValueError(\"{0} is not supported\".format(y_type))\n",
      "ValueError: continuous is not supported\n",
      "\n",
      "\n",
      "/Users/xuguangjie/opt/anaconda3/lib/python3.9/site-packages/sklearn/model_selection/_validation.py:770: UserWarning:\n",
      "\n",
      "Scoring failed. The score on this train-test partition for these parameters will be set to nan. Details: \n",
      "Traceback (most recent call last):\n",
      "  File \"/Users/xuguangjie/opt/anaconda3/lib/python3.9/site-packages/sklearn/model_selection/_validation.py\", line 761, in _score\n",
      "    scores = scorer(estimator, X_test, y_test)\n",
      "  File \"/Users/xuguangjie/opt/anaconda3/lib/python3.9/site-packages/sklearn/metrics/_scorer.py\", line 103, in __call__\n",
      "    score = scorer._score(cached_call, estimator, *args, **kwargs)\n",
      "  File \"/Users/xuguangjie/opt/anaconda3/lib/python3.9/site-packages/sklearn/metrics/_scorer.py\", line 264, in _score\n",
      "    return self._sign * self._score_func(y_true, y_pred, **self._kwargs)\n",
      "  File \"/Users/xuguangjie/opt/anaconda3/lib/python3.9/site-packages/sklearn/metrics/_classification.py\", line 211, in accuracy_score\n",
      "    y_type, y_true, y_pred = _check_targets(y_true, y_pred)\n",
      "  File \"/Users/xuguangjie/opt/anaconda3/lib/python3.9/site-packages/sklearn/metrics/_classification.py\", line 104, in _check_targets\n",
      "    raise ValueError(\"{0} is not supported\".format(y_type))\n",
      "ValueError: continuous is not supported\n",
      "\n",
      "\n"
     ]
    }
   ],
   "source": [
    "\n",
    "scores = cross_val_score(model,X_test, y_test, cv=10, scoring='accuracy')"
   ]
  },
  {
   "cell_type": "code",
   "execution_count": 70,
   "metadata": {},
   "outputs": [
    {
     "data": {
      "text/plain": [
       "70.3003644561555"
      ]
     },
     "execution_count": 70,
     "metadata": {},
     "output_type": "execute_result"
    }
   ],
   "source": [
    "from sklearn.metrics import mean_squared_error\n",
    "y_pred = model.predict(X_test)\n",
    "\n",
    "mse = mean_squared_error(y_test, y_pred)\n",
    "mse"
   ]
  },
  {
   "cell_type": "code",
   "execution_count": 75,
   "metadata": {},
   "outputs": [
    {
     "data": {
      "text/plain": [
       "70.3004"
      ]
     },
     "execution_count": 75,
     "metadata": {},
     "output_type": "execute_result"
    }
   ],
   "source": [
    "round(metrics.mean_squared_error(y_test, y_pred),4)"
   ]
  },
  {
   "cell_type": "code",
   "execution_count": 72,
   "metadata": {},
   "outputs": [],
   "source": [
    "from sklearn.metrics import r2_score\n",
    "\n",
    "# 假设y_pred和y_true为模型的预测值和真实值\n",
    "r2 = r2_score(y_test, y_pred)\n"
   ]
  },
  {
   "cell_type": "code",
   "execution_count": 73,
   "metadata": {},
   "outputs": [
    {
     "data": {
      "text/plain": [
       "0.7612060270800942"
      ]
     },
     "execution_count": 73,
     "metadata": {},
     "output_type": "execute_result"
    }
   ],
   "source": [
    "r2"
   ]
  },
  {
   "cell_type": "code",
   "execution_count": 77,
   "metadata": {},
   "outputs": [
    {
     "data": {
      "text/plain": [
       "0.46206733283891477"
      ]
     },
     "execution_count": 77,
     "metadata": {},
     "output_type": "execute_result"
    }
   ],
   "source": [
    "from sklearn.linear_model import LinearRegression\n",
    "from sklearn.metrics import r2_score\n",
    "\n",
    "# 假设 X_train, X_test, y_train, y_test 分别表示训练集和测试集的自变量和因变量\n",
    "model = LinearRegression()\n",
    "model.fit(X_train, y_train)\n",
    "r2 = model.score(X_test, y_test)\n",
    "n = len(y_test)\n",
    "k = X_test.shape[1]\n",
    "adj_r2 = 1 - ((1 - r2) * (n - 1) / (n - k - 1))\n",
    "adj_r2\n"
   ]
  },
  {
   "cell_type": "code",
   "execution_count": 96,
   "metadata": {},
   "outputs": [
    {
     "name": "stdout",
     "output_type": "stream",
     "text": [
      "测试集数据量： 100\n",
      "训练集数据量： 400\n"
     ]
    }
   ],
   "source": [
    "import pandas as pd\n",
    "import numpy as np\n",
    "\n",
    "# 假设数据集保存在名为 data 的 DataFrame 中，其中包含 State 列和其他特征列\n",
    "\n",
    "\n",
    "# 随机抽取 10 个州作为测试集\n",
    "test_states = np.random.choice(df['state'].unique(), size=10, replace=False)\n",
    "test_data = df[df['state'].isin(test_states)]\n",
    "\n",
    "# 剩余的州作为训练集\n",
    "train_data = df[~df['state'].isin(test_states)]\n",
    "\n",
    "print('测试集数据量：', len(test_data))\n",
    "print('训练集数据量：', len(train_data))\n",
    "\n",
    "\n",
    "# 从测试集中选取 'State' 列和 'rape' 列作为测试集的因变量\n",
    "test_y = test_data.loc[:,  'rape_rate']\n",
    "test_x = test_data.drop(columns=['state', 'rape_rate', 'year','pct_rank','group','governor','lt_governor','ab_legality'])\n",
    "\n",
    "# 从训练集中选取 'State' 列和 'rape' 列作为训练集的因变量\n",
    "train_y = train_data.loc[:, [ 'rape_rate']]\n",
    "train_x = train_data.drop(columns=['state', 'rape_rate', 'year','pct_rank','group','governor','lt_governor','ab_legality'])\n",
    "\n"
   ]
  },
  {
   "cell_type": "code",
   "execution_count": 97,
   "metadata": {},
   "outputs": [
    {
     "data": {
      "text/html": [
       "<div>\n",
       "<style scoped>\n",
       "    .dataframe tbody tr th:only-of-type {\n",
       "        vertical-align: middle;\n",
       "    }\n",
       "\n",
       "    .dataframe tbody tr th {\n",
       "        vertical-align: top;\n",
       "    }\n",
       "\n",
       "    .dataframe thead th {\n",
       "        text-align: right;\n",
       "    }\n",
       "</style>\n",
       "<table border=\"1\" class=\"dataframe\">\n",
       "  <thead>\n",
       "    <tr style=\"text-align: right;\">\n",
       "      <th></th>\n",
       "      <th>bachelor</th>\n",
       "      <th>graduate</th>\n",
       "      <th>hs</th>\n",
       "      <th>state_legislature</th>\n",
       "      <th>labour_force_participation</th>\n",
       "      <th>mngmt_job_wage_gap</th>\n",
       "      <th>bachelor_wage_gap</th>\n",
       "      <th>life_exp_m_f</th>\n",
       "      <th>sex_ratio_birth</th>\n",
       "      <th>abortion_rate</th>\n",
       "    </tr>\n",
       "  </thead>\n",
       "  <tbody>\n",
       "    <tr>\n",
       "      <th>1</th>\n",
       "      <td>1.204</td>\n",
       "      <td>1.181</td>\n",
       "      <td>0.717</td>\n",
       "      <td>0.367</td>\n",
       "      <td>0.795</td>\n",
       "      <td>0.779</td>\n",
       "      <td>18.1</td>\n",
       "      <td>0.938</td>\n",
       "      <td>109.2</td>\n",
       "      <td>164.547</td>\n",
       "    </tr>\n",
       "    <tr>\n",
       "      <th>2</th>\n",
       "      <td>1.080</td>\n",
       "      <td>1.017</td>\n",
       "      <td>0.969</td>\n",
       "      <td>0.389</td>\n",
       "      <td>0.789</td>\n",
       "      <td>0.701</td>\n",
       "      <td>23.2</td>\n",
       "      <td>0.923</td>\n",
       "      <td>98.8</td>\n",
       "      <td>184.862</td>\n",
       "    </tr>\n",
       "    <tr>\n",
       "      <th>3</th>\n",
       "      <td>1.187</td>\n",
       "      <td>1.224</td>\n",
       "      <td>0.921</td>\n",
       "      <td>0.259</td>\n",
       "      <td>0.837</td>\n",
       "      <td>0.705</td>\n",
       "      <td>20.1</td>\n",
       "      <td>0.928</td>\n",
       "      <td>96.4</td>\n",
       "      <td>104.638</td>\n",
       "    </tr>\n",
       "    <tr>\n",
       "      <th>5</th>\n",
       "      <td>1.066</td>\n",
       "      <td>1.052</td>\n",
       "      <td>0.877</td>\n",
       "      <td>0.440</td>\n",
       "      <td>0.818</td>\n",
       "      <td>0.729</td>\n",
       "      <td>25.1</td>\n",
       "      <td>0.937</td>\n",
       "      <td>101.4</td>\n",
       "      <td>170.600</td>\n",
       "    </tr>\n",
       "    <tr>\n",
       "      <th>7</th>\n",
       "      <td>1.161</td>\n",
       "      <td>1.196</td>\n",
       "      <td>0.992</td>\n",
       "      <td>0.242</td>\n",
       "      <td>0.870</td>\n",
       "      <td>0.751</td>\n",
       "      <td>19.6</td>\n",
       "      <td>0.930</td>\n",
       "      <td>93.6</td>\n",
       "      <td>229.913</td>\n",
       "    </tr>\n",
       "    <tr>\n",
       "      <th>...</th>\n",
       "      <td>...</td>\n",
       "      <td>...</td>\n",
       "      <td>...</td>\n",
       "      <td>...</td>\n",
       "      <td>...</td>\n",
       "      <td>...</td>\n",
       "      <td>...</td>\n",
       "      <td>...</td>\n",
       "      <td>...</td>\n",
       "      <td>...</td>\n",
       "    </tr>\n",
       "    <tr>\n",
       "      <th>494</th>\n",
       "      <td>1.239</td>\n",
       "      <td>1.259</td>\n",
       "      <td>0.854</td>\n",
       "      <td>0.383</td>\n",
       "      <td>0.917</td>\n",
       "      <td>0.794</td>\n",
       "      <td>14.5</td>\n",
       "      <td>0.953</td>\n",
       "      <td>97.0</td>\n",
       "      <td>212.583</td>\n",
       "    </tr>\n",
       "    <tr>\n",
       "      <th>495</th>\n",
       "      <td>1.168</td>\n",
       "      <td>0.917</td>\n",
       "      <td>0.990</td>\n",
       "      <td>0.193</td>\n",
       "      <td>0.825</td>\n",
       "      <td>0.651</td>\n",
       "      <td>26.9</td>\n",
       "      <td>0.947</td>\n",
       "      <td>96.6</td>\n",
       "      <td>320.238</td>\n",
       "    </tr>\n",
       "    <tr>\n",
       "      <th>496</th>\n",
       "      <td>1.010</td>\n",
       "      <td>0.931</td>\n",
       "      <td>0.972</td>\n",
       "      <td>0.320</td>\n",
       "      <td>0.804</td>\n",
       "      <td>0.679</td>\n",
       "      <td>19.5</td>\n",
       "      <td>0.949</td>\n",
       "      <td>99.6</td>\n",
       "      <td>309.435</td>\n",
       "    </tr>\n",
       "    <tr>\n",
       "      <th>498</th>\n",
       "      <td>1.157</td>\n",
       "      <td>0.998</td>\n",
       "      <td>0.961</td>\n",
       "      <td>0.258</td>\n",
       "      <td>0.769</td>\n",
       "      <td>0.715</td>\n",
       "      <td>22.5</td>\n",
       "      <td>0.946</td>\n",
       "      <td>98.6</td>\n",
       "      <td>137.153</td>\n",
       "    </tr>\n",
       "    <tr>\n",
       "      <th>499</th>\n",
       "      <td>1.104</td>\n",
       "      <td>1.046</td>\n",
       "      <td>0.843</td>\n",
       "      <td>0.144</td>\n",
       "      <td>0.808</td>\n",
       "      <td>0.726</td>\n",
       "      <td>17.5</td>\n",
       "      <td>0.948</td>\n",
       "      <td>103.8</td>\n",
       "      <td>182.267</td>\n",
       "    </tr>\n",
       "  </tbody>\n",
       "</table>\n",
       "<p>400 rows × 10 columns</p>\n",
       "</div>"
      ],
      "text/plain": [
       "     bachelor  graduate     hs  state_legislature  labour_force_participation  \\\n",
       "1       1.204     1.181  0.717              0.367                       0.795   \n",
       "2       1.080     1.017  0.969              0.389                       0.789   \n",
       "3       1.187     1.224  0.921              0.259                       0.837   \n",
       "5       1.066     1.052  0.877              0.440                       0.818   \n",
       "7       1.161     1.196  0.992              0.242                       0.870   \n",
       "..        ...       ...    ...                ...                         ...   \n",
       "494     1.239     1.259  0.854              0.383                       0.917   \n",
       "495     1.168     0.917  0.990              0.193                       0.825   \n",
       "496     1.010     0.931  0.972              0.320                       0.804   \n",
       "498     1.157     0.998  0.961              0.258                       0.769   \n",
       "499     1.104     1.046  0.843              0.144                       0.808   \n",
       "\n",
       "     mngmt_job_wage_gap  bachelor_wage_gap  life_exp_m_f  sex_ratio_birth  \\\n",
       "1                 0.779               18.1         0.938            109.2   \n",
       "2                 0.701               23.2         0.923             98.8   \n",
       "3                 0.705               20.1         0.928             96.4   \n",
       "5                 0.729               25.1         0.937            101.4   \n",
       "7                 0.751               19.6         0.930             93.6   \n",
       "..                  ...                ...           ...              ...   \n",
       "494               0.794               14.5         0.953             97.0   \n",
       "495               0.651               26.9         0.947             96.6   \n",
       "496               0.679               19.5         0.949             99.6   \n",
       "498               0.715               22.5         0.946             98.6   \n",
       "499               0.726               17.5         0.948            103.8   \n",
       "\n",
       "     abortion_rate  \n",
       "1          164.547  \n",
       "2          184.862  \n",
       "3          104.638  \n",
       "5          170.600  \n",
       "7          229.913  \n",
       "..             ...  \n",
       "494        212.583  \n",
       "495        320.238  \n",
       "496        309.435  \n",
       "498        137.153  \n",
       "499        182.267  \n",
       "\n",
       "[400 rows x 10 columns]"
      ]
     },
     "execution_count": 97,
     "metadata": {},
     "output_type": "execute_result"
    }
   ],
   "source": [
    "train_x"
   ]
  },
  {
   "cell_type": "code",
   "execution_count": 98,
   "metadata": {},
   "outputs": [
    {
     "data": {
      "text/plain": [
       "0.13023774483091022"
      ]
     },
     "execution_count": 98,
     "metadata": {},
     "output_type": "execute_result"
    }
   ],
   "source": [
    "from sklearn.linear_model import LinearRegression\n",
    "from sklearn.metrics import r2_score\n",
    "\n",
    "# 假设 X_train, X_test, y_train, y_test 分别表示训练集和测试集的自变量和因变量\n",
    "model = LinearRegression()\n",
    "model.fit(train_x, train_y)\n",
    "r2 = model.score(test_x, test_y)\n",
    "n = len(test_y)\n",
    "k = test_x.shape[1]\n",
    "adj_r2 = 1 - ((1 - r2) * (n - 1) / (n - k - 1))\n",
    "adj_r2"
   ]
  },
  {
   "cell_type": "code",
   "execution_count": null,
   "metadata": {},
   "outputs": [],
   "source": []
  }
 ],
 "metadata": {
  "kernelspec": {
   "display_name": "base",
   "language": "python",
   "name": "python3"
  },
  "language_info": {
   "codemirror_mode": {
    "name": "ipython",
    "version": 3
   },
   "file_extension": ".py",
   "mimetype": "text/x-python",
   "name": "python",
   "nbconvert_exporter": "python",
   "pygments_lexer": "ipython3",
   "version": "3.9.12"
  },
  "orig_nbformat": 4,
  "vscode": {
   "interpreter": {
    "hash": "f99bd5507e10e6801d18740d7046de883c384b0aaf8418cc771addfde98424f1"
   }
  }
 },
 "nbformat": 4,
 "nbformat_minor": 2
}
