{
 "cells": [
  {
   "cell_type": "code",
   "execution_count": 1,
   "metadata": {},
   "outputs": [],
   "source": [
    "import pandas as pd"
   ]
  },
  {
   "cell_type": "code",
   "execution_count": 21,
   "metadata": {},
   "outputs": [],
   "source": [
    "df_econ = pd.read_csv('econ_raw.csv')"
   ]
  },
  {
   "cell_type": "code",
   "execution_count": 22,
   "metadata": {},
   "outputs": [
    {
     "data": {
      "text/html": [
       "<div>\n",
       "<style scoped>\n",
       "    .dataframe tbody tr th:only-of-type {\n",
       "        vertical-align: middle;\n",
       "    }\n",
       "\n",
       "    .dataframe tbody tr th {\n",
       "        vertical-align: top;\n",
       "    }\n",
       "\n",
       "    .dataframe thead th {\n",
       "        text-align: right;\n",
       "    }\n",
       "</style>\n",
       "<table border=\"1\" class=\"dataframe\">\n",
       "  <thead>\n",
       "    <tr style=\"text-align: right;\">\n",
       "      <th></th>\n",
       "      <th>State</th>\n",
       "      <th>Yaer</th>\n",
       "      <th>Labour-force participation rate</th>\n",
       "      <th>management jobs(female wage /</th>\n",
       "      <th>over 25 years \\bach degree ,wage gap,k</th>\n",
       "      <th>Unnamed: 5</th>\n",
       "      <th>Unnamed: 6</th>\n",
       "    </tr>\n",
       "  </thead>\n",
       "  <tbody>\n",
       "    <tr>\n",
       "      <th>0</th>\n",
       "      <td>Alabama</td>\n",
       "      <td>2020</td>\n",
       "      <td>78.23%</td>\n",
       "      <td>64%</td>\n",
       "      <td>25.1</td>\n",
       "      <td>NaN</td>\n",
       "      <td>NaN</td>\n",
       "    </tr>\n",
       "    <tr>\n",
       "      <th>1</th>\n",
       "      <td>Alabama</td>\n",
       "      <td>2019</td>\n",
       "      <td>80.42%</td>\n",
       "      <td>62.30%</td>\n",
       "      <td>27.1</td>\n",
       "      <td>NaN</td>\n",
       "      <td>NaN</td>\n",
       "    </tr>\n",
       "    <tr>\n",
       "      <th>2</th>\n",
       "      <td>Alabama</td>\n",
       "      <td>2018</td>\n",
       "      <td>78.90%</td>\n",
       "      <td>63.20%</td>\n",
       "      <td>25.0</td>\n",
       "      <td>NaN</td>\n",
       "      <td>NaN</td>\n",
       "    </tr>\n",
       "    <tr>\n",
       "      <th>3</th>\n",
       "      <td>Alabama</td>\n",
       "      <td>2017</td>\n",
       "      <td>78.40%</td>\n",
       "      <td>64.40</td>\n",
       "      <td>25.2</td>\n",
       "      <td>NaN</td>\n",
       "      <td>NaN</td>\n",
       "    </tr>\n",
       "    <tr>\n",
       "      <th>4</th>\n",
       "      <td>Alabama</td>\n",
       "      <td>2016</td>\n",
       "      <td>77.80%</td>\n",
       "      <td>65.80</td>\n",
       "      <td>24.7</td>\n",
       "      <td>NaN</td>\n",
       "      <td>NaN</td>\n",
       "    </tr>\n",
       "  </tbody>\n",
       "</table>\n",
       "</div>"
      ],
      "text/plain": [
       "     State  Yaer Labour-force participation rate   \\\n",
       "0  Alabama  2020                           78.23%   \n",
       "1  Alabama  2019                           80.42%   \n",
       "2  Alabama  2018                           78.90%   \n",
       "3  Alabama  2017                           78.40%   \n",
       "4  Alabama  2016                           77.80%   \n",
       "\n",
       "  management jobs(female wage /  over 25 years \\bach degree ,wage gap,k  \\\n",
       "0                           64%                                    25.1   \n",
       "1                        62.30%                                    27.1   \n",
       "2                        63.20%                                    25.0   \n",
       "3                        64.40                                     25.2   \n",
       "4                        65.80                                     24.7   \n",
       "\n",
       "  Unnamed: 5  Unnamed: 6  \n",
       "0        NaN         NaN  \n",
       "1        NaN         NaN  \n",
       "2        NaN         NaN  \n",
       "3        NaN         NaN  \n",
       "4        NaN         NaN  "
      ]
     },
     "execution_count": 22,
     "metadata": {},
     "output_type": "execute_result"
    }
   ],
   "source": [
    "df_econ.head()"
   ]
  },
  {
   "cell_type": "code",
   "execution_count": 23,
   "metadata": {},
   "outputs": [
    {
     "data": {
      "text/plain": [
       "(500, 7)"
      ]
     },
     "execution_count": 23,
     "metadata": {},
     "output_type": "execute_result"
    }
   ],
   "source": [
    "df_econ.shape"
   ]
  },
  {
   "cell_type": "code",
   "execution_count": 24,
   "metadata": {},
   "outputs": [],
   "source": [
    "# drop null columns\n",
    "df_econ = df_econ.drop(df_econ.columns[[-2, -1]], axis=1)\n",
    "# df_econ = df_econ.dropna()"
   ]
  },
  {
   "cell_type": "code",
   "execution_count": 25,
   "metadata": {},
   "outputs": [
    {
     "data": {
      "text/html": [
       "<div>\n",
       "<style scoped>\n",
       "    .dataframe tbody tr th:only-of-type {\n",
       "        vertical-align: middle;\n",
       "    }\n",
       "\n",
       "    .dataframe tbody tr th {\n",
       "        vertical-align: top;\n",
       "    }\n",
       "\n",
       "    .dataframe thead th {\n",
       "        text-align: right;\n",
       "    }\n",
       "</style>\n",
       "<table border=\"1\" class=\"dataframe\">\n",
       "  <thead>\n",
       "    <tr style=\"text-align: right;\">\n",
       "      <th></th>\n",
       "      <th>State</th>\n",
       "      <th>Yaer</th>\n",
       "      <th>Labour-force participation rate</th>\n",
       "      <th>management jobs(female wage /</th>\n",
       "      <th>over 25 years \\bach degree ,wage gap,k</th>\n",
       "    </tr>\n",
       "  </thead>\n",
       "  <tbody>\n",
       "  </tbody>\n",
       "</table>\n",
       "</div>"
      ],
      "text/plain": [
       "Empty DataFrame\n",
       "Columns: [State, Yaer, Labour-force participation rate , management jobs(female wage /, over 25 years \\bach degree ,wage gap,k]\n",
       "Index: []"
      ]
     },
     "execution_count": 25,
     "metadata": {},
     "output_type": "execute_result"
    }
   ],
   "source": [
    "# check if any null\n",
    "df_econ[df_econ.isna().any(axis=1)]"
   ]
  },
  {
   "cell_type": "code",
   "execution_count": 26,
   "metadata": {},
   "outputs": [
    {
     "data": {
      "text/plain": [
       "(500, 5)"
      ]
     },
     "execution_count": 26,
     "metadata": {},
     "output_type": "execute_result"
    }
   ],
   "source": [
    "df_econ.shape"
   ]
  },
  {
   "cell_type": "code",
   "execution_count": 27,
   "metadata": {},
   "outputs": [],
   "source": [
    "df_econ = df_econ.rename({\"State\": \"state\", \"Yaer\": \"year\", \"Labour-force participation rate \": \"labour_force_participation\",\n",
    "    \"management jobs(female wage /\": \"mngmt_job_wage_gap\", \"over 25 years \\bach degree ,wage gap,k\": \"wage_gap_25_bach\"}, axis=1)"
   ]
  },
  {
   "cell_type": "code",
   "execution_count": 28,
   "metadata": {},
   "outputs": [],
   "source": [
    "# convert the data types of the features\n",
    "df_econ['year'] = df_econ['year'].astype(int)\n",
    "df_econ['labour_force_participation'] = df_econ['labour_force_participation'].str.rstrip('%').astype('float') / 100.0\n",
    "df_econ['labour_force_participation'] = df_econ['labour_force_participation'].round(3)\n",
    "df_econ['mngmt_job_wage_gap'] = df_econ['mngmt_job_wage_gap'].str.rstrip('%').astype('float') / 100.0\n",
    "df_econ['mngmt_job_wage_gap'] = df_econ['mngmt_job_wage_gap'].round(3)"
   ]
  },
  {
   "cell_type": "code",
   "execution_count": 29,
   "metadata": {},
   "outputs": [
    {
     "data": {
      "text/html": [
       "<div>\n",
       "<style scoped>\n",
       "    .dataframe tbody tr th:only-of-type {\n",
       "        vertical-align: middle;\n",
       "    }\n",
       "\n",
       "    .dataframe tbody tr th {\n",
       "        vertical-align: top;\n",
       "    }\n",
       "\n",
       "    .dataframe thead th {\n",
       "        text-align: right;\n",
       "    }\n",
       "</style>\n",
       "<table border=\"1\" class=\"dataframe\">\n",
       "  <thead>\n",
       "    <tr style=\"text-align: right;\">\n",
       "      <th></th>\n",
       "      <th>state</th>\n",
       "      <th>year</th>\n",
       "      <th>labour_force_participation</th>\n",
       "      <th>mngmt_job_wage_gap</th>\n",
       "      <th>over 25 years \\bach degree ,wage gap,k</th>\n",
       "    </tr>\n",
       "  </thead>\n",
       "  <tbody>\n",
       "    <tr>\n",
       "      <th>0</th>\n",
       "      <td>Alabama</td>\n",
       "      <td>2020</td>\n",
       "      <td>0.782</td>\n",
       "      <td>0.640</td>\n",
       "      <td>25.1</td>\n",
       "    </tr>\n",
       "    <tr>\n",
       "      <th>1</th>\n",
       "      <td>Alabama</td>\n",
       "      <td>2019</td>\n",
       "      <td>0.804</td>\n",
       "      <td>0.623</td>\n",
       "      <td>27.1</td>\n",
       "    </tr>\n",
       "    <tr>\n",
       "      <th>2</th>\n",
       "      <td>Alabama</td>\n",
       "      <td>2018</td>\n",
       "      <td>0.789</td>\n",
       "      <td>0.632</td>\n",
       "      <td>25.0</td>\n",
       "    </tr>\n",
       "    <tr>\n",
       "      <th>3</th>\n",
       "      <td>Alabama</td>\n",
       "      <td>2017</td>\n",
       "      <td>0.784</td>\n",
       "      <td>0.644</td>\n",
       "      <td>25.2</td>\n",
       "    </tr>\n",
       "    <tr>\n",
       "      <th>4</th>\n",
       "      <td>Alabama</td>\n",
       "      <td>2016</td>\n",
       "      <td>0.778</td>\n",
       "      <td>0.658</td>\n",
       "      <td>24.7</td>\n",
       "    </tr>\n",
       "  </tbody>\n",
       "</table>\n",
       "</div>"
      ],
      "text/plain": [
       "     state  year  labour_force_participation  mngmt_job_wage_gap  \\\n",
       "0  Alabama  2020                       0.782               0.640   \n",
       "1  Alabama  2019                       0.804               0.623   \n",
       "2  Alabama  2018                       0.789               0.632   \n",
       "3  Alabama  2017                       0.784               0.644   \n",
       "4  Alabama  2016                       0.778               0.658   \n",
       "\n",
       "   over 25 years \\bach degree ,wage gap,k  \n",
       "0                                    25.1  \n",
       "1                                    27.1  \n",
       "2                                    25.0  \n",
       "3                                    25.2  \n",
       "4                                    24.7  "
      ]
     },
     "execution_count": 29,
     "metadata": {},
     "output_type": "execute_result"
    }
   ],
   "source": [
    "df_econ.head()"
   ]
  },
  {
   "cell_type": "code",
   "execution_count": 33,
   "metadata": {},
   "outputs": [],
   "source": [
    "# make sure the state names are all correctly formed\n",
    "# when we manually checked the state name in this dataset, we saw Colorado with some white spaces before the letters\n",
    "df_econ['state'] = df_econ['state'].apply(lambda x: x.strip())"
   ]
  },
  {
   "cell_type": "code",
   "execution_count": 36,
   "metadata": {},
   "outputs": [
    {
     "data": {
      "text/html": [
       "<div>\n",
       "<style scoped>\n",
       "    .dataframe tbody tr th:only-of-type {\n",
       "        vertical-align: middle;\n",
       "    }\n",
       "\n",
       "    .dataframe tbody tr th {\n",
       "        vertical-align: top;\n",
       "    }\n",
       "\n",
       "    .dataframe thead th {\n",
       "        text-align: right;\n",
       "    }\n",
       "</style>\n",
       "<table border=\"1\" class=\"dataframe\">\n",
       "  <thead>\n",
       "    <tr style=\"text-align: right;\">\n",
       "      <th></th>\n",
       "      <th>state</th>\n",
       "      <th>year</th>\n",
       "      <th>labour_force_participation</th>\n",
       "      <th>mngmt_job_wage_gap</th>\n",
       "      <th>over 25 years \\bach degree ,wage gap,k</th>\n",
       "    </tr>\n",
       "  </thead>\n",
       "  <tbody>\n",
       "    <tr>\n",
       "      <th>50</th>\n",
       "      <td>Colorado</td>\n",
       "      <td>2020</td>\n",
       "      <td>0.818</td>\n",
       "      <td>0.729</td>\n",
       "      <td>25.1</td>\n",
       "    </tr>\n",
       "    <tr>\n",
       "      <th>51</th>\n",
       "      <td>Colorado</td>\n",
       "      <td>2019</td>\n",
       "      <td>0.807</td>\n",
       "      <td>0.690</td>\n",
       "      <td>23.3</td>\n",
       "    </tr>\n",
       "    <tr>\n",
       "      <th>52</th>\n",
       "      <td>Colorado</td>\n",
       "      <td>2018</td>\n",
       "      <td>0.805</td>\n",
       "      <td>0.683</td>\n",
       "      <td>23.2</td>\n",
       "    </tr>\n",
       "    <tr>\n",
       "      <th>53</th>\n",
       "      <td>Colorado</td>\n",
       "      <td>2017</td>\n",
       "      <td>0.809</td>\n",
       "      <td>0.674</td>\n",
       "      <td>24.2</td>\n",
       "    </tr>\n",
       "    <tr>\n",
       "      <th>54</th>\n",
       "      <td>Colorado</td>\n",
       "      <td>2016</td>\n",
       "      <td>0.800</td>\n",
       "      <td>0.686</td>\n",
       "      <td>24.5</td>\n",
       "    </tr>\n",
       "    <tr>\n",
       "      <th>55</th>\n",
       "      <td>Colorado</td>\n",
       "      <td>2015</td>\n",
       "      <td>0.804</td>\n",
       "      <td>0.695</td>\n",
       "      <td>23.8</td>\n",
       "    </tr>\n",
       "    <tr>\n",
       "      <th>56</th>\n",
       "      <td>Colorado</td>\n",
       "      <td>2014</td>\n",
       "      <td>0.799</td>\n",
       "      <td>0.692</td>\n",
       "      <td>25.1</td>\n",
       "    </tr>\n",
       "    <tr>\n",
       "      <th>57</th>\n",
       "      <td>Colorado</td>\n",
       "      <td>2013</td>\n",
       "      <td>0.781</td>\n",
       "      <td>0.684</td>\n",
       "      <td>24.8</td>\n",
       "    </tr>\n",
       "    <tr>\n",
       "      <th>58</th>\n",
       "      <td>Colorado</td>\n",
       "      <td>2012</td>\n",
       "      <td>0.780</td>\n",
       "      <td>0.653</td>\n",
       "      <td>25.8</td>\n",
       "    </tr>\n",
       "    <tr>\n",
       "      <th>59</th>\n",
       "      <td>Colorado</td>\n",
       "      <td>2011</td>\n",
       "      <td>0.780</td>\n",
       "      <td>0.674</td>\n",
       "      <td>23.7</td>\n",
       "    </tr>\n",
       "  </tbody>\n",
       "</table>\n",
       "</div>"
      ],
      "text/plain": [
       "       state  year  labour_force_participation  mngmt_job_wage_gap  \\\n",
       "50  Colorado  2020                       0.818               0.729   \n",
       "51  Colorado  2019                       0.807               0.690   \n",
       "52  Colorado  2018                       0.805               0.683   \n",
       "53  Colorado  2017                       0.809               0.674   \n",
       "54  Colorado  2016                       0.800               0.686   \n",
       "55  Colorado  2015                       0.804               0.695   \n",
       "56  Colorado  2014                       0.799               0.692   \n",
       "57  Colorado  2013                       0.781               0.684   \n",
       "58  Colorado  2012                       0.780               0.653   \n",
       "59  Colorado  2011                       0.780               0.674   \n",
       "\n",
       "    over 25 years \\bach degree ,wage gap,k  \n",
       "50                                    25.1  \n",
       "51                                    23.3  \n",
       "52                                    23.2  \n",
       "53                                    24.2  \n",
       "54                                    24.5  \n",
       "55                                    23.8  \n",
       "56                                    25.1  \n",
       "57                                    24.8  \n",
       "58                                    25.8  \n",
       "59                                    23.7  "
      ]
     },
     "execution_count": 36,
     "metadata": {},
     "output_type": "execute_result"
    }
   ],
   "source": [
    "df_econ[df_econ['state'] == 'Colorado']"
   ]
  },
  {
   "cell_type": "code",
   "execution_count": 37,
   "metadata": {},
   "outputs": [],
   "source": [
    "df_econ.to_csv('economic.csv', encoding='utf-8', index=False)"
   ]
  }
 ],
 "metadata": {
  "kernelspec": {
   "display_name": "Python 3.9.13 64-bit",
   "language": "python",
   "name": "python3"
  },
  "language_info": {
   "codemirror_mode": {
    "name": "ipython",
    "version": 3
   },
   "file_extension": ".py",
   "mimetype": "text/x-python",
   "name": "python",
   "nbconvert_exporter": "python",
   "pygments_lexer": "ipython3",
   "version": "3.9.13"
  },
  "orig_nbformat": 4,
  "vscode": {
   "interpreter": {
    "hash": "31f2aee4e71d21fbe5cf8b01ff0e069b9275f58929596ceb00d14d90e3e16cd6"
   }
  }
 },
 "nbformat": 4,
 "nbformat_minor": 2
}
