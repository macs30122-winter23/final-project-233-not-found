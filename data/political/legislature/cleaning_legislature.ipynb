{
 "cells": [
  {
   "cell_type": "code",
   "execution_count": 1,
   "metadata": {},
   "outputs": [],
   "source": [
    "import pandas as pd\n",
    "import os\n",
    "import glob\n",
    "import re"
   ]
  },
  {
   "cell_type": "code",
   "execution_count": 2,
   "metadata": {},
   "outputs": [
    {
     "name": "stdout",
     "output_type": "stream",
     "text": [
      "Location: c:\\Users\\18973\\OneDrive\\桌面\\UChicago\\2023-Winter\\MACS30122-Method2\\final-project-233-not-found\\data\\political\\legislature\\2015.csv\n",
      "File Name: 2015.csv\n",
      "Location: c:\\Users\\18973\\OneDrive\\桌面\\UChicago\\2023-Winter\\MACS30122-Method2\\final-project-233-not-found\\data\\political\\legislature\\2016.csv\n",
      "File Name: 2016.csv\n",
      "Location: c:\\Users\\18973\\OneDrive\\桌面\\UChicago\\2023-Winter\\MACS30122-Method2\\final-project-233-not-found\\data\\political\\legislature\\2017.csv\n",
      "File Name: 2017.csv\n",
      "Location: c:\\Users\\18973\\OneDrive\\桌面\\UChicago\\2023-Winter\\MACS30122-Method2\\final-project-233-not-found\\data\\political\\legislature\\2018.csv\n",
      "File Name: 2018.csv\n",
      "Location: c:\\Users\\18973\\OneDrive\\桌面\\UChicago\\2023-Winter\\MACS30122-Method2\\final-project-233-not-found\\data\\political\\legislature\\2019.csv\n",
      "File Name: 2019.csv\n",
      "Location: c:\\Users\\18973\\OneDrive\\桌面\\UChicago\\2023-Winter\\MACS30122-Method2\\final-project-233-not-found\\data\\political\\legislature\\2020.csv\n",
      "File Name: 2020.csv\n"
     ]
    }
   ],
   "source": [
    "  \n",
    "# use glob to get all the csv files \n",
    "# in the folder\n",
    "path = os.getcwd()\n",
    "csv_files = glob.glob(os.path.join(path, \"*.csv\"))\n",
    "  \n",
    "dfs = []\n",
    "# loop over the list of csv files\n",
    "for f in csv_files:\n",
    "    filename = f.split(\"\\\\\")[-1]\n",
    "    year = re.findall(r\"\\d+\", filename)[-1]\n",
    "    if year in ['2015','2016','2017','2018', '2019', '2020']: # since this set of data has different forms from the rest of years\n",
    "    # read the csv file\n",
    "        df_1 = pd.read_csv(f)\n",
    "        df_1['year'] = year\n",
    "        dfs.append(df_1)\n",
    "        # print the location and filename\n",
    "        print('Location:', f)\n",
    "        print('File Name:', f.split(\"\\\\\")[-1])\n",
    "df = pd.concat(dfs, axis=0, ignore_index=True)"
   ]
  },
  {
   "cell_type": "code",
   "execution_count": 3,
   "metadata": {},
   "outputs": [
    {
     "data": {
      "text/html": [
       "<div>\n",
       "<style scoped>\n",
       "    .dataframe tbody tr th:only-of-type {\n",
       "        vertical-align: middle;\n",
       "    }\n",
       "\n",
       "    .dataframe tbody tr th {\n",
       "        vertical-align: top;\n",
       "    }\n",
       "\n",
       "    .dataframe thead th {\n",
       "        text-align: right;\n",
       "    }\n",
       "</style>\n",
       "<table border=\"1\" class=\"dataframe\">\n",
       "  <thead>\n",
       "    <tr style=\"text-align: right;\">\n",
       "      <th></th>\n",
       "      <th>0</th>\n",
       "      <th>﻿State</th>\n",
       "      <th>State Rank</th>\n",
       "      <th>Senate</th>\n",
       "      <th>Total Women/Total Senate</th>\n",
       "      <th>House</th>\n",
       "      <th>Total Women/Total House</th>\n",
       "      <th>Total Women/Total Legis.</th>\n",
       "      <th>%Women Overall</th>\n",
       "      <th>year</th>\n",
       "    </tr>\n",
       "  </thead>\n",
       "  <tbody>\n",
       "    <tr>\n",
       "      <th>0</th>\n",
       "      <td>1</td>\n",
       "      <td>AL</td>\n",
       "      <td>46.0</td>\n",
       "      <td>3D | 0R | 1Ind</td>\n",
       "      <td>4/35</td>\n",
       "      <td>11D | 5R | Ind</td>\n",
       "      <td>16/105</td>\n",
       "      <td>20/140</td>\n",
       "      <td>14.3</td>\n",
       "      <td>2015</td>\n",
       "    </tr>\n",
       "    <tr>\n",
       "      <th>1</th>\n",
       "      <td>2</td>\n",
       "      <td>AK*</td>\n",
       "      <td>15.0</td>\n",
       "      <td>1D | 4R</td>\n",
       "      <td>5/20</td>\n",
       "      <td>2D | 10R</td>\n",
       "      <td>12/40</td>\n",
       "      <td>17/60</td>\n",
       "      <td>28.3</td>\n",
       "      <td>2015</td>\n",
       "    </tr>\n",
       "    <tr>\n",
       "      <th>2</th>\n",
       "      <td>3</td>\n",
       "      <td>AZ</td>\n",
       "      <td>3.0</td>\n",
       "      <td>6D | 7R</td>\n",
       "      <td>13/30</td>\n",
       "      <td>12D | 8R</td>\n",
       "      <td>20/60</td>\n",
       "      <td>33/90</td>\n",
       "      <td>36.7</td>\n",
       "      <td>2015</td>\n",
       "    </tr>\n",
       "    <tr>\n",
       "      <th>3</th>\n",
       "      <td>4</td>\n",
       "      <td>AR</td>\n",
       "      <td>36.0</td>\n",
       "      <td>3D | 4R</td>\n",
       "      <td>7/35</td>\n",
       "      <td>6D | 14R</td>\n",
       "      <td>20/100</td>\n",
       "      <td>27/135</td>\n",
       "      <td>20.0</td>\n",
       "      <td>2015</td>\n",
       "    </tr>\n",
       "    <tr>\n",
       "      <th>4</th>\n",
       "      <td>5</td>\n",
       "      <td>CA*</td>\n",
       "      <td>20.0</td>\n",
       "      <td>8D | 4R</td>\n",
       "      <td>12/40</td>\n",
       "      <td>11D | 8R | Ind</td>\n",
       "      <td>19/80</td>\n",
       "      <td>31/120</td>\n",
       "      <td>25.8</td>\n",
       "      <td>2015</td>\n",
       "    </tr>\n",
       "  </tbody>\n",
       "</table>\n",
       "</div>"
      ],
      "text/plain": [
       "   0 ﻿State State Rank          Senate Total Women/Total Senate  \\\n",
       "0  1     AL       46.0  3D | 0R | 1Ind                     4/35   \n",
       "1  2    AK*       15.0        1D | 4R                      5/20   \n",
       "2  3     AZ        3.0        6D | 7R                     13/30   \n",
       "3  4     AR       36.0        3D | 4R                      7/35   \n",
       "4  5    CA*       20.0        8D | 4R                     12/40   \n",
       "\n",
       "            House Total Women/Total House Total Women/Total Legis.  \\\n",
       "0  11D | 5R | Ind                  16/105                   20/140   \n",
       "1       2D | 10R                    12/40                    17/60   \n",
       "2       12D | 8R                    20/60                    33/90   \n",
       "3        6D | 14R                  20/100                   27/135   \n",
       "4  11D | 8R | Ind                   19/80                   31/120   \n",
       "\n",
       "   %Women Overall  year  \n",
       "0            14.3  2015  \n",
       "1            28.3  2015  \n",
       "2            36.7  2015  \n",
       "3            20.0  2015  \n",
       "4            25.8  2015  "
      ]
     },
     "execution_count": 3,
     "metadata": {},
     "output_type": "execute_result"
    }
   ],
   "source": [
    "df.head()"
   ]
  },
  {
   "cell_type": "code",
   "execution_count": 4,
   "metadata": {},
   "outputs": [],
   "source": [
    "df = df.iloc[:,[1,8,9]]"
   ]
  },
  {
   "cell_type": "code",
   "execution_count": 5,
   "metadata": {},
   "outputs": [],
   "source": [
    "csv_files = glob.glob(os.path.join(path, \"*.csv\"))\n",
    "dfs = []\n",
    "for f in csv_files:\n",
    "    filename = f.split(\"\\\\\")[-1]\n",
    "    year = re.findall(r\"\\d+\", filename)[-1]\n",
    "    if year in ['2011','2012','2013','2014']:\n",
    "        df_2 = pd.read_csv(f, header=None)\n",
    "        df_2['year'] = year\n",
    "        dfs.append(df_2)\n",
    "\n",
    "df2 = pd.concat(dfs, axis=0, ignore_index=True)"
   ]
  },
  {
   "cell_type": "code",
   "execution_count": 6,
   "metadata": {},
   "outputs": [
    {
     "data": {
      "text/html": [
       "<div>\n",
       "<style scoped>\n",
       "    .dataframe tbody tr th:only-of-type {\n",
       "        vertical-align: middle;\n",
       "    }\n",
       "\n",
       "    .dataframe tbody tr th {\n",
       "        vertical-align: top;\n",
       "    }\n",
       "\n",
       "    .dataframe thead th {\n",
       "        text-align: right;\n",
       "    }\n",
       "</style>\n",
       "<table border=\"1\" class=\"dataframe\">\n",
       "  <thead>\n",
       "    <tr style=\"text-align: right;\">\n",
       "      <th></th>\n",
       "      <th>0</th>\n",
       "      <th>1</th>\n",
       "      <th>year</th>\n",
       "    </tr>\n",
       "  </thead>\n",
       "  <tbody>\n",
       "    <tr>\n",
       "      <th>0</th>\n",
       "      <td>STATE</td>\n",
       "      <td>% WOMEN OV ERALL</td>\n",
       "      <td>2011</td>\n",
       "    </tr>\n",
       "    <tr>\n",
       "      <th>1</th>\n",
       "      <td>AL</td>\n",
       "      <td>13.6</td>\n",
       "      <td>2011</td>\n",
       "    </tr>\n",
       "    <tr>\n",
       "      <th>2</th>\n",
       "      <td>AK</td>\n",
       "      <td>23.3</td>\n",
       "      <td>2011</td>\n",
       "    </tr>\n",
       "    <tr>\n",
       "      <th>3</th>\n",
       "      <td>AZ</td>\n",
       "      <td>34.4</td>\n",
       "      <td>2011</td>\n",
       "    </tr>\n",
       "    <tr>\n",
       "      <th>4</th>\n",
       "      <td>AR</td>\n",
       "      <td>22.2</td>\n",
       "      <td>2011</td>\n",
       "    </tr>\n",
       "  </tbody>\n",
       "</table>\n",
       "</div>"
      ],
      "text/plain": [
       "       0                 1  year\n",
       "0  STATE  % WOMEN OV ERALL  2011\n",
       "1     AL              13.6  2011\n",
       "2     AK              23.3  2011\n",
       "3     AZ              34.4  2011\n",
       "4     AR              22.2  2011"
      ]
     },
     "execution_count": 6,
     "metadata": {},
     "output_type": "execute_result"
    }
   ],
   "source": [
    "df2.head()"
   ]
  },
  {
   "cell_type": "code",
   "execution_count": 7,
   "metadata": {},
   "outputs": [
    {
     "data": {
      "text/html": [
       "<div>\n",
       "<style scoped>\n",
       "    .dataframe tbody tr th:only-of-type {\n",
       "        vertical-align: middle;\n",
       "    }\n",
       "\n",
       "    .dataframe tbody tr th {\n",
       "        vertical-align: top;\n",
       "    }\n",
       "\n",
       "    .dataframe thead th {\n",
       "        text-align: right;\n",
       "    }\n",
       "</style>\n",
       "<table border=\"1\" class=\"dataframe\">\n",
       "  <thead>\n",
       "    <tr style=\"text-align: right;\">\n",
       "      <th></th>\n",
       "      <th>﻿State</th>\n",
       "      <th>%Women Overall</th>\n",
       "      <th>year</th>\n",
       "    </tr>\n",
       "  </thead>\n",
       "  <tbody>\n",
       "    <tr>\n",
       "      <th>0</th>\n",
       "      <td>AL</td>\n",
       "      <td>14.3</td>\n",
       "      <td>2015</td>\n",
       "    </tr>\n",
       "    <tr>\n",
       "      <th>1</th>\n",
       "      <td>AK*</td>\n",
       "      <td>28.3</td>\n",
       "      <td>2015</td>\n",
       "    </tr>\n",
       "    <tr>\n",
       "      <th>2</th>\n",
       "      <td>AZ</td>\n",
       "      <td>36.7</td>\n",
       "      <td>2015</td>\n",
       "    </tr>\n",
       "    <tr>\n",
       "      <th>3</th>\n",
       "      <td>AR</td>\n",
       "      <td>20.0</td>\n",
       "      <td>2015</td>\n",
       "    </tr>\n",
       "    <tr>\n",
       "      <th>4</th>\n",
       "      <td>CA*</td>\n",
       "      <td>25.8</td>\n",
       "      <td>2015</td>\n",
       "    </tr>\n",
       "  </tbody>\n",
       "</table>\n",
       "</div>"
      ],
      "text/plain": [
       "  ﻿State  %Women Overall  year\n",
       "0     AL            14.3  2015\n",
       "1    AK*            28.3  2015\n",
       "2     AZ            36.7  2015\n",
       "3     AR            20.0  2015\n",
       "4    CA*            25.8  2015"
      ]
     },
     "execution_count": 7,
     "metadata": {},
     "output_type": "execute_result"
    }
   ],
   "source": [
    "df.head()"
   ]
  },
  {
   "cell_type": "code",
   "execution_count": 8,
   "metadata": {},
   "outputs": [],
   "source": [
    "# rename the columns\n",
    "df.columns = ['state', 'proportion of women', 'year']"
   ]
  },
  {
   "cell_type": "code",
   "execution_count": 9,
   "metadata": {},
   "outputs": [],
   "source": [
    "# abbreviations of major 50 states\n",
    "states = [ 'AK', 'AL', 'AR', 'AZ', 'CA', 'CO', 'CT', 'DE', 'FL', 'GA',\n",
    "           'HI', 'IA', 'ID', 'IL', 'IN', 'KS', 'KY', 'LA', 'MA', 'MD', 'ME',\n",
    "           'MI', 'MN', 'MO', 'MS', 'MT', 'NC', 'ND', 'NE', 'NH', 'NJ', 'NM',\n",
    "           'NV', 'NY', 'OH', 'OK', 'OR', 'PA', 'RI', 'SC', 'SD', 'TN', 'TX',\n",
    "           'UT', 'VA', 'VT', 'WA', 'WI', 'WV', 'WY']"
   ]
  },
  {
   "cell_type": "code",
   "execution_count": 10,
   "metadata": {},
   "outputs": [],
   "source": [
    "# clean the format of state name \n",
    "df['state'] = df['state'].str.findall(r'[A-Z]{2}').str[0]"
   ]
  },
  {
   "cell_type": "code",
   "execution_count": 11,
   "metadata": {},
   "outputs": [],
   "source": [
    "# only keep major 50 states\n",
    "df = df[df['state'].isin(states)]"
   ]
  },
  {
   "cell_type": "code",
   "execution_count": 12,
   "metadata": {},
   "outputs": [
    {
     "data": {
      "text/plain": [
       "array(['STATE', 'AL', 'AK', 'AZ', 'AR', 'CA*', 'co', 'CT', 'DE', 'FL',\n",
       "       'GA', 'HI', 'ID', 'IL', 'IN*', 'IA*', 'KS', 'KY', 'LA', 'ME', 'MD',\n",
       "       'MA', 'Ml', 'MN', 'MS*', 'MO', 'MT', 'NE*', 'NV', 'NH', 'NJ*',\n",
       "       'NM', 'NY', 'NC*', 'ND*', 'OH', 'OK', 'OR', 'PA', 'RI', 'SC', 'SD',\n",
       "       'TN', 'TX', 'UT', 'VT', 'VA', 'WA', 'WV', 'WI', 'WY', 'AR*', 'CA',\n",
       "       'CO', 'MS', 'NE', 'NJ', 'NY*', 'NC', 'WY*', 'DE*', 'HI*', 'IN',\n",
       "       'IA', 'MD*', 'MO*', 'PA*', 'TN*', 'WI*', 'AK*', 'ID*', 'ND'],\n",
       "      dtype=object)"
      ]
     },
     "execution_count": 12,
     "metadata": {},
     "output_type": "execute_result"
    }
   ],
   "source": [
    "# rename the columns for df2\n",
    "df2.columns = ['state', 'proportion of women', 'year']\n",
    "pd.unique(df2['state'])"
   ]
  },
  {
   "cell_type": "code",
   "execution_count": 13,
   "metadata": {},
   "outputs": [],
   "source": [
    "# correct and clean the format of state names\n",
    "df2 = df2.replace('Ml','MI')\n",
    "df2 = df2.replace('co', 'CO')\n",
    "df2['state'] = df2['state'].str.findall(r'[A-Z]{2}').str[0]"
   ]
  },
  {
   "cell_type": "code",
   "execution_count": 14,
   "metadata": {},
   "outputs": [],
   "source": [
    "# select only major 50 states\n",
    "df2  = df2[df2['state'].isin(states)]"
   ]
  },
  {
   "cell_type": "code",
   "execution_count": 15,
   "metadata": {},
   "outputs": [
    {
     "data": {
      "text/html": [
       "<div>\n",
       "<style scoped>\n",
       "    .dataframe tbody tr th:only-of-type {\n",
       "        vertical-align: middle;\n",
       "    }\n",
       "\n",
       "    .dataframe tbody tr th {\n",
       "        vertical-align: top;\n",
       "    }\n",
       "\n",
       "    .dataframe thead th {\n",
       "        text-align: right;\n",
       "    }\n",
       "</style>\n",
       "<table border=\"1\" class=\"dataframe\">\n",
       "  <thead>\n",
       "    <tr style=\"text-align: right;\">\n",
       "      <th></th>\n",
       "      <th>state</th>\n",
       "      <th>proportion of women</th>\n",
       "      <th>year</th>\n",
       "    </tr>\n",
       "  </thead>\n",
       "  <tbody>\n",
       "    <tr>\n",
       "      <th>0</th>\n",
       "      <td>AL</td>\n",
       "      <td>14.3</td>\n",
       "      <td>2015</td>\n",
       "    </tr>\n",
       "    <tr>\n",
       "      <th>1</th>\n",
       "      <td>AK</td>\n",
       "      <td>28.3</td>\n",
       "      <td>2015</td>\n",
       "    </tr>\n",
       "    <tr>\n",
       "      <th>2</th>\n",
       "      <td>AZ</td>\n",
       "      <td>36.7</td>\n",
       "      <td>2015</td>\n",
       "    </tr>\n",
       "    <tr>\n",
       "      <th>3</th>\n",
       "      <td>AR</td>\n",
       "      <td>20.0</td>\n",
       "      <td>2015</td>\n",
       "    </tr>\n",
       "    <tr>\n",
       "      <th>4</th>\n",
       "      <td>CA</td>\n",
       "      <td>25.8</td>\n",
       "      <td>2015</td>\n",
       "    </tr>\n",
       "  </tbody>\n",
       "</table>\n",
       "</div>"
      ],
      "text/plain": [
       "  state  proportion of women  year\n",
       "0    AL                 14.3  2015\n",
       "1    AK                 28.3  2015\n",
       "2    AZ                 36.7  2015\n",
       "3    AR                 20.0  2015\n",
       "4    CA                 25.8  2015"
      ]
     },
     "execution_count": 15,
     "metadata": {},
     "output_type": "execute_result"
    }
   ],
   "source": [
    "df.head()"
   ]
  },
  {
   "cell_type": "code",
   "execution_count": 16,
   "metadata": {},
   "outputs": [],
   "source": [
    "# concat all years\n",
    "df_legislature = pd.concat([df, df2], axis=0, ignore_index=True)"
   ]
  },
  {
   "cell_type": "code",
   "execution_count": 17,
   "metadata": {},
   "outputs": [],
   "source": [
    "# convert the feature from percentage value to decimals\n",
    "df_legislature['proportion of women'] = df_legislature['proportion of women'].astype(float)\n",
    "df_legislature['proportion of women'] = df_legislature['proportion of women'] * 0.01\n",
    "df_legislature['proportion of women'] = df_legislature['proportion of women'].round(3)"
   ]
  },
  {
   "cell_type": "code",
   "execution_count": 19,
   "metadata": {},
   "outputs": [],
   "source": [
    "df_legislature.to_csv(r'..\\women_in_legislature.csv', encoding='utf-8', index=False)"
   ]
  }
 ],
 "metadata": {
  "kernelspec": {
   "display_name": "base",
   "language": "python",
   "name": "python3"
  },
  "language_info": {
   "codemirror_mode": {
    "name": "ipython",
    "version": 3
   },
   "file_extension": ".py",
   "mimetype": "text/x-python",
   "name": "python",
   "nbconvert_exporter": "python",
   "pygments_lexer": "ipython3",
   "version": "3.9.12"
  },
  "orig_nbformat": 4,
  "vscode": {
   "interpreter": {
    "hash": "7f2a38045ac693cb1d509b483727fbf8a92eb287317717d4d91ca7936c31a388"
   }
  }
 },
 "nbformat": 4,
 "nbformat_minor": 2
}
