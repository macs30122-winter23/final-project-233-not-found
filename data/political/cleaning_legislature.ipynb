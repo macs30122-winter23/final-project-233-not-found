{
 "cells": [
  {
   "cell_type": "code",
   "execution_count": 1,
   "metadata": {},
   "outputs": [],
   "source": [
    "import pandas as pd\n",
    "import os\n",
    "import glob\n",
    "import re"
   ]
  },
  {
   "cell_type": "code",
   "execution_count": 9,
   "metadata": {},
   "outputs": [
    {
     "name": "stdout",
     "output_type": "stream",
     "text": [
      "Location: /Users/axyz1220/Downloads/macs30122/final_project/legislature/2020.csv\n",
      "File Name: /Users/axyz1220/Downloads/macs30122/final_project/legislature/2020.csv\n",
      "Location: /Users/axyz1220/Downloads/macs30122/final_project/legislature/2019.csv\n",
      "File Name: /Users/axyz1220/Downloads/macs30122/final_project/legislature/2019.csv\n",
      "Location: /Users/axyz1220/Downloads/macs30122/final_project/legislature/2018.csv\n",
      "File Name: /Users/axyz1220/Downloads/macs30122/final_project/legislature/2018.csv\n",
      "Location: /Users/axyz1220/Downloads/macs30122/final_project/legislature/2015.csv\n",
      "File Name: /Users/axyz1220/Downloads/macs30122/final_project/legislature/2015.csv\n",
      "Location: /Users/axyz1220/Downloads/macs30122/final_project/legislature/2016.csv\n",
      "File Name: /Users/axyz1220/Downloads/macs30122/final_project/legislature/2016.csv\n",
      "Location: /Users/axyz1220/Downloads/macs30122/final_project/legislature/2017.csv\n",
      "File Name: /Users/axyz1220/Downloads/macs30122/final_project/legislature/2017.csv\n"
     ]
    }
   ],
   "source": [
    "  \n",
    "# use glob to get all the csv files \n",
    "# in the folder\n",
    "path = os.getcwd()\n",
    "csv_files = glob.glob(os.path.join(path, \"*.csv\"))\n",
    "  \n",
    "dfs = []\n",
    "# loop over the list of csv files\n",
    "for f in csv_files:\n",
    "    filename = f.split(\"\\\\\")[-1]\n",
    "    year = re.findall(r\"\\d+\", filename)[-1]\n",
    "    if year in ['2015','2016','2017','2018', '2019', '2020']: # since this set of data has different forms from the rest of years\n",
    "    # read the csv file\n",
    "        df = pd.read_csv(f)\n",
    "        df['year'] = year\n",
    "        dfs.append(df)\n",
    "        # print the location and filename\n",
    "        print('Location:', f)\n",
    "        print('File Name:', f.split(\"\\\\\")[-1])\n",
    "df = pd.concat(dfs, axis=0, ignore_index=True)"
   ]
  },
  {
   "cell_type": "code",
   "execution_count": 4,
   "metadata": {},
   "outputs": [
    {
     "data": {
      "text/html": [
       "<div>\n",
       "<style scoped>\n",
       "    .dataframe tbody tr th:only-of-type {\n",
       "        vertical-align: middle;\n",
       "    }\n",
       "\n",
       "    .dataframe tbody tr th {\n",
       "        vertical-align: top;\n",
       "    }\n",
       "\n",
       "    .dataframe thead th {\n",
       "        text-align: right;\n",
       "    }\n",
       "</style>\n",
       "<table border=\"1\" class=\"dataframe\">\n",
       "  <thead>\n",
       "    <tr style=\"text-align: right;\">\n",
       "      <th></th>\n",
       "      <th>0</th>\n",
       "      <th>﻿State</th>\n",
       "      <th>State Rank</th>\n",
       "      <th>Senate</th>\n",
       "      <th>Total Women/Total Senate</th>\n",
       "      <th>House</th>\n",
       "      <th>Total Women/Total House</th>\n",
       "      <th>Total Women/Total Legis.</th>\n",
       "      <th>%Women Overall</th>\n",
       "      <th>year</th>\n",
       "    </tr>\n",
       "  </thead>\n",
       "  <tbody>\n",
       "    <tr>\n",
       "      <th>0</th>\n",
       "      <td>1</td>\n",
       "      <td>AL</td>\n",
       "      <td>47.0</td>\n",
       "      <td>4D, 0R</td>\n",
       "      <td>4/35</td>\n",
       "      <td>11D, 7R</td>\n",
       "      <td>18/105</td>\n",
       "      <td>22/140</td>\n",
       "      <td>15.7</td>\n",
       "      <td>2020</td>\n",
       "    </tr>\n",
       "    <tr>\n",
       "      <th>1</th>\n",
       "      <td>2</td>\n",
       "      <td>AK</td>\n",
       "      <td>10.0</td>\n",
       "      <td>1D, 5R</td>\n",
       "      <td>6/20</td>\n",
       "      <td>6D, 10R</td>\n",
       "      <td>16/40</td>\n",
       "      <td>22/60</td>\n",
       "      <td>36.7</td>\n",
       "      <td>2020</td>\n",
       "    </tr>\n",
       "    <tr>\n",
       "      <th>2</th>\n",
       "      <td>3</td>\n",
       "      <td>AZ</td>\n",
       "      <td>7.0</td>\n",
       "      <td>7D, 6R</td>\n",
       "      <td>13/30</td>\n",
       "      <td>14D, 8R</td>\n",
       "      <td>22/60</td>\n",
       "      <td>35/90</td>\n",
       "      <td>38.9</td>\n",
       "      <td>2020</td>\n",
       "    </tr>\n",
       "    <tr>\n",
       "      <th>3</th>\n",
       "      <td>4</td>\n",
       "      <td>AR</td>\n",
       "      <td>33.0</td>\n",
       "      <td>3D, 4R</td>\n",
       "      <td>7/35</td>\n",
       "      <td>10D, 18R</td>\n",
       "      <td>28/100</td>\n",
       "      <td>35/135</td>\n",
       "      <td>25.9</td>\n",
       "      <td>2020</td>\n",
       "    </tr>\n",
       "    <tr>\n",
       "      <th>4</th>\n",
       "      <td>5</td>\n",
       "      <td>AS</td>\n",
       "      <td>NaN</td>\n",
       "      <td>0D, 0R, 1Ind</td>\n",
       "      <td>1/18</td>\n",
       "      <td>0D, 0R, 1Ind</td>\n",
       "      <td>1/21</td>\n",
       "      <td>2/39</td>\n",
       "      <td>5.1</td>\n",
       "      <td>2020</td>\n",
       "    </tr>\n",
       "  </tbody>\n",
       "</table>\n",
       "</div>"
      ],
      "text/plain": [
       "   0 ﻿State State Rank        Senate Total Women/Total Senate         House  \\\n",
       "0  1     AL       47.0        4D, 0R                     4/35       11D, 7R   \n",
       "1  2     AK       10.0        1D, 5R                     6/20       6D, 10R   \n",
       "2  3     AZ        7.0        7D, 6R                    13/30       14D, 8R   \n",
       "3  4     AR       33.0        3D, 4R                     7/35      10D, 18R   \n",
       "4  5     AS        NaN  0D, 0R, 1Ind                     1/18  0D, 0R, 1Ind   \n",
       "\n",
       "  Total Women/Total House Total Women/Total Legis.  %Women Overall  year  \n",
       "0                  18/105                   22/140            15.7  2020  \n",
       "1                   16/40                    22/60            36.7  2020  \n",
       "2                   22/60                    35/90            38.9  2020  \n",
       "3                  28/100                   35/135            25.9  2020  \n",
       "4                    1/21                     2/39             5.1  2020  "
      ]
     },
     "execution_count": 4,
     "metadata": {},
     "output_type": "execute_result"
    }
   ],
   "source": [
    "df.head()"
   ]
  },
  {
   "cell_type": "code",
   "execution_count": 5,
   "metadata": {},
   "outputs": [],
   "source": [
    "csv_files = glob.glob(os.path.join(path, \"*.csv\"))\n",
    "dfs = []\n",
    "for f in csv_files:\n",
    "    filename = f.split(\"\\\\\")[-1]\n",
    "    year = re.findall(r\"\\d+\", filename)[-1]\n",
    "    if year in ['2011','2012','2013','2014']:\n",
    "        df = pd.read_csv(f, header=None)\n",
    "        df['year'] = year\n",
    "        dfs.append(df)\n",
    "\n",
    "df2 = pd.concat(dfs, axis=0, ignore_index=True)"
   ]
  },
  {
   "cell_type": "code",
   "execution_count": 6,
   "metadata": {},
   "outputs": [
    {
     "data": {
      "text/html": [
       "<div>\n",
       "<style scoped>\n",
       "    .dataframe tbody tr th:only-of-type {\n",
       "        vertical-align: middle;\n",
       "    }\n",
       "\n",
       "    .dataframe tbody tr th {\n",
       "        vertical-align: top;\n",
       "    }\n",
       "\n",
       "    .dataframe thead th {\n",
       "        text-align: right;\n",
       "    }\n",
       "</style>\n",
       "<table border=\"1\" class=\"dataframe\">\n",
       "  <thead>\n",
       "    <tr style=\"text-align: right;\">\n",
       "      <th></th>\n",
       "      <th>0</th>\n",
       "      <th>1</th>\n",
       "      <th>year</th>\n",
       "    </tr>\n",
       "  </thead>\n",
       "  <tbody>\n",
       "    <tr>\n",
       "      <th>0</th>\n",
       "      <td>STATE</td>\n",
       "      <td>% WOMEN OVERALL</td>\n",
       "      <td>2014</td>\n",
       "    </tr>\n",
       "    <tr>\n",
       "      <th>1</th>\n",
       "      <td>AL</td>\n",
       "      <td>14.3</td>\n",
       "      <td>2014</td>\n",
       "    </tr>\n",
       "    <tr>\n",
       "      <th>2</th>\n",
       "      <td>AK*</td>\n",
       "      <td>26.7</td>\n",
       "      <td>2014</td>\n",
       "    </tr>\n",
       "    <tr>\n",
       "      <th>3</th>\n",
       "      <td>AZ</td>\n",
       "      <td>35.6</td>\n",
       "      <td>2014</td>\n",
       "    </tr>\n",
       "    <tr>\n",
       "      <th>4</th>\n",
       "      <td>AR</td>\n",
       "      <td>17.0</td>\n",
       "      <td>2014</td>\n",
       "    </tr>\n",
       "  </tbody>\n",
       "</table>\n",
       "</div>"
      ],
      "text/plain": [
       "       0                1  year\n",
       "0  STATE  % WOMEN OVERALL  2014\n",
       "1     AL             14.3  2014\n",
       "2    AK*             26.7  2014\n",
       "3     AZ             35.6  2014\n",
       "4     AR             17.0  2014"
      ]
     },
     "execution_count": 6,
     "metadata": {},
     "output_type": "execute_result"
    }
   ],
   "source": [
    "df2.head()"
   ]
  },
  {
   "cell_type": "code",
   "execution_count": 10,
   "metadata": {},
   "outputs": [],
   "source": [
    "# select interested columns for df\n",
    "df = df.iloc[:, [1, 8, 9]]"
   ]
  },
  {
   "cell_type": "code",
   "execution_count": 11,
   "metadata": {},
   "outputs": [
    {
     "data": {
      "text/html": [
       "<div>\n",
       "<style scoped>\n",
       "    .dataframe tbody tr th:only-of-type {\n",
       "        vertical-align: middle;\n",
       "    }\n",
       "\n",
       "    .dataframe tbody tr th {\n",
       "        vertical-align: top;\n",
       "    }\n",
       "\n",
       "    .dataframe thead th {\n",
       "        text-align: right;\n",
       "    }\n",
       "</style>\n",
       "<table border=\"1\" class=\"dataframe\">\n",
       "  <thead>\n",
       "    <tr style=\"text-align: right;\">\n",
       "      <th></th>\n",
       "      <th>﻿State</th>\n",
       "      <th>%Women Overall</th>\n",
       "      <th>year</th>\n",
       "    </tr>\n",
       "  </thead>\n",
       "  <tbody>\n",
       "    <tr>\n",
       "      <th>0</th>\n",
       "      <td>AL</td>\n",
       "      <td>15.7</td>\n",
       "      <td>2020</td>\n",
       "    </tr>\n",
       "    <tr>\n",
       "      <th>1</th>\n",
       "      <td>AK</td>\n",
       "      <td>36.7</td>\n",
       "      <td>2020</td>\n",
       "    </tr>\n",
       "    <tr>\n",
       "      <th>2</th>\n",
       "      <td>AZ</td>\n",
       "      <td>38.9</td>\n",
       "      <td>2020</td>\n",
       "    </tr>\n",
       "    <tr>\n",
       "      <th>3</th>\n",
       "      <td>AR</td>\n",
       "      <td>25.9</td>\n",
       "      <td>2020</td>\n",
       "    </tr>\n",
       "    <tr>\n",
       "      <th>4</th>\n",
       "      <td>AS</td>\n",
       "      <td>5.1</td>\n",
       "      <td>2020</td>\n",
       "    </tr>\n",
       "  </tbody>\n",
       "</table>\n",
       "</div>"
      ],
      "text/plain": [
       "  ﻿State  %Women Overall  year\n",
       "0     AL            15.7  2020\n",
       "1     AK            36.7  2020\n",
       "2     AZ            38.9  2020\n",
       "3     AR            25.9  2020\n",
       "4     AS             5.1  2020"
      ]
     },
     "execution_count": 11,
     "metadata": {},
     "output_type": "execute_result"
    }
   ],
   "source": [
    "df.head()"
   ]
  },
  {
   "cell_type": "code",
   "execution_count": 12,
   "metadata": {},
   "outputs": [],
   "source": [
    "# rename the columns\n",
    "df.columns = ['state', 'proportion of women', 'year']"
   ]
  },
  {
   "cell_type": "code",
   "execution_count": 13,
   "metadata": {},
   "outputs": [],
   "source": [
    "# abbreviations of major 50 states\n",
    "states = [ 'AK', 'AL', 'AR', 'AZ', 'CA', 'CO', 'CT', 'DE', 'FL', 'GA',\n",
    "           'HI', 'IA', 'ID', 'IL', 'IN', 'KS', 'KY', 'LA', 'MA', 'MD', 'ME',\n",
    "           'MI', 'MN', 'MO', 'MS', 'MT', 'NC', 'ND', 'NE', 'NH', 'NJ', 'NM',\n",
    "           'NV', 'NY', 'OH', 'OK', 'OR', 'PA', 'RI', 'SC', 'SD', 'TN', 'TX',\n",
    "           'UT', 'VA', 'VT', 'WA', 'WI', 'WV', 'WY']"
   ]
  },
  {
   "cell_type": "code",
   "execution_count": 14,
   "metadata": {},
   "outputs": [],
   "source": [
    "# clean the format of state name \n",
    "df['state'] = df['state'].str.findall(r'[A-Z]{2}').str[0]"
   ]
  },
  {
   "cell_type": "code",
   "execution_count": 19,
   "metadata": {},
   "outputs": [],
   "source": [
    "# only keep major 50 states\n",
    "df = df[df['state'].isin(states)]"
   ]
  },
  {
   "cell_type": "code",
   "execution_count": 18,
   "metadata": {},
   "outputs": [
    {
     "data": {
      "text/plain": [
       "array(['STATE', 'AL', 'AK*', 'AZ', 'AR', 'CA*', 'CO', 'CT', 'DE*', 'FL',\n",
       "       'GA', 'HI*', 'ID*', 'IL', 'IN*', 'IA', 'KS', 'KY', 'LA', 'ME',\n",
       "       'MD*', 'MA', 'Ml', 'MN', 'MS', 'MO', 'MT', 'NE', 'NV', 'NH', 'NJ',\n",
       "       'NM', 'NY*', 'NC', 'ND', 'OH', 'OK', 'OR', 'PA', 'RI', 'SC', 'SD',\n",
       "       'TN', 'TX', 'UT', 'VT', 'VA', 'WA', 'WV', 'WI*', 'WY', 'AK', 'AR*',\n",
       "       'CA', 'ID', 'IN', 'MS*', 'MO*', 'NY', 'NC*', 'ND*', 'PA*', 'TN*',\n",
       "       'WY*', 'DE', 'HI', 'IA*', 'MD', 'WI', 'co', 'NE*', 'NJ*'],\n",
       "      dtype=object)"
      ]
     },
     "execution_count": 18,
     "metadata": {},
     "output_type": "execute_result"
    }
   ],
   "source": [
    "# rename the columns for df2\n",
    "df2.columns = ['state', 'proportion of women', 'year']\n",
    "pd.unique(df2['state'])"
   ]
  },
  {
   "cell_type": "code",
   "execution_count": 20,
   "metadata": {},
   "outputs": [],
   "source": [
    "# correct and clean the format of state names\n",
    "df2 = df2.replace('Ml','MI')\n",
    "df2 = df2.replace('co', 'CO')\n",
    "df2['state'] = df2['state'].str.findall(r'[A-Z]{2}').str[0]"
   ]
  },
  {
   "cell_type": "code",
   "execution_count": 21,
   "metadata": {},
   "outputs": [],
   "source": [
    "# select only major 50 states\n",
    "df2  = df2[df2['state'].isin(states)]"
   ]
  },
  {
   "cell_type": "code",
   "execution_count": 22,
   "metadata": {},
   "outputs": [
    {
     "data": {
      "text/html": [
       "<div>\n",
       "<style scoped>\n",
       "    .dataframe tbody tr th:only-of-type {\n",
       "        vertical-align: middle;\n",
       "    }\n",
       "\n",
       "    .dataframe tbody tr th {\n",
       "        vertical-align: top;\n",
       "    }\n",
       "\n",
       "    .dataframe thead th {\n",
       "        text-align: right;\n",
       "    }\n",
       "</style>\n",
       "<table border=\"1\" class=\"dataframe\">\n",
       "  <thead>\n",
       "    <tr style=\"text-align: right;\">\n",
       "      <th></th>\n",
       "      <th>state</th>\n",
       "      <th>proportion of women</th>\n",
       "      <th>year</th>\n",
       "    </tr>\n",
       "  </thead>\n",
       "  <tbody>\n",
       "    <tr>\n",
       "      <th>0</th>\n",
       "      <td>AL</td>\n",
       "      <td>15.7</td>\n",
       "      <td>2020</td>\n",
       "    </tr>\n",
       "    <tr>\n",
       "      <th>1</th>\n",
       "      <td>AK</td>\n",
       "      <td>36.7</td>\n",
       "      <td>2020</td>\n",
       "    </tr>\n",
       "    <tr>\n",
       "      <th>2</th>\n",
       "      <td>AZ</td>\n",
       "      <td>38.9</td>\n",
       "      <td>2020</td>\n",
       "    </tr>\n",
       "    <tr>\n",
       "      <th>3</th>\n",
       "      <td>AR</td>\n",
       "      <td>25.9</td>\n",
       "      <td>2020</td>\n",
       "    </tr>\n",
       "    <tr>\n",
       "      <th>5</th>\n",
       "      <td>CA</td>\n",
       "      <td>30.8</td>\n",
       "      <td>2020</td>\n",
       "    </tr>\n",
       "  </tbody>\n",
       "</table>\n",
       "</div>"
      ],
      "text/plain": [
       "  state  proportion of women  year\n",
       "0    AL                 15.7  2020\n",
       "1    AK                 36.7  2020\n",
       "2    AZ                 38.9  2020\n",
       "3    AR                 25.9  2020\n",
       "5    CA                 30.8  2020"
      ]
     },
     "execution_count": 22,
     "metadata": {},
     "output_type": "execute_result"
    }
   ],
   "source": [
    "df.head()"
   ]
  },
  {
   "cell_type": "code",
   "execution_count": 31,
   "metadata": {},
   "outputs": [],
   "source": [
    "# concat all years\n",
    "df_legislature = pd.concat([df, df2], axis=0, ignore_index=True)"
   ]
  },
  {
   "cell_type": "code",
   "execution_count": 34,
   "metadata": {},
   "outputs": [],
   "source": [
    "# convert the feature from percentage value to decimals\n",
    "df_legislature['proportion of women'] = df_legislature['proportion of women'].astype(float)\n",
    "df_legislature['proportion of women'] = df_legislature['proportion of women'] * 0.01\n",
    "df_legislature['proportion of women'] = df_legislature['proportion of women'].round(3)"
   ]
  },
  {
   "cell_type": "code",
   "execution_count": 36,
   "metadata": {},
   "outputs": [],
   "source": [
    "df_legislature.to_csv('women_in_legislature.csv', encoding='utf-8', index=False)"
   ]
  },
  {
   "cell_type": "code",
   "execution_count": null,
   "metadata": {},
   "outputs": [],
   "source": []
  }
 ],
 "metadata": {
  "kernelspec": {
   "display_name": "Python 3.9.13 64-bit",
   "language": "python",
   "name": "python3"
  },
  "language_info": {
   "codemirror_mode": {
    "name": "ipython",
    "version": 3
   },
   "file_extension": ".py",
   "mimetype": "text/x-python",
   "name": "python",
   "nbconvert_exporter": "python",
   "pygments_lexer": "ipython3",
   "version": "3.9.13"
  },
  "orig_nbformat": 4,
  "vscode": {
   "interpreter": {
    "hash": "31f2aee4e71d21fbe5cf8b01ff0e069b9275f58929596ceb00d14d90e3e16cd6"
   }
  }
 },
 "nbformat": 4,
 "nbformat_minor": 2
}
