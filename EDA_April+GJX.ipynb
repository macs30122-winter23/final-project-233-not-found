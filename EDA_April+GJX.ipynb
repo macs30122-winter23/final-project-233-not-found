{
 "cells": [
  {
   "attachments": {},
   "cell_type": "markdown",
   "metadata": {},
   "source": [
    "# Exploratory Data Anlysis"
   ]
  },
  {
   "cell_type": "code",
   "execution_count": 2,
   "metadata": {},
   "outputs": [],
   "source": [
    "import pandas as pd\n",
    "\n",
    "import seaborn as sns\n",
    "import matplotlib.pyplot as plt\n",
    "import warnings\n",
    "warnings.filterwarnings('ignore')\n",
    "\n",
    "import plotly.graph_objs as go"
   ]
  },
  {
   "attachments": {},
   "cell_type": "markdown",
   "metadata": {},
   "source": [
    "## S1: Data Description"
   ]
  },
  {
   "attachments": {},
   "cell_type": "markdown",
   "metadata": {},
   "source": [
    "1. Read in csv file into pandas dataframe"
   ]
  },
  {
   "cell_type": "code",
   "execution_count": 3,
   "metadata": {},
   "outputs": [],
   "source": [
    "data_df = pd.read_csv(\"all_data.csv\")"
   ]
  },
  {
   "cell_type": "code",
   "execution_count": 4,
   "metadata": {},
   "outputs": [],
   "source": [
    "original_df = pd.read_csv('all_data.csv')"
   ]
  },
  {
   "attachments": {},
   "cell_type": "markdown",
   "metadata": {},
   "source": [
    "2. Visualize the dataframe to gain a basic understanding of features and samples"
   ]
  },
  {
   "cell_type": "code",
   "execution_count": 5,
   "metadata": {},
   "outputs": [
    {
     "data": {
      "text/html": [
       "<div>\n",
       "<style scoped>\n",
       "    .dataframe tbody tr th:only-of-type {\n",
       "        vertical-align: middle;\n",
       "    }\n",
       "\n",
       "    .dataframe tbody tr th {\n",
       "        vertical-align: top;\n",
       "    }\n",
       "\n",
       "    .dataframe thead th {\n",
       "        text-align: right;\n",
       "    }\n",
       "</style>\n",
       "<table border=\"1\" class=\"dataframe\">\n",
       "  <thead>\n",
       "    <tr style=\"text-align: right;\">\n",
       "      <th></th>\n",
       "      <th>state</th>\n",
       "      <th>education</th>\n",
       "      <th>year</th>\n",
       "      <th>state_legislature</th>\n",
       "      <th>governor</th>\n",
       "      <th>lt_governor</th>\n",
       "      <th>labour_force_participation</th>\n",
       "      <th>mngmt_job_wage_gap</th>\n",
       "      <th>bachelor_wage_gap</th>\n",
       "      <th>ab_legality</th>\n",
       "      <th>rape_rate</th>\n",
       "      <th>sex_ratio_birth</th>\n",
       "      <th>abortion_rate</th>\n",
       "      <th>life_exp_f_m</th>\n",
       "    </tr>\n",
       "  </thead>\n",
       "  <tbody>\n",
       "    <tr>\n",
       "      <th>0</th>\n",
       "      <td>Alabama</td>\n",
       "      <td>1.180</td>\n",
       "      <td>2020</td>\n",
       "      <td>0.157</td>\n",
       "      <td>1.0</td>\n",
       "      <td>0.0</td>\n",
       "      <td>0.782</td>\n",
       "      <td>0.640</td>\n",
       "      <td>25.1</td>\n",
       "      <td>0</td>\n",
       "      <td>32.7</td>\n",
       "      <td>1.068376</td>\n",
       "      <td>113.548</td>\n",
       "      <td>1.089325</td>\n",
       "    </tr>\n",
       "    <tr>\n",
       "      <th>1</th>\n",
       "      <td>Alaska</td>\n",
       "      <td>1.014</td>\n",
       "      <td>2020</td>\n",
       "      <td>0.367</td>\n",
       "      <td>0.0</td>\n",
       "      <td>0.0</td>\n",
       "      <td>0.795</td>\n",
       "      <td>0.779</td>\n",
       "      <td>18.1</td>\n",
       "      <td>1</td>\n",
       "      <td>154.8</td>\n",
       "      <td>0.915751</td>\n",
       "      <td>164.547</td>\n",
       "      <td>1.066098</td>\n",
       "    </tr>\n",
       "    <tr>\n",
       "      <th>2</th>\n",
       "      <td>Arizona</td>\n",
       "      <td>1.112</td>\n",
       "      <td>2020</td>\n",
       "      <td>0.389</td>\n",
       "      <td>0.0</td>\n",
       "      <td>0.0</td>\n",
       "      <td>0.789</td>\n",
       "      <td>0.701</td>\n",
       "      <td>23.2</td>\n",
       "      <td>1</td>\n",
       "      <td>44.0</td>\n",
       "      <td>1.012146</td>\n",
       "      <td>184.862</td>\n",
       "      <td>1.083424</td>\n",
       "    </tr>\n",
       "    <tr>\n",
       "      <th>3</th>\n",
       "      <td>Arkansas</td>\n",
       "      <td>1.115</td>\n",
       "      <td>2020</td>\n",
       "      <td>0.259</td>\n",
       "      <td>0.0</td>\n",
       "      <td>0.0</td>\n",
       "      <td>0.837</td>\n",
       "      <td>0.705</td>\n",
       "      <td>20.1</td>\n",
       "      <td>0</td>\n",
       "      <td>73.5</td>\n",
       "      <td>1.037344</td>\n",
       "      <td>104.638</td>\n",
       "      <td>1.077586</td>\n",
       "    </tr>\n",
       "    <tr>\n",
       "      <th>4</th>\n",
       "      <td>California</td>\n",
       "      <td>1.099</td>\n",
       "      <td>2020</td>\n",
       "      <td>0.308</td>\n",
       "      <td>0.0</td>\n",
       "      <td>1.0</td>\n",
       "      <td>0.764</td>\n",
       "      <td>0.734</td>\n",
       "      <td>18.6</td>\n",
       "      <td>1</td>\n",
       "      <td>34.2</td>\n",
       "      <td>1.011122</td>\n",
       "      <td>16.075</td>\n",
       "      <td>1.076426</td>\n",
       "    </tr>\n",
       "  </tbody>\n",
       "</table>\n",
       "</div>"
      ],
      "text/plain": [
       "        state  education  year  state_legislature  governor  lt_governor  \\\n",
       "0     Alabama      1.180  2020              0.157       1.0          0.0   \n",
       "1      Alaska      1.014  2020              0.367       0.0          0.0   \n",
       "2     Arizona      1.112  2020              0.389       0.0          0.0   \n",
       "3    Arkansas      1.115  2020              0.259       0.0          0.0   \n",
       "4  California      1.099  2020              0.308       0.0          1.0   \n",
       "\n",
       "   labour_force_participation  mngmt_job_wage_gap  bachelor_wage_gap  \\\n",
       "0                       0.782               0.640               25.1   \n",
       "1                       0.795               0.779               18.1   \n",
       "2                       0.789               0.701               23.2   \n",
       "3                       0.837               0.705               20.1   \n",
       "4                       0.764               0.734               18.6   \n",
       "\n",
       "   ab_legality  rape_rate  sex_ratio_birth  abortion_rate  life_exp_f_m  \n",
       "0            0       32.7         1.068376        113.548      1.089325  \n",
       "1            1      154.8         0.915751        164.547      1.066098  \n",
       "2            1       44.0         1.012146        184.862      1.083424  \n",
       "3            0       73.5         1.037344        104.638      1.077586  \n",
       "4            1       34.2         1.011122         16.075      1.076426  "
      ]
     },
     "execution_count": 5,
     "metadata": {},
     "output_type": "execute_result"
    }
   ],
   "source": [
    "data_df.head()"
   ]
  },
  {
   "cell_type": "code",
   "execution_count": 4,
   "metadata": {},
   "outputs": [
    {
     "data": {
      "text/plain": [
       "Index(['state', 'education', 'year', 'state_legislature', 'governor',\n",
       "       'lt_governor', 'labour_force_participation', 'mngmt_job_wage_gap',\n",
       "       'bachelor_wage_gap', 'ab_legality', 'rape_rate', 'sex_ratio_birth',\n",
       "       'abortion_rate', 'life_exp_f_m'],\n",
       "      dtype='object')"
      ]
     },
     "execution_count": 4,
     "metadata": {},
     "output_type": "execute_result"
    }
   ],
   "source": [
    "data_df.columns"
   ]
  },
  {
   "cell_type": "code",
   "execution_count": 5,
   "metadata": {},
   "outputs": [
    {
     "data": {
      "text/html": [
       "<div>\n",
       "<style scoped>\n",
       "    .dataframe tbody tr th:only-of-type {\n",
       "        vertical-align: middle;\n",
       "    }\n",
       "\n",
       "    .dataframe tbody tr th {\n",
       "        vertical-align: top;\n",
       "    }\n",
       "\n",
       "    .dataframe thead th {\n",
       "        text-align: right;\n",
       "    }\n",
       "</style>\n",
       "<table border=\"1\" class=\"dataframe\">\n",
       "  <thead>\n",
       "    <tr style=\"text-align: right;\">\n",
       "      <th></th>\n",
       "      <th>education</th>\n",
       "      <th>year</th>\n",
       "      <th>state_legislature</th>\n",
       "      <th>governor</th>\n",
       "      <th>lt_governor</th>\n",
       "      <th>labour_force_participation</th>\n",
       "      <th>mngmt_job_wage_gap</th>\n",
       "      <th>bachelor_wage_gap</th>\n",
       "      <th>ab_legality</th>\n",
       "      <th>rape_rate</th>\n",
       "      <th>sex_ratio_birth</th>\n",
       "      <th>abortion_rate</th>\n",
       "      <th>life_exp_f_m</th>\n",
       "    </tr>\n",
       "  </thead>\n",
       "  <tbody>\n",
       "    <tr>\n",
       "      <th>count</th>\n",
       "      <td>500.000</td>\n",
       "      <td>500.000</td>\n",
       "      <td>500.000</td>\n",
       "      <td>500.000</td>\n",
       "      <td>500.000</td>\n",
       "      <td>500.000</td>\n",
       "      <td>500.000</td>\n",
       "      <td>500.000</td>\n",
       "      <td>500.000</td>\n",
       "      <td>500.000</td>\n",
       "      <td>500.000</td>\n",
       "      <td>500.000</td>\n",
       "      <td>500.000</td>\n",
       "    </tr>\n",
       "    <tr>\n",
       "      <th>mean</th>\n",
       "      <td>1.113</td>\n",
       "      <td>2015.500</td>\n",
       "      <td>0.254</td>\n",
       "      <td>0.128</td>\n",
       "      <td>0.248</td>\n",
       "      <td>0.829</td>\n",
       "      <td>0.711</td>\n",
       "      <td>20.284</td>\n",
       "      <td>0.720</td>\n",
       "      <td>41.277</td>\n",
       "      <td>1.024</td>\n",
       "      <td>226.896</td>\n",
       "      <td>1.065</td>\n",
       "    </tr>\n",
       "    <tr>\n",
       "      <th>std</th>\n",
       "      <td>0.046</td>\n",
       "      <td>2.875</td>\n",
       "      <td>0.076</td>\n",
       "      <td>0.334</td>\n",
       "      <td>0.432</td>\n",
       "      <td>0.041</td>\n",
       "      <td>0.044</td>\n",
       "      <td>3.644</td>\n",
       "      <td>0.449</td>\n",
       "      <td>17.820</td>\n",
       "      <td>0.032</td>\n",
       "      <td>268.040</td>\n",
       "      <td>0.009</td>\n",
       "    </tr>\n",
       "    <tr>\n",
       "      <th>min</th>\n",
       "      <td>0.947</td>\n",
       "      <td>2011.000</td>\n",
       "      <td>0.094</td>\n",
       "      <td>0.000</td>\n",
       "      <td>0.000</td>\n",
       "      <td>0.732</td>\n",
       "      <td>0.568</td>\n",
       "      <td>10.200</td>\n",
       "      <td>0.000</td>\n",
       "      <td>11.400</td>\n",
       "      <td>0.899</td>\n",
       "      <td>2.714</td>\n",
       "      <td>1.044</td>\n",
       "    </tr>\n",
       "    <tr>\n",
       "      <th>25%</th>\n",
       "      <td>1.085</td>\n",
       "      <td>2013.000</td>\n",
       "      <td>0.199</td>\n",
       "      <td>0.000</td>\n",
       "      <td>0.000</td>\n",
       "      <td>0.803</td>\n",
       "      <td>0.683</td>\n",
       "      <td>18.200</td>\n",
       "      <td>0.000</td>\n",
       "      <td>31.075</td>\n",
       "      <td>1.009</td>\n",
       "      <td>121.059</td>\n",
       "      <td>1.059</td>\n",
       "    </tr>\n",
       "    <tr>\n",
       "      <th>50%</th>\n",
       "      <td>1.117</td>\n",
       "      <td>2015.500</td>\n",
       "      <td>0.253</td>\n",
       "      <td>0.000</td>\n",
       "      <td>0.000</td>\n",
       "      <td>0.826</td>\n",
       "      <td>0.709</td>\n",
       "      <td>20.100</td>\n",
       "      <td>1.000</td>\n",
       "      <td>38.600</td>\n",
       "      <td>1.030</td>\n",
       "      <td>188.740</td>\n",
       "      <td>1.064</td>\n",
       "    </tr>\n",
       "    <tr>\n",
       "      <th>75%</th>\n",
       "      <td>1.141</td>\n",
       "      <td>2018.000</td>\n",
       "      <td>0.304</td>\n",
       "      <td>0.000</td>\n",
       "      <td>0.000</td>\n",
       "      <td>0.862</td>\n",
       "      <td>0.736</td>\n",
       "      <td>22.225</td>\n",
       "      <td>1.000</td>\n",
       "      <td>47.100</td>\n",
       "      <td>1.048</td>\n",
       "      <td>257.928</td>\n",
       "      <td>1.071</td>\n",
       "    </tr>\n",
       "    <tr>\n",
       "      <th>max</th>\n",
       "      <td>1.243</td>\n",
       "      <td>2020.000</td>\n",
       "      <td>0.540</td>\n",
       "      <td>1.000</td>\n",
       "      <td>1.000</td>\n",
       "      <td>0.929</td>\n",
       "      <td>0.841</td>\n",
       "      <td>32.100</td>\n",
       "      <td>1.000</td>\n",
       "      <td>161.600</td>\n",
       "      <td>1.074</td>\n",
       "      <td>3700.745</td>\n",
       "      <td>1.096</td>\n",
       "    </tr>\n",
       "  </tbody>\n",
       "</table>\n",
       "</div>"
      ],
      "text/plain": [
       "       education      year  state_legislature  governor  lt_governor  \\\n",
       "count    500.000   500.000            500.000   500.000      500.000   \n",
       "mean       1.113  2015.500              0.254     0.128        0.248   \n",
       "std        0.046     2.875              0.076     0.334        0.432   \n",
       "min        0.947  2011.000              0.094     0.000        0.000   \n",
       "25%        1.085  2013.000              0.199     0.000        0.000   \n",
       "50%        1.117  2015.500              0.253     0.000        0.000   \n",
       "75%        1.141  2018.000              0.304     0.000        0.000   \n",
       "max        1.243  2020.000              0.540     1.000        1.000   \n",
       "\n",
       "       labour_force_participation  mngmt_job_wage_gap  bachelor_wage_gap  \\\n",
       "count                     500.000             500.000            500.000   \n",
       "mean                        0.829               0.711             20.284   \n",
       "std                         0.041               0.044              3.644   \n",
       "min                         0.732               0.568             10.200   \n",
       "25%                         0.803               0.683             18.200   \n",
       "50%                         0.826               0.709             20.100   \n",
       "75%                         0.862               0.736             22.225   \n",
       "max                         0.929               0.841             32.100   \n",
       "\n",
       "       ab_legality  rape_rate  sex_ratio_birth  abortion_rate  life_exp_f_m  \n",
       "count      500.000    500.000          500.000        500.000       500.000  \n",
       "mean         0.720     41.277            1.024        226.896         1.065  \n",
       "std          0.449     17.820            0.032        268.040         0.009  \n",
       "min          0.000     11.400            0.899          2.714         1.044  \n",
       "25%          0.000     31.075            1.009        121.059         1.059  \n",
       "50%          1.000     38.600            1.030        188.740         1.064  \n",
       "75%          1.000     47.100            1.048        257.928         1.071  \n",
       "max          1.000    161.600            1.074       3700.745         1.096  "
      ]
     },
     "execution_count": 5,
     "metadata": {},
     "output_type": "execute_result"
    }
   ],
   "source": [
    "round(data_df.describe() ,3)"
   ]
  },
  {
   "attachments": {},
   "cell_type": "markdown",
   "metadata": {},
   "source": [
    "We have 500 samples and 15 features"
   ]
  },
  {
   "attachments": {},
   "cell_type": "markdown",
   "metadata": {},
   "source": [
    "3. Check missing values"
   ]
  },
  {
   "cell_type": "code",
   "execution_count": 6,
   "metadata": {},
   "outputs": [
    {
     "data": {
      "text/plain": [
       "state                         0\n",
       "education                     0\n",
       "year                          0\n",
       "state_legislature             0\n",
       "governor                      0\n",
       "lt_governor                   0\n",
       "labour_force_participation    0\n",
       "mngmt_job_wage_gap            0\n",
       "bachelor_wage_gap             0\n",
       "ab_legality                   0\n",
       "rape_rate                     0\n",
       "sex_ratio_birth               0\n",
       "abortion_rate                 0\n",
       "life_exp_f_m                  0\n",
       "dtype: int64"
      ]
     },
     "execution_count": 6,
     "metadata": {},
     "output_type": "execute_result"
    }
   ],
   "source": [
    "null_sum = data_df.isnull().sum()\n",
    "null_sum"
   ]
  },
  {
   "attachments": {},
   "cell_type": "markdown",
   "metadata": {},
   "source": [
    "There is no missing data in our dataset, because when we collected data for seperate features, our data source was census data which appeared to contain no NaN"
   ]
  },
  {
   "attachments": {},
   "cell_type": "markdown",
   "metadata": {},
   "source": [
    "4. Check column types"
   ]
  },
  {
   "cell_type": "code",
   "execution_count": 7,
   "metadata": {},
   "outputs": [
    {
     "data": {
      "text/plain": [
       "state                          object\n",
       "education                     float64\n",
       "year                            int64\n",
       "state_legislature             float64\n",
       "governor                      float64\n",
       "lt_governor                   float64\n",
       "labour_force_participation    float64\n",
       "mngmt_job_wage_gap            float64\n",
       "bachelor_wage_gap             float64\n",
       "ab_legality                     int64\n",
       "rape_rate                     float64\n",
       "sex_ratio_birth               float64\n",
       "abortion_rate                 float64\n",
       "life_exp_f_m                  float64\n",
       "dtype: object"
      ]
     },
     "execution_count": 7,
     "metadata": {},
     "output_type": "execute_result"
    }
   ],
   "source": [
    "data_df.dtypes"
   ]
  },
  {
   "attachments": {},
   "cell_type": "markdown",
   "metadata": {},
   "source": [
    "## S2: Visualization of relation between features and target value"
   ]
  },
  {
   "attachments": {},
   "cell_type": "markdown",
   "metadata": {},
   "source": [
    "### 1. Explore the relation between political empowerment and rape rate"
   ]
  },
  {
   "cell_type": "code",
   "execution_count": 18,
   "metadata": {},
   "outputs": [
    {
     "data": {
      "text/plain": [
       "Text(0.5, 1.0, 'Bar graph between female governer and rape rate')"
      ]
     },
     "execution_count": 18,
     "metadata": {},
     "output_type": "execute_result"
    },
    {
     "data": {
      "image/png": "[encoded data removed]",
      "text/plain": [
       "<Figure size 432x288 with 1 Axes>"
      ]
     },
     "metadata": {
      "needs_background": "light"
     },
     "output_type": "display_data"
    }
   ],
   "source": [
    "sns.barplot(data=data_df, x=\"governor\", y=\"rape_rate\")\n",
    "plt.title(\"Bar graph between female governer and rape rate\")"
   ]
  },
  {
   "cell_type": "code",
   "execution_count": 19,
   "metadata": {},
   "outputs": [
    {
     "data": {
      "text/plain": [
       "Text(0.5, 1.0, 'Bar graph between female lieutenant governer and rape rate')"
      ]
     },
     "execution_count": 19,
     "metadata": {},
     "output_type": "execute_result"
    },
    {
     "data": {
      "image/png": "[encoded data removed]",
      "text/plain": [
       "<Figure size 432x288 with 1 Axes>"
      ]
     },
     "metadata": {
      "needs_background": "light"
     },
     "output_type": "display_data"
    }
   ],
   "source": [
    "sns.barplot(data=data_df, x=\"lt_governor\", y=\"rape_rate\")\n",
    "plt.title(\"Bar graph between female lieutenant governer and rape rate\")"
   ]
  },
  {
   "attachments": {},
   "cell_type": "markdown",
   "metadata": {},
   "source": [
    "Use boxplot to detect and drop outliers"
   ]
  },
  {
   "cell_type": "code",
   "execution_count": 6,
   "metadata": {},
   "outputs": [
    {
     "data": {
      "text/plain": [
       "(0.199, 0.30425, 0.041124999999999995, 0.462125)"
      ]
     },
     "execution_count": 6,
     "metadata": {},
     "output_type": "execute_result"
    }
   ],
   "source": [
    "Q1 = data_df[\"state_legislature\"].quantile(0.25)\n",
    "Q3 = data_df[\"state_legislature\"].quantile(0.75)\n",
    "IQR = Q3 - Q1\n",
    "lower_thresh = Q1 - 1.5*IQR\n",
    "upper_thresh = Q3 + 1.5*IQR\n",
    "Q1, Q3, lower_thresh, upper_thresh"
   ]
  },
  {
   "cell_type": "code",
   "execution_count": 7,
   "metadata": {},
   "outputs": [
    {
     "name": "stdout",
     "output_type": "stream",
     "text": [
      "Data size before dropping: (500, 14)\n",
      "Data size after dropping: (498, 14)\n"
     ]
    }
   ],
   "source": [
    "print(\"Data size before dropping:\", data_df.shape)\n",
    "data_df.drop(data_df[data_df[\"state_legislature\"] > 0.462].index, inplace=True)\n",
    "data_df.drop(data_df[data_df[\"state_legislature\"] < 0.041].index, inplace=True)\n",
    "print(\"Data size after dropping:\", data_df.shape)"
   ]
  },
  {
   "attachments": {},
   "cell_type": "markdown",
   "metadata": {},
   "source": [
    "### 2. Explore the relation between education gender gap and rape rate"
   ]
  },
  {
   "attachments": {},
   "cell_type": "markdown",
   "metadata": {},
   "source": [
    "2.1 Use boxplot to detect and drop outliers"
   ]
  },
  {
   "cell_type": "code",
   "execution_count": 8,
   "metadata": {},
   "outputs": [
    {
     "data": {
      "text/plain": [
       "(1.08525, 1.141, 1.0016250000000002, 1.224625)"
      ]
     },
     "execution_count": 8,
     "metadata": {},
     "output_type": "execute_result"
    }
   ],
   "source": [
    "# Detect high school graduates gender gap outliers\n",
    "Q1 = data_df[\"education\"].quantile(0.25)\n",
    "Q3 = data_df[\"education\"].quantile(0.75)\n",
    "IQR = Q3 - Q1\n",
    "lower_thresh = Q1 - 1.5*IQR\n",
    "upper_thresh = Q3 + 1.5*IQR\n",
    "Q1, Q3, lower_thresh, upper_thresh"
   ]
  },
  {
   "cell_type": "code",
   "execution_count": 9,
   "metadata": {},
   "outputs": [
    {
     "name": "stdout",
     "output_type": "stream",
     "text": [
      "Data size before dropping: (498, 14)\n",
      "Data size after dropping: (495, 14)\n"
     ]
    }
   ],
   "source": [
    "# Drop high school graduates gender gap outliers\n",
    "print(\"Data size before dropping:\", data_df.shape)\n",
    "data_df.drop(data_df[data_df[\"education\"] > 1.2].index, inplace=True)\n",
    "data_df.drop(data_df[data_df[\"education\"] < 0.8].index, inplace=True)\n",
    "print(\"Data size after dropping:\", data_df.shape)"
   ]
  },
  {
   "attachments": {},
   "cell_type": "markdown",
   "metadata": {},
   "source": [
    "### 3. Explore the relation between economic gender gap and rape rate"
   ]
  },
  {
   "attachments": {},
   "cell_type": "markdown",
   "metadata": {},
   "source": [
    "3.1 Use boxplot to detect and drop outliers for economic gender gap"
   ]
  },
  {
   "cell_type": "code",
   "execution_count": 10,
   "metadata": {},
   "outputs": [
    {
     "data": {
      "text/plain": [
       "(0.803, 0.863, 0.7130000000000001, 0.9529999999999998)"
      ]
     },
     "execution_count": 10,
     "metadata": {},
     "output_type": "execute_result"
    }
   ],
   "source": [
    "# Detect labor force participation gender gap\n",
    "Q1 = data_df[\"labour_force_participation\"].quantile(0.25)\n",
    "Q3 = data_df[\"labour_force_participation\"].quantile(0.75)\n",
    "IQR = Q3 - Q1\n",
    "lower_thresh = Q1 - 1.5*IQR\n",
    "upper_thresh = Q3 + 1.5*IQR\n",
    "Q1, Q3, lower_thresh, upper_thresh"
   ]
  },
  {
   "cell_type": "code",
   "execution_count": 11,
   "metadata": {},
   "outputs": [
    {
     "name": "stdout",
     "output_type": "stream",
     "text": [
      "Data size before dropping: (495, 14)\n",
      "Data size after dropping: (495, 14)\n"
     ]
    }
   ],
   "source": [
    "print(\"Data size before dropping:\", data_df.shape)\n",
    "data_df.drop(data_df[data_df[\"labour_force_participation\"] > 0.951].index, inplace=True)\n",
    "data_df.drop(data_df[data_df[\"labour_force_participation\"] < 0.716].index, inplace=True)\n",
    "print(\"Data size after dropping:\", data_df.shape)"
   ]
  },
  {
   "cell_type": "code",
   "execution_count": 12,
   "metadata": {},
   "outputs": [
    {
     "data": {
      "text/plain": [
       "(0.683, 0.736, 0.6035000000000001, 0.8154999999999999)"
      ]
     },
     "execution_count": 12,
     "metadata": {},
     "output_type": "execute_result"
    }
   ],
   "source": [
    "# Detect labor management job wage gender gap gender gap\n",
    "Q1 = data_df[\"mngmt_job_wage_gap\"].quantile(0.25)\n",
    "Q3 = data_df[\"mngmt_job_wage_gap\"].quantile(0.75)\n",
    "IQR = Q3 - Q1\n",
    "lower_thresh = Q1 - 1.5*IQR\n",
    "upper_thresh = Q3 + 1.5*IQR\n",
    "Q1, Q3, lower_thresh, upper_thresh"
   ]
  },
  {
   "cell_type": "code",
   "execution_count": 13,
   "metadata": {},
   "outputs": [
    {
     "name": "stdout",
     "output_type": "stream",
     "text": [
      "Data size before dropping: (495, 14)\n",
      "Data size after dropping: (477, 14)\n"
     ]
    }
   ],
   "source": [
    "print(\"Data size before dropping:\", data_df.shape)\n",
    "data_df.drop(data_df[data_df[\"mngmt_job_wage_gap\"] > 0.808].index, inplace=True)\n",
    "data_df.drop(data_df[data_df[\"mngmt_job_wage_gap\"] < 0.613].index, inplace=True)\n",
    "print(\"Data size after dropping:\", data_df.shape)"
   ]
  },
  {
   "cell_type": "code",
   "execution_count": 14,
   "metadata": {},
   "outputs": [
    {
     "data": {
      "text/plain": [
       "(18.3, 22.1, 12.6, 27.800000000000004)"
      ]
     },
     "execution_count": 14,
     "metadata": {},
     "output_type": "execute_result"
    }
   ],
   "source": [
    "# Detect bachelor wage gender gap\n",
    "Q1 = data_df[\"bachelor_wage_gap\"].quantile(0.25)\n",
    "Q3 = data_df[\"bachelor_wage_gap\"].quantile(0.75)\n",
    "IQR = Q3 - Q1\n",
    "lower_thresh = Q1 - 1.5*IQR\n",
    "upper_thresh = Q3 + 1.5*IQR\n",
    "Q1, Q3, lower_thresh, upper_thresh"
   ]
  },
  {
   "cell_type": "code",
   "execution_count": 15,
   "metadata": {},
   "outputs": [
    {
     "name": "stdout",
     "output_type": "stream",
     "text": [
      "Data size before dropping: (477, 14)\n",
      "Data size after dropping: (468, 14)\n"
     ]
    }
   ],
   "source": [
    "print(\"Data size before dropping:\", data_df.shape)\n",
    "data_df.drop(data_df[data_df[\"bachelor_wage_gap\"] > 28.5].index, inplace=True)\n",
    "data_df.drop(data_df[data_df[\"bachelor_wage_gap\"] < 12.5].index, inplace=True)\n",
    "print(\"Data size after dropping:\", data_df.shape)"
   ]
  },
  {
   "attachments": {},
   "cell_type": "markdown",
   "metadata": {},
   "source": [
    "### 4. Explore the relation between health gender gap and rape rate"
   ]
  },
  {
   "attachments": {},
   "cell_type": "markdown",
   "metadata": {},
   "source": [
    "4.1 Use boxplot to detect and drop outliers for health gender gap"
   ]
  },
  {
   "cell_type": "code",
   "execution_count": 16,
   "metadata": {},
   "outputs": [
    {
     "data": {
      "text/plain": [
       "(1.0593220338983051,\n",
       " 1.0698049903239473,\n",
       " 1.0435975992598419,\n",
       " 1.0855294249624103)"
      ]
     },
     "execution_count": 16,
     "metadata": {},
     "output_type": "execute_result"
    }
   ],
   "source": [
    "# Detect life expectancy gender gap\n",
    "Q1 = data_df[\"life_exp_f_m\"].quantile(0.25)\n",
    "Q3 = data_df[\"life_exp_f_m\"].quantile(0.75)\n",
    "IQR = Q3 - Q1\n",
    "lower_thresh = Q1 - 1.5*IQR\n",
    "upper_thresh = Q3 + 1.5*IQR\n",
    "Q1, Q3, lower_thresh, upper_thresh"
   ]
  },
  {
   "cell_type": "code",
   "execution_count": 17,
   "metadata": {},
   "outputs": [
    {
     "name": "stdout",
     "output_type": "stream",
     "text": [
      "Data size before dropping: (468, 14)\n",
      "Data size after dropping: (450, 14)\n"
     ]
    }
   ],
   "source": [
    "print(\"Data size before dropping:\", data_df.shape)\n",
    "data_df.drop(data_df[data_df[\"life_exp_f_m\"] > 1.08].index, inplace=True)\n",
    "data_df.drop(data_df[data_df[\"life_exp_f_m\"] < 1.05].index, inplace=True)\n",
    "print(\"Data size after dropping:\", data_df.shape)"
   ]
  },
  {
   "cell_type": "code",
   "execution_count": 18,
   "metadata": {},
   "outputs": [
    {
     "data": {
      "text/plain": [
       "(1.0101010101010102, 1.0482180293501049, 0.9529254812273681, 1.105393558223747)"
      ]
     },
     "execution_count": 18,
     "metadata": {},
     "output_type": "execute_result"
    }
   ],
   "source": [
    "# Detect sex ratio at birth gender gap\n",
    "Q1 = data_df[\"sex_ratio_birth\"].quantile(0.25)\n",
    "Q3 = data_df[\"sex_ratio_birth\"].quantile(0.75)\n",
    "IQR = Q3 - Q1\n",
    "lower_thresh = Q1 - 1.5*IQR\n",
    "upper_thresh = Q3 + 1.5*IQR\n",
    "Q1, Q3, lower_thresh, upper_thresh"
   ]
  },
  {
   "cell_type": "code",
   "execution_count": 19,
   "metadata": {},
   "outputs": [
    {
     "name": "stdout",
     "output_type": "stream",
     "text": [
      "Data size before dropping: (450, 14)\n",
      "Data size after dropping: (436, 14)\n"
     ]
    }
   ],
   "source": [
    "print(\"Data size before dropping:\", data_df.shape)\n",
    "data_df.drop(data_df[data_df[\"sex_ratio_birth\"] > 1.10].index, inplace=True)\n",
    "data_df.drop(data_df[data_df[\"sex_ratio_birth\"] < 0.95].index, inplace=True)\n",
    "print(\"Data size after dropping:\", data_df.shape)"
   ]
  },
  {
   "attachments": {},
   "cell_type": "markdown",
   "metadata": {},
   "source": [
    "### 5. Explore relation between abortion and rape rate"
   ]
  },
  {
   "cell_type": "code",
   "execution_count": 20,
   "metadata": {},
   "outputs": [
    {
     "data": {
      "text/plain": [
       "Text(0.5, 1.0, 'Bar graph between ab_legality and rape rate')"
      ]
     },
     "execution_count": 20,
     "metadata": {},
     "output_type": "execute_result"
    },
    {
     "data": {
      "image/png": "[encoded data removed]",
      "text/plain": [
       "<Figure size 432x288 with 1 Axes>"
      ]
     },
     "metadata": {
      "needs_background": "light"
     },
     "output_type": "display_data"
    }
   ],
   "source": [
    "sns.barplot(data=data_df, x=\"ab_legality\", y=\"rape_rate\")\n",
    "plt.title(\"Bar graph between ab_legality and rape rate\")"
   ]
  },
  {
   "cell_type": "code",
   "execution_count": 21,
   "metadata": {},
   "outputs": [
    {
     "data": {
      "text/plain": [
       "(123.14975, 264.38374999999996, -88.70124999999997, 476.23474999999996)"
      ]
     },
     "execution_count": 21,
     "metadata": {},
     "output_type": "execute_result"
    }
   ],
   "source": [
    "# Detect abortion rate outliers\n",
    "Q1 = data_df[\"abortion_rate\"].quantile(0.25)\n",
    "Q3 = data_df[\"abortion_rate\"].quantile(0.75)\n",
    "IQR = Q3 - Q1\n",
    "lower_thresh = Q1 - 1.5*IQR\n",
    "upper_thresh = Q3 + 1.5*IQR\n",
    "Q1, Q3, lower_thresh, upper_thresh"
   ]
  },
  {
   "cell_type": "code",
   "execution_count": 22,
   "metadata": {},
   "outputs": [
    {
     "name": "stdout",
     "output_type": "stream",
     "text": [
      "Data size before dropping: (436, 14)\n",
      "Data size after dropping: (419, 14)\n"
     ]
    }
   ],
   "source": [
    "print(\"Data size before dropping:\", data_df.shape)\n",
    "data_df.drop(data_df[data_df[\"abortion_rate\"] > 489.189].index, inplace=True)\n",
    "data_df.drop(data_df[data_df[\"abortion_rate\"] < 0].index, inplace=True)\n",
    "print(\"Data size after dropping:\", data_df.shape)"
   ]
  },
  {
   "attachments": {},
   "cell_type": "markdown",
   "metadata": {},
   "source": [
    "### A comprehensive visualization of the relationship between features and target variables\n",
    "\n",
    "* Without dropping any outliers"
   ]
  },
  {
   "cell_type": "code",
   "execution_count": 23,
   "metadata": {},
   "outputs": [
    {
     "data": {
      "image/png": "[encoded data removed]",
      "text/plain": [
       "<Figure size 864x1152 with 8 Axes>"
      ]
     },
     "metadata": {
      "needs_background": "light"
     },
     "output_type": "display_data"
    }
   ],
   "source": [
    "data = data_df[[\"education\", \"labour_force_participation\", \n",
    "                \"mngmt_job_wage_gap\", \"bachelor_wage_gap\", \"life_exp_f_m\", \n",
    "                \"sex_ratio_birth\", \"state_legislature\", \"abortion_rate\", \"rape_rate\"]]\n",
    "fig, axs = plt.subplots(4, 2, figsize=(12, 16))\n",
    "\n",
    "for i in range(4):\n",
    "    for j in range(2):\n",
    "        col = i*2 + j\n",
    "        if col < len(data.columns) - 1:\n",
    "            sns.scatterplot(data=data, x=data.columns[col], y=\"rape_rate\", ax=axs[i][j])\n",
    "            axs[i][j].set_title(data.columns[col])\n",
    "\n",
    "fig.tight_layout()\n",
    "plt.show()"
   ]
  },
  {
   "attachments": {},
   "cell_type": "markdown",
   "metadata": {},
   "source": [
    "<b>Observations</b>\n",
    "\n",
    "* From the first scattor plot, we observe a negative correlation between education and rape rate, which means females receiving more education is likely to correspond to a lower rape rate, which is intuitive and also proved by research.\n",
    "\n",
    "* In the eighth plot, we see a negative relation between sex ratio at birth (female/male) and rape rate, which means the higher proportion of male at birth population is likely to correspond to a higher rape rate.\n",
    "\n",
    "* From the last plot, we see a negative relation between abortion rate and rape rate.\n",
    "\n",
    "* Overall, each individual feature is not strongly correlated to our target value -- rape rate. This is probabily because these features are interconnected and mediated by other hidden fators."
   ]
  },
  {
   "attachments": {},
   "cell_type": "markdown",
   "metadata": {},
   "source": [
    "## S3: Visualization of Features and Distribution"
   ]
  },
  {
   "attachments": {},
   "cell_type": "markdown",
   "metadata": {},
   "source": [
    "### A Comprehensive Visualization"
   ]
  },
  {
   "cell_type": "code",
   "execution_count": 26,
   "metadata": {},
   "outputs": [
    {
     "data": {
      "image/png": "[encoded data removed]",
      "text/plain": [
       "<Figure size 864x1296 with 8 Axes>"
      ]
     },
     "metadata": {
      "needs_background": "light"
     },
     "output_type": "display_data"
    }
   ],
   "source": [
    "data = data_df[[\"education\", \"labour_force_participation\", \n",
    "           \"mngmt_job_wage_gap\", \"bachelor_wage_gap\", \"life_exp_f_m\", \n",
    "           \"sex_ratio_birth\", \"state_legislature\", \"abortion_rate\"]]\n",
    "fig, axs = plt.subplots(4, 2, figsize=(12, 18))\n",
    "\n",
    "for i in range(4):\n",
    "    for j in range(2):\n",
    "        col = i*2 + j\n",
    "        if col < len(data.columns):\n",
    "            sns.distplot(data[data.columns[col]], ax=axs[i][j], kde=True)\n",
    "            axs[i][j].set_title(data.columns[col])\n",
    "\n",
    "fig.tight_layout()\n",
    "plt.show()"
   ]
  },
  {
   "attachments": {},
   "cell_type": "markdown",
   "metadata": {},
   "source": [
    "<b>Observations</b>\n",
    "\n",
    "1. From the first distribution, we see that the mean of high school graduates gender gap is around 0.95. This means male comprise a larger proportion of the total high school graduates.\n",
    "\n",
    "2. The second and third distributions show an opposite trend, in which bachelor and professional graduates are likely to consist of female, which a mean of 1.12 and 1.1 respectively. Compare the first three distribution graphs, we see that female are more likely to pursue a higher education degree.\n",
    "\n",
    "3. We observe a significant gender gap in the economic field:\n",
    "    * In the 4th graph, we see that the labor force participation distribution has a mean around 0.81 and skewed to the left. This mean and skewness indicate the male's dominance and female's marginalization in the labor force participation\n",
    "\n",
    "    * In the 5th graph, we see that the management job wage gender gap has a mean of 0.71, which means that on average, women in management jobs earn 80% of what men earn in the same positions. This phenomenon indicates a salient gender gap in the work place, especially for the higher management positions\n",
    "\n",
    "4. In the 7th graph, we see the distribution of life expectancy ratio has a mean of 0.941, which means male tends to live shorter than female, which makes sense as the World Health Organization (WHO) showed the global life expectancy at birth for males in 2020 was 69 years, while for females it was 73 years.\n",
    "\n",
    "5. In the 9th graph, we see the distribution of state legislature of women has a mean of 0.27, which is critically low. This mean indicates that among all positions, of which female only occupy 27 percent."
   ]
  },
  {
   "attachments": {},
   "cell_type": "markdown",
   "metadata": {},
   "source": [
    "## S4: Explore the Relation Between Features and Abortion Rate"
   ]
  },
  {
   "attachments": {},
   "cell_type": "markdown",
   "metadata": {},
   "source": [
    "### Complete Visualization between Features and Abortion Rate"
   ]
  },
  {
   "cell_type": "code",
   "execution_count": 27,
   "metadata": {},
   "outputs": [
    {
     "data": {
      "image/png": "[encoded data removed]",
      "text/plain": [
       "<Figure size 864x1440 with 8 Axes>"
      ]
     },
     "metadata": {
      "needs_background": "light"
     },
     "output_type": "display_data"
    }
   ],
   "source": [
    "data = data_df[[\"education\", \"labour_force_participation\", \n",
    "                \"mngmt_job_wage_gap\", \"bachelor_wage_gap\", \"life_exp_f_m\", \n",
    "                \"sex_ratio_birth\", \"state_legislature\", \"abortion_rate\"]]\n",
    "fig, axs = plt.subplots(4, 2, figsize=(12, 20))\n",
    "\n",
    "for i in range(4):\n",
    "    for j in range(2):\n",
    "        col = i*2 + j\n",
    "        if col < len(data.columns) - 1:\n",
    "            sns.scatterplot(data=data, x=data.columns[col], y=\"abortion_rate\", ax=axs[i][j])\n",
    "            axs[i][j].set_title(data.columns[col])\n",
    "\n",
    "fig.tight_layout()\n",
    "plt.show()"
   ]
  },
  {
   "attachments": {},
   "cell_type": "markdown",
   "metadata": {},
   "source": [
    "<b>Observations on relation between features and abortion rate</b>\n",
    "\n",
    "* From the first plot, we observe a positive correlation between education and abortion rate, which means more females receiving education than males is related to higher abortion rate.\n",
    "\n",
    "* From the sixth plot, we find a positive relation between sex ratio at birth and abortion rate, which means more females at birth than males is related to higher abortion rate."
   ]
  },
  {
   "attachments": {},
   "cell_type": "markdown",
   "metadata": {},
   "source": [
    "## S5: Correlation Map"
   ]
  },
  {
   "cell_type": "code",
   "execution_count": 63,
   "metadata": {},
   "outputs": [
    {
     "data": {
      "image/png": "[encoded data removed]",
      "text/plain": [
       "<Figure size 720x576 with 2 Axes>"
      ]
     },
     "metadata": {
      "needs_background": "light"
     },
     "output_type": "display_data"
    }
   ],
   "source": [
    "corrMtx = original_df.corr()\n",
    "fig, ax = plt.subplots(figsize=(10,8))\n",
    "sns.heatmap(corrMtx, annot=True, ax=ax)\n",
    "plt.show()"
   ]
  },
  {
   "attachments": {},
   "cell_type": "markdown",
   "metadata": {},
   "source": [
    "<b>Observations</b>\n",
    "\n",
    "* The most salient correlations are between education and sex ratio, state legislature and abortion legality, education and life expectancy.\n",
    "\n",
    "* Some correlations mentioned above, such as sex ratio at birth and abortion rate, do not seem highly correlated in the correlation matrix, probably because they have non-linear correlations."
   ]
  },
  {
   "attachments": {},
   "cell_type": "markdown",
   "metadata": {},
   "source": [
    "## S6: Visualization of Important Features by State Groups"
   ]
  },
  {
   "attachments": {},
   "cell_type": "markdown",
   "metadata": {},
   "source": [
    "* We explore the following features by grouping states based on 2020 data and display the top, bottom, and middle group to observe the trends.\n",
    "    * state_legislature\n",
    "    * mngmt_job_wage_gap\n",
    "    * life_exp_f_m\n",
    "    * abortion_rate\n",
    "    * rape_rate"
   ]
  },
  {
   "cell_type": "code",
   "execution_count": 10,
   "metadata": {},
   "outputs": [],
   "source": [
    "# Set the figure parameters\n",
    "sns.set_style('whitegrid')\n",
    "from matplotlib.pylab import rcParams\n",
    "rcParams['figure.figsize']=20,10"
   ]
  },
  {
   "cell_type": "code",
   "execution_count": 17,
   "metadata": {},
   "outputs": [],
   "source": [
    "def gen_figure(df, col_name, fig_title, y_axis_title):\n",
    "    ''' This function creates a plotly figure object with the given params. '''\n",
    "    \n",
    "    # Calculate the rank percentage for each state in 2011\n",
    "    df['pct_rank'] = df[df['year'] == 2020][col_name].rank(pct=True)\n",
    "\n",
    "    # Divide states into three groups based on rank percentage\n",
    "    df['group'] = pd.cut(df['pct_rank'], bins=[0, 0.1, 0.45, 0.55, 0.9, 1.0], \n",
    "                         labels=[r'bottom 10%', r'10%-45%', r'45%-55%', r'55%-90%', r'top 10%'])\n",
    "\n",
    "    # Process each state's data individually and store it in a dictionary\n",
    "    states_data = {}\n",
    "    for state, data in df.groupby('state'):\n",
    "        # Sort the data by year\n",
    "        data = data.sort_values('year')\n",
    "        # Construct Plotly's Trace object\n",
    "        trace = go.Scatter(\n",
    "            x=data['year'],\n",
    "            y=data[col_name],\n",
    "            name=state,\n",
    "            line=dict(width=2),\n",
    "            mode='lines',\n",
    "            text=data[col_name],\n",
    "            hovertemplate='<b>%{text:.2f}%</b><brstate: %{name}<br>year: %{x}'\n",
    "        )\n",
    "        # Assign the corresponding color according to which group the state belongs to\n",
    "        if r'bottom 10%' in data['group'].unique():\n",
    "            trace.update(line=dict(color='#750D86'))\n",
    "            states_data[state] = trace\n",
    "\n",
    "        elif r'top 10%' in data['group'].unique():\n",
    "            trace.update(line=dict(color='#FEAF16'))\n",
    "            states_data[state] = trace\n",
    "\n",
    "        elif r'45%-55%' in data['group'].unique():\n",
    "            trace.update(line=dict(color='#00AB8B'))\n",
    "            states_data[state] = trace\n",
    "\n",
    "    # Construct Plotly's Figure object\n",
    "    fig = go.Figure(list(states_data.values()))\n",
    "\n",
    "    # Add a chart title and axis labels\n",
    "    fig.update_layout(title=fig_title,\n",
    "                    title_font_size=24,\n",
    "                    legend_title='States:',\n",
    "                    xaxis_title='Year',\n",
    "                    yaxis_title=y_axis_title,\n",
    "                    width=1000,\n",
    "                    height=600)\n",
    "    return fig"
   ]
  },
  {
   "attachments": {},
   "cell_type": "markdown",
   "metadata": {},
   "source": [
    "### 5.1 State Legislature by Year"
   ]
  },
  {
   "cell_type": "code",
   "execution_count": 18,
   "metadata": {},
   "outputs": [
    {
     "data": {
      "application/vnd.plotly.v1+json": {
       "config": {
        "plotlyServerURL": "https://plot.ly"
       },
       "data": [
        {
         "hovertemplate": "<b>%{text:.2f}%</b><brstate: %{name}<br>year: %{x}",
         "line": {
          "color": "#750D86",
          "width": 2
         },
         "mode": "lines",
         "name": "Alabama",
         "text": [
          0.136,
          0.136,
          0.136,
          0.143,
          0.143,
          0.143,
          0.15,
          0.15,
          0.164,
          0.157
         ],
         "type": "scatter",
         "x": [
          2011,
          2012,
          2013,
          2014,
          2015,
          2016,
          2017,
          2018,
          2019,
          2020
         ],
         "y": [
          0.136,
          0.136,
          0.136,
          0.143,
          0.143,
          0.143,
          0.15,
          0.15,
          0.164,
          0.157
         ]
        },
        {
         "hovertemplate": "<b>%{text:.2f}%</b><brstate: %{name}<br>year: %{x}",
         "line": {
          "color": "#FEAF16",
          "width": 2
         },
         "mode": "lines",
         "name": "Colorado",
         "text": [
          0.41,
          0.4,
          0.41,
          0.41,
          0.42,
          0.42,
          0.37,
          0.38,
          0.46,
          0.44
         ],
         "type": "scatter",
         "x": [
          2011,
          2012,
          2013,
          2014,
          2015,
          2016,
          2017,
          2018,
          2019,
          2020
         ],
         "y": [
          0.41,
          0.4,
          0.41,
          0.41,
          0.42,
          0.42,
          0.37,
          0.38,
          0.46,
          0.44
         ]
        },
        {
         "hovertemplate": "<b>%{text:.2f}%</b><brstate: %{name}<br>year: %{x}",
         "line": {
          "color": "#00AB8B",
          "width": 2
         },
         "mode": "lines",
         "name": "Florida",
         "text": [
          0.256,
          0.256,
          0.256,
          0.256,
          0.25,
          0.25,
          0.25,
          0.256,
          0.3,
          0.294
         ],
         "type": "scatter",
         "x": [
          2011,
          2012,
          2013,
          2014,
          2015,
          2016,
          2017,
          2018,
          2019,
          2020
         ],
         "y": [
          0.256,
          0.256,
          0.256,
          0.256,
          0.25,
          0.25,
          0.25,
          0.256,
          0.3,
          0.294
         ]
        },
        {
         "hovertemplate": "<b>%{text:.2f}%</b><brstate: %{name}<br>year: %{x}",
         "line": {
          "color": "#00AB8B",
          "width": 2
         },
         "mode": "lines",
         "name": "Iowa",
         "text": [
          0.213,
          0.213,
          0.233,
          0.233,
          0.227,
          0.227,
          0.227,
          0.233,
          0.293,
          0.293
         ],
         "type": "scatter",
         "x": [
          2011,
          2012,
          2013,
          2014,
          2015,
          2016,
          2017,
          2018,
          2019,
          2020
         ],
         "y": [
          0.213,
          0.213,
          0.233,
          0.233,
          0.227,
          0.227,
          0.227,
          0.233,
          0.293,
          0.293
         ]
        },
        {
         "hovertemplate": "<b>%{text:.2f}%</b><brstate: %{name}<br>year: %{x}",
         "line": {
          "color": "#00AB8B",
          "width": 2
         },
         "mode": "lines",
         "name": "Kansas",
         "text": [
          0.273,
          0.273,
          0.236,
          0.255,
          0.242,
          0.242,
          0.285,
          0.285,
          0.279,
          0.291
         ],
         "type": "scatter",
         "x": [
          2011,
          2012,
          2013,
          2014,
          2015,
          2016,
          2017,
          2018,
          2019,
          2020
         ],
         "y": [
          0.273,
          0.273,
          0.236,
          0.255,
          0.242,
          0.242,
          0.285,
          0.285,
          0.279,
          0.291
         ]
        },
        {
         "hovertemplate": "<b>%{text:.2f}%</b><brstate: %{name}<br>year: %{x}",
         "line": {
          "color": "#00AB8B",
          "width": 2
         },
         "mode": "lines",
         "name": "Massachusetts",
         "text": [
          0.245,
          0.245,
          0.255,
          0.25,
          0.25,
          0.25,
          0.255,
          0.245,
          0.285,
          0.29
         ],
         "type": "scatter",
         "x": [
          2011,
          2012,
          2013,
          2014,
          2015,
          2016,
          2017,
          2018,
          2019,
          2020
         ],
         "y": [
          0.245,
          0.245,
          0.255,
          0.25,
          0.25,
          0.25,
          0.255,
          0.245,
          0.285,
          0.29
         ]
        },
        {
         "hovertemplate": "<b>%{text:.2f}%</b><brstate: %{name}<br>year: %{x}",
         "line": {
          "color": "#750D86",
          "width": 2
         },
         "mode": "lines",
         "name": "Mississippi",
         "text": [
          0.149,
          0.161,
          0.178,
          0.172,
          0.167,
          0.138,
          0.149,
          0.144,
          0.138,
          0.161
         ],
         "type": "scatter",
         "x": [
          2011,
          2012,
          2013,
          2014,
          2015,
          2016,
          2017,
          2018,
          2019,
          2020
         ],
         "y": [
          0.149,
          0.161,
          0.178,
          0.172,
          0.167,
          0.138,
          0.149,
          0.144,
          0.138,
          0.161
         ]
        },
        {
         "hovertemplate": "<b>%{text:.2f}%</b><brstate: %{name}<br>year: %{x}",
         "line": {
          "color": "#FEAF16",
          "width": 2
         },
         "mode": "lines",
         "name": "Nevada",
         "text": [
          0.286,
          0.254,
          0.286,
          0.27,
          0.317,
          0.317,
          0.397,
          0.397,
          0.524,
          0.54
         ],
         "type": "scatter",
         "x": [
          2011,
          2012,
          2013,
          2014,
          2015,
          2016,
          2017,
          2018,
          2019,
          2020
         ],
         "y": [
          0.286,
          0.254,
          0.286,
          0.27,
          0.317,
          0.317,
          0.397,
          0.397,
          0.524,
          0.54
         ]
        },
        {
         "hovertemplate": "<b>%{text:.2f}%</b><brstate: %{name}<br>year: %{x}",
         "line": {
          "color": "#FEAF16",
          "width": 2
         },
         "mode": "lines",
         "name": "Oregon",
         "text": [
          0.278,
          0.289,
          0.278,
          0.311,
          0.311,
          0.311,
          0.333,
          0.333,
          0.422,
          0.433
         ],
         "type": "scatter",
         "x": [
          2011,
          2012,
          2013,
          2014,
          2015,
          2016,
          2017,
          2018,
          2019,
          2020
         ],
         "y": [
          0.278,
          0.289,
          0.278,
          0.311,
          0.311,
          0.311,
          0.333,
          0.333,
          0.422,
          0.433
         ]
        },
        {
         "hovertemplate": "<b>%{text:.2f}%</b><brstate: %{name}<br>year: %{x}",
         "line": {
          "color": "#750D86",
          "width": 2
         },
         "mode": "lines",
         "name": "Tennessee",
         "text": [
          0.182,
          0.182,
          0.167,
          0.167,
          0.174,
          0.167,
          0.159,
          0.159,
          0.152,
          0.152
         ],
         "type": "scatter",
         "x": [
          2011,
          2012,
          2013,
          2014,
          2015,
          2016,
          2017,
          2018,
          2019,
          2020
         ],
         "y": [
          0.182,
          0.182,
          0.167,
          0.167,
          0.174,
          0.167,
          0.159,
          0.159,
          0.152,
          0.152
         ]
        },
        {
         "hovertemplate": "<b>%{text:.2f}%</b><brstate: %{name}<br>year: %{x}",
         "line": {
          "color": "#FEAF16",
          "width": 2
         },
         "mode": "lines",
         "name": "Vermont",
         "text": [
          0.383,
          0.389,
          0.411,
          0.394,
          0.411,
          0.411,
          0.4,
          0.394,
          0.4,
          0.406
         ],
         "type": "scatter",
         "x": [
          2011,
          2012,
          2013,
          2014,
          2015,
          2016,
          2017,
          2018,
          2019,
          2020
         ],
         "y": [
          0.383,
          0.389,
          0.411,
          0.394,
          0.411,
          0.411,
          0.4,
          0.394,
          0.4,
          0.406
         ]
        },
        {
         "hovertemplate": "<b>%{text:.2f}%</b><brstate: %{name}<br>year: %{x}",
         "line": {
          "color": "#FEAF16",
          "width": 2
         },
         "mode": "lines",
         "name": "Washington",
         "text": [
          0.32,
          0.32,
          0.32,
          0.327,
          0.34,
          0.333,
          0.374,
          0.374,
          0.401,
          0.408
         ],
         "type": "scatter",
         "x": [
          2011,
          2012,
          2013,
          2014,
          2015,
          2016,
          2017,
          2018,
          2019,
          2020
         ],
         "y": [
          0.32,
          0.32,
          0.32,
          0.327,
          0.34,
          0.333,
          0.374,
          0.374,
          0.401,
          0.408
         ]
        },
        {
         "hovertemplate": "<b>%{text:.2f}%</b><brstate: %{name}<br>year: %{x}",
         "line": {
          "color": "#750D86",
          "width": 2
         },
         "mode": "lines",
         "name": "West Virginia",
         "text": [
          0.179,
          0.179,
          0.164,
          0.164,
          0.149,
          0.149,
          0.134,
          0.149,
          0.134,
          0.142
         ],
         "type": "scatter",
         "x": [
          2011,
          2012,
          2013,
          2014,
          2015,
          2016,
          2017,
          2018,
          2019,
          2020
         ],
         "y": [
          0.179,
          0.179,
          0.164,
          0.164,
          0.149,
          0.149,
          0.134,
          0.149,
          0.134,
          0.142
         ]
        },
        {
         "hovertemplate": "<b>%{text:.2f}%</b><brstate: %{name}<br>year: %{x}",
         "line": {
          "color": "#750D86",
          "width": 2
         },
         "mode": "lines",
         "name": "Wyoming",
         "text": [
          0.144,
          0.156,
          0.167,
          0.156,
          0.133,
          0.133,
          0.111,
          0.111,
          0.156,
          0.156
         ],
         "type": "scatter",
         "x": [
          2011,
          2012,
          2013,
          2014,
          2015,
          2016,
          2017,
          2018,
          2019,
          2020
         ],
         "y": [
          0.144,
          0.156,
          0.167,
          0.156,
          0.133,
          0.133,
          0.111,
          0.111,
          0.156,
          0.156
         ]
        }
       ],
       "layout": {
        "height": 600,
        "legend": {
         "title": {
          "text": "States:"
         }
        },
        "template": {
         "data": {
          "bar": [
           {
            "error_x": {
             "color": "#2a3f5f"
            },
            "error_y": {
             "color": "#2a3f5f"
            },
            "marker": {
             "line": {
              "color": "#E5ECF6",
              "width": 0.5
             },
             "pattern": {
              "fillmode": "overlay",
              "size": 10,
              "solidity": 0.2
             }
            },
            "type": "bar"
           }
          ],
          "barpolar": [
           {
            "marker": {
             "line": {
              "color": "#E5ECF6",
              "width": 0.5
             },
             "pattern": {
              "fillmode": "overlay",
              "size": 10,
              "solidity": 0.2
             }
            },
            "type": "barpolar"
           }
          ],
          "carpet": [
           {
            "aaxis": {
             "endlinecolor": "#2a3f5f",
             "gridcolor": "white",
             "linecolor": "white",
             "minorgridcolor": "white",
             "startlinecolor": "#2a3f5f"
            },
            "baxis": {
             "endlinecolor": "#2a3f5f",
             "gridcolor": "white",
             "linecolor": "white",
             "minorgridcolor": "white",
             "startlinecolor": "#2a3f5f"
            },
            "type": "carpet"
           }
          ],
          "choropleth": [
           {
            "colorbar": {
             "outlinewidth": 0,
             "ticks": ""
            },
            "type": "choropleth"
           }
          ],
          "contour": [
           {
            "colorbar": {
             "outlinewidth": 0,
             "ticks": ""
            },
            "colorscale": [
             [
              0,
              "#0d0887"
             ],
             [
              0.1111111111111111,
              "#46039f"
             ],
             [
              0.2222222222222222,
              "#7201a8"
             ],
             [
              0.3333333333333333,
              "#9c179e"
             ],
             [
              0.4444444444444444,
              "#bd3786"
             ],
             [
              0.5555555555555556,
              "#d8576b"
             ],
             [
              0.6666666666666666,
              "#ed7953"
             ],
             [
              0.7777777777777778,
              "#fb9f3a"
             ],
             [
              0.8888888888888888,
              "#fdca26"
             ],
             [
              1,
              "#f0f921"
             ]
            ],
            "type": "contour"
           }
          ],
          "contourcarpet": [
           {
            "colorbar": {
             "outlinewidth": 0,
             "ticks": ""
            },
            "type": "contourcarpet"
           }
          ],
          "heatmap": [
           {
            "colorbar": {
             "outlinewidth": 0,
             "ticks": ""
            },
            "colorscale": [
             [
              0,
              "#0d0887"
             ],
             [
              0.1111111111111111,
              "#46039f"
             ],
             [
              0.2222222222222222,
              "#7201a8"
             ],
             [
              0.3333333333333333,
              "#9c179e"
             ],
             [
              0.4444444444444444,
              "#bd3786"
             ],
             [
              0.5555555555555556,
              "#d8576b"
             ],
             [
              0.6666666666666666,
              "#ed7953"
             ],
             [
              0.7777777777777778,
              "#fb9f3a"
             ],
             [
              0.8888888888888888,
              "#fdca26"
             ],
             [
              1,
              "#f0f921"
             ]
            ],
            "type": "heatmap"
           }
          ],
          "heatmapgl": [
           {
            "colorbar": {
             "outlinewidth": 0,
             "ticks": ""
            },
            "colorscale": [
             [
              0,
              "#0d0887"
             ],
             [
              0.1111111111111111,
              "#46039f"
             ],
             [
              0.2222222222222222,
              "#7201a8"
             ],
             [
              0.3333333333333333,
              "#9c179e"
             ],
             [
              0.4444444444444444,
              "#bd3786"
             ],
             [
              0.5555555555555556,
              "#d8576b"
             ],
             [
              0.6666666666666666,
              "#ed7953"
             ],
             [
              0.7777777777777778,
              "#fb9f3a"
             ],
             [
              0.8888888888888888,
              "#fdca26"
             ],
             [
              1,
              "#f0f921"
             ]
            ],
            "type": "heatmapgl"
           }
          ],
          "histogram": [
           {
            "marker": {
             "pattern": {
              "fillmode": "overlay",
              "size": 10,
              "solidity": 0.2
             }
            },
            "type": "histogram"
           }
          ],
          "histogram2d": [
           {
            "colorbar": {
             "outlinewidth": 0,
             "ticks": ""
            },
            "colorscale": [
             [
              0,
              "#0d0887"
             ],
             [
              0.1111111111111111,
              "#46039f"
             ],
             [
              0.2222222222222222,
              "#7201a8"
             ],
             [
              0.3333333333333333,
              "#9c179e"
             ],
             [
              0.4444444444444444,
              "#bd3786"
             ],
             [
              0.5555555555555556,
              "#d8576b"
             ],
             [
              0.6666666666666666,
              "#ed7953"
             ],
             [
              0.7777777777777778,
              "#fb9f3a"
             ],
             [
              0.8888888888888888,
              "#fdca26"
             ],
             [
              1,
              "#f0f921"
             ]
            ],
            "type": "histogram2d"
           }
          ],
          "histogram2dcontour": [
           {
            "colorbar": {
             "outlinewidth": 0,
             "ticks": ""
            },
            "colorscale": [
             [
              0,
              "#0d0887"
             ],
             [
              0.1111111111111111,
              "#46039f"
             ],
             [
              0.2222222222222222,
              "#7201a8"
             ],
             [
              0.3333333333333333,
              "#9c179e"
             ],
             [
              0.4444444444444444,
              "#bd3786"
             ],
             [
              0.5555555555555556,
              "#d8576b"
             ],
             [
              0.6666666666666666,
              "#ed7953"
             ],
             [
              0.7777777777777778,
              "#fb9f3a"
             ],
             [
              0.8888888888888888,
              "#fdca26"
             ],
             [
              1,
              "#f0f921"
             ]
            ],
            "type": "histogram2dcontour"
           }
          ],
          "mesh3d": [
           {
            "colorbar": {
             "outlinewidth": 0,
             "ticks": ""
            },
            "type": "mesh3d"
           }
          ],
          "parcoords": [
           {
            "line": {
             "colorbar": {
              "outlinewidth": 0,
              "ticks": ""
             }
            },
            "type": "parcoords"
           }
          ],
          "pie": [
           {
            "automargin": true,
            "type": "pie"
           }
          ],
          "scatter": [
           {
            "marker": {
             "colorbar": {
              "outlinewidth": 0,
              "ticks": ""
             }
            },
            "type": "scatter"
           }
          ],
          "scatter3d": [
           {
            "line": {
             "colorbar": {
              "outlinewidth": 0,
              "ticks": ""
             }
            },
            "marker": {
             "colorbar": {
              "outlinewidth": 0,
              "ticks": ""
             }
            },
            "type": "scatter3d"
           }
          ],
          "scattercarpet": [
           {
            "marker": {
             "colorbar": {
              "outlinewidth": 0,
              "ticks": ""
             }
            },
            "type": "scattercarpet"
           }
          ],
          "scattergeo": [
           {
            "marker": {
             "colorbar": {
              "outlinewidth": 0,
              "ticks": ""
             }
            },
            "type": "scattergeo"
           }
          ],
          "scattergl": [
           {
            "marker": {
             "colorbar": {
              "outlinewidth": 0,
              "ticks": ""
             }
            },
            "type": "scattergl"
           }
          ],
          "scattermapbox": [
           {
            "marker": {
             "colorbar": {
              "outlinewidth": 0,
              "ticks": ""
             }
            },
            "type": "scattermapbox"
           }
          ],
          "scatterpolar": [
           {
            "marker": {
             "colorbar": {
              "outlinewidth": 0,
              "ticks": ""
             }
            },
            "type": "scatterpolar"
           }
          ],
          "scatterpolargl": [
           {
            "marker": {
             "colorbar": {
              "outlinewidth": 0,
              "ticks": ""
             }
            },
            "type": "scatterpolargl"
           }
          ],
          "scatterternary": [
           {
            "marker": {
             "colorbar": {
              "outlinewidth": 0,
              "ticks": ""
             }
            },
            "type": "scatterternary"
           }
          ],
          "surface": [
           {
            "colorbar": {
             "outlinewidth": 0,
             "ticks": ""
            },
            "colorscale": [
             [
              0,
              "#0d0887"
             ],
             [
              0.1111111111111111,
              "#46039f"
             ],
             [
              0.2222222222222222,
              "#7201a8"
             ],
             [
              0.3333333333333333,
              "#9c179e"
             ],
             [
              0.4444444444444444,
              "#bd3786"
             ],
             [
              0.5555555555555556,
              "#d8576b"
             ],
             [
              0.6666666666666666,
              "#ed7953"
             ],
             [
              0.7777777777777778,
              "#fb9f3a"
             ],
             [
              0.8888888888888888,
              "#fdca26"
             ],
             [
              1,
              "#f0f921"
             ]
            ],
            "type": "surface"
           }
          ],
          "table": [
           {
            "cells": {
             "fill": {
              "color": "#EBF0F8"
             },
             "line": {
              "color": "white"
             }
            },
            "header": {
             "fill": {
              "color": "#C8D4E3"
             },
             "line": {
              "color": "white"
             }
            },
            "type": "table"
           }
          ]
         },
         "layout": {
          "annotationdefaults": {
           "arrowcolor": "#2a3f5f",
           "arrowhead": 0,
           "arrowwidth": 1
          },
          "autotypenumbers": "strict",
          "coloraxis": {
           "colorbar": {
            "outlinewidth": 0,
            "ticks": ""
           }
          },
          "colorscale": {
           "diverging": [
            [
             0,
             "#8e0152"
            ],
            [
             0.1,
             "#c51b7d"
            ],
            [
             0.2,
             "#de77ae"
            ],
            [
             0.3,
             "#f1b6da"
            ],
            [
             0.4,
             "#fde0ef"
            ],
            [
             0.5,
             "#f7f7f7"
            ],
            [
             0.6,
             "#e6f5d0"
            ],
            [
             0.7,
             "#b8e186"
            ],
            [
             0.8,
             "#7fbc41"
            ],
            [
             0.9,
             "#4d9221"
            ],
            [
             1,
             "#276419"
            ]
           ],
           "sequential": [
            [
             0,
             "#0d0887"
            ],
            [
             0.1111111111111111,
             "#46039f"
            ],
            [
             0.2222222222222222,
             "#7201a8"
            ],
            [
             0.3333333333333333,
             "#9c179e"
            ],
            [
             0.4444444444444444,
             "#bd3786"
            ],
            [
             0.5555555555555556,
             "#d8576b"
            ],
            [
             0.6666666666666666,
             "#ed7953"
            ],
            [
             0.7777777777777778,
             "#fb9f3a"
            ],
            [
             0.8888888888888888,
             "#fdca26"
            ],
            [
             1,
             "#f0f921"
            ]
           ],
           "sequentialminus": [
            [
             0,
             "#0d0887"
            ],
            [
             0.1111111111111111,
             "#46039f"
            ],
            [
             0.2222222222222222,
             "#7201a8"
            ],
            [
             0.3333333333333333,
             "#9c179e"
            ],
            [
             0.4444444444444444,
             "#bd3786"
            ],
            [
             0.5555555555555556,
             "#d8576b"
            ],
            [
             0.6666666666666666,
             "#ed7953"
            ],
            [
             0.7777777777777778,
             "#fb9f3a"
            ],
            [
             0.8888888888888888,
             "#fdca26"
            ],
            [
             1,
             "#f0f921"
            ]
           ]
          },
          "colorway": [
           "#636efa",
           "#EF553B",
           "#00cc96",
           "#ab63fa",
           "#FFA15A",
           "#19d3f3",
           "#FF6692",
           "#B6E880",
           "#FF97FF",
           "#FECB52"
          ],
          "font": {
           "color": "#2a3f5f"
          },
          "geo": {
           "bgcolor": "white",
           "lakecolor": "white",
           "landcolor": "#E5ECF6",
           "showlakes": true,
           "showland": true,
           "subunitcolor": "white"
          },
          "hoverlabel": {
           "align": "left"
          },
          "hovermode": "closest",
          "mapbox": {
           "style": "light"
          },
          "paper_bgcolor": "white",
          "plot_bgcolor": "#E5ECF6",
          "polar": {
           "angularaxis": {
            "gridcolor": "white",
            "linecolor": "white",
            "ticks": ""
           },
           "bgcolor": "#E5ECF6",
           "radialaxis": {
            "gridcolor": "white",
            "linecolor": "white",
            "ticks": ""
           }
          },
          "scene": {
           "xaxis": {
            "backgroundcolor": "#E5ECF6",
            "gridcolor": "white",
            "gridwidth": 2,
            "linecolor": "white",
            "showbackground": true,
            "ticks": "",
            "zerolinecolor": "white"
           },
           "yaxis": {
            "backgroundcolor": "#E5ECF6",
            "gridcolor": "white",
            "gridwidth": 2,
            "linecolor": "white",
            "showbackground": true,
            "ticks": "",
            "zerolinecolor": "white"
           },
           "zaxis": {
            "backgroundcolor": "#E5ECF6",
            "gridcolor": "white",
            "gridwidth": 2,
            "linecolor": "white",
            "showbackground": true,
            "ticks": "",
            "zerolinecolor": "white"
           }
          },
          "shapedefaults": {
           "line": {
            "color": "#2a3f5f"
           }
          },
          "ternary": {
           "aaxis": {
            "gridcolor": "white",
            "linecolor": "white",
            "ticks": ""
           },
           "baxis": {
            "gridcolor": "white",
            "linecolor": "white",
            "ticks": ""
           },
           "bgcolor": "#E5ECF6",
           "caxis": {
            "gridcolor": "white",
            "linecolor": "white",
            "ticks": ""
           }
          },
          "title": {
           "x": 0.05
          },
          "xaxis": {
           "automargin": true,
           "gridcolor": "white",
           "linecolor": "white",
           "ticks": "",
           "title": {
            "standoff": 15
           },
           "zerolinecolor": "white",
           "zerolinewidth": 2
          },
          "yaxis": {
           "automargin": true,
           "gridcolor": "white",
           "linecolor": "white",
           "ticks": "",
           "title": {
            "standoff": 15
           },
           "zerolinecolor": "white",
           "zerolinewidth": 2
          }
         }
        },
        "title": {
         "font": {
          "size": 24
         },
         "text": "State Legislature by Year"
        },
        "width": 1000,
        "xaxis": {
         "title": {
          "text": "Year"
         }
        },
        "yaxis": {
         "title": {
          "text": "Female Proportion in State Legislature"
         }
        }
       }
      }
     },
     "metadata": {},
     "output_type": "display_data"
    }
   ],
   "source": [
    "gen_figure(data_df, 'state_legislature', 'State Legislature by Year', 'Female Proportion in State Legislature').show()"
   ]
  },
  {
   "attachments": {},
   "cell_type": "markdown",
   "metadata": {},
   "source": [
    "<h4> State legislature</h4>\n",
    "\n",
    "* Proportion of women in legislature.\n",
    "* In general, the trend is steady before 2018, with a slight increase after.\n",
    "    * Colorado: stays the top 1 in female proportion in state legislature. 2018-2019 shows a sharp increase.\n",
    "    * Hawaii: moved from the top 10% to the middle range (45%-55%)\n",
    "    * Alaska: moved from the last in the middle range to the top 10% range\n",
    "    * Oklahoma: shows a sharp increase from 2018-2019."
   ]
  },
  {
   "attachments": {},
   "cell_type": "markdown",
   "metadata": {},
   "source": [
    "### 5.2 Management Job Wage Gap by Year"
   ]
  },
  {
   "cell_type": "code",
   "execution_count": 19,
   "metadata": {},
   "outputs": [
    {
     "data": {
      "application/vnd.plotly.v1+json": {
       "config": {
        "plotlyServerURL": "https://plot.ly"
       },
       "data": [
        {
         "hovertemplate": "<b>%{text:.2f}%</b><brstate: %{name}<br>year: %{x}",
         "line": {
          "color": "#750D86",
          "width": 2
         },
         "mode": "lines",
         "name": "Alabama",
         "text": [
          0.633,
          0.648,
          0.658,
          0.643,
          0.639,
          0.658,
          0.644,
          0.632,
          0.623,
          0.64
         ],
         "type": "scatter",
         "x": [
          2011,
          2012,
          2013,
          2014,
          2015,
          2016,
          2017,
          2018,
          2019,
          2020
         ],
         "y": [
          0.633,
          0.648,
          0.658,
          0.643,
          0.639,
          0.658,
          0.644,
          0.632,
          0.623,
          0.64
         ]
        },
        {
         "hovertemplate": "<b>%{text:.2f}%</b><brstate: %{name}<br>year: %{x}",
         "line": {
          "color": "#00AB8B",
          "width": 2
         },
         "mode": "lines",
         "name": "Florida",
         "text": [
          0.731,
          0.738,
          0.728,
          0.726,
          0.739,
          0.734,
          0.734,
          0.741,
          0.724,
          0.718
         ],
         "type": "scatter",
         "x": [
          2011,
          2012,
          2013,
          2014,
          2015,
          2016,
          2017,
          2018,
          2019,
          2020
         ],
         "y": [
          0.731,
          0.738,
          0.728,
          0.726,
          0.739,
          0.734,
          0.734,
          0.741,
          0.724,
          0.718
         ]
        },
        {
         "hovertemplate": "<b>%{text:.2f}%</b><brstate: %{name}<br>year: %{x}",
         "line": {
          "color": "#750D86",
          "width": 2
         },
         "mode": "lines",
         "name": "Idaho",
         "text": [
          0.638,
          0.632,
          0.658,
          0.638,
          0.641,
          0.643,
          0.655,
          0.661,
          0.635,
          0.628
         ],
         "type": "scatter",
         "x": [
          2011,
          2012,
          2013,
          2014,
          2015,
          2016,
          2017,
          2018,
          2019,
          2020
         ],
         "y": [
          0.638,
          0.632,
          0.658,
          0.638,
          0.641,
          0.643,
          0.655,
          0.661,
          0.635,
          0.628
         ]
        },
        {
         "hovertemplate": "<b>%{text:.2f}%</b><brstate: %{name}<br>year: %{x}",
         "line": {
          "color": "#00AB8B",
          "width": 2
         },
         "mode": "lines",
         "name": "Iowa",
         "text": [
          0.728,
          0.714,
          0.725,
          0.719,
          0.718,
          0.727,
          0.725,
          0.715,
          0.722,
          0.718
         ],
         "type": "scatter",
         "x": [
          2011,
          2012,
          2013,
          2014,
          2015,
          2016,
          2017,
          2018,
          2019,
          2020
         ],
         "y": [
          0.728,
          0.714,
          0.725,
          0.719,
          0.718,
          0.727,
          0.725,
          0.715,
          0.722,
          0.718
         ]
        },
        {
         "hovertemplate": "<b>%{text:.2f}%</b><brstate: %{name}<br>year: %{x}",
         "line": {
          "color": "#00AB8B",
          "width": 2
         },
         "mode": "lines",
         "name": "Kansas",
         "text": [
          0.702,
          0.698,
          0.694,
          0.689,
          0.685,
          0.697,
          0.704,
          0.692,
          0.683,
          0.71
         ],
         "type": "scatter",
         "x": [
          2011,
          2012,
          2013,
          2014,
          2015,
          2016,
          2017,
          2018,
          2019,
          2020
         ],
         "y": [
          0.702,
          0.698,
          0.694,
          0.689,
          0.685,
          0.697,
          0.704,
          0.692,
          0.683,
          0.71
         ]
        },
        {
         "hovertemplate": "<b>%{text:.2f}%</b><brstate: %{name}<br>year: %{x}",
         "line": {
          "color": "#00AB8B",
          "width": 2
         },
         "mode": "lines",
         "name": "Kentucky",
         "text": [
          0.705,
          0.726,
          0.719,
          0.712,
          0.705,
          0.707,
          0.719,
          0.716,
          0.721,
          0.708
         ],
         "type": "scatter",
         "x": [
          2011,
          2012,
          2013,
          2014,
          2015,
          2016,
          2017,
          2018,
          2019,
          2020
         ],
         "y": [
          0.705,
          0.726,
          0.719,
          0.712,
          0.705,
          0.707,
          0.719,
          0.716,
          0.721,
          0.708
         ]
        },
        {
         "hovertemplate": "<b>%{text:.2f}%</b><brstate: %{name}<br>year: %{x}",
         "line": {
          "color": "#750D86",
          "width": 2
         },
         "mode": "lines",
         "name": "Louisiana",
         "text": [
          0.648,
          0.644,
          0.631,
          0.639,
          0.626,
          0.648,
          0.644,
          0.636,
          0.657,
          0.637
         ],
         "type": "scatter",
         "x": [
          2011,
          2012,
          2013,
          2014,
          2015,
          2016,
          2017,
          2018,
          2019,
          2020
         ],
         "y": [
          0.648,
          0.644,
          0.631,
          0.639,
          0.626,
          0.648,
          0.644,
          0.636,
          0.657,
          0.637
         ]
        },
        {
         "hovertemplate": "<b>%{text:.2f}%</b><brstate: %{name}<br>year: %{x}",
         "line": {
          "color": "#FEAF16",
          "width": 2
         },
         "mode": "lines",
         "name": "New Mexico",
         "text": [
          0.765,
          0.774,
          0.765,
          0.751,
          0.774,
          0.769,
          0.765,
          0.753,
          0.754,
          0.78
         ],
         "type": "scatter",
         "x": [
          2011,
          2012,
          2013,
          2014,
          2015,
          2016,
          2017,
          2018,
          2019,
          2020
         ],
         "y": [
          0.765,
          0.774,
          0.765,
          0.751,
          0.774,
          0.769,
          0.765,
          0.753,
          0.754,
          0.78
         ]
        },
        {
         "hovertemplate": "<b>%{text:.2f}%</b><brstate: %{name}<br>year: %{x}",
         "line": {
          "color": "#FEAF16",
          "width": 2
         },
         "mode": "lines",
         "name": "New York",
         "text": [
          0.778,
          0.775,
          0.771,
          0.769,
          0.765,
          0.773,
          0.778,
          0.765,
          0.758,
          0.782
         ],
         "type": "scatter",
         "x": [
          2011,
          2012,
          2013,
          2014,
          2015,
          2016,
          2017,
          2018,
          2019,
          2020
         ],
         "y": [
          0.778,
          0.775,
          0.771,
          0.769,
          0.765,
          0.773,
          0.778,
          0.765,
          0.758,
          0.782
         ]
        },
        {
         "hovertemplate": "<b>%{text:.2f}%</b><brstate: %{name}<br>year: %{x}",
         "line": {
          "color": "#FEAF16",
          "width": 2
         },
         "mode": "lines",
         "name": "Oregon",
         "text": [
          0.704,
          0.698,
          0.696,
          0.693,
          0.701,
          0.703,
          0.697,
          0.691,
          0.708,
          0.79
         ],
         "type": "scatter",
         "x": [
          2011,
          2012,
          2013,
          2014,
          2015,
          2016,
          2017,
          2018,
          2019,
          2020
         ],
         "y": [
          0.704,
          0.698,
          0.696,
          0.693,
          0.701,
          0.703,
          0.697,
          0.691,
          0.708,
          0.79
         ]
        },
        {
         "hovertemplate": "<b>%{text:.2f}%</b><brstate: %{name}<br>year: %{x}",
         "line": {
          "color": "#FEAF16",
          "width": 2
         },
         "mode": "lines",
         "name": "South Dakota",
         "text": [
          0.768,
          0.751,
          0.754,
          0.769,
          0.762,
          0.759,
          0.754,
          0.764,
          0.746,
          0.782
         ],
         "type": "scatter",
         "x": [
          2011,
          2012,
          2013,
          2014,
          2015,
          2016,
          2017,
          2018,
          2019,
          2020
         ],
         "y": [
          0.768,
          0.751,
          0.754,
          0.769,
          0.762,
          0.759,
          0.754,
          0.764,
          0.746,
          0.782
         ]
        },
        {
         "hovertemplate": "<b>%{text:.2f}%</b><brstate: %{name}<br>year: %{x}",
         "line": {
          "color": "#750D86",
          "width": 2
         },
         "mode": "lines",
         "name": "Utah",
         "text": [
          0.584,
          0.586,
          0.593,
          0.587,
          0.584,
          0.579,
          0.578,
          0.568,
          0.568,
          0.62
         ],
         "type": "scatter",
         "x": [
          2011,
          2012,
          2013,
          2014,
          2015,
          2016,
          2017,
          2018,
          2019,
          2020
         ],
         "y": [
          0.584,
          0.586,
          0.593,
          0.587,
          0.584,
          0.579,
          0.578,
          0.568,
          0.568,
          0.62
         ]
        },
        {
         "hovertemplate": "<b>%{text:.2f}%</b><brstate: %{name}<br>year: %{x}",
         "line": {
          "color": "#FEAF16",
          "width": 2
         },
         "mode": "lines",
         "name": "Vermont",
         "text": [
          0.794,
          0.805,
          0.801,
          0.796,
          0.793,
          0.789,
          0.786,
          0.776,
          0.767,
          0.812
         ],
         "type": "scatter",
         "x": [
          2011,
          2012,
          2013,
          2014,
          2015,
          2016,
          2017,
          2018,
          2019,
          2020
         ],
         "y": [
          0.794,
          0.805,
          0.801,
          0.796,
          0.793,
          0.789,
          0.786,
          0.776,
          0.767,
          0.812
         ]
        },
        {
         "hovertemplate": "<b>%{text:.2f}%</b><brstate: %{name}<br>year: %{x}",
         "line": {
          "color": "#750D86",
          "width": 2
         },
         "mode": "lines",
         "name": "Virginia",
         "text": [
          0.651,
          0.648,
          0.654,
          0.635,
          0.647,
          0.644,
          0.642,
          0.643,
          0.647,
          0.659
         ],
         "type": "scatter",
         "x": [
          2011,
          2012,
          2013,
          2014,
          2015,
          2016,
          2017,
          2018,
          2019,
          2020
         ],
         "y": [
          0.651,
          0.648,
          0.654,
          0.635,
          0.647,
          0.644,
          0.642,
          0.643,
          0.647,
          0.659
         ]
        },
        {
         "hovertemplate": "<b>%{text:.2f}%</b><brstate: %{name}<br>year: %{x}",
         "line": {
          "color": "#00AB8B",
          "width": 2
         },
         "mode": "lines",
         "name": "Wyoming",
         "text": [
          0.726,
          0.705,
          0.719,
          0.712,
          0.705,
          0.707,
          0.719,
          0.716,
          0.721,
          0.718
         ],
         "type": "scatter",
         "x": [
          2011,
          2012,
          2013,
          2014,
          2015,
          2016,
          2017,
          2018,
          2019,
          2020
         ],
         "y": [
          0.726,
          0.705,
          0.719,
          0.712,
          0.705,
          0.707,
          0.719,
          0.716,
          0.721,
          0.718
         ]
        }
       ],
       "layout": {
        "height": 600,
        "legend": {
         "title": {
          "text": "States:"
         }
        },
        "template": {
         "data": {
          "bar": [
           {
            "error_x": {
             "color": "#2a3f5f"
            },
            "error_y": {
             "color": "#2a3f5f"
            },
            "marker": {
             "line": {
              "color": "#E5ECF6",
              "width": 0.5
             },
             "pattern": {
              "fillmode": "overlay",
              "size": 10,
              "solidity": 0.2
             }
            },
            "type": "bar"
           }
          ],
          "barpolar": [
           {
            "marker": {
             "line": {
              "color": "#E5ECF6",
              "width": 0.5
             },
             "pattern": {
              "fillmode": "overlay",
              "size": 10,
              "solidity": 0.2
             }
            },
            "type": "barpolar"
           }
          ],
          "carpet": [
           {
            "aaxis": {
             "endlinecolor": "#2a3f5f",
             "gridcolor": "white",
             "linecolor": "white",
             "minorgridcolor": "white",
             "startlinecolor": "#2a3f5f"
            },
            "baxis": {
             "endlinecolor": "#2a3f5f",
             "gridcolor": "white",
             "linecolor": "white",
             "minorgridcolor": "white",
             "startlinecolor": "#2a3f5f"
            },
            "type": "carpet"
           }
          ],
          "choropleth": [
           {
            "colorbar": {
             "outlinewidth": 0,
             "ticks": ""
            },
            "type": "choropleth"
           }
          ],
          "contour": [
           {
            "colorbar": {
             "outlinewidth": 0,
             "ticks": ""
            },
            "colorscale": [
             [
              0,
              "#0d0887"
             ],
             [
              0.1111111111111111,
              "#46039f"
             ],
             [
              0.2222222222222222,
              "#7201a8"
             ],
             [
              0.3333333333333333,
              "#9c179e"
             ],
             [
              0.4444444444444444,
              "#bd3786"
             ],
             [
              0.5555555555555556,
              "#d8576b"
             ],
             [
              0.6666666666666666,
              "#ed7953"
             ],
             [
              0.7777777777777778,
              "#fb9f3a"
             ],
             [
              0.8888888888888888,
              "#fdca26"
             ],
             [
              1,
              "#f0f921"
             ]
            ],
            "type": "contour"
           }
          ],
          "contourcarpet": [
           {
            "colorbar": {
             "outlinewidth": 0,
             "ticks": ""
            },
            "type": "contourcarpet"
           }
          ],
          "heatmap": [
           {
            "colorbar": {
             "outlinewidth": 0,
             "ticks": ""
            },
            "colorscale": [
             [
              0,
              "#0d0887"
             ],
             [
              0.1111111111111111,
              "#46039f"
             ],
             [
              0.2222222222222222,
              "#7201a8"
             ],
             [
              0.3333333333333333,
              "#9c179e"
             ],
             [
              0.4444444444444444,
              "#bd3786"
             ],
             [
              0.5555555555555556,
              "#d8576b"
             ],
             [
              0.6666666666666666,
              "#ed7953"
             ],
             [
              0.7777777777777778,
              "#fb9f3a"
             ],
             [
              0.8888888888888888,
              "#fdca26"
             ],
             [
              1,
              "#f0f921"
             ]
            ],
            "type": "heatmap"
           }
          ],
          "heatmapgl": [
           {
            "colorbar": {
             "outlinewidth": 0,
             "ticks": ""
            },
            "colorscale": [
             [
              0,
              "#0d0887"
             ],
             [
              0.1111111111111111,
              "#46039f"
             ],
             [
              0.2222222222222222,
              "#7201a8"
             ],
             [
              0.3333333333333333,
              "#9c179e"
             ],
             [
              0.4444444444444444,
              "#bd3786"
             ],
             [
              0.5555555555555556,
              "#d8576b"
             ],
             [
              0.6666666666666666,
              "#ed7953"
             ],
             [
              0.7777777777777778,
              "#fb9f3a"
             ],
             [
              0.8888888888888888,
              "#fdca26"
             ],
             [
              1,
              "#f0f921"
             ]
            ],
            "type": "heatmapgl"
           }
          ],
          "histogram": [
           {
            "marker": {
             "pattern": {
              "fillmode": "overlay",
              "size": 10,
              "solidity": 0.2
             }
            },
            "type": "histogram"
           }
          ],
          "histogram2d": [
           {
            "colorbar": {
             "outlinewidth": 0,
             "ticks": ""
            },
            "colorscale": [
             [
              0,
              "#0d0887"
             ],
             [
              0.1111111111111111,
              "#46039f"
             ],
             [
              0.2222222222222222,
              "#7201a8"
             ],
             [
              0.3333333333333333,
              "#9c179e"
             ],
             [
              0.4444444444444444,
              "#bd3786"
             ],
             [
              0.5555555555555556,
              "#d8576b"
             ],
             [
              0.6666666666666666,
              "#ed7953"
             ],
             [
              0.7777777777777778,
              "#fb9f3a"
             ],
             [
              0.8888888888888888,
              "#fdca26"
             ],
             [
              1,
              "#f0f921"
             ]
            ],
            "type": "histogram2d"
           }
          ],
          "histogram2dcontour": [
           {
            "colorbar": {
             "outlinewidth": 0,
             "ticks": ""
            },
            "colorscale": [
             [
              0,
              "#0d0887"
             ],
             [
              0.1111111111111111,
              "#46039f"
             ],
             [
              0.2222222222222222,
              "#7201a8"
             ],
             [
              0.3333333333333333,
              "#9c179e"
             ],
             [
              0.4444444444444444,
              "#bd3786"
             ],
             [
              0.5555555555555556,
              "#d8576b"
             ],
             [
              0.6666666666666666,
              "#ed7953"
             ],
             [
              0.7777777777777778,
              "#fb9f3a"
             ],
             [
              0.8888888888888888,
              "#fdca26"
             ],
             [
              1,
              "#f0f921"
             ]
            ],
            "type": "histogram2dcontour"
           }
          ],
          "mesh3d": [
           {
            "colorbar": {
             "outlinewidth": 0,
             "ticks": ""
            },
            "type": "mesh3d"
           }
          ],
          "parcoords": [
           {
            "line": {
             "colorbar": {
              "outlinewidth": 0,
              "ticks": ""
             }
            },
            "type": "parcoords"
           }
          ],
          "pie": [
           {
            "automargin": true,
            "type": "pie"
           }
          ],
          "scatter": [
           {
            "marker": {
             "colorbar": {
              "outlinewidth": 0,
              "ticks": ""
             }
            },
            "type": "scatter"
           }
          ],
          "scatter3d": [
           {
            "line": {
             "colorbar": {
              "outlinewidth": 0,
              "ticks": ""
             }
            },
            "marker": {
             "colorbar": {
              "outlinewidth": 0,
              "ticks": ""
             }
            },
            "type": "scatter3d"
           }
          ],
          "scattercarpet": [
           {
            "marker": {
             "colorbar": {
              "outlinewidth": 0,
              "ticks": ""
             }
            },
            "type": "scattercarpet"
           }
          ],
          "scattergeo": [
           {
            "marker": {
             "colorbar": {
              "outlinewidth": 0,
              "ticks": ""
             }
            },
            "type": "scattergeo"
           }
          ],
          "scattergl": [
           {
            "marker": {
             "colorbar": {
              "outlinewidth": 0,
              "ticks": ""
             }
            },
            "type": "scattergl"
           }
          ],
          "scattermapbox": [
           {
            "marker": {
             "colorbar": {
              "outlinewidth": 0,
              "ticks": ""
             }
            },
            "type": "scattermapbox"
           }
          ],
          "scatterpolar": [
           {
            "marker": {
             "colorbar": {
              "outlinewidth": 0,
              "ticks": ""
             }
            },
            "type": "scatterpolar"
           }
          ],
          "scatterpolargl": [
           {
            "marker": {
             "colorbar": {
              "outlinewidth": 0,
              "ticks": ""
             }
            },
            "type": "scatterpolargl"
           }
          ],
          "scatterternary": [
           {
            "marker": {
             "colorbar": {
              "outlinewidth": 0,
              "ticks": ""
             }
            },
            "type": "scatterternary"
           }
          ],
          "surface": [
           {
            "colorbar": {
             "outlinewidth": 0,
             "ticks": ""
            },
            "colorscale": [
             [
              0,
              "#0d0887"
             ],
             [
              0.1111111111111111,
              "#46039f"
             ],
             [
              0.2222222222222222,
              "#7201a8"
             ],
             [
              0.3333333333333333,
              "#9c179e"
             ],
             [
              0.4444444444444444,
              "#bd3786"
             ],
             [
              0.5555555555555556,
              "#d8576b"
             ],
             [
              0.6666666666666666,
              "#ed7953"
             ],
             [
              0.7777777777777778,
              "#fb9f3a"
             ],
             [
              0.8888888888888888,
              "#fdca26"
             ],
             [
              1,
              "#f0f921"
             ]
            ],
            "type": "surface"
           }
          ],
          "table": [
           {
            "cells": {
             "fill": {
              "color": "#EBF0F8"
             },
             "line": {
              "color": "white"
             }
            },
            "header": {
             "fill": {
              "color": "#C8D4E3"
             },
             "line": {
              "color": "white"
             }
            },
            "type": "table"
           }
          ]
         },
         "layout": {
          "annotationdefaults": {
           "arrowcolor": "#2a3f5f",
           "arrowhead": 0,
           "arrowwidth": 1
          },
          "autotypenumbers": "strict",
          "coloraxis": {
           "colorbar": {
            "outlinewidth": 0,
            "ticks": ""
           }
          },
          "colorscale": {
           "diverging": [
            [
             0,
             "#8e0152"
            ],
            [
             0.1,
             "#c51b7d"
            ],
            [
             0.2,
             "#de77ae"
            ],
            [
             0.3,
             "#f1b6da"
            ],
            [
             0.4,
             "#fde0ef"
            ],
            [
             0.5,
             "#f7f7f7"
            ],
            [
             0.6,
             "#e6f5d0"
            ],
            [
             0.7,
             "#b8e186"
            ],
            [
             0.8,
             "#7fbc41"
            ],
            [
             0.9,
             "#4d9221"
            ],
            [
             1,
             "#276419"
            ]
           ],
           "sequential": [
            [
             0,
             "#0d0887"
            ],
            [
             0.1111111111111111,
             "#46039f"
            ],
            [
             0.2222222222222222,
             "#7201a8"
            ],
            [
             0.3333333333333333,
             "#9c179e"
            ],
            [
             0.4444444444444444,
             "#bd3786"
            ],
            [
             0.5555555555555556,
             "#d8576b"
            ],
            [
             0.6666666666666666,
             "#ed7953"
            ],
            [
             0.7777777777777778,
             "#fb9f3a"
            ],
            [
             0.8888888888888888,
             "#fdca26"
            ],
            [
             1,
             "#f0f921"
            ]
           ],
           "sequentialminus": [
            [
             0,
             "#0d0887"
            ],
            [
             0.1111111111111111,
             "#46039f"
            ],
            [
             0.2222222222222222,
             "#7201a8"
            ],
            [
             0.3333333333333333,
             "#9c179e"
            ],
            [
             0.4444444444444444,
             "#bd3786"
            ],
            [
             0.5555555555555556,
             "#d8576b"
            ],
            [
             0.6666666666666666,
             "#ed7953"
            ],
            [
             0.7777777777777778,
             "#fb9f3a"
            ],
            [
             0.8888888888888888,
             "#fdca26"
            ],
            [
             1,
             "#f0f921"
            ]
           ]
          },
          "colorway": [
           "#636efa",
           "#EF553B",
           "#00cc96",
           "#ab63fa",
           "#FFA15A",
           "#19d3f3",
           "#FF6692",
           "#B6E880",
           "#FF97FF",
           "#FECB52"
          ],
          "font": {
           "color": "#2a3f5f"
          },
          "geo": {
           "bgcolor": "white",
           "lakecolor": "white",
           "landcolor": "#E5ECF6",
           "showlakes": true,
           "showland": true,
           "subunitcolor": "white"
          },
          "hoverlabel": {
           "align": "left"
          },
          "hovermode": "closest",
          "mapbox": {
           "style": "light"
          },
          "paper_bgcolor": "white",
          "plot_bgcolor": "#E5ECF6",
          "polar": {
           "angularaxis": {
            "gridcolor": "white",
            "linecolor": "white",
            "ticks": ""
           },
           "bgcolor": "#E5ECF6",
           "radialaxis": {
            "gridcolor": "white",
            "linecolor": "white",
            "ticks": ""
           }
          },
          "scene": {
           "xaxis": {
            "backgroundcolor": "#E5ECF6",
            "gridcolor": "white",
            "gridwidth": 2,
            "linecolor": "white",
            "showbackground": true,
            "ticks": "",
            "zerolinecolor": "white"
           },
           "yaxis": {
            "backgroundcolor": "#E5ECF6",
            "gridcolor": "white",
            "gridwidth": 2,
            "linecolor": "white",
            "showbackground": true,
            "ticks": "",
            "zerolinecolor": "white"
           },
           "zaxis": {
            "backgroundcolor": "#E5ECF6",
            "gridcolor": "white",
            "gridwidth": 2,
            "linecolor": "white",
            "showbackground": true,
            "ticks": "",
            "zerolinecolor": "white"
           }
          },
          "shapedefaults": {
           "line": {
            "color": "#2a3f5f"
           }
          },
          "ternary": {
           "aaxis": {
            "gridcolor": "white",
            "linecolor": "white",
            "ticks": ""
           },
           "baxis": {
            "gridcolor": "white",
            "linecolor": "white",
            "ticks": ""
           },
           "bgcolor": "#E5ECF6",
           "caxis": {
            "gridcolor": "white",
            "linecolor": "white",
            "ticks": ""
           }
          },
          "title": {
           "x": 0.05
          },
          "xaxis": {
           "automargin": true,
           "gridcolor": "white",
           "linecolor": "white",
           "ticks": "",
           "title": {
            "standoff": 15
           },
           "zerolinecolor": "white",
           "zerolinewidth": 2
          },
          "yaxis": {
           "automargin": true,
           "gridcolor": "white",
           "linecolor": "white",
           "ticks": "",
           "title": {
            "standoff": 15
           },
           "zerolinecolor": "white",
           "zerolinewidth": 2
          }
         }
        },
        "title": {
         "font": {
          "size": 24
         },
         "text": "Management Job Wage Gap by Year"
        },
        "width": 1000,
        "xaxis": {
         "title": {
          "text": "Year"
         }
        },
        "yaxis": {
         "title": {
          "text": "Management Job Wage Gap"
         }
        }
       }
      }
     },
     "metadata": {},
     "output_type": "display_data"
    }
   ],
   "source": [
    "gen_figure(data_df, 'mngmt_job_wage_gap', 'Management Job Wage Gap by Year', 'Management Job Wage Gap').show()"
   ]
  },
  {
   "attachments": {},
   "cell_type": "markdown",
   "metadata": {},
   "source": [
    "<h4> Management job wage gap </h4>\n",
    "\n",
    "* Proportion of female wage to male wage in management job.\n",
    "* In general, the trend is steady before 2019, with a slight increase after.\n",
    "    * Ohio: From 2014-2018, shows a relatively significant \n",
    "    * Utah: Observe a mild fluctuation between 2011 to 2019, then a sudden increase from 2019 to 2020"
   ]
  },
  {
   "attachments": {},
   "cell_type": "markdown",
   "metadata": {},
   "source": [
    "### 5.3 Life Expectancy by Year"
   ]
  },
  {
   "cell_type": "code",
   "execution_count": 21,
   "metadata": {},
   "outputs": [
    {
     "data": {
      "application/vnd.plotly.v1+json": {
       "config": {
        "plotlyServerURL": "https://plot.ly"
       },
       "data": [
        {
         "hovertemplate": "<b>%{text:.2f}%</b><brstate: %{name}<br>year: %{x}",
         "line": {
          "color": "#FEAF16",
          "width": 2
         },
         "mode": "lines",
         "name": "Alabama",
         "text": [
          1.0764262648008611,
          1.074113856068743,
          1.0787486515641855,
          1.0718113612004287,
          1.075268817204301,
          1.0764262648008611,
          1.0787486515641855,
          1.0775862068965516,
          1.079913606911447,
          1.0893246187363834
         ],
         "type": "scatter",
         "x": [
          2011,
          2012,
          2013,
          2014,
          2015,
          2016,
          2017,
          2018,
          2019,
          2020
         ],
         "y": [
          1.0764262648008611,
          1.074113856068743,
          1.0787486515641855,
          1.0718113612004287,
          1.075268817204301,
          1.0764262648008611,
          1.0787486515641855,
          1.0775862068965516,
          1.079913606911447,
          1.0893246187363834
         ]
        },
        {
         "hovertemplate": "<b>%{text:.2f}%</b><brstate: %{name}<br>year: %{x}",
         "line": {
          "color": "#00AB8B",
          "width": 2
         },
         "mode": "lines",
         "name": "California",
         "text": [
          1.0570824524312896,
          1.0570824524312896,
          1.0582010582010584,
          1.0582010582010584,
          1.0582010582010584,
          1.0593220338983051,
          1.0582010582010584,
          1.0604453870625663,
          1.0626992561105209,
          1.0764262648008611
         ],
         "type": "scatter",
         "x": [
          2011,
          2012,
          2013,
          2014,
          2015,
          2016,
          2017,
          2018,
          2019,
          2020
         ],
         "y": [
          1.0570824524312896,
          1.0570824524312896,
          1.0582010582010584,
          1.0582010582010584,
          1.0582010582010584,
          1.0593220338983051,
          1.0582010582010584,
          1.0604453870625663,
          1.0626992561105209,
          1.0764262648008611
         ]
        },
        {
         "hovertemplate": "<b>%{text:.2f}%</b><brstate: %{name}<br>year: %{x}",
         "line": {
          "color": "#00AB8B",
          "width": 2
         },
         "mode": "lines",
         "name": "Connecticut",
         "text": [
          1.0582010582010584,
          1.0593220338983051,
          1.0582010582010584,
          1.0570824524312896,
          1.0570824524312896,
          1.0615711252653928,
          1.0582010582010584,
          1.0604453870625663,
          1.0638297872340423,
          1.075268817204301
         ],
         "type": "scatter",
         "x": [
          2011,
          2012,
          2013,
          2014,
          2015,
          2016,
          2017,
          2018,
          2019,
          2020
         ],
         "y": [
          1.0582010582010584,
          1.0593220338983051,
          1.0582010582010584,
          1.0570824524312896,
          1.0570824524312896,
          1.0615711252653928,
          1.0582010582010584,
          1.0604453870625663,
          1.0638297872340423,
          1.075268817204301
         ]
        },
        {
         "hovertemplate": "<b>%{text:.2f}%</b><brstate: %{name}<br>year: %{x}",
         "line": {
          "color": "#00AB8B",
          "width": 2
         },
         "mode": "lines",
         "name": "Delaware",
         "text": [
          1.0559662090813096,
          1.0559662090813096,
          1.0626992561105209,
          1.0638297872340423,
          1.0660980810234542,
          1.0672358591248663,
          1.079913606911447,
          1.075268817204301,
          1.0787486515641855,
          1.075268817204301
         ],
         "type": "scatter",
         "x": [
          2011,
          2012,
          2013,
          2014,
          2015,
          2016,
          2017,
          2018,
          2019,
          2020
         ],
         "y": [
          1.0559662090813096,
          1.0559662090813096,
          1.0626992561105209,
          1.0638297872340423,
          1.0660980810234542,
          1.0672358591248663,
          1.079913606911447,
          1.075268817204301,
          1.0787486515641855,
          1.075268817204301
         ]
        },
        {
         "hovertemplate": "<b>%{text:.2f}%</b><brstate: %{name}<br>year: %{x}",
         "line": {
          "color": "#00AB8B",
          "width": 2
         },
         "mode": "lines",
         "name": "Georgia",
         "text": [
          1.0604453870625663,
          1.0604453870625663,
          1.0638297872340423,
          1.0626992561105209,
          1.0626992561105209,
          1.0660980810234542,
          1.064962726304579,
          1.0638297872340423,
          1.0638297872340423,
          1.075268817204301
         ],
         "type": "scatter",
         "x": [
          2011,
          2012,
          2013,
          2014,
          2015,
          2016,
          2017,
          2018,
          2019,
          2020
         ],
         "y": [
          1.0604453870625663,
          1.0604453870625663,
          1.0638297872340423,
          1.0626992561105209,
          1.0626992561105209,
          1.0660980810234542,
          1.064962726304579,
          1.0638297872340423,
          1.0638297872340423,
          1.075268817204301
         ]
        },
        {
         "hovertemplate": "<b>%{text:.2f}%</b><brstate: %{name}<br>year: %{x}",
         "line": {
          "color": "#750D86",
          "width": 2
         },
         "mode": "lines",
         "name": "Idaho",
         "text": [
          1.050420168067227,
          1.050420168067227,
          1.053740779768177,
          1.050420168067227,
          1.0548523206751057,
          1.0515247108307046,
          1.053740779768177,
          1.0582010582010584,
          1.050420168067227,
          1.0615711252653928
         ],
         "type": "scatter",
         "x": [
          2011,
          2012,
          2013,
          2014,
          2015,
          2016,
          2017,
          2018,
          2019,
          2020
         ],
         "y": [
          1.050420168067227,
          1.050420168067227,
          1.053740779768177,
          1.050420168067227,
          1.0548523206751057,
          1.0515247108307046,
          1.053740779768177,
          1.0582010582010584,
          1.050420168067227,
          1.0615711252653928
         ]
        },
        {
         "hovertemplate": "<b>%{text:.2f}%</b><brstate: %{name}<br>year: %{x}",
         "line": {
          "color": "#FEAF16",
          "width": 2
         },
         "mode": "lines",
         "name": "Louisiana",
         "text": [
          1.072961373390558,
          1.072961373390558,
          1.0764262648008611,
          1.074113856068743,
          1.0787486515641855,
          1.075268817204301,
          1.0764262648008611,
          1.0764262648008611,
          1.075268817204301,
          1.092896174863388
         ],
         "type": "scatter",
         "x": [
          2011,
          2012,
          2013,
          2014,
          2015,
          2016,
          2017,
          2018,
          2019,
          2020
         ],
         "y": [
          1.072961373390558,
          1.072961373390558,
          1.0764262648008611,
          1.074113856068743,
          1.0787486515641855,
          1.075268817204301,
          1.0764262648008611,
          1.0764262648008611,
          1.075268817204301,
          1.092896174863388
         ]
        },
        {
         "hovertemplate": "<b>%{text:.2f}%</b><brstate: %{name}<br>year: %{x}",
         "line": {
          "color": "#750D86",
          "width": 2
         },
         "mode": "lines",
         "name": "Minnesota",
         "text": [
          1.0548523206751057,
          1.053740779768177,
          1.0548523206751057,
          1.0515247108307046,
          1.0515247108307046,
          1.0559662090813096,
          1.053740779768177,
          1.0526315789473684,
          1.0559662090813096,
          1.0604453870625663
         ],
         "type": "scatter",
         "x": [
          2011,
          2012,
          2013,
          2014,
          2015,
          2016,
          2017,
          2018,
          2019,
          2020
         ],
         "y": [
          1.0548523206751057,
          1.053740779768177,
          1.0548523206751057,
          1.0515247108307046,
          1.0515247108307046,
          1.0559662090813096,
          1.053740779768177,
          1.0526315789473684,
          1.0559662090813096,
          1.0604453870625663
         ]
        },
        {
         "hovertemplate": "<b>%{text:.2f}%</b><brstate: %{name}<br>year: %{x}",
         "line": {
          "color": "#FEAF16",
          "width": 2
         },
         "mode": "lines",
         "name": "Mississippi",
         "text": [
          1.0775862068965516,
          1.075268817204301,
          1.0775862068965516,
          1.081081081081081,
          1.0822510822510822,
          1.0834236186348862,
          1.079913606911447,
          1.081081081081081,
          1.0869565217391304,
          1.0964912280701753
         ],
         "type": "scatter",
         "x": [
          2011,
          2012,
          2013,
          2014,
          2015,
          2016,
          2017,
          2018,
          2019,
          2020
         ],
         "y": [
          1.0775862068965516,
          1.075268817204301,
          1.0775862068965516,
          1.081081081081081,
          1.0822510822510822,
          1.0834236186348862,
          1.079913606911447,
          1.081081081081081,
          1.0869565217391304,
          1.0964912280701753
         ]
        },
        {
         "hovertemplate": "<b>%{text:.2f}%</b><brstate: %{name}<br>year: %{x}",
         "line": {
          "color": "#750D86",
          "width": 2
         },
         "mode": "lines",
         "name": "New Hampshire",
         "text": [
          1.053740779768177,
          1.0570824524312896,
          1.0515247108307046,
          1.0559662090813096,
          1.0593220338983051,
          1.0683760683760684,
          1.0672358591248663,
          1.0638297872340423,
          1.0615711252653928,
          1.064962726304579
         ],
         "type": "scatter",
         "x": [
          2011,
          2012,
          2013,
          2014,
          2015,
          2016,
          2017,
          2018,
          2019,
          2020
         ],
         "y": [
          1.053740779768177,
          1.0570824524312896,
          1.0515247108307046,
          1.0559662090813096,
          1.0593220338983051,
          1.0683760683760684,
          1.0672358591248663,
          1.0638297872340423,
          1.0615711252653928,
          1.064962726304579
         ]
        },
        {
         "hovertemplate": "<b>%{text:.2f}%</b><brstate: %{name}<br>year: %{x}",
         "line": {
          "color": "#FEAF16",
          "width": 2
         },
         "mode": "lines",
         "name": "New Mexico",
         "text": [
          1.0683760683760684,
          1.0775862068965516,
          1.072961373390558,
          1.0764262648008611,
          1.0787486515641855,
          1.0775862068965516,
          1.0775862068965516,
          1.084598698481562,
          1.084598698481562,
          1.0917030567685588
         ],
         "type": "scatter",
         "x": [
          2011,
          2012,
          2013,
          2014,
          2015,
          2016,
          2017,
          2018,
          2019,
          2020
         ],
         "y": [
          1.0683760683760684,
          1.0775862068965516,
          1.072961373390558,
          1.0764262648008611,
          1.0787486515641855,
          1.0775862068965516,
          1.0775862068965516,
          1.084598698481562,
          1.084598698481562,
          1.0917030567685588
         ]
        },
        {
         "hovertemplate": "<b>%{text:.2f}%</b><brstate: %{name}<br>year: %{x}",
         "line": {
          "color": "#00AB8B",
          "width": 2
         },
         "mode": "lines",
         "name": "Oklahoma",
         "text": [
          1.0660980810234542,
          1.0638297872340423,
          1.0660980810234542,
          1.064962726304579,
          1.0672358591248663,
          1.0672358591248663,
          1.0638297872340423,
          1.0683760683760684,
          1.06951871657754,
          1.075268817204301
         ],
         "type": "scatter",
         "x": [
          2011,
          2012,
          2013,
          2014,
          2015,
          2016,
          2017,
          2018,
          2019,
          2020
         ],
         "y": [
          1.0660980810234542,
          1.0638297872340423,
          1.0660980810234542,
          1.064962726304579,
          1.0672358591248663,
          1.0672358591248663,
          1.0638297872340423,
          1.0683760683760684,
          1.06951871657754,
          1.075268817204301
         ]
        },
        {
         "hovertemplate": "<b>%{text:.2f}%</b><brstate: %{name}<br>year: %{x}",
         "line": {
          "color": "#00AB8B",
          "width": 2
         },
         "mode": "lines",
         "name": "Pennsylvania",
         "text": [
          1.0672358591248663,
          1.0660980810234542,
          1.064962726304579,
          1.0660980810234542,
          1.0660980810234542,
          1.070663811563169,
          1.070663811563169,
          1.06951871657754,
          1.0672358591248663,
          1.075268817204301
         ],
         "type": "scatter",
         "x": [
          2011,
          2012,
          2013,
          2014,
          2015,
          2016,
          2017,
          2018,
          2019,
          2020
         ],
         "y": [
          1.0672358591248663,
          1.0660980810234542,
          1.064962726304579,
          1.0660980810234542,
          1.0660980810234542,
          1.070663811563169,
          1.070663811563169,
          1.06951871657754,
          1.0672358591248663,
          1.075268817204301
         ]
        },
        {
         "hovertemplate": "<b>%{text:.2f}%</b><brstate: %{name}<br>year: %{x}",
         "line": {
          "color": "#FEAF16",
          "width": 2
         },
         "mode": "lines",
         "name": "Tennessee",
         "text": [
          1.0718113612004287,
          1.06951871657754,
          1.0683760683760684,
          1.070663811563169,
          1.0683760683760684,
          1.06951871657754,
          1.072961373390558,
          1.0718113612004287,
          1.079913606911447,
          1.0893246187363834
         ],
         "type": "scatter",
         "x": [
          2011,
          2012,
          2013,
          2014,
          2015,
          2016,
          2017,
          2018,
          2019,
          2020
         ],
         "y": [
          1.0718113612004287,
          1.06951871657754,
          1.0683760683760684,
          1.070663811563169,
          1.0683760683760684,
          1.06951871657754,
          1.072961373390558,
          1.0718113612004287,
          1.079913606911447,
          1.0893246187363834
         ]
        },
        {
         "hovertemplate": "<b>%{text:.2f}%</b><brstate: %{name}<br>year: %{x}",
         "line": {
          "color": "#00AB8B",
          "width": 2
         },
         "mode": "lines",
         "name": "Texas",
         "text": [
          1.0593220338983051,
          1.0604453870625663,
          1.0604453870625663,
          1.0615711252653928,
          1.0604453870625663,
          1.0615711252653928,
          1.0626992561105209,
          1.0638297872340423,
          1.064962726304579,
          1.0764262648008611
         ],
         "type": "scatter",
         "x": [
          2011,
          2012,
          2013,
          2014,
          2015,
          2016,
          2017,
          2018,
          2019,
          2020
         ],
         "y": [
          1.0593220338983051,
          1.0604453870625663,
          1.0604453870625663,
          1.0615711252653928,
          1.0604453870625663,
          1.0615711252653928,
          1.0626992561105209,
          1.0638297872340423,
          1.064962726304579,
          1.0764262648008611
         ]
        },
        {
         "hovertemplate": "<b>%{text:.2f}%</b><brstate: %{name}<br>year: %{x}",
         "line": {
          "color": "#750D86",
          "width": 2
         },
         "mode": "lines",
         "name": "Utah",
         "text": [
          1.0460251046025104,
          1.044932079414838,
          1.0438413361169103,
          1.0438413361169103,
          1.044932079414838,
          1.050420168067227,
          1.0493179433368311,
          1.0493179433368311,
          1.0471204188481675,
          1.050420168067227
         ],
         "type": "scatter",
         "x": [
          2011,
          2012,
          2013,
          2014,
          2015,
          2016,
          2017,
          2018,
          2019,
          2020
         ],
         "y": [
          1.0460251046025104,
          1.044932079414838,
          1.0438413361169103,
          1.0438413361169103,
          1.044932079414838,
          1.050420168067227,
          1.0493179433368311,
          1.0493179433368311,
          1.0471204188481675,
          1.050420168067227
         ]
        },
        {
         "hovertemplate": "<b>%{text:.2f}%</b><brstate: %{name}<br>year: %{x}",
         "line": {
          "color": "#750D86",
          "width": 2
         },
         "mode": "lines",
         "name": "Washington",
         "text": [
          1.053740779768177,
          1.0570824524312896,
          1.053740779768177,
          1.0548523206751057,
          1.053740779768177,
          1.0559662090813096,
          1.0570824524312896,
          1.0548523206751057,
          1.053740779768177,
          1.0615711252653928
         ],
         "type": "scatter",
         "x": [
          2011,
          2012,
          2013,
          2014,
          2015,
          2016,
          2017,
          2018,
          2019,
          2020
         ],
         "y": [
          1.053740779768177,
          1.0570824524312896,
          1.053740779768177,
          1.0548523206751057,
          1.053740779768177,
          1.0559662090813096,
          1.0570824524312896,
          1.0548523206751057,
          1.053740779768177,
          1.0615711252653928
         ]
        },
        {
         "hovertemplate": "<b>%{text:.2f}%</b><brstate: %{name}<br>year: %{x}",
         "line": {
          "color": "#FEAF16",
          "width": 2
         },
         "mode": "lines",
         "name": "West Virginia",
         "text": [
          1.072961373390558,
          1.0683760683760684,
          1.0683760683760684,
          1.072961373390558,
          1.0672358591248663,
          1.072961373390558,
          1.072961373390558,
          1.074113856068743,
          1.0718113612004287,
          1.0905125408942202
         ],
         "type": "scatter",
         "x": [
          2011,
          2012,
          2013,
          2014,
          2015,
          2016,
          2017,
          2018,
          2019,
          2020
         ],
         "y": [
          1.072961373390558,
          1.0683760683760684,
          1.0683760683760684,
          1.072961373390558,
          1.0672358591248663,
          1.072961373390558,
          1.072961373390558,
          1.074113856068743,
          1.0718113612004287,
          1.0905125408942202
         ]
        }
       ],
       "layout": {
        "height": 600,
        "legend": {
         "title": {
          "text": "States:"
         }
        },
        "template": {
         "data": {
          "bar": [
           {
            "error_x": {
             "color": "#2a3f5f"
            },
            "error_y": {
             "color": "#2a3f5f"
            },
            "marker": {
             "line": {
              "color": "#E5ECF6",
              "width": 0.5
             },
             "pattern": {
              "fillmode": "overlay",
              "size": 10,
              "solidity": 0.2
             }
            },
            "type": "bar"
           }
          ],
          "barpolar": [
           {
            "marker": {
             "line": {
              "color": "#E5ECF6",
              "width": 0.5
             },
             "pattern": {
              "fillmode": "overlay",
              "size": 10,
              "solidity": 0.2
             }
            },
            "type": "barpolar"
           }
          ],
          "carpet": [
           {
            "aaxis": {
             "endlinecolor": "#2a3f5f",
             "gridcolor": "white",
             "linecolor": "white",
             "minorgridcolor": "white",
             "startlinecolor": "#2a3f5f"
            },
            "baxis": {
             "endlinecolor": "#2a3f5f",
             "gridcolor": "white",
             "linecolor": "white",
             "minorgridcolor": "white",
             "startlinecolor": "#2a3f5f"
            },
            "type": "carpet"
           }
          ],
          "choropleth": [
           {
            "colorbar": {
             "outlinewidth": 0,
             "ticks": ""
            },
            "type": "choropleth"
           }
          ],
          "contour": [
           {
            "colorbar": {
             "outlinewidth": 0,
             "ticks": ""
            },
            "colorscale": [
             [
              0,
              "#0d0887"
             ],
             [
              0.1111111111111111,
              "#46039f"
             ],
             [
              0.2222222222222222,
              "#7201a8"
             ],
             [
              0.3333333333333333,
              "#9c179e"
             ],
             [
              0.4444444444444444,
              "#bd3786"
             ],
             [
              0.5555555555555556,
              "#d8576b"
             ],
             [
              0.6666666666666666,
              "#ed7953"
             ],
             [
              0.7777777777777778,
              "#fb9f3a"
             ],
             [
              0.8888888888888888,
              "#fdca26"
             ],
             [
              1,
              "#f0f921"
             ]
            ],
            "type": "contour"
           }
          ],
          "contourcarpet": [
           {
            "colorbar": {
             "outlinewidth": 0,
             "ticks": ""
            },
            "type": "contourcarpet"
           }
          ],
          "heatmap": [
           {
            "colorbar": {
             "outlinewidth": 0,
             "ticks": ""
            },
            "colorscale": [
             [
              0,
              "#0d0887"
             ],
             [
              0.1111111111111111,
              "#46039f"
             ],
             [
              0.2222222222222222,
              "#7201a8"
             ],
             [
              0.3333333333333333,
              "#9c179e"
             ],
             [
              0.4444444444444444,
              "#bd3786"
             ],
             [
              0.5555555555555556,
              "#d8576b"
             ],
             [
              0.6666666666666666,
              "#ed7953"
             ],
             [
              0.7777777777777778,
              "#fb9f3a"
             ],
             [
              0.8888888888888888,
              "#fdca26"
             ],
             [
              1,
              "#f0f921"
             ]
            ],
            "type": "heatmap"
           }
          ],
          "heatmapgl": [
           {
            "colorbar": {
             "outlinewidth": 0,
             "ticks": ""
            },
            "colorscale": [
             [
              0,
              "#0d0887"
             ],
             [
              0.1111111111111111,
              "#46039f"
             ],
             [
              0.2222222222222222,
              "#7201a8"
             ],
             [
              0.3333333333333333,
              "#9c179e"
             ],
             [
              0.4444444444444444,
              "#bd3786"
             ],
             [
              0.5555555555555556,
              "#d8576b"
             ],
             [
              0.6666666666666666,
              "#ed7953"
             ],
             [
              0.7777777777777778,
              "#fb9f3a"
             ],
             [
              0.8888888888888888,
              "#fdca26"
             ],
             [
              1,
              "#f0f921"
             ]
            ],
            "type": "heatmapgl"
           }
          ],
          "histogram": [
           {
            "marker": {
             "pattern": {
              "fillmode": "overlay",
              "size": 10,
              "solidity": 0.2
             }
            },
            "type": "histogram"
           }
          ],
          "histogram2d": [
           {
            "colorbar": {
             "outlinewidth": 0,
             "ticks": ""
            },
            "colorscale": [
             [
              0,
              "#0d0887"
             ],
             [
              0.1111111111111111,
              "#46039f"
             ],
             [
              0.2222222222222222,
              "#7201a8"
             ],
             [
              0.3333333333333333,
              "#9c179e"
             ],
             [
              0.4444444444444444,
              "#bd3786"
             ],
             [
              0.5555555555555556,
              "#d8576b"
             ],
             [
              0.6666666666666666,
              "#ed7953"
             ],
             [
              0.7777777777777778,
              "#fb9f3a"
             ],
             [
              0.8888888888888888,
              "#fdca26"
             ],
             [
              1,
              "#f0f921"
             ]
            ],
            "type": "histogram2d"
           }
          ],
          "histogram2dcontour": [
           {
            "colorbar": {
             "outlinewidth": 0,
             "ticks": ""
            },
            "colorscale": [
             [
              0,
              "#0d0887"
             ],
             [
              0.1111111111111111,
              "#46039f"
             ],
             [
              0.2222222222222222,
              "#7201a8"
             ],
             [
              0.3333333333333333,
              "#9c179e"
             ],
             [
              0.4444444444444444,
              "#bd3786"
             ],
             [
              0.5555555555555556,
              "#d8576b"
             ],
             [
              0.6666666666666666,
              "#ed7953"
             ],
             [
              0.7777777777777778,
              "#fb9f3a"
             ],
             [
              0.8888888888888888,
              "#fdca26"
             ],
             [
              1,
              "#f0f921"
             ]
            ],
            "type": "histogram2dcontour"
           }
          ],
          "mesh3d": [
           {
            "colorbar": {
             "outlinewidth": 0,
             "ticks": ""
            },
            "type": "mesh3d"
           }
          ],
          "parcoords": [
           {
            "line": {
             "colorbar": {
              "outlinewidth": 0,
              "ticks": ""
             }
            },
            "type": "parcoords"
           }
          ],
          "pie": [
           {
            "automargin": true,
            "type": "pie"
           }
          ],
          "scatter": [
           {
            "marker": {
             "colorbar": {
              "outlinewidth": 0,
              "ticks": ""
             }
            },
            "type": "scatter"
           }
          ],
          "scatter3d": [
           {
            "line": {
             "colorbar": {
              "outlinewidth": 0,
              "ticks": ""
             }
            },
            "marker": {
             "colorbar": {
              "outlinewidth": 0,
              "ticks": ""
             }
            },
            "type": "scatter3d"
           }
          ],
          "scattercarpet": [
           {
            "marker": {
             "colorbar": {
              "outlinewidth": 0,
              "ticks": ""
             }
            },
            "type": "scattercarpet"
           }
          ],
          "scattergeo": [
           {
            "marker": {
             "colorbar": {
              "outlinewidth": 0,
              "ticks": ""
             }
            },
            "type": "scattergeo"
           }
          ],
          "scattergl": [
           {
            "marker": {
             "colorbar": {
              "outlinewidth": 0,
              "ticks": ""
             }
            },
            "type": "scattergl"
           }
          ],
          "scattermapbox": [
           {
            "marker": {
             "colorbar": {
              "outlinewidth": 0,
              "ticks": ""
             }
            },
            "type": "scattermapbox"
           }
          ],
          "scatterpolar": [
           {
            "marker": {
             "colorbar": {
              "outlinewidth": 0,
              "ticks": ""
             }
            },
            "type": "scatterpolar"
           }
          ],
          "scatterpolargl": [
           {
            "marker": {
             "colorbar": {
              "outlinewidth": 0,
              "ticks": ""
             }
            },
            "type": "scatterpolargl"
           }
          ],
          "scatterternary": [
           {
            "marker": {
             "colorbar": {
              "outlinewidth": 0,
              "ticks": ""
             }
            },
            "type": "scatterternary"
           }
          ],
          "surface": [
           {
            "colorbar": {
             "outlinewidth": 0,
             "ticks": ""
            },
            "colorscale": [
             [
              0,
              "#0d0887"
             ],
             [
              0.1111111111111111,
              "#46039f"
             ],
             [
              0.2222222222222222,
              "#7201a8"
             ],
             [
              0.3333333333333333,
              "#9c179e"
             ],
             [
              0.4444444444444444,
              "#bd3786"
             ],
             [
              0.5555555555555556,
              "#d8576b"
             ],
             [
              0.6666666666666666,
              "#ed7953"
             ],
             [
              0.7777777777777778,
              "#fb9f3a"
             ],
             [
              0.8888888888888888,
              "#fdca26"
             ],
             [
              1,
              "#f0f921"
             ]
            ],
            "type": "surface"
           }
          ],
          "table": [
           {
            "cells": {
             "fill": {
              "color": "#EBF0F8"
             },
             "line": {
              "color": "white"
             }
            },
            "header": {
             "fill": {
              "color": "#C8D4E3"
             },
             "line": {
              "color": "white"
             }
            },
            "type": "table"
           }
          ]
         },
         "layout": {
          "annotationdefaults": {
           "arrowcolor": "#2a3f5f",
           "arrowhead": 0,
           "arrowwidth": 1
          },
          "autotypenumbers": "strict",
          "coloraxis": {
           "colorbar": {
            "outlinewidth": 0,
            "ticks": ""
           }
          },
          "colorscale": {
           "diverging": [
            [
             0,
             "#8e0152"
            ],
            [
             0.1,
             "#c51b7d"
            ],
            [
             0.2,
             "#de77ae"
            ],
            [
             0.3,
             "#f1b6da"
            ],
            [
             0.4,
             "#fde0ef"
            ],
            [
             0.5,
             "#f7f7f7"
            ],
            [
             0.6,
             "#e6f5d0"
            ],
            [
             0.7,
             "#b8e186"
            ],
            [
             0.8,
             "#7fbc41"
            ],
            [
             0.9,
             "#4d9221"
            ],
            [
             1,
             "#276419"
            ]
           ],
           "sequential": [
            [
             0,
             "#0d0887"
            ],
            [
             0.1111111111111111,
             "#46039f"
            ],
            [
             0.2222222222222222,
             "#7201a8"
            ],
            [
             0.3333333333333333,
             "#9c179e"
            ],
            [
             0.4444444444444444,
             "#bd3786"
            ],
            [
             0.5555555555555556,
             "#d8576b"
            ],
            [
             0.6666666666666666,
             "#ed7953"
            ],
            [
             0.7777777777777778,
             "#fb9f3a"
            ],
            [
             0.8888888888888888,
             "#fdca26"
            ],
            [
             1,
             "#f0f921"
            ]
           ],
           "sequentialminus": [
            [
             0,
             "#0d0887"
            ],
            [
             0.1111111111111111,
             "#46039f"
            ],
            [
             0.2222222222222222,
             "#7201a8"
            ],
            [
             0.3333333333333333,
             "#9c179e"
            ],
            [
             0.4444444444444444,
             "#bd3786"
            ],
            [
             0.5555555555555556,
             "#d8576b"
            ],
            [
             0.6666666666666666,
             "#ed7953"
            ],
            [
             0.7777777777777778,
             "#fb9f3a"
            ],
            [
             0.8888888888888888,
             "#fdca26"
            ],
            [
             1,
             "#f0f921"
            ]
           ]
          },
          "colorway": [
           "#636efa",
           "#EF553B",
           "#00cc96",
           "#ab63fa",
           "#FFA15A",
           "#19d3f3",
           "#FF6692",
           "#B6E880",
           "#FF97FF",
           "#FECB52"
          ],
          "font": {
           "color": "#2a3f5f"
          },
          "geo": {
           "bgcolor": "white",
           "lakecolor": "white",
           "landcolor": "#E5ECF6",
           "showlakes": true,
           "showland": true,
           "subunitcolor": "white"
          },
          "hoverlabel": {
           "align": "left"
          },
          "hovermode": "closest",
          "mapbox": {
           "style": "light"
          },
          "paper_bgcolor": "white",
          "plot_bgcolor": "#E5ECF6",
          "polar": {
           "angularaxis": {
            "gridcolor": "white",
            "linecolor": "white",
            "ticks": ""
           },
           "bgcolor": "#E5ECF6",
           "radialaxis": {
            "gridcolor": "white",
            "linecolor": "white",
            "ticks": ""
           }
          },
          "scene": {
           "xaxis": {
            "backgroundcolor": "#E5ECF6",
            "gridcolor": "white",
            "gridwidth": 2,
            "linecolor": "white",
            "showbackground": true,
            "ticks": "",
            "zerolinecolor": "white"
           },
           "yaxis": {
            "backgroundcolor": "#E5ECF6",
            "gridcolor": "white",
            "gridwidth": 2,
            "linecolor": "white",
            "showbackground": true,
            "ticks": "",
            "zerolinecolor": "white"
           },
           "zaxis": {
            "backgroundcolor": "#E5ECF6",
            "gridcolor": "white",
            "gridwidth": 2,
            "linecolor": "white",
            "showbackground": true,
            "ticks": "",
            "zerolinecolor": "white"
           }
          },
          "shapedefaults": {
           "line": {
            "color": "#2a3f5f"
           }
          },
          "ternary": {
           "aaxis": {
            "gridcolor": "white",
            "linecolor": "white",
            "ticks": ""
           },
           "baxis": {
            "gridcolor": "white",
            "linecolor": "white",
            "ticks": ""
           },
           "bgcolor": "#E5ECF6",
           "caxis": {
            "gridcolor": "white",
            "linecolor": "white",
            "ticks": ""
           }
          },
          "title": {
           "x": 0.05
          },
          "xaxis": {
           "automargin": true,
           "gridcolor": "white",
           "linecolor": "white",
           "ticks": "",
           "title": {
            "standoff": 15
           },
           "zerolinecolor": "white",
           "zerolinewidth": 2
          },
          "yaxis": {
           "automargin": true,
           "gridcolor": "white",
           "linecolor": "white",
           "ticks": "",
           "title": {
            "standoff": 15
           },
           "zerolinecolor": "white",
           "zerolinewidth": 2
          }
         }
        },
        "title": {
         "font": {
          "size": 24
         },
         "text": "Life Expectancy (Female Over Male) by Year"
        },
        "width": 1000,
        "xaxis": {
         "title": {
          "text": "Year"
         }
        },
        "yaxis": {
         "title": {
          "text": "Life Expectancy (female over male)"
         }
        }
       }
      }
     },
     "metadata": {},
     "output_type": "display_data"
    }
   ],
   "source": [
    "gen_figure(data_df, 'life_exp_f_m', 'Life Expectancy (Female Over Male) by Year', 'Life Expectancy (female over male)')"
   ]
  },
  {
   "attachments": {},
   "cell_type": "markdown",
   "metadata": {},
   "source": [
    "<h4> Life Expectancy Gender Gap </h4>\n",
    "\n",
    "* Life Expectancy of male over that of female\n",
    "* In general, the trends across 15 states experience ocsilation at some extent. Furthermore, all 15 states share a decrease from 2019 to 2020. We also see some overlap between upper 10% states, the middle 10% states, and bottom 10% states"
   ]
  },
  {
   "attachments": {},
   "cell_type": "markdown",
   "metadata": {},
   "source": [
    "### 5.4 Abortion Rate by Year"
   ]
  },
  {
   "cell_type": "code",
   "execution_count": 22,
   "metadata": {},
   "outputs": [
    {
     "data": {
      "application/vnd.plotly.v1+json": {
       "config": {
        "plotlyServerURL": "https://plot.ly"
       },
       "data": [
        {
         "hovertemplate": "<b>%{text:.2f}%</b><brstate: %{name}<br>year: %{x}",
         "line": {
          "color": "#00AB8B",
          "width": 2
         },
         "mode": "lines",
         "name": "Alaska",
         "text": [
          237.493,
          222.742,
          221.418,
          196.935,
          205.831,
          179.916,
          170.339,
          174.525,
          173.605,
          164.547
         ],
         "type": "scatter",
         "x": [
          2011,
          2012,
          2013,
          2014,
          2015,
          2016,
          2017,
          2018,
          2019,
          2020
         ],
         "y": [
          237.493,
          222.742,
          221.418,
          196.935,
          205.831,
          179.916,
          170.339,
          174.525,
          173.605,
          164.547
         ]
        },
        {
         "hovertemplate": "<b>%{text:.2f}%</b><brstate: %{name}<br>year: %{x}",
         "line": {
          "color": "#750D86",
          "width": 2
         },
         "mode": "lines",
         "name": "California",
         "text": [
          17.812,
          18.536,
          17.639,
          17.369,
          15.011,
          15.651,
          17.12,
          16.847,
          18.703,
          16.075
         ],
         "type": "scatter",
         "x": [
          2011,
          2012,
          2013,
          2014,
          2015,
          2016,
          2017,
          2018,
          2019,
          2020
         ],
         "y": [
          17.812,
          18.536,
          17.639,
          17.369,
          15.011,
          15.651,
          17.12,
          16.847,
          18.703,
          16.075
         ]
        },
        {
         "hovertemplate": "<b>%{text:.2f}%</b><brstate: %{name}<br>year: %{x}",
         "line": {
          "color": "#FEAF16",
          "width": 2
         },
         "mode": "lines",
         "name": "Florida",
         "text": [
          419.393,
          399.869,
          389.606,
          366.458,
          356.806,
          349.398,
          332.815,
          330.625,
          334.83,
          346.778
         ],
         "type": "scatter",
         "x": [
          2011,
          2012,
          2013,
          2014,
          2015,
          2016,
          2017,
          2018,
          2019,
          2020
         ],
         "y": [
          419.393,
          399.869,
          389.606,
          366.458,
          356.806,
          349.398,
          332.815,
          330.625,
          334.83,
          346.778
         ]
        },
        {
         "hovertemplate": "<b>%{text:.2f}%</b><brstate: %{name}<br>year: %{x}",
         "line": {
          "color": "#FEAF16",
          "width": 2
         },
         "mode": "lines",
         "name": "Georgia",
         "text": [
          352.821,
          330.962,
          314.566,
          304.68,
          294.868,
          301.003,
          324.783,
          322.686,
          347.608,
          349.801
         ],
         "type": "scatter",
         "x": [
          2011,
          2012,
          2013,
          2014,
          2015,
          2016,
          2017,
          2018,
          2019,
          2020
         ],
         "y": [
          352.821,
          330.962,
          314.566,
          304.68,
          294.868,
          301.003,
          324.783,
          322.686,
          347.608,
          349.801
         ]
        },
        {
         "hovertemplate": "<b>%{text:.2f}%</b><brstate: %{name}<br>year: %{x}",
         "line": {
          "color": "#FEAF16",
          "width": 2
         },
         "mode": "lines",
         "name": "Illinois",
         "text": [
          325.309,
          320.776,
          335.033,
          316.272,
          299.185,
          310.876,
          300.356,
          333.575,
          367.09,
          361.653
         ],
         "type": "scatter",
         "x": [
          2011,
          2012,
          2013,
          2014,
          2015,
          2016,
          2017,
          2018,
          2019,
          2020
         ],
         "y": [
          325.309,
          320.776,
          335.033,
          316.272,
          299.185,
          310.876,
          300.356,
          333.575,
          367.09,
          361.653
         ]
        },
        {
         "hovertemplate": "<b>%{text:.2f}%</b><brstate: %{name}<br>year: %{x}",
         "line": {
          "color": "#00AB8B",
          "width": 2
         },
         "mode": "lines",
         "name": "Louisiana",
         "text": [
          193.897,
          194.633,
          199.48,
          214.836,
          221.282,
          200.122,
          192.118,
          173.767,
          175.185,
          160.652
         ],
         "type": "scatter",
         "x": [
          2011,
          2012,
          2013,
          2014,
          2015,
          2016,
          2017,
          2018,
          2019,
          2020
         ],
         "y": [
          193.897,
          194.633,
          199.48,
          214.836,
          221.282,
          200.122,
          192.118,
          173.767,
          175.185,
          160.652
         ]
        },
        {
         "hovertemplate": "<b>%{text:.2f}%</b><brstate: %{name}<br>year: %{x}",
         "line": {
          "color": "#750D86",
          "width": 2
         },
         "mode": "lines",
         "name": "Missouri",
         "text": [
          102.541,
          95.811,
          93.102,
          89.429,
          83.337,
          78.28,
          74.705,
          47.536,
          23.968,
          2.714
         ],
         "type": "scatter",
         "x": [
          2011,
          2012,
          2013,
          2014,
          2015,
          2016,
          2017,
          2018,
          2019,
          2020
         ],
         "y": [
          102.541,
          95.811,
          93.102,
          89.429,
          83.337,
          78.28,
          74.705,
          47.536,
          23.968,
          2.714
         ]
        },
        {
         "hovertemplate": "<b>%{text:.2f}%</b><brstate: %{name}<br>year: %{x}",
         "line": {
          "color": "#00AB8B",
          "width": 2
         },
         "mode": "lines",
         "name": "Montana",
         "text": [
          216.581,
          213.891,
          200.381,
          180.258,
          164.002,
          154.776,
          153.732,
          157.826,
          146.71,
          154.083
         ],
         "type": "scatter",
         "x": [
          2011,
          2012,
          2013,
          2014,
          2015,
          2016,
          2017,
          2018,
          2019,
          2020
         ],
         "y": [
          216.581,
          213.891,
          200.381,
          180.258,
          164.002,
          154.776,
          153.732,
          157.826,
          146.71,
          154.083
         ]
        },
        {
         "hovertemplate": "<b>%{text:.2f}%</b><brstate: %{name}<br>year: %{x}",
         "line": {
          "color": "#FEAF16",
          "width": 2
         },
         "mode": "lines",
         "name": "New Hampshire",
         "text": [
          938.038,
          1040.905,
          1392.635,
          1115.694,
          963.296,
          1451.903,
          1212.719,
          1694.613,
          618.808,
          1666.344
         ],
         "type": "scatter",
         "x": [
          2011,
          2012,
          2013,
          2014,
          2015,
          2016,
          2017,
          2018,
          2019,
          2020
         ],
         "y": [
          938.038,
          1040.905,
          1392.635,
          1115.694,
          963.296,
          1451.903,
          1212.719,
          1694.613,
          618.808,
          1666.344
         ]
        },
        {
         "hovertemplate": "<b>%{text:.2f}%</b><brstate: %{name}<br>year: %{x}",
         "line": {
          "color": "#750D86",
          "width": 2
         },
         "mode": "lines",
         "name": "New Jersey",
         "text": [
          319.626,
          300.262,
          259.152,
          245.022,
          272.679,
          259.175,
          275.392,
          43.293,
          249.691,
          46.302
         ],
         "type": "scatter",
         "x": [
          2011,
          2012,
          2013,
          2014,
          2015,
          2016,
          2017,
          2018,
          2019,
          2020
         ],
         "y": [
          319.626,
          300.262,
          259.152,
          245.022,
          272.679,
          259.175,
          275.392,
          43.293,
          249.691,
          46.302
         ]
        },
        {
         "hovertemplate": "<b>%{text:.2f}%</b><brstate: %{name}<br>year: %{x}",
         "line": {
          "color": "#FEAF16",
          "width": 2
         },
         "mode": "lines",
         "name": "New Mexico",
         "text": [
          229.71,
          195.611,
          168.095,
          200.903,
          215.384,
          223.223,
          218.617,
          3700.745,
          187.998,
          2980.66
         ],
         "type": "scatter",
         "x": [
          2011,
          2012,
          2013,
          2014,
          2015,
          2016,
          2017,
          2018,
          2019,
          2020
         ],
         "y": [
          229.71,
          195.611,
          168.095,
          200.903,
          215.384,
          223.223,
          218.617,
          3700.745,
          187.998,
          2980.66
         ]
        },
        {
         "hovertemplate": "<b>%{text:.2f}%</b><brstate: %{name}<br>year: %{x}",
         "line": {
          "color": "#00AB8B",
          "width": 2
         },
         "mode": "lines",
         "name": "Oregon",
         "text": [
          258.004,
          245.371,
          229.855,
          209.096,
          204.966,
          210.515,
          215.801,
          208.877,
          205.987,
          164.696
         ],
         "type": "scatter",
         "x": [
          2011,
          2012,
          2013,
          2014,
          2015,
          2016,
          2017,
          2018,
          2019,
          2020
         ],
         "y": [
          258.004,
          245.371,
          229.855,
          209.096,
          204.966,
          210.515,
          215.801,
          208.877,
          205.987,
          164.696
         ]
        },
        {
         "hovertemplate": "<b>%{text:.2f}%</b><brstate: %{name}<br>year: %{x}",
         "line": {
          "color": "#750D86",
          "width": 2
         },
         "mode": "lines",
         "name": "South Dakota",
         "text": [
          89.487,
          71.62,
          75.269,
          70.778,
          64.521,
          51.449,
          54.075,
          43.473,
          46.798,
          14.08
         ],
         "type": "scatter",
         "x": [
          2011,
          2012,
          2013,
          2014,
          2015,
          2016,
          2017,
          2018,
          2019,
          2020
         ],
         "y": [
          89.487,
          71.62,
          75.269,
          70.778,
          64.521,
          51.449,
          54.075,
          43.473,
          46.798,
          14.08
         ]
        },
        {
         "hovertemplate": "<b>%{text:.2f}%</b><brstate: %{name}<br>year: %{x}",
         "line": {
          "color": "#00AB8B",
          "width": 2
         },
         "mode": "lines",
         "name": "Tennessee",
         "text": [
          255.856,
          249.694,
          244.197,
          217.329,
          187.721,
          171.697,
          167.467,
          160.67,
          142.316,
          162.339
         ],
         "type": "scatter",
         "x": [
          2011,
          2012,
          2013,
          2014,
          2015,
          2016,
          2017,
          2018,
          2019,
          2020
         ],
         "y": [
          255.856,
          249.694,
          244.197,
          217.329,
          187.721,
          171.697,
          167.467,
          160.67,
          142.316,
          162.339
         ]
        },
        {
         "hovertemplate": "<b>%{text:.2f}%</b><brstate: %{name}<br>year: %{x}",
         "line": {
          "color": "#750D86",
          "width": 2
         },
         "mode": "lines",
         "name": "Wyoming",
         "text": [
          182.267,
          162.067,
          141.379,
          122.397,
          133.706,
          159.873,
          110.376,
          117.382,
          41.295,
          32.375
         ],
         "type": "scatter",
         "x": [
          2011,
          2012,
          2013,
          2014,
          2015,
          2016,
          2017,
          2018,
          2019,
          2020
         ],
         "y": [
          182.267,
          162.067,
          141.379,
          122.397,
          133.706,
          159.873,
          110.376,
          117.382,
          41.295,
          32.375
         ]
        }
       ],
       "layout": {
        "height": 600,
        "legend": {
         "title": {
          "text": "States:"
         }
        },
        "template": {
         "data": {
          "bar": [
           {
            "error_x": {
             "color": "#2a3f5f"
            },
            "error_y": {
             "color": "#2a3f5f"
            },
            "marker": {
             "line": {
              "color": "#E5ECF6",
              "width": 0.5
             },
             "pattern": {
              "fillmode": "overlay",
              "size": 10,
              "solidity": 0.2
             }
            },
            "type": "bar"
           }
          ],
          "barpolar": [
           {
            "marker": {
             "line": {
              "color": "#E5ECF6",
              "width": 0.5
             },
             "pattern": {
              "fillmode": "overlay",
              "size": 10,
              "solidity": 0.2
             }
            },
            "type": "barpolar"
           }
          ],
          "carpet": [
           {
            "aaxis": {
             "endlinecolor": "#2a3f5f",
             "gridcolor": "white",
             "linecolor": "white",
             "minorgridcolor": "white",
             "startlinecolor": "#2a3f5f"
            },
            "baxis": {
             "endlinecolor": "#2a3f5f",
             "gridcolor": "white",
             "linecolor": "white",
             "minorgridcolor": "white",
             "startlinecolor": "#2a3f5f"
            },
            "type": "carpet"
           }
          ],
          "choropleth": [
           {
            "colorbar": {
             "outlinewidth": 0,
             "ticks": ""
            },
            "type": "choropleth"
           }
          ],
          "contour": [
           {
            "colorbar": {
             "outlinewidth": 0,
             "ticks": ""
            },
            "colorscale": [
             [
              0,
              "#0d0887"
             ],
             [
              0.1111111111111111,
              "#46039f"
             ],
             [
              0.2222222222222222,
              "#7201a8"
             ],
             [
              0.3333333333333333,
              "#9c179e"
             ],
             [
              0.4444444444444444,
              "#bd3786"
             ],
             [
              0.5555555555555556,
              "#d8576b"
             ],
             [
              0.6666666666666666,
              "#ed7953"
             ],
             [
              0.7777777777777778,
              "#fb9f3a"
             ],
             [
              0.8888888888888888,
              "#fdca26"
             ],
             [
              1,
              "#f0f921"
             ]
            ],
            "type": "contour"
           }
          ],
          "contourcarpet": [
           {
            "colorbar": {
             "outlinewidth": 0,
             "ticks": ""
            },
            "type": "contourcarpet"
           }
          ],
          "heatmap": [
           {
            "colorbar": {
             "outlinewidth": 0,
             "ticks": ""
            },
            "colorscale": [
             [
              0,
              "#0d0887"
             ],
             [
              0.1111111111111111,
              "#46039f"
             ],
             [
              0.2222222222222222,
              "#7201a8"
             ],
             [
              0.3333333333333333,
              "#9c179e"
             ],
             [
              0.4444444444444444,
              "#bd3786"
             ],
             [
              0.5555555555555556,
              "#d8576b"
             ],
             [
              0.6666666666666666,
              "#ed7953"
             ],
             [
              0.7777777777777778,
              "#fb9f3a"
             ],
             [
              0.8888888888888888,
              "#fdca26"
             ],
             [
              1,
              "#f0f921"
             ]
            ],
            "type": "heatmap"
           }
          ],
          "heatmapgl": [
           {
            "colorbar": {
             "outlinewidth": 0,
             "ticks": ""
            },
            "colorscale": [
             [
              0,
              "#0d0887"
             ],
             [
              0.1111111111111111,
              "#46039f"
             ],
             [
              0.2222222222222222,
              "#7201a8"
             ],
             [
              0.3333333333333333,
              "#9c179e"
             ],
             [
              0.4444444444444444,
              "#bd3786"
             ],
             [
              0.5555555555555556,
              "#d8576b"
             ],
             [
              0.6666666666666666,
              "#ed7953"
             ],
             [
              0.7777777777777778,
              "#fb9f3a"
             ],
             [
              0.8888888888888888,
              "#fdca26"
             ],
             [
              1,
              "#f0f921"
             ]
            ],
            "type": "heatmapgl"
           }
          ],
          "histogram": [
           {
            "marker": {
             "pattern": {
              "fillmode": "overlay",
              "size": 10,
              "solidity": 0.2
             }
            },
            "type": "histogram"
           }
          ],
          "histogram2d": [
           {
            "colorbar": {
             "outlinewidth": 0,
             "ticks": ""
            },
            "colorscale": [
             [
              0,
              "#0d0887"
             ],
             [
              0.1111111111111111,
              "#46039f"
             ],
             [
              0.2222222222222222,
              "#7201a8"
             ],
             [
              0.3333333333333333,
              "#9c179e"
             ],
             [
              0.4444444444444444,
              "#bd3786"
             ],
             [
              0.5555555555555556,
              "#d8576b"
             ],
             [
              0.6666666666666666,
              "#ed7953"
             ],
             [
              0.7777777777777778,
              "#fb9f3a"
             ],
             [
              0.8888888888888888,
              "#fdca26"
             ],
             [
              1,
              "#f0f921"
             ]
            ],
            "type": "histogram2d"
           }
          ],
          "histogram2dcontour": [
           {
            "colorbar": {
             "outlinewidth": 0,
             "ticks": ""
            },
            "colorscale": [
             [
              0,
              "#0d0887"
             ],
             [
              0.1111111111111111,
              "#46039f"
             ],
             [
              0.2222222222222222,
              "#7201a8"
             ],
             [
              0.3333333333333333,
              "#9c179e"
             ],
             [
              0.4444444444444444,
              "#bd3786"
             ],
             [
              0.5555555555555556,
              "#d8576b"
             ],
             [
              0.6666666666666666,
              "#ed7953"
             ],
             [
              0.7777777777777778,
              "#fb9f3a"
             ],
             [
              0.8888888888888888,
              "#fdca26"
             ],
             [
              1,
              "#f0f921"
             ]
            ],
            "type": "histogram2dcontour"
           }
          ],
          "mesh3d": [
           {
            "colorbar": {
             "outlinewidth": 0,
             "ticks": ""
            },
            "type": "mesh3d"
           }
          ],
          "parcoords": [
           {
            "line": {
             "colorbar": {
              "outlinewidth": 0,
              "ticks": ""
             }
            },
            "type": "parcoords"
           }
          ],
          "pie": [
           {
            "automargin": true,
            "type": "pie"
           }
          ],
          "scatter": [
           {
            "marker": {
             "colorbar": {
              "outlinewidth": 0,
              "ticks": ""
             }
            },
            "type": "scatter"
           }
          ],
          "scatter3d": [
           {
            "line": {
             "colorbar": {
              "outlinewidth": 0,
              "ticks": ""
             }
            },
            "marker": {
             "colorbar": {
              "outlinewidth": 0,
              "ticks": ""
             }
            },
            "type": "scatter3d"
           }
          ],
          "scattercarpet": [
           {
            "marker": {
             "colorbar": {
              "outlinewidth": 0,
              "ticks": ""
             }
            },
            "type": "scattercarpet"
           }
          ],
          "scattergeo": [
           {
            "marker": {
             "colorbar": {
              "outlinewidth": 0,
              "ticks": ""
             }
            },
            "type": "scattergeo"
           }
          ],
          "scattergl": [
           {
            "marker": {
             "colorbar": {
              "outlinewidth": 0,
              "ticks": ""
             }
            },
            "type": "scattergl"
           }
          ],
          "scattermapbox": [
           {
            "marker": {
             "colorbar": {
              "outlinewidth": 0,
              "ticks": ""
             }
            },
            "type": "scattermapbox"
           }
          ],
          "scatterpolar": [
           {
            "marker": {
             "colorbar": {
              "outlinewidth": 0,
              "ticks": ""
             }
            },
            "type": "scatterpolar"
           }
          ],
          "scatterpolargl": [
           {
            "marker": {
             "colorbar": {
              "outlinewidth": 0,
              "ticks": ""
             }
            },
            "type": "scatterpolargl"
           }
          ],
          "scatterternary": [
           {
            "marker": {
             "colorbar": {
              "outlinewidth": 0,
              "ticks": ""
             }
            },
            "type": "scatterternary"
           }
          ],
          "surface": [
           {
            "colorbar": {
             "outlinewidth": 0,
             "ticks": ""
            },
            "colorscale": [
             [
              0,
              "#0d0887"
             ],
             [
              0.1111111111111111,
              "#46039f"
             ],
             [
              0.2222222222222222,
              "#7201a8"
             ],
             [
              0.3333333333333333,
              "#9c179e"
             ],
             [
              0.4444444444444444,
              "#bd3786"
             ],
             [
              0.5555555555555556,
              "#d8576b"
             ],
             [
              0.6666666666666666,
              "#ed7953"
             ],
             [
              0.7777777777777778,
              "#fb9f3a"
             ],
             [
              0.8888888888888888,
              "#fdca26"
             ],
             [
              1,
              "#f0f921"
             ]
            ],
            "type": "surface"
           }
          ],
          "table": [
           {
            "cells": {
             "fill": {
              "color": "#EBF0F8"
             },
             "line": {
              "color": "white"
             }
            },
            "header": {
             "fill": {
              "color": "#C8D4E3"
             },
             "line": {
              "color": "white"
             }
            },
            "type": "table"
           }
          ]
         },
         "layout": {
          "annotationdefaults": {
           "arrowcolor": "#2a3f5f",
           "arrowhead": 0,
           "arrowwidth": 1
          },
          "autotypenumbers": "strict",
          "coloraxis": {
           "colorbar": {
            "outlinewidth": 0,
            "ticks": ""
           }
          },
          "colorscale": {
           "diverging": [
            [
             0,
             "#8e0152"
            ],
            [
             0.1,
             "#c51b7d"
            ],
            [
             0.2,
             "#de77ae"
            ],
            [
             0.3,
             "#f1b6da"
            ],
            [
             0.4,
             "#fde0ef"
            ],
            [
             0.5,
             "#f7f7f7"
            ],
            [
             0.6,
             "#e6f5d0"
            ],
            [
             0.7,
             "#b8e186"
            ],
            [
             0.8,
             "#7fbc41"
            ],
            [
             0.9,
             "#4d9221"
            ],
            [
             1,
             "#276419"
            ]
           ],
           "sequential": [
            [
             0,
             "#0d0887"
            ],
            [
             0.1111111111111111,
             "#46039f"
            ],
            [
             0.2222222222222222,
             "#7201a8"
            ],
            [
             0.3333333333333333,
             "#9c179e"
            ],
            [
             0.4444444444444444,
             "#bd3786"
            ],
            [
             0.5555555555555556,
             "#d8576b"
            ],
            [
             0.6666666666666666,
             "#ed7953"
            ],
            [
             0.7777777777777778,
             "#fb9f3a"
            ],
            [
             0.8888888888888888,
             "#fdca26"
            ],
            [
             1,
             "#f0f921"
            ]
           ],
           "sequentialminus": [
            [
             0,
             "#0d0887"
            ],
            [
             0.1111111111111111,
             "#46039f"
            ],
            [
             0.2222222222222222,
             "#7201a8"
            ],
            [
             0.3333333333333333,
             "#9c179e"
            ],
            [
             0.4444444444444444,
             "#bd3786"
            ],
            [
             0.5555555555555556,
             "#d8576b"
            ],
            [
             0.6666666666666666,
             "#ed7953"
            ],
            [
             0.7777777777777778,
             "#fb9f3a"
            ],
            [
             0.8888888888888888,
             "#fdca26"
            ],
            [
             1,
             "#f0f921"
            ]
           ]
          },
          "colorway": [
           "#636efa",
           "#EF553B",
           "#00cc96",
           "#ab63fa",
           "#FFA15A",
           "#19d3f3",
           "#FF6692",
           "#B6E880",
           "#FF97FF",
           "#FECB52"
          ],
          "font": {
           "color": "#2a3f5f"
          },
          "geo": {
           "bgcolor": "white",
           "lakecolor": "white",
           "landcolor": "#E5ECF6",
           "showlakes": true,
           "showland": true,
           "subunitcolor": "white"
          },
          "hoverlabel": {
           "align": "left"
          },
          "hovermode": "closest",
          "mapbox": {
           "style": "light"
          },
          "paper_bgcolor": "white",
          "plot_bgcolor": "#E5ECF6",
          "polar": {
           "angularaxis": {
            "gridcolor": "white",
            "linecolor": "white",
            "ticks": ""
           },
           "bgcolor": "#E5ECF6",
           "radialaxis": {
            "gridcolor": "white",
            "linecolor": "white",
            "ticks": ""
           }
          },
          "scene": {
           "xaxis": {
            "backgroundcolor": "#E5ECF6",
            "gridcolor": "white",
            "gridwidth": 2,
            "linecolor": "white",
            "showbackground": true,
            "ticks": "",
            "zerolinecolor": "white"
           },
           "yaxis": {
            "backgroundcolor": "#E5ECF6",
            "gridcolor": "white",
            "gridwidth": 2,
            "linecolor": "white",
            "showbackground": true,
            "ticks": "",
            "zerolinecolor": "white"
           },
           "zaxis": {
            "backgroundcolor": "#E5ECF6",
            "gridcolor": "white",
            "gridwidth": 2,
            "linecolor": "white",
            "showbackground": true,
            "ticks": "",
            "zerolinecolor": "white"
           }
          },
          "shapedefaults": {
           "line": {
            "color": "#2a3f5f"
           }
          },
          "ternary": {
           "aaxis": {
            "gridcolor": "white",
            "linecolor": "white",
            "ticks": ""
           },
           "baxis": {
            "gridcolor": "white",
            "linecolor": "white",
            "ticks": ""
           },
           "bgcolor": "#E5ECF6",
           "caxis": {
            "gridcolor": "white",
            "linecolor": "white",
            "ticks": ""
           }
          },
          "title": {
           "x": 0.05
          },
          "xaxis": {
           "automargin": true,
           "gridcolor": "white",
           "linecolor": "white",
           "ticks": "",
           "title": {
            "standoff": 15
           },
           "zerolinecolor": "white",
           "zerolinewidth": 2
          },
          "yaxis": {
           "automargin": true,
           "gridcolor": "white",
           "linecolor": "white",
           "ticks": "",
           "title": {
            "standoff": 15
           },
           "zerolinecolor": "white",
           "zerolinewidth": 2
          }
         }
        },
        "title": {
         "font": {
          "size": 24
         },
         "text": "Abortion Rate by Year"
        },
        "width": 1000,
        "xaxis": {
         "title": {
          "text": "Year"
         }
        },
        "yaxis": {
         "title": {
          "text": "Abortion Rate"
         }
        }
       }
      }
     },
     "metadata": {},
     "output_type": "display_data"
    }
   ],
   "source": [
    "gen_figure(data_df, 'abortion_rate', 'Abortion Rate by Year', 'Abortion Rate')"
   ]
  },
  {
   "attachments": {},
   "cell_type": "markdown",
   "metadata": {},
   "source": [
    "<h4> Abortion Rate </h4>\n",
    "\n",
    "* Divided the abortion occurrences of a state by its population and multiply by 100,000\n",
    "* In general, the trends across 13 states are steady and share a comparatively low abortion rate except for New Hamshire and New Mexico; also, the differences between each state's abortion rate are small\n",
    "    * New Hamshire: Observe an conspicuously high abortion rate compared to its counterpart states and salient fluctuation compared to the rest of the states. However, it has a sudden decrease from 2018 to 2019 and an increase from 2019 to 2020\n",
    "    * New Mexico: While sharing a similarly low and steady trend as its counterparts, it had a drastic increase from 2017 to 2018, followed by a sudden decrease from 2018 to 2019, and then another sharp increase from 2019 to 2020"
   ]
  },
  {
   "attachments": {},
   "cell_type": "markdown",
   "metadata": {},
   "source": [
    "### 5.5 Rape Rate by Year"
   ]
  },
  {
   "cell_type": "code",
   "execution_count": 20,
   "metadata": {},
   "outputs": [
    {
     "data": {
      "application/vnd.plotly.v1+json": {
       "config": {
        "plotlyServerURL": "https://plot.ly"
       },
       "data": [
        {
         "hovertemplate": "<b>%{text:.2f}%</b><brstate: %{name}<br>year: %{x}",
         "line": {
          "color": "#FEAF16",
          "width": 2
         },
         "mode": "lines",
         "name": "Alaska",
         "text": [
          60.2,
          79.7,
          125.4,
          104.7,
          122,
          141.9,
          116.7,
          161.6,
          148.7,
          154.8
         ],
         "type": "scatter",
         "x": [
          2011,
          2012,
          2013,
          2014,
          2015,
          2016,
          2017,
          2018,
          2019,
          2020
         ],
         "y": [
          60.2,
          79.7,
          125.4,
          104.7,
          122,
          141.9,
          116.7,
          161.6,
          148.7,
          154.8
         ]
        },
        {
         "hovertemplate": "<b>%{text:.2f}%</b><brstate: %{name}<br>year: %{x}",
         "line": {
          "color": "#FEAF16",
          "width": 2
         },
         "mode": "lines",
         "name": "Arkansas",
         "text": [
          41.9,
          42.3,
          48.1,
          59.4,
          64.8,
          71.7,
          68.3,
          72.9,
          77.2,
          73.5
         ],
         "type": "scatter",
         "x": [
          2011,
          2012,
          2013,
          2014,
          2015,
          2016,
          2017,
          2018,
          2019,
          2020
         ],
         "y": [
          41.9,
          42.3,
          48.1,
          59.4,
          64.8,
          71.7,
          68.3,
          72.9,
          77.2,
          73.5
         ]
        },
        {
         "hovertemplate": "<b>%{text:.2f}%</b><brstate: %{name}<br>year: %{x}",
         "line": {
          "color": "#FEAF16",
          "width": 2
         },
         "mode": "lines",
         "name": "Colorado",
         "text": [
          44.7,
          40.7,
          55.7,
          56.7,
          59.7,
          64.2,
          68.8,
          71.5,
          67.2,
          62.9
         ],
         "type": "scatter",
         "x": [
          2011,
          2012,
          2013,
          2014,
          2015,
          2016,
          2017,
          2018,
          2019,
          2020
         ],
         "y": [
          44.7,
          40.7,
          55.7,
          56.7,
          59.7,
          64.2,
          68.8,
          71.5,
          67.2,
          62.9
         ]
        },
        {
         "hovertemplate": "<b>%{text:.2f}%</b><brstate: %{name}<br>year: %{x}",
         "line": {
          "color": "#750D86",
          "width": 2
         },
         "mode": "lines",
         "name": "Connecticut",
         "text": [
          19.2,
          25.6,
          26.6,
          21.7,
          21.5,
          21.3,
          23.3,
          23.5,
          21.6,
          16.7
         ],
         "type": "scatter",
         "x": [
          2011,
          2012,
          2013,
          2014,
          2015,
          2016,
          2017,
          2018,
          2019,
          2020
         ],
         "y": [
          19.2,
          25.6,
          26.6,
          21.7,
          21.5,
          21.3,
          23.3,
          23.5,
          21.6,
          16.7
         ]
        },
        {
         "hovertemplate": "<b>%{text:.2f}%</b><brstate: %{name}<br>year: %{x}",
         "line": {
          "color": "#750D86",
          "width": 2
         },
         "mode": "lines",
         "name": "Delaware",
         "text": [
          33.8,
          26.5,
          41,
          41.3,
          36,
          32.4,
          34.7,
          34.9,
          31.8,
          26.4
         ],
         "type": "scatter",
         "x": [
          2011,
          2012,
          2013,
          2014,
          2015,
          2016,
          2017,
          2018,
          2019,
          2020
         ],
         "y": [
          33.8,
          26.5,
          41,
          41.3,
          36,
          32.4,
          34.7,
          34.9,
          31.8,
          26.4
         ]
        },
        {
         "hovertemplate": "<b>%{text:.2f}%</b><brstate: %{name}<br>year: %{x}",
         "line": {
          "color": "#00AB8B",
          "width": 2
         },
         "mode": "lines",
         "name": "Hawaii",
         "text": [
          25.6,
          20.5,
          27.4,
          31.3,
          39.2,
          43.3,
          39.7,
          44,
          54,
          40.4
         ],
         "type": "scatter",
         "x": [
          2011,
          2012,
          2013,
          2014,
          2015,
          2016,
          2017,
          2018,
          2019,
          2020
         ],
         "y": [
          25.6,
          20.5,
          27.4,
          31.3,
          39.2,
          43.3,
          39.7,
          44,
          54,
          40.4
         ]
        },
        {
         "hovertemplate": "<b>%{text:.2f}%</b><brstate: %{name}<br>year: %{x}",
         "line": {
          "color": "#00AB8B",
          "width": 2
         },
         "mode": "lines",
         "name": "Illinois",
         "text": [
          23.6,
          27.7,
          33.1,
          32.3,
          37.5,
          38.3,
          43.4,
          46,
          48,
          40.4
         ],
         "type": "scatter",
         "x": [
          2011,
          2012,
          2013,
          2014,
          2015,
          2016,
          2017,
          2018,
          2019,
          2020
         ],
         "y": [
          23.6,
          27.7,
          33.1,
          32.3,
          37.5,
          38.3,
          43.4,
          46,
          48,
          40.4
         ]
        },
        {
         "hovertemplate": "<b>%{text:.2f}%</b><brstate: %{name}<br>year: %{x}",
         "line": {
          "color": "#750D86",
          "width": 2
         },
         "mode": "lines",
         "name": "Massachusetts",
         "text": [
          25,
          24.7,
          40.6,
          32.3,
          30.5,
          31.2,
          32,
          34.9,
          32,
          26.9
         ],
         "type": "scatter",
         "x": [
          2011,
          2012,
          2013,
          2014,
          2015,
          2016,
          2017,
          2018,
          2019,
          2020
         ],
         "y": [
          25,
          24.7,
          40.6,
          32.3,
          30.5,
          31.2,
          32,
          34.9,
          32,
          26.9
         ]
        },
        {
         "hovertemplate": "<b>%{text:.2f}%</b><brstate: %{name}<br>year: %{x}",
         "line": {
          "color": "#FEAF16",
          "width": 2
         },
         "mode": "lines",
         "name": "Michigan",
         "text": [
          44,
          46.4,
          66.6,
          63.3,
          65,
          71.8,
          70.6,
          76.9,
          72.4,
          60.9
         ],
         "type": "scatter",
         "x": [
          2011,
          2012,
          2013,
          2014,
          2015,
          2016,
          2017,
          2018,
          2019,
          2020
         ],
         "y": [
          44,
          46.4,
          66.6,
          63.3,
          65,
          71.8,
          70.6,
          76.9,
          72.4,
          60.9
         ]
        },
        {
         "hovertemplate": "<b>%{text:.2f}%</b><brstate: %{name}<br>year: %{x}",
         "line": {
          "color": "#00AB8B",
          "width": 2
         },
         "mode": "lines",
         "name": "Minnesota",
         "text": [
          39.5,
          30.5,
          37,
          36.7,
          42.3,
          42.5,
          42.8,
          43.9,
          43.4,
          39.1
         ],
         "type": "scatter",
         "x": [
          2011,
          2012,
          2013,
          2014,
          2015,
          2016,
          2017,
          2018,
          2019,
          2020
         ],
         "y": [
          39.5,
          30.5,
          37,
          36.7,
          42.3,
          42.5,
          42.8,
          43.9,
          43.4,
          39.1
         ]
        },
        {
         "hovertemplate": "<b>%{text:.2f}%</b><brstate: %{name}<br>year: %{x}",
         "line": {
          "color": "#00AB8B",
          "width": 2
         },
         "mode": "lines",
         "name": "New Hampshire",
         "text": [
          44.1,
          34,
          51.8,
          44.8,
          47.1,
          43.6,
          49.4,
          39.4,
          43.4,
          39.7
         ],
         "type": "scatter",
         "x": [
          2011,
          2012,
          2013,
          2014,
          2015,
          2016,
          2017,
          2018,
          2019,
          2020
         ],
         "y": [
          44.1,
          34,
          51.8,
          44.8,
          47.1,
          43.6,
          49.4,
          39.4,
          43.4,
          39.7
         ]
        },
        {
         "hovertemplate": "<b>%{text:.2f}%</b><brstate: %{name}<br>year: %{x}",
         "line": {
          "color": "#750D86",
          "width": 2
         },
         "mode": "lines",
         "name": "New Jersey",
         "text": [
          11.4,
          11.7,
          12.6,
          14.3,
          15.3,
          16.2,
          16.7,
          16,
          17.2,
          14.4
         ],
         "type": "scatter",
         "x": [
          2011,
          2012,
          2013,
          2014,
          2015,
          2016,
          2017,
          2018,
          2019,
          2020
         ],
         "y": [
          11.4,
          11.7,
          12.6,
          14.3,
          15.3,
          16.2,
          16.7,
          16,
          17.2,
          14.4
         ]
        },
        {
         "hovertemplate": "<b>%{text:.2f}%</b><brstate: %{name}<br>year: %{x}",
         "line": {
          "color": "#00AB8B",
          "width": 2
         },
         "mode": "lines",
         "name": "South Carolina",
         "text": [
          35.9,
          35.5,
          45.5,
          42.8,
          46.9,
          48.1,
          49.8,
          47.9,
          47.8,
          40
         ],
         "type": "scatter",
         "x": [
          2011,
          2012,
          2013,
          2014,
          2015,
          2016,
          2017,
          2018,
          2019,
          2020
         ],
         "y": [
          35.9,
          35.5,
          45.5,
          42.8,
          46.9,
          48.1,
          49.8,
          47.9,
          47.8,
          40
         ]
        },
        {
         "hovertemplate": "<b>%{text:.2f}%</b><brstate: %{name}<br>year: %{x}",
         "line": {
          "color": "#FEAF16",
          "width": 2
         },
         "mode": "lines",
         "name": "South Dakota",
         "text": [
          61.1,
          70.2,
          59.1,
          55.1,
          57.7,
          58.8,
          68.4,
          69.6,
          72.6,
          67.1
         ],
         "type": "scatter",
         "x": [
          2011,
          2012,
          2013,
          2014,
          2015,
          2016,
          2017,
          2018,
          2019,
          2020
         ],
         "y": [
          61.1,
          70.2,
          59.1,
          55.1,
          57.7,
          58.8,
          68.4,
          69.6,
          72.6,
          67.1
         ]
        },
        {
         "hovertemplate": "<b>%{text:.2f}%</b><brstate: %{name}<br>year: %{x}",
         "line": {
          "color": "#00AB8B",
          "width": 2
         },
         "mode": "lines",
         "name": "Tennessee",
         "text": [
          32.7,
          31.5,
          36.2,
          38.6,
          40.5,
          40.8,
          43.7,
          41.7,
          41.2,
          38.9
         ],
         "type": "scatter",
         "x": [
          2011,
          2012,
          2013,
          2014,
          2015,
          2016,
          2017,
          2018,
          2019,
          2020
         ],
         "y": [
          32.7,
          31.5,
          36.2,
          38.6,
          40.5,
          40.8,
          43.7,
          41.7,
          41.2,
          38.9
         ]
        },
        {
         "hovertemplate": "<b>%{text:.2f}%</b><brstate: %{name}<br>year: %{x}",
         "line": {
          "color": "#750D86",
          "width": 2
         },
         "mode": "lines",
         "name": "Virginia",
         "text": [
          19.6,
          17.7,
          27.4,
          27.7,
          27.9,
          32.5,
          33.8,
          34.3,
          33,
          26.5
         ],
         "type": "scatter",
         "x": [
          2011,
          2012,
          2013,
          2014,
          2015,
          2016,
          2017,
          2018,
          2019,
          2020
         ],
         "y": [
          19.6,
          17.7,
          27.4,
          27.7,
          27.9,
          32.5,
          33.8,
          34.3,
          33,
          26.5
         ]
        }
       ],
       "layout": {
        "height": 600,
        "legend": {
         "title": {
          "text": "States:"
         }
        },
        "template": {
         "data": {
          "bar": [
           {
            "error_x": {
             "color": "#2a3f5f"
            },
            "error_y": {
             "color": "#2a3f5f"
            },
            "marker": {
             "line": {
              "color": "#E5ECF6",
              "width": 0.5
             },
             "pattern": {
              "fillmode": "overlay",
              "size": 10,
              "solidity": 0.2
             }
            },
            "type": "bar"
           }
          ],
          "barpolar": [
           {
            "marker": {
             "line": {
              "color": "#E5ECF6",
              "width": 0.5
             },
             "pattern": {
              "fillmode": "overlay",
              "size": 10,
              "solidity": 0.2
             }
            },
            "type": "barpolar"
           }
          ],
          "carpet": [
           {
            "aaxis": {
             "endlinecolor": "#2a3f5f",
             "gridcolor": "white",
             "linecolor": "white",
             "minorgridcolor": "white",
             "startlinecolor": "#2a3f5f"
            },
            "baxis": {
             "endlinecolor": "#2a3f5f",
             "gridcolor": "white",
             "linecolor": "white",
             "minorgridcolor": "white",
             "startlinecolor": "#2a3f5f"
            },
            "type": "carpet"
           }
          ],
          "choropleth": [
           {
            "colorbar": {
             "outlinewidth": 0,
             "ticks": ""
            },
            "type": "choropleth"
           }
          ],
          "contour": [
           {
            "colorbar": {
             "outlinewidth": 0,
             "ticks": ""
            },
            "colorscale": [
             [
              0,
              "#0d0887"
             ],
             [
              0.1111111111111111,
              "#46039f"
             ],
             [
              0.2222222222222222,
              "#7201a8"
             ],
             [
              0.3333333333333333,
              "#9c179e"
             ],
             [
              0.4444444444444444,
              "#bd3786"
             ],
             [
              0.5555555555555556,
              "#d8576b"
             ],
             [
              0.6666666666666666,
              "#ed7953"
             ],
             [
              0.7777777777777778,
              "#fb9f3a"
             ],
             [
              0.8888888888888888,
              "#fdca26"
             ],
             [
              1,
              "#f0f921"
             ]
            ],
            "type": "contour"
           }
          ],
          "contourcarpet": [
           {
            "colorbar": {
             "outlinewidth": 0,
             "ticks": ""
            },
            "type": "contourcarpet"
           }
          ],
          "heatmap": [
           {
            "colorbar": {
             "outlinewidth": 0,
             "ticks": ""
            },
            "colorscale": [
             [
              0,
              "#0d0887"
             ],
             [
              0.1111111111111111,
              "#46039f"
             ],
             [
              0.2222222222222222,
              "#7201a8"
             ],
             [
              0.3333333333333333,
              "#9c179e"
             ],
             [
              0.4444444444444444,
              "#bd3786"
             ],
             [
              0.5555555555555556,
              "#d8576b"
             ],
             [
              0.6666666666666666,
              "#ed7953"
             ],
             [
              0.7777777777777778,
              "#fb9f3a"
             ],
             [
              0.8888888888888888,
              "#fdca26"
             ],
             [
              1,
              "#f0f921"
             ]
            ],
            "type": "heatmap"
           }
          ],
          "heatmapgl": [
           {
            "colorbar": {
             "outlinewidth": 0,
             "ticks": ""
            },
            "colorscale": [
             [
              0,
              "#0d0887"
             ],
             [
              0.1111111111111111,
              "#46039f"
             ],
             [
              0.2222222222222222,
              "#7201a8"
             ],
             [
              0.3333333333333333,
              "#9c179e"
             ],
             [
              0.4444444444444444,
              "#bd3786"
             ],
             [
              0.5555555555555556,
              "#d8576b"
             ],
             [
              0.6666666666666666,
              "#ed7953"
             ],
             [
              0.7777777777777778,
              "#fb9f3a"
             ],
             [
              0.8888888888888888,
              "#fdca26"
             ],
             [
              1,
              "#f0f921"
             ]
            ],
            "type": "heatmapgl"
           }
          ],
          "histogram": [
           {
            "marker": {
             "pattern": {
              "fillmode": "overlay",
              "size": 10,
              "solidity": 0.2
             }
            },
            "type": "histogram"
           }
          ],
          "histogram2d": [
           {
            "colorbar": {
             "outlinewidth": 0,
             "ticks": ""
            },
            "colorscale": [
             [
              0,
              "#0d0887"
             ],
             [
              0.1111111111111111,
              "#46039f"
             ],
             [
              0.2222222222222222,
              "#7201a8"
             ],
             [
              0.3333333333333333,
              "#9c179e"
             ],
             [
              0.4444444444444444,
              "#bd3786"
             ],
             [
              0.5555555555555556,
              "#d8576b"
             ],
             [
              0.6666666666666666,
              "#ed7953"
             ],
             [
              0.7777777777777778,
              "#fb9f3a"
             ],
             [
              0.8888888888888888,
              "#fdca26"
             ],
             [
              1,
              "#f0f921"
             ]
            ],
            "type": "histogram2d"
           }
          ],
          "histogram2dcontour": [
           {
            "colorbar": {
             "outlinewidth": 0,
             "ticks": ""
            },
            "colorscale": [
             [
              0,
              "#0d0887"
             ],
             [
              0.1111111111111111,
              "#46039f"
             ],
             [
              0.2222222222222222,
              "#7201a8"
             ],
             [
              0.3333333333333333,
              "#9c179e"
             ],
             [
              0.4444444444444444,
              "#bd3786"
             ],
             [
              0.5555555555555556,
              "#d8576b"
             ],
             [
              0.6666666666666666,
              "#ed7953"
             ],
             [
              0.7777777777777778,
              "#fb9f3a"
             ],
             [
              0.8888888888888888,
              "#fdca26"
             ],
             [
              1,
              "#f0f921"
             ]
            ],
            "type": "histogram2dcontour"
           }
          ],
          "mesh3d": [
           {
            "colorbar": {
             "outlinewidth": 0,
             "ticks": ""
            },
            "type": "mesh3d"
           }
          ],
          "parcoords": [
           {
            "line": {
             "colorbar": {
              "outlinewidth": 0,
              "ticks": ""
             }
            },
            "type": "parcoords"
           }
          ],
          "pie": [
           {
            "automargin": true,
            "type": "pie"
           }
          ],
          "scatter": [
           {
            "marker": {
             "colorbar": {
              "outlinewidth": 0,
              "ticks": ""
             }
            },
            "type": "scatter"
           }
          ],
          "scatter3d": [
           {
            "line": {
             "colorbar": {
              "outlinewidth": 0,
              "ticks": ""
             }
            },
            "marker": {
             "colorbar": {
              "outlinewidth": 0,
              "ticks": ""
             }
            },
            "type": "scatter3d"
           }
          ],
          "scattercarpet": [
           {
            "marker": {
             "colorbar": {
              "outlinewidth": 0,
              "ticks": ""
             }
            },
            "type": "scattercarpet"
           }
          ],
          "scattergeo": [
           {
            "marker": {
             "colorbar": {
              "outlinewidth": 0,
              "ticks": ""
             }
            },
            "type": "scattergeo"
           }
          ],
          "scattergl": [
           {
            "marker": {
             "colorbar": {
              "outlinewidth": 0,
              "ticks": ""
             }
            },
            "type": "scattergl"
           }
          ],
          "scattermapbox": [
           {
            "marker": {
             "colorbar": {
              "outlinewidth": 0,
              "ticks": ""
             }
            },
            "type": "scattermapbox"
           }
          ],
          "scatterpolar": [
           {
            "marker": {
             "colorbar": {
              "outlinewidth": 0,
              "ticks": ""
             }
            },
            "type": "scatterpolar"
           }
          ],
          "scatterpolargl": [
           {
            "marker": {
             "colorbar": {
              "outlinewidth": 0,
              "ticks": ""
             }
            },
            "type": "scatterpolargl"
           }
          ],
          "scatterternary": [
           {
            "marker": {
             "colorbar": {
              "outlinewidth": 0,
              "ticks": ""
             }
            },
            "type": "scatterternary"
           }
          ],
          "surface": [
           {
            "colorbar": {
             "outlinewidth": 0,
             "ticks": ""
            },
            "colorscale": [
             [
              0,
              "#0d0887"
             ],
             [
              0.1111111111111111,
              "#46039f"
             ],
             [
              0.2222222222222222,
              "#7201a8"
             ],
             [
              0.3333333333333333,
              "#9c179e"
             ],
             [
              0.4444444444444444,
              "#bd3786"
             ],
             [
              0.5555555555555556,
              "#d8576b"
             ],
             [
              0.6666666666666666,
              "#ed7953"
             ],
             [
              0.7777777777777778,
              "#fb9f3a"
             ],
             [
              0.8888888888888888,
              "#fdca26"
             ],
             [
              1,
              "#f0f921"
             ]
            ],
            "type": "surface"
           }
          ],
          "table": [
           {
            "cells": {
             "fill": {
              "color": "#EBF0F8"
             },
             "line": {
              "color": "white"
             }
            },
            "header": {
             "fill": {
              "color": "#C8D4E3"
             },
             "line": {
              "color": "white"
             }
            },
            "type": "table"
           }
          ]
         },
         "layout": {
          "annotationdefaults": {
           "arrowcolor": "#2a3f5f",
           "arrowhead": 0,
           "arrowwidth": 1
          },
          "autotypenumbers": "strict",
          "coloraxis": {
           "colorbar": {
            "outlinewidth": 0,
            "ticks": ""
           }
          },
          "colorscale": {
           "diverging": [
            [
             0,
             "#8e0152"
            ],
            [
             0.1,
             "#c51b7d"
            ],
            [
             0.2,
             "#de77ae"
            ],
            [
             0.3,
             "#f1b6da"
            ],
            [
             0.4,
             "#fde0ef"
            ],
            [
             0.5,
             "#f7f7f7"
            ],
            [
             0.6,
             "#e6f5d0"
            ],
            [
             0.7,
             "#b8e186"
            ],
            [
             0.8,
             "#7fbc41"
            ],
            [
             0.9,
             "#4d9221"
            ],
            [
             1,
             "#276419"
            ]
           ],
           "sequential": [
            [
             0,
             "#0d0887"
            ],
            [
             0.1111111111111111,
             "#46039f"
            ],
            [
             0.2222222222222222,
             "#7201a8"
            ],
            [
             0.3333333333333333,
             "#9c179e"
            ],
            [
             0.4444444444444444,
             "#bd3786"
            ],
            [
             0.5555555555555556,
             "#d8576b"
            ],
            [
             0.6666666666666666,
             "#ed7953"
            ],
            [
             0.7777777777777778,
             "#fb9f3a"
            ],
            [
             0.8888888888888888,
             "#fdca26"
            ],
            [
             1,
             "#f0f921"
            ]
           ],
           "sequentialminus": [
            [
             0,
             "#0d0887"
            ],
            [
             0.1111111111111111,
             "#46039f"
            ],
            [
             0.2222222222222222,
             "#7201a8"
            ],
            [
             0.3333333333333333,
             "#9c179e"
            ],
            [
             0.4444444444444444,
             "#bd3786"
            ],
            [
             0.5555555555555556,
             "#d8576b"
            ],
            [
             0.6666666666666666,
             "#ed7953"
            ],
            [
             0.7777777777777778,
             "#fb9f3a"
            ],
            [
             0.8888888888888888,
             "#fdca26"
            ],
            [
             1,
             "#f0f921"
            ]
           ]
          },
          "colorway": [
           "#636efa",
           "#EF553B",
           "#00cc96",
           "#ab63fa",
           "#FFA15A",
           "#19d3f3",
           "#FF6692",
           "#B6E880",
           "#FF97FF",
           "#FECB52"
          ],
          "font": {
           "color": "#2a3f5f"
          },
          "geo": {
           "bgcolor": "white",
           "lakecolor": "white",
           "landcolor": "#E5ECF6",
           "showlakes": true,
           "showland": true,
           "subunitcolor": "white"
          },
          "hoverlabel": {
           "align": "left"
          },
          "hovermode": "closest",
          "mapbox": {
           "style": "light"
          },
          "paper_bgcolor": "white",
          "plot_bgcolor": "#E5ECF6",
          "polar": {
           "angularaxis": {
            "gridcolor": "white",
            "linecolor": "white",
            "ticks": ""
           },
           "bgcolor": "#E5ECF6",
           "radialaxis": {
            "gridcolor": "white",
            "linecolor": "white",
            "ticks": ""
           }
          },
          "scene": {
           "xaxis": {
            "backgroundcolor": "#E5ECF6",
            "gridcolor": "white",
            "gridwidth": 2,
            "linecolor": "white",
            "showbackground": true,
            "ticks": "",
            "zerolinecolor": "white"
           },
           "yaxis": {
            "backgroundcolor": "#E5ECF6",
            "gridcolor": "white",
            "gridwidth": 2,
            "linecolor": "white",
            "showbackground": true,
            "ticks": "",
            "zerolinecolor": "white"
           },
           "zaxis": {
            "backgroundcolor": "#E5ECF6",
            "gridcolor": "white",
            "gridwidth": 2,
            "linecolor": "white",
            "showbackground": true,
            "ticks": "",
            "zerolinecolor": "white"
           }
          },
          "shapedefaults": {
           "line": {
            "color": "#2a3f5f"
           }
          },
          "ternary": {
           "aaxis": {
            "gridcolor": "white",
            "linecolor": "white",
            "ticks": ""
           },
           "baxis": {
            "gridcolor": "white",
            "linecolor": "white",
            "ticks": ""
           },
           "bgcolor": "#E5ECF6",
           "caxis": {
            "gridcolor": "white",
            "linecolor": "white",
            "ticks": ""
           }
          },
          "title": {
           "x": 0.05
          },
          "xaxis": {
           "automargin": true,
           "gridcolor": "white",
           "linecolor": "white",
           "ticks": "",
           "title": {
            "standoff": 15
           },
           "zerolinecolor": "white",
           "zerolinewidth": 2
          },
          "yaxis": {
           "automargin": true,
           "gridcolor": "white",
           "linecolor": "white",
           "ticks": "",
           "title": {
            "standoff": 15
           },
           "zerolinecolor": "white",
           "zerolinewidth": 2
          }
         }
        },
        "title": {
         "font": {
          "size": 24
         },
         "text": "Rape Rate by Year"
        },
        "width": 1000,
        "xaxis": {
         "title": {
          "text": "Year"
         }
        },
        "yaxis": {
         "title": {
          "text": "Rape Rate"
         }
        }
       }
      }
     },
     "metadata": {},
     "output_type": "display_data"
    }
   ],
   "source": [
    "gen_figure(data_df, 'rape_rate', 'Rape Rate by Year', 'Rape Rate')"
   ]
  },
  {
   "attachments": {},
   "cell_type": "markdown",
   "metadata": {},
   "source": [
    "<h4> Rape Rate </h4>\n",
    "\n",
    "* Divided the rape occurrences of a state by its population and multiply by 100,000\n",
    "* In general, the trends across 14 states are steady except for Alaska; also, the differences between each state's rape rate are small. We also see some overlap between the middle 10% states and bottom 10% states\n",
    "    * Alaska: Observe an abnormal and salient fluctuation compared to the rest of the states. Furthermore, it has a significant higher rape rate than the rest of the states"
   ]
  },
  {
   "cell_type": "code",
   "execution_count": 24,
   "metadata": {},
   "outputs": [
    {
     "data": {
      "application/vnd.plotly.v1+json": {
       "config": {
        "plotlyServerURL": "https://plot.ly"
       },
       "data": [
        {
         "line": {
          "color": "#EECA3B"
         },
         "mode": "markers+lines",
         "name": "Upper Quartile",
         "type": "scatter",
         "x": [
          2011,
          2012,
          2013,
          2014,
          2015,
          2016,
          2017,
          2018,
          2019,
          2020
         ],
         "y": [
          37.15,
          34.525000000000006,
          45.575,
          45.8,
          46.675,
          48.075,
          52.375,
          51.725,
          55.5,
          50.425000000000004
         ]
        },
        {
         "marker": {
          "color": "#54A24B"
         },
         "mode": "markers+lines",
         "name": "Median",
         "type": "scatter",
         "x": [
          2011,
          2012,
          2013,
          2014,
          2015,
          2016,
          2017,
          2018,
          2019,
          2020
         ],
         "y": [
          29.45,
          28.15,
          36.9,
          37,
          39.85,
          41.849999999999994,
          43.099999999999994,
          44.35,
          44.2,
          39.85
         ]
        },
        {
         "line": {
          "color": "#4C78A8"
         },
         "mode": "markers+lines",
         "name": "Lower Quartile",
         "type": "scatter",
         "x": [
          2011,
          2012,
          2013,
          2014,
          2015,
          2016,
          2017,
          2018,
          2019,
          2020
         ],
         "y": [
          24.549999999999997,
          25.125,
          31.35,
          29.974999999999998,
          33.625,
          34.75,
          36.675,
          35.1,
          36.824999999999996,
          34.2
         ]
        },
        {
         "marker": {
          "color": "#9467BD"
         },
         "mode": "markers+lines",
         "name": "Min",
         "type": "scatter",
         "x": [
          2011,
          2012,
          2013,
          2014,
          2015,
          2016,
          2017,
          2018,
          2019,
          2020
         ],
         "y": [
          11.4,
          11.7,
          12.6,
          14.3,
          15.3,
          16.2,
          16.7,
          16,
          17.2,
          14.4
         ]
        }
       ],
       "layout": {
        "height": 600,
        "template": {
         "data": {
          "bar": [
           {
            "error_x": {
             "color": "#2a3f5f"
            },
            "error_y": {
             "color": "#2a3f5f"
            },
            "marker": {
             "line": {
              "color": "#E5ECF6",
              "width": 0.5
             },
             "pattern": {
              "fillmode": "overlay",
              "size": 10,
              "solidity": 0.2
             }
            },
            "type": "bar"
           }
          ],
          "barpolar": [
           {
            "marker": {
             "line": {
              "color": "#E5ECF6",
              "width": 0.5
             },
             "pattern": {
              "fillmode": "overlay",
              "size": 10,
              "solidity": 0.2
             }
            },
            "type": "barpolar"
           }
          ],
          "carpet": [
           {
            "aaxis": {
             "endlinecolor": "#2a3f5f",
             "gridcolor": "white",
             "linecolor": "white",
             "minorgridcolor": "white",
             "startlinecolor": "#2a3f5f"
            },
            "baxis": {
             "endlinecolor": "#2a3f5f",
             "gridcolor": "white",
             "linecolor": "white",
             "minorgridcolor": "white",
             "startlinecolor": "#2a3f5f"
            },
            "type": "carpet"
           }
          ],
          "choropleth": [
           {
            "colorbar": {
             "outlinewidth": 0,
             "ticks": ""
            },
            "type": "choropleth"
           }
          ],
          "contour": [
           {
            "colorbar": {
             "outlinewidth": 0,
             "ticks": ""
            },
            "colorscale": [
             [
              0,
              "#0d0887"
             ],
             [
              0.1111111111111111,
              "#46039f"
             ],
             [
              0.2222222222222222,
              "#7201a8"
             ],
             [
              0.3333333333333333,
              "#9c179e"
             ],
             [
              0.4444444444444444,
              "#bd3786"
             ],
             [
              0.5555555555555556,
              "#d8576b"
             ],
             [
              0.6666666666666666,
              "#ed7953"
             ],
             [
              0.7777777777777778,
              "#fb9f3a"
             ],
             [
              0.8888888888888888,
              "#fdca26"
             ],
             [
              1,
              "#f0f921"
             ]
            ],
            "type": "contour"
           }
          ],
          "contourcarpet": [
           {
            "colorbar": {
             "outlinewidth": 0,
             "ticks": ""
            },
            "type": "contourcarpet"
           }
          ],
          "heatmap": [
           {
            "colorbar": {
             "outlinewidth": 0,
             "ticks": ""
            },
            "colorscale": [
             [
              0,
              "#0d0887"
             ],
             [
              0.1111111111111111,
              "#46039f"
             ],
             [
              0.2222222222222222,
              "#7201a8"
             ],
             [
              0.3333333333333333,
              "#9c179e"
             ],
             [
              0.4444444444444444,
              "#bd3786"
             ],
             [
              0.5555555555555556,
              "#d8576b"
             ],
             [
              0.6666666666666666,
              "#ed7953"
             ],
             [
              0.7777777777777778,
              "#fb9f3a"
             ],
             [
              0.8888888888888888,
              "#fdca26"
             ],
             [
              1,
              "#f0f921"
             ]
            ],
            "type": "heatmap"
           }
          ],
          "heatmapgl": [
           {
            "colorbar": {
             "outlinewidth": 0,
             "ticks": ""
            },
            "colorscale": [
             [
              0,
              "#0d0887"
             ],
             [
              0.1111111111111111,
              "#46039f"
             ],
             [
              0.2222222222222222,
              "#7201a8"
             ],
             [
              0.3333333333333333,
              "#9c179e"
             ],
             [
              0.4444444444444444,
              "#bd3786"
             ],
             [
              0.5555555555555556,
              "#d8576b"
             ],
             [
              0.6666666666666666,
              "#ed7953"
             ],
             [
              0.7777777777777778,
              "#fb9f3a"
             ],
             [
              0.8888888888888888,
              "#fdca26"
             ],
             [
              1,
              "#f0f921"
             ]
            ],
            "type": "heatmapgl"
           }
          ],
          "histogram": [
           {
            "marker": {
             "pattern": {
              "fillmode": "overlay",
              "size": 10,
              "solidity": 0.2
             }
            },
            "type": "histogram"
           }
          ],
          "histogram2d": [
           {
            "colorbar": {
             "outlinewidth": 0,
             "ticks": ""
            },
            "colorscale": [
             [
              0,
              "#0d0887"
             ],
             [
              0.1111111111111111,
              "#46039f"
             ],
             [
              0.2222222222222222,
              "#7201a8"
             ],
             [
              0.3333333333333333,
              "#9c179e"
             ],
             [
              0.4444444444444444,
              "#bd3786"
             ],
             [
              0.5555555555555556,
              "#d8576b"
             ],
             [
              0.6666666666666666,
              "#ed7953"
             ],
             [
              0.7777777777777778,
              "#fb9f3a"
             ],
             [
              0.8888888888888888,
              "#fdca26"
             ],
             [
              1,
              "#f0f921"
             ]
            ],
            "type": "histogram2d"
           }
          ],
          "histogram2dcontour": [
           {
            "colorbar": {
             "outlinewidth": 0,
             "ticks": ""
            },
            "colorscale": [
             [
              0,
              "#0d0887"
             ],
             [
              0.1111111111111111,
              "#46039f"
             ],
             [
              0.2222222222222222,
              "#7201a8"
             ],
             [
              0.3333333333333333,
              "#9c179e"
             ],
             [
              0.4444444444444444,
              "#bd3786"
             ],
             [
              0.5555555555555556,
              "#d8576b"
             ],
             [
              0.6666666666666666,
              "#ed7953"
             ],
             [
              0.7777777777777778,
              "#fb9f3a"
             ],
             [
              0.8888888888888888,
              "#fdca26"
             ],
             [
              1,
              "#f0f921"
             ]
            ],
            "type": "histogram2dcontour"
           }
          ],
          "mesh3d": [
           {
            "colorbar": {
             "outlinewidth": 0,
             "ticks": ""
            },
            "type": "mesh3d"
           }
          ],
          "parcoords": [
           {
            "line": {
             "colorbar": {
              "outlinewidth": 0,
              "ticks": ""
             }
            },
            "type": "parcoords"
           }
          ],
          "pie": [
           {
            "automargin": true,
            "type": "pie"
           }
          ],
          "scatter": [
           {
            "marker": {
             "colorbar": {
              "outlinewidth": 0,
              "ticks": ""
             }
            },
            "type": "scatter"
           }
          ],
          "scatter3d": [
           {
            "line": {
             "colorbar": {
              "outlinewidth": 0,
              "ticks": ""
             }
            },
            "marker": {
             "colorbar": {
              "outlinewidth": 0,
              "ticks": ""
             }
            },
            "type": "scatter3d"
           }
          ],
          "scattercarpet": [
           {
            "marker": {
             "colorbar": {
              "outlinewidth": 0,
              "ticks": ""
             }
            },
            "type": "scattercarpet"
           }
          ],
          "scattergeo": [
           {
            "marker": {
             "colorbar": {
              "outlinewidth": 0,
              "ticks": ""
             }
            },
            "type": "scattergeo"
           }
          ],
          "scattergl": [
           {
            "marker": {
             "colorbar": {
              "outlinewidth": 0,
              "ticks": ""
             }
            },
            "type": "scattergl"
           }
          ],
          "scattermapbox": [
           {
            "marker": {
             "colorbar": {
              "outlinewidth": 0,
              "ticks": ""
             }
            },
            "type": "scattermapbox"
           }
          ],
          "scatterpolar": [
           {
            "marker": {
             "colorbar": {
              "outlinewidth": 0,
              "ticks": ""
             }
            },
            "type": "scatterpolar"
           }
          ],
          "scatterpolargl": [
           {
            "marker": {
             "colorbar": {
              "outlinewidth": 0,
              "ticks": ""
             }
            },
            "type": "scatterpolargl"
           }
          ],
          "scatterternary": [
           {
            "marker": {
             "colorbar": {
              "outlinewidth": 0,
              "ticks": ""
             }
            },
            "type": "scatterternary"
           }
          ],
          "surface": [
           {
            "colorbar": {
             "outlinewidth": 0,
             "ticks": ""
            },
            "colorscale": [
             [
              0,
              "#0d0887"
             ],
             [
              0.1111111111111111,
              "#46039f"
             ],
             [
              0.2222222222222222,
              "#7201a8"
             ],
             [
              0.3333333333333333,
              "#9c179e"
             ],
             [
              0.4444444444444444,
              "#bd3786"
             ],
             [
              0.5555555555555556,
              "#d8576b"
             ],
             [
              0.6666666666666666,
              "#ed7953"
             ],
             [
              0.7777777777777778,
              "#fb9f3a"
             ],
             [
              0.8888888888888888,
              "#fdca26"
             ],
             [
              1,
              "#f0f921"
             ]
            ],
            "type": "surface"
           }
          ],
          "table": [
           {
            "cells": {
             "fill": {
              "color": "#EBF0F8"
             },
             "line": {
              "color": "white"
             }
            },
            "header": {
             "fill": {
              "color": "#C8D4E3"
             },
             "line": {
              "color": "white"
             }
            },
            "type": "table"
           }
          ]
         },
         "layout": {
          "annotationdefaults": {
           "arrowcolor": "#2a3f5f",
           "arrowhead": 0,
           "arrowwidth": 1
          },
          "autotypenumbers": "strict",
          "coloraxis": {
           "colorbar": {
            "outlinewidth": 0,
            "ticks": ""
           }
          },
          "colorscale": {
           "diverging": [
            [
             0,
             "#8e0152"
            ],
            [
             0.1,
             "#c51b7d"
            ],
            [
             0.2,
             "#de77ae"
            ],
            [
             0.3,
             "#f1b6da"
            ],
            [
             0.4,
             "#fde0ef"
            ],
            [
             0.5,
             "#f7f7f7"
            ],
            [
             0.6,
             "#e6f5d0"
            ],
            [
             0.7,
             "#b8e186"
            ],
            [
             0.8,
             "#7fbc41"
            ],
            [
             0.9,
             "#4d9221"
            ],
            [
             1,
             "#276419"
            ]
           ],
           "sequential": [
            [
             0,
             "#0d0887"
            ],
            [
             0.1111111111111111,
             "#46039f"
            ],
            [
             0.2222222222222222,
             "#7201a8"
            ],
            [
             0.3333333333333333,
             "#9c179e"
            ],
            [
             0.4444444444444444,
             "#bd3786"
            ],
            [
             0.5555555555555556,
             "#d8576b"
            ],
            [
             0.6666666666666666,
             "#ed7953"
            ],
            [
             0.7777777777777778,
             "#fb9f3a"
            ],
            [
             0.8888888888888888,
             "#fdca26"
            ],
            [
             1,
             "#f0f921"
            ]
           ],
           "sequentialminus": [
            [
             0,
             "#0d0887"
            ],
            [
             0.1111111111111111,
             "#46039f"
            ],
            [
             0.2222222222222222,
             "#7201a8"
            ],
            [
             0.3333333333333333,
             "#9c179e"
            ],
            [
             0.4444444444444444,
             "#bd3786"
            ],
            [
             0.5555555555555556,
             "#d8576b"
            ],
            [
             0.6666666666666666,
             "#ed7953"
            ],
            [
             0.7777777777777778,
             "#fb9f3a"
            ],
            [
             0.8888888888888888,
             "#fdca26"
            ],
            [
             1,
             "#f0f921"
            ]
           ]
          },
          "colorway": [
           "#636efa",
           "#EF553B",
           "#00cc96",
           "#ab63fa",
           "#FFA15A",
           "#19d3f3",
           "#FF6692",
           "#B6E880",
           "#FF97FF",
           "#FECB52"
          ],
          "font": {
           "color": "#2a3f5f"
          },
          "geo": {
           "bgcolor": "white",
           "lakecolor": "white",
           "landcolor": "#E5ECF6",
           "showlakes": true,
           "showland": true,
           "subunitcolor": "white"
          },
          "hoverlabel": {
           "align": "left"
          },
          "hovermode": "closest",
          "mapbox": {
           "style": "light"
          },
          "paper_bgcolor": "white",
          "plot_bgcolor": "#E5ECF6",
          "polar": {
           "angularaxis": {
            "gridcolor": "white",
            "linecolor": "white",
            "ticks": ""
           },
           "bgcolor": "#E5ECF6",
           "radialaxis": {
            "gridcolor": "white",
            "linecolor": "white",
            "ticks": ""
           }
          },
          "scene": {
           "xaxis": {
            "backgroundcolor": "#E5ECF6",
            "gridcolor": "white",
            "gridwidth": 2,
            "linecolor": "white",
            "showbackground": true,
            "ticks": "",
            "zerolinecolor": "white"
           },
           "yaxis": {
            "backgroundcolor": "#E5ECF6",
            "gridcolor": "white",
            "gridwidth": 2,
            "linecolor": "white",
            "showbackground": true,
            "ticks": "",
            "zerolinecolor": "white"
           },
           "zaxis": {
            "backgroundcolor": "#E5ECF6",
            "gridcolor": "white",
            "gridwidth": 2,
            "linecolor": "white",
            "showbackground": true,
            "ticks": "",
            "zerolinecolor": "white"
           }
          },
          "shapedefaults": {
           "line": {
            "color": "#2a3f5f"
           }
          },
          "ternary": {
           "aaxis": {
            "gridcolor": "white",
            "linecolor": "white",
            "ticks": ""
           },
           "baxis": {
            "gridcolor": "white",
            "linecolor": "white",
            "ticks": ""
           },
           "bgcolor": "#E5ECF6",
           "caxis": {
            "gridcolor": "white",
            "linecolor": "white",
            "ticks": ""
           }
          },
          "title": {
           "x": 0.05
          },
          "xaxis": {
           "automargin": true,
           "gridcolor": "white",
           "linecolor": "white",
           "ticks": "",
           "title": {
            "standoff": 15
           },
           "zerolinecolor": "white",
           "zerolinewidth": 2
          },
          "yaxis": {
           "automargin": true,
           "gridcolor": "white",
           "linecolor": "white",
           "ticks": "",
           "title": {
            "standoff": 15
           },
           "zerolinecolor": "white",
           "zerolinewidth": 2
          }
         }
        },
        "title": {
         "text": "Rape Rate Change by Year"
        },
        "width": 1000,
        "xaxis": {
         "title": {
          "text": "Year"
         }
        },
        "yaxis": {
         "title": {
          "text": "Value"
         }
        }
       }
      }
     },
     "metadata": {},
     "output_type": "display_data"
    }
   ],
   "source": [
    "q1 = data_df.groupby(['year'])['rape_rate'].quantile(0.25).reset_index()\n",
    "q3 = data_df.groupby(['year'])['rape_rate'].quantile(0.75).reset_index()\n",
    "\n",
    "# combine data\n",
    "grouped = data_df.groupby(['year'])['rape_rate'].agg(['max', 'min', 'median']).reset_index()\n",
    "grouped = pd.merge(grouped, q1, on='year')\n",
    "grouped = pd.merge(grouped, q3, on='year')\n",
    "\n",
    "# create scatter plot data\n",
    "data = [\n",
    "    go.Scatter(\n",
    "        x=q3['year'],\n",
    "        y=q3['rape_rate'],\n",
    "        name='Upper Quartile',\n",
    "        mode='markers+lines',\n",
    "        line=dict(\n",
    "            color='#EECA3B'\n",
    "        )\n",
    "    ),\n",
    "    go.Scatter(\n",
    "        x=grouped['year'],\n",
    "        y=grouped['median'],\n",
    "        name='Median',\n",
    "        mode='markers+lines',\n",
    "        marker=dict(\n",
    "            color='#54A24B'\n",
    "        )\n",
    "    ),\n",
    "    go.Scatter(\n",
    "        x=q1['year'],\n",
    "        y=q1['rape_rate'],\n",
    "        name='Lower Quartile',\n",
    "        mode='markers+lines',\n",
    "        line=dict(\n",
    "            color='#4C78A8'\n",
    "        )\n",
    "    ),\n",
    "    go.Scatter(\n",
    "        x=grouped['year'],\n",
    "        y=grouped['min'],\n",
    "        name='Min',\n",
    "        mode='markers+lines',\n",
    "        marker=dict(\n",
    "            color='#9467BD'\n",
    "        )\n",
    "    )\n",
    "]\n",
    "\n",
    "# create layout\n",
    "layout = go.Layout(\n",
    "    title='Rape Rate Change by Year',\n",
    "    xaxis=dict(\n",
    "        title='Year'\n",
    "    ),\n",
    "    yaxis=dict(\n",
    "        title='Value'\n",
    "    )\n",
    ")\n",
    "fig = go.Figure(data=data, layout=layout)\n",
    "fig.update_layout(width=1000, height=600)\n",
    "fig.show()"
   ]
  }
 ],
 "metadata": {
  "kernelspec": {
   "display_name": "base",
   "language": "python",
   "name": "python3"
  },
  "language_info": {
   "codemirror_mode": {
    "name": "ipython",
    "version": 3
   },
   "file_extension": ".py",
   "mimetype": "text/x-python",
   "name": "python",
   "nbconvert_exporter": "python",
   "pygments_lexer": "ipython3",
   "version": "3.9.12"
  },
  "orig_nbformat": 4,
  "vscode": {
   "interpreter": {
    "hash": "7f2a38045ac693cb1d509b483727fbf8a92eb287317717d4d91ca7936c31a388"
   }
  }
 },
 "nbformat": 4,
 "nbformat_minor": 2
}
