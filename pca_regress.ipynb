{
 "cells": [
  {
   "cell_type": "code",
   "execution_count": 1,
   "metadata": {},
   "outputs": [],
   "source": [
    "import numpy as np\n",
    "\n",
    "import pandas as pd\n",
    "import matplotlib.pyplot as plt\n",
    "from sklearn.pipeline import Pipeline\n",
    "from sklearn.model_selection import train_test_split\n",
    "\n",
    "from sklearn.decomposition import PCA\n",
    "from sklearn.linear_model import LinearRegression\n",
    "from sklearn.ensemble import RandomForestRegressor\n",
    "\n",
    "from sklearn.metrics import r2_score"
   ]
  },
  {
   "cell_type": "code",
   "execution_count": 4,
   "metadata": {},
   "outputs": [],
   "source": [
    "df = pd.read_csv(\"all_data.csv\", encoding='utf-8')"
   ]
  },
  {
   "cell_type": "code",
   "execution_count": 5,
   "metadata": {},
   "outputs": [
    {
     "data": {
      "text/html": [
       "<div>\n",
       "<style scoped>\n",
       "    .dataframe tbody tr th:only-of-type {\n",
       "        vertical-align: middle;\n",
       "    }\n",
       "\n",
       "    .dataframe tbody tr th {\n",
       "        vertical-align: top;\n",
       "    }\n",
       "\n",
       "    .dataframe thead th {\n",
       "        text-align: right;\n",
       "    }\n",
       "</style>\n",
       "<table border=\"1\" class=\"dataframe\">\n",
       "  <thead>\n",
       "    <tr style=\"text-align: right;\">\n",
       "      <th></th>\n",
       "      <th>state</th>\n",
       "      <th>education</th>\n",
       "      <th>year</th>\n",
       "      <th>state_legislature</th>\n",
       "      <th>governor</th>\n",
       "      <th>lt_governor</th>\n",
       "      <th>labour_force_participation</th>\n",
       "      <th>mngmt_job_wage_gap</th>\n",
       "      <th>bachelor_wage_gap</th>\n",
       "      <th>ab_legality</th>\n",
       "      <th>rape_rate</th>\n",
       "      <th>sex_ratio_birth</th>\n",
       "      <th>abortion_rate</th>\n",
       "      <th>life_exp_f_m</th>\n",
       "    </tr>\n",
       "  </thead>\n",
       "  <tbody>\n",
       "    <tr>\n",
       "      <th>0</th>\n",
       "      <td>Alabama</td>\n",
       "      <td>1.180</td>\n",
       "      <td>2020</td>\n",
       "      <td>0.157</td>\n",
       "      <td>1.0</td>\n",
       "      <td>0.0</td>\n",
       "      <td>0.782</td>\n",
       "      <td>0.640</td>\n",
       "      <td>25.1</td>\n",
       "      <td>0</td>\n",
       "      <td>32.7</td>\n",
       "      <td>1.068376</td>\n",
       "      <td>113.548</td>\n",
       "      <td>1.089325</td>\n",
       "    </tr>\n",
       "    <tr>\n",
       "      <th>1</th>\n",
       "      <td>Alaska</td>\n",
       "      <td>1.014</td>\n",
       "      <td>2020</td>\n",
       "      <td>0.367</td>\n",
       "      <td>0.0</td>\n",
       "      <td>0.0</td>\n",
       "      <td>0.795</td>\n",
       "      <td>0.779</td>\n",
       "      <td>18.1</td>\n",
       "      <td>1</td>\n",
       "      <td>154.8</td>\n",
       "      <td>0.915751</td>\n",
       "      <td>164.547</td>\n",
       "      <td>1.066098</td>\n",
       "    </tr>\n",
       "    <tr>\n",
       "      <th>2</th>\n",
       "      <td>Arizona</td>\n",
       "      <td>1.112</td>\n",
       "      <td>2020</td>\n",
       "      <td>0.389</td>\n",
       "      <td>0.0</td>\n",
       "      <td>0.0</td>\n",
       "      <td>0.789</td>\n",
       "      <td>0.701</td>\n",
       "      <td>23.2</td>\n",
       "      <td>1</td>\n",
       "      <td>44.0</td>\n",
       "      <td>1.012146</td>\n",
       "      <td>184.862</td>\n",
       "      <td>1.083424</td>\n",
       "    </tr>\n",
       "    <tr>\n",
       "      <th>3</th>\n",
       "      <td>Arkansas</td>\n",
       "      <td>1.115</td>\n",
       "      <td>2020</td>\n",
       "      <td>0.259</td>\n",
       "      <td>0.0</td>\n",
       "      <td>0.0</td>\n",
       "      <td>0.837</td>\n",
       "      <td>0.705</td>\n",
       "      <td>20.1</td>\n",
       "      <td>0</td>\n",
       "      <td>73.5</td>\n",
       "      <td>1.037344</td>\n",
       "      <td>104.638</td>\n",
       "      <td>1.077586</td>\n",
       "    </tr>\n",
       "    <tr>\n",
       "      <th>4</th>\n",
       "      <td>California</td>\n",
       "      <td>1.099</td>\n",
       "      <td>2020</td>\n",
       "      <td>0.308</td>\n",
       "      <td>0.0</td>\n",
       "      <td>1.0</td>\n",
       "      <td>0.764</td>\n",
       "      <td>0.734</td>\n",
       "      <td>18.6</td>\n",
       "      <td>1</td>\n",
       "      <td>34.2</td>\n",
       "      <td>1.011122</td>\n",
       "      <td>16.075</td>\n",
       "      <td>1.076426</td>\n",
       "    </tr>\n",
       "  </tbody>\n",
       "</table>\n",
       "</div>"
      ],
      "text/plain": [
       "        state  education  year  state_legislature  governor  lt_governor  \\\n",
       "0     Alabama      1.180  2020              0.157       1.0          0.0   \n",
       "1      Alaska      1.014  2020              0.367       0.0          0.0   \n",
       "2     Arizona      1.112  2020              0.389       0.0          0.0   \n",
       "3    Arkansas      1.115  2020              0.259       0.0          0.0   \n",
       "4  California      1.099  2020              0.308       0.0          1.0   \n",
       "\n",
       "   labour_force_participation  mngmt_job_wage_gap  bachelor_wage_gap  \\\n",
       "0                       0.782               0.640               25.1   \n",
       "1                       0.795               0.779               18.1   \n",
       "2                       0.789               0.701               23.2   \n",
       "3                       0.837               0.705               20.1   \n",
       "4                       0.764               0.734               18.6   \n",
       "\n",
       "   ab_legality  rape_rate  sex_ratio_birth  abortion_rate  life_exp_f_m  \n",
       "0            0       32.7         1.068376        113.548      1.089325  \n",
       "1            1      154.8         0.915751        164.547      1.066098  \n",
       "2            1       44.0         1.012146        184.862      1.083424  \n",
       "3            0       73.5         1.037344        104.638      1.077586  \n",
       "4            1       34.2         1.011122         16.075      1.076426  "
      ]
     },
     "execution_count": 5,
     "metadata": {},
     "output_type": "execute_result"
    }
   ],
   "source": [
    "df.head()"
   ]
  },
  {
   "cell_type": "code",
   "execution_count": 6,
   "metadata": {},
   "outputs": [
    {
     "data": {
      "image/png": "[encoded data removed]",
      "text/plain": [
       "<Figure size 432x288 with 1 Axes>"
      ]
     },
     "metadata": {
      "needs_background": "light"
     },
     "output_type": "display_data"
    }
   ],
   "source": [
    "# 加载数据\n",
    "X= df[[ 'education',  'state_legislature',\n",
    "       'governor', 'lt_governor', 'labour_force_participation',\n",
    "       'mngmt_job_wage_gap', 'bachelor_wage_gap', 'ab_legality',\n",
    "       'life_exp_f_m', 'sex_ratio_birth', 'abortion_rate', 'year'\n",
    "       ]]\n",
    "y= df['rape_rate']\n",
    "X = (X - np.mean(X, axis=0)) / np.std(X, axis=0)\n",
    "# 计算PCA\n",
    "pca = PCA()\n",
    "pca.fit(X)\n",
    "\n",
    "# 绘制PCA曲线\n",
    "plt.plot(np.cumsum(pca.explained_variance_ratio_))\n",
    "plt.xlabel('Number of Components')\n",
    "plt.ylabel('Cumulative Explained Variance')\n",
    "plt.xticks(np.arange(0, 11, 1))\n",
    "plt.grid()\n",
    "plt.show()"
   ]
  },
  {
   "cell_type": "code",
   "execution_count": 7,
   "metadata": {},
   "outputs": [
    {
     "data": {
      "text/plain": [
       "0.4272743446240099"
      ]
     },
     "execution_count": 7,
     "metadata": {},
     "output_type": "execute_result"
    }
   ],
   "source": [
    "# PCA shows when component==7, cumulative explained variance is 0.9\n",
    "\n",
    "X_train, X_test, y_train, y_test = train_test_split(X, y, test_size=0.3, random_state=0)\n",
    "\n",
    "# 创建PCR模型\n",
    "model = Pipeline(steps=[('pca', PCA(n_components=7)),\n",
    "                        ('regression', LinearRegression())])\n",
    "\n",
    "# 拟合模型\n",
    "model.fit(X_train, y_train)\n",
    "\n",
    "# 预测\n",
    "model.score(X_test,y_test)"
   ]
  },
  {
   "attachments": {},
   "cell_type": "markdown",
   "metadata": {},
   "source": [
    "#### Random Forest Regressor"
   ]
  },
  {
   "cell_type": "code",
   "execution_count": 11,
   "metadata": {},
   "outputs": [
    {
     "name": "stdout",
     "output_type": "stream",
     "text": [
      "r2:  0.773756750100723\n",
      "adjusted_r2:  0.7539398231022462\n"
     ]
    }
   ],
   "source": [
    "model = RandomForestRegressor(n_estimators=500, random_state=42, max_depth=10)\n",
    "model.fit(X_train, y_train)\n",
    "model.score(X_test, y_test)\n",
    "r2 = model.score(X_test, y_test)\n",
    "print('r2: ', r2)\n",
    "n = len(y_test)\n",
    "k = X_test.shape[1]\n",
    "adj_r2 = 1 - ((1 - r2) * (n - 1) / (n - k - 1))\n",
    "print('adjusted_r2: ', adj_r2) "
   ]
  },
  {
   "attachments": {},
   "cell_type": "markdown",
   "metadata": {},
   "source": [
    "### Linear Regression"
   ]
  },
  {
   "cell_type": "code",
   "execution_count": 12,
   "metadata": {},
   "outputs": [
    {
     "name": "stdout",
     "output_type": "stream",
     "text": [
      "r2:  0.4705402909334574\n",
      "adjusted_r2:  0.42416425802251934\n"
     ]
    }
   ],
   "source": [
    "# 假设 X_train, X_test, y_train, y_test 分别表示训练集和测试集的自变量和因变量\n",
    "model = LinearRegression()\n",
    "model.fit(X_train, y_train)\n",
    "r2 = model.score(X_test, y_test)\n",
    "print('r2: ', r2)\n",
    "n = len(y_test)\n",
    "k = X_test.shape[1]\n",
    "adj_r2 = 1 - ((1 - r2) * (n - 1) / (n - k - 1))\n",
    "print('adjusted_r2: ', adj_r2)"
   ]
  }
 ],
 "metadata": {
  "kernelspec": {
   "display_name": "base",
   "language": "python",
   "name": "python3"
  },
  "language_info": {
   "codemirror_mode": {
    "name": "ipython",
    "version": 3
   },
   "file_extension": ".py",
   "mimetype": "text/x-python",
   "name": "python",
   "nbconvert_exporter": "python",
   "pygments_lexer": "ipython3",
   "version": "3.9.12"
  },
  "orig_nbformat": 4,
  "vscode": {
   "interpreter": {
    "hash": "f99bd5507e10e6801d18740d7046de883c384b0aaf8418cc771addfde98424f1"
   }
  }
 },
 "nbformat": 4,
 "nbformat_minor": 2
}
