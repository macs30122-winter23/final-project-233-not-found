{
 "cells": [
  {
   "cell_type": "code",
   "execution_count": 14,
   "metadata": {},
   "outputs": [],
   "source": [
    "import numpy as np\n",
    "import pandas as pd\n",
    "import matplotlib.pyplot as plt\n",
    "\n",
    "from sklearn.model_selection import train_test_split\n",
    "\n",
    "from sklearn.pipeline import Pipeline\n",
    "from sklearn.model_selection import GridSearchCV\n",
    "from sklearn.decomposition import PCA\n",
    "from sklearn.linear_model import LinearRegression\n",
    "from sklearn.ensemble import RandomForestRegressor\n",
    "from sklearn.linear_model import Ridge\n",
    "from sklearn.linear_model import Lasso\n",
    "from sklearn import svm"
   ]
  },
  {
   "cell_type": "code",
   "execution_count": 2,
   "metadata": {},
   "outputs": [],
   "source": [
    "df = pd.read_csv(\"all_data.csv\", encoding='utf-8')"
   ]
  },
  {
   "attachments": {},
   "cell_type": "markdown",
   "metadata": {},
   "source": [
    "### PCA Analysis"
   ]
  },
  {
   "cell_type": "code",
   "execution_count": 53,
   "metadata": {},
   "outputs": [
    {
     "data": {
      "image/png": "[encoded data removed]",
      "text/plain": [
       "<Figure size 432x288 with 1 Axes>"
      ]
     },
     "metadata": {
      "needs_background": "light"
     },
     "output_type": "display_data"
    }
   ],
   "source": [
    "# Select columns to run pca with\n",
    "X = df[[ 'education',  'state_legislature',\n",
    "       'state_gov', 'life_exp_f_m',\n",
    "       'labour_force_participation',\n",
    "       'bachelor_wage_gap', 'ab_legality',\n",
    "       'ab_rate', 'year'\n",
    "       ]]\n",
    "y = df['rape_rate']  \n",
    "X = (X - np.mean(X, axis=0)) / np.std(X, axis=0)\n",
    "\n",
    "# Build PCA model\n",
    "pca = PCA().fit(X)\n",
    "\n",
    "# Plot PCA curve\n",
    "plt.plot(np.cumsum(pca.explained_variance_ratio_))\n",
    "plt.xlabel('Number of Components')\n",
    "plt.ylabel('Cumulative Explained Variance')\n",
    "plt.xticks(np.arange(0, 11, 1))\n",
    "plt.title('PCA Curve')\n",
    "plt.grid()\n",
    "plt.show()"
   ]
  },
  {
   "attachments": {},
   "cell_type": "markdown",
   "metadata": {},
   "source": [
    "Thus, we choose cumulative explained variance (CEV) = 0.9 as the cutoff. When CEV is 0.9, PCA shows the number of component 6, which means 90% of the total variance in the dataset is explained by the retained principal components. "
   ]
  },
  {
   "attachments": {},
   "cell_type": "markdown",
   "metadata": {},
   "source": [
    "##### Train Test Split"
   ]
  },
  {
   "cell_type": "code",
   "execution_count": 5,
   "metadata": {},
   "outputs": [],
   "source": [
    "X_train, X_test, y_train, y_test = train_test_split(X, y, test_size=0.3, random_state=0)"
   ]
  },
  {
   "cell_type": "code",
   "execution_count": 45,
   "metadata": {},
   "outputs": [],
   "source": [
    "def calc_r2(model_type):\n",
    "    ''' Apply different models and calculate r2, adjusted r2 for each model. '''\n",
    "    model = model_type\n",
    "    model.fit(X_train, y_train)\n",
    "    r2 = model.best_estimator_.score(X_test, y_test)\n",
    "    print('Best params: ', model.best_params_)\n",
    "    print('r2: ', round(r2, 3))\n",
    "    n = len(y_test)\n",
    "    k = X_test.shape[1]\n",
    "    adj_r2 = 1 - ((1 - r2) * (n - 1) / (n - k - 1))\n",
    "    print('adjusted_r2: ', round(adj_r2, 3))"
   ]
  },
  {
   "attachments": {},
   "cell_type": "markdown",
   "metadata": {},
   "source": [
    "### Linear Regression"
   ]
  },
  {
   "attachments": {},
   "cell_type": "markdown",
   "metadata": {},
   "source": [
    "##### Linear Regression without PCA"
   ]
  },
  {
   "cell_type": "code",
   "execution_count": 46,
   "metadata": {},
   "outputs": [
    {
     "name": "stdout",
     "output_type": "stream",
     "text": [
      "Best params:  {'fit_intercept': True}\n",
      "r2:  0.385\n",
      "adjusted_r2:  0.341\n"
     ]
    }
   ],
   "source": [
    "lr_model = LinearRegression()\n",
    "param_grid_lr = {\n",
    "    'fit_intercept': [True, False]\n",
    "    }\n",
    "\n",
    "lr = GridSearchCV(lr_model, param_grid_lr, cv=5, n_jobs=-1)\n",
    "calc_r2(lr)"
   ]
  },
  {
   "attachments": {},
   "cell_type": "markdown",
   "metadata": {},
   "source": [
    "##### Linear Regression with PCA"
   ]
  },
  {
   "cell_type": "code",
   "execution_count": 47,
   "metadata": {},
   "outputs": [
    {
     "name": "stdout",
     "output_type": "stream",
     "text": [
      "Best params:  {'regressor__fit_intercept': True}\n",
      "r2:  0.37\n",
      "adjusted_r2:  0.324\n"
     ]
    }
   ],
   "source": [
    "pipe_lr_pca = Pipeline(steps=[('pca', PCA(n_components=6)),\n",
    "                        ('regressor', LinearRegression())])\n",
    "param_grid_lr_pca = {\n",
    "    'regressor__fit_intercept': [True, False]\n",
    "    }\n",
    "\n",
    "lr_pca = GridSearchCV(pipe_lr_pca, param_grid_lr_pca, cv=5, n_jobs=-1)\n",
    "calc_r2(lr_pca)"
   ]
  },
  {
   "attachments": {},
   "cell_type": "markdown",
   "metadata": {},
   "source": [
    "We only used PCA with linear regression model because PCA is a linear technique that assumes the predictors and target have a linear relationship. "
   ]
  },
  {
   "attachments": {},
   "cell_type": "markdown",
   "metadata": {},
   "source": [
    "Linear regression without PCA performs better than linear regression with PCA may due to information loss, overfitting in the linear regression, or the amplification of noise in the data by PCA."
   ]
  },
  {
   "attachments": {},
   "cell_type": "markdown",
   "metadata": {},
   "source": [
    "### Random Forest Regressor"
   ]
  },
  {
   "cell_type": "code",
   "execution_count": 48,
   "metadata": {},
   "outputs": [
    {
     "name": "stdout",
     "output_type": "stream",
     "text": [
      "Best params:  {'bootstrap': True, 'criterion': 'squared_error', 'min_samples_split': 2}\n",
      "r2:  0.615\n",
      "adjusted_r2:  0.587\n"
     ]
    }
   ],
   "source": [
    "rf_model = RandomForestRegressor(n_estimators=500, max_depth=10, random_state=42)\n",
    "param_grid_rf = {\n",
    "    'criterion': ['squared_error', 'absolute_error'],\n",
    "    'min_samples_split': [2, 3, 4, 5],\n",
    "    'bootstrap': [True, False]\n",
    "    }\n",
    "\n",
    "rf = GridSearchCV(rf_model, param_grid_rf, cv=5, n_jobs=-1)\n",
    "calc_r2(rf)"
   ]
  },
  {
   "attachments": {},
   "cell_type": "markdown",
   "metadata": {},
   "source": [
    "### Ridge Regression"
   ]
  },
  {
   "cell_type": "code",
   "execution_count": 49,
   "metadata": {},
   "outputs": [
    {
     "name": "stdout",
     "output_type": "stream",
     "text": [
      "Best params:  {'alpha': 10.0, 'max_iter': 100, 'solver': 'lsqr'}\n",
      "r2:  0.386\n",
      "adjusted_r2:  0.341\n"
     ]
    }
   ],
   "source": [
    "ridge_model = Ridge(random_state=42)\n",
    "param_grid_ridge = {\n",
    "    'alpha': [0.01, 0.1, 1, 10.0],\n",
    "    'solver': ['auto', 'svd', 'cholesky', 'lsqr'],\n",
    "    'max_iter': [100, 500, 1000]\n",
    "    }\n",
    "\n",
    "ridge = GridSearchCV(ridge_model, param_grid_ridge, cv=5, n_jobs=-1)\n",
    "calc_r2(ridge)"
   ]
  },
  {
   "attachments": {},
   "cell_type": "markdown",
   "metadata": {},
   "source": [
    "### Lasso Regression"
   ]
  },
  {
   "cell_type": "code",
   "execution_count": 50,
   "metadata": {},
   "outputs": [
    {
     "name": "stdout",
     "output_type": "stream",
     "text": [
      "Best params:  {'alpha': 0.1, 'max_iter': 100, 'selection': 'random'}\n",
      "r2:  0.388\n",
      "adjusted_r2:  0.344\n"
     ]
    }
   ],
   "source": [
    "lasso_model = Lasso(random_state=42)\n",
    "param_grid_lasso = {\n",
    "    'alpha': [0.1, 1.0, 10.0],\n",
    "    'selection': ['cyclic', 'random'],\n",
    "    'max_iter': [100, 500, 1000]\n",
    "    }\n",
    "\n",
    "lasso = GridSearchCV(lasso_model, param_grid_lasso, cv=5, n_jobs=-1)\n",
    "calc_r2(lasso)"
   ]
  },
  {
   "attachments": {},
   "cell_type": "markdown",
   "metadata": {},
   "source": [
    "### SVM Regression"
   ]
  },
  {
   "cell_type": "code",
   "execution_count": 51,
   "metadata": {},
   "outputs": [
    {
     "name": "stdout",
     "output_type": "stream",
     "text": [
      "Best params:  {'C': 100, 'epsilon': 1.0, 'gamma': 'scale', 'kernel': 'rbf', 'shrinking': False}\n",
      "r2:  0.604\n",
      "adjusted_r2:  0.575\n"
     ]
    }
   ],
   "source": [
    "svr_model = svm.SVR()\n",
    "param_grid_svr = {\n",
    "    'C': [0.1, 1.0, 10.0, 100],\n",
    "    'epsilon': [0.01, 0.1, 1.0],\n",
    "    'kernel': ['linear', 'rbf', 'poly'],\n",
    "    'gamma': ['scale', 'auto'],\n",
    "    'shrinking': [True, False]\n",
    "}\n",
    "\n",
    "svr = GridSearchCV(svr_model, param_grid_svr, cv=5, n_jobs=-1)\n",
    "calc_r2(svr)"
   ]
  },
  {
   "cell_type": "code",
   "execution_count": 52,
   "metadata": {},
   "outputs": [
    {
     "data": {
      "text/html": [
       "<div>\n",
       "<style scoped>\n",
       "    .dataframe tbody tr th:only-of-type {\n",
       "        vertical-align: middle;\n",
       "    }\n",
       "\n",
       "    .dataframe tbody tr th {\n",
       "        vertical-align: top;\n",
       "    }\n",
       "\n",
       "    .dataframe thead th {\n",
       "        text-align: right;\n",
       "    }\n",
       "</style>\n",
       "<table border=\"1\" class=\"dataframe\">\n",
       "  <thead>\n",
       "    <tr style=\"text-align: right;\">\n",
       "      <th></th>\n",
       "      <th>Model</th>\n",
       "      <th>R2</th>\n",
       "      <th>Adjusted R2</th>\n",
       "    </tr>\n",
       "  </thead>\n",
       "  <tbody>\n",
       "    <tr>\n",
       "      <th>0</th>\n",
       "      <td>Linear Reg</td>\n",
       "      <td>0.385</td>\n",
       "      <td>0.341</td>\n",
       "    </tr>\n",
       "    <tr>\n",
       "      <th>1</th>\n",
       "      <td>Linear Reg w/ PCA</td>\n",
       "      <td>0.370</td>\n",
       "      <td>0.324</td>\n",
       "    </tr>\n",
       "    <tr>\n",
       "      <th>2</th>\n",
       "      <td>Random Forest</td>\n",
       "      <td>0.615</td>\n",
       "      <td>0.587</td>\n",
       "    </tr>\n",
       "    <tr>\n",
       "      <th>3</th>\n",
       "      <td>Ridge</td>\n",
       "      <td>0.386</td>\n",
       "      <td>0.341</td>\n",
       "    </tr>\n",
       "    <tr>\n",
       "      <th>4</th>\n",
       "      <td>Lasso</td>\n",
       "      <td>0.388</td>\n",
       "      <td>0.344</td>\n",
       "    </tr>\n",
       "    <tr>\n",
       "      <th>5</th>\n",
       "      <td>SVR</td>\n",
       "      <td>0.604</td>\n",
       "      <td>0.575</td>\n",
       "    </tr>\n",
       "  </tbody>\n",
       "</table>\n",
       "</div>"
      ],
      "text/plain": [
       "               Model     R2  Adjusted R2\n",
       "0         Linear Reg  0.385        0.341\n",
       "1  Linear Reg w/ PCA  0.370        0.324\n",
       "2      Random Forest  0.615        0.587\n",
       "3              Ridge  0.386        0.341\n",
       "4              Lasso  0.388        0.344\n",
       "5                SVR  0.604        0.575"
      ]
     },
     "execution_count": 52,
     "metadata": {},
     "output_type": "execute_result"
    }
   ],
   "source": [
    "scores = {'Model': ['Linear Reg', 'Linear Reg w/ PCA', 'Random Forest', 'Ridge', 'Lasso', 'SVR'],\n",
    "          'R2': [0.385, 0.37, 0.615, 0.386, 0.388, 0.604],\n",
    "          'Adjusted R2': [0.341, 0.324, 0.587, 0.341, 0.344, 0.575]}\n",
    "table = pd.DataFrame(scores)\n",
    "table"
   ]
  },
  {
   "attachments": {},
   "cell_type": "markdown",
   "metadata": {},
   "source": [
    "Human behavior analysis using ML models resulting in a low r2 score is not uncommon. Only using gender gap to predict rape rate can have a high r2 score of over 0.6, if we can incorporate more data such as regional police force, we may have an even better prediciton. "
   ]
  }
 ],
 "metadata": {
  "kernelspec": {
   "display_name": "base",
   "language": "python",
   "name": "python3"
  },
  "language_info": {
   "codemirror_mode": {
    "name": "ipython",
    "version": 3
   },
   "file_extension": ".py",
   "mimetype": "text/x-python",
   "name": "python",
   "nbconvert_exporter": "python",
   "pygments_lexer": "ipython3",
   "version": "3.9.12"
  },
  "orig_nbformat": 4,
  "vscode": {
   "interpreter": {
    "hash": "7f2a38045ac693cb1d509b483727fbf8a92eb287317717d4d91ca7936c31a388"
   }
  }
 },
 "nbformat": 4,
 "nbformat_minor": 2
}
